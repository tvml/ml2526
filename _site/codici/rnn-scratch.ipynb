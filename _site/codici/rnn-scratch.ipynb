{
 "cells": [
  {
   "cell_type": "markdown",
   "metadata": {
    "origin_pos": 0
   },
   "source": [
    "# Implementation of Recurrent Neural Networks from Scratch\n",
    "\n",
    "Implementation of an RNN from scratch for a character-level language model.\n",
    "The model will be trained on H. G. Wells' *The Time Machine*.\n"
   ]
  },
  {
   "cell_type": "code",
   "execution_count": 73,
   "metadata": {
    "origin_pos": 2,
    "tab": [
     "pytorch"
    ]
   },
   "outputs": [],
   "source": [
    "%matplotlib inline\n",
    "import numpy as np\n",
    "import pandas as pd\n",
    "import math\n",
    "import random\n",
    "import torch\n",
    "from torch import nn\n",
    "from torch.nn import functional as F\n",
    "from d2l.torch import load_data_time_machine, Accumulator, Animator, Timer"
   ]
  },
  {
   "cell_type": "code",
   "execution_count": 4,
   "metadata": {},
   "outputs": [],
   "source": [
    "class History:\n",
    "    \"\"\"Accumulates values in a dictionary of sequences.\"\"\"\n",
    "    def __init__(self, keys):\n",
    "        self.data = {}\n",
    "        self.keys = keys\n",
    "        for k in self.keys:\n",
    "            self.data[k] = []\n",
    "\n",
    "    def add(self, *args):\n",
    "        for k,a in zip(self.keys, args):\n",
    "            self.data[k].append(a)\n",
    "\n",
    "    def sums(self):\n",
    "        return {k: sum(self.data[k]) for k in self.keys}\n",
    "\n",
    "    def merge(self, d):\n",
    "        for k in self.keys:\n",
    "            self.data[k].extend(d[k])\n",
    "\n",
    "    def __getitem__(self, k):\n",
    "        return self.data"
   ]
  },
  {
   "cell_type": "code",
   "execution_count": 5,
   "metadata": {},
   "outputs": [],
   "source": [
    "def try_gpu(i=0):\n",
    "    \"\"\"Return gpu(i) if exists, otherwise return cpu().\n",
    "\n",
    "    Defined in :numref:`sec_use_gpu`\"\"\"\n",
    "    if torch.cuda.device_count() >= i + 1:\n",
    "        return torch.device(f'cuda:{i}')\n",
    "    return torch.device('cpu')"
   ]
  },
  {
   "cell_type": "code",
   "execution_count": 6,
   "metadata": {
    "origin_pos": 4,
    "tab": [
     "pytorch"
    ]
   },
   "outputs": [],
   "source": [
    "batch_size, num_steps = 32, 35\n",
    "train_iter, vocab = load_data_time_machine(batch_size, num_steps)\n",
    "n_tokens = len(vocab)"
   ]
  },
  {
   "cell_type": "markdown",
   "metadata": {},
   "source": [
    "Each of the _batch_size_ items in a batch is a sequence of _num_steps_ tokens (characters), each identified by a token_id integer. The corresponding target is the sequence of _num_steps_ tokens derived from shifting the sequence one token right in the original text"
   ]
  },
  {
   "cell_type": "code",
   "execution_count": 7,
   "metadata": {},
   "outputs": [],
   "source": [
    "batch_item = next(iter(train_iter))"
   ]
  },
  {
   "cell_type": "code",
   "execution_count": 8,
   "metadata": {},
   "outputs": [
    {
     "data": {
      "text/plain": [
       "(tensor([[ 1, 21, 19,  ...,  1, 16,  7],\n",
       "         [12,  2,  8,  ..., 10,  1, 18],\n",
       "         [10,  2, 16,  ...,  5, 10,  2],\n",
       "         ...,\n",
       "         [ 1,  3,  2,  ...,  1,  8,  2],\n",
       "         [ 8,  7, 13,  ...,  3,  4,  6],\n",
       "         [21, 12,  2,  ...,  9,  2,  1]]),\n",
       " tensor([[21, 19,  1,  ..., 16,  7, 10],\n",
       "         [ 2,  8,  1,  ...,  1, 18, 12],\n",
       "         [ 2, 16,  5,  ..., 10,  2, 11],\n",
       "         ...,\n",
       "         [ 3,  2, 12,  ...,  8,  2,  2],\n",
       "         [ 7, 13,  2,  ...,  4,  6, 15],\n",
       "         [12,  2,  1,  ...,  2,  1, 11]]))"
      ]
     },
     "execution_count": 8,
     "metadata": {},
     "output_type": "execute_result"
    }
   ],
   "source": [
    "batch_item"
   ]
  },
  {
   "cell_type": "code",
   "execution_count": 8,
   "metadata": {},
   "outputs": [
    {
     "data": {
      "text/plain": [
       "tensor([ 2,  1,  3,  5, 13,  2,  1,  3, 10,  4, 22,  2, 12, 12,  2, 10,  1, 16,\n",
       "         7, 10,  1,  8,  7,  1,  5,  3,  1, 17,  5, 12, 12,  1, 21,  2,  1])"
      ]
     },
     "execution_count": 8,
     "metadata": {},
     "output_type": "execute_result"
    }
   ],
   "source": [
    "batch_item[0][0]"
   ]
  },
  {
   "cell_type": "code",
   "execution_count": 9,
   "metadata": {},
   "outputs": [
    {
     "data": {
      "text/plain": [
       "tensor([ 1,  3,  5, 13,  2,  1,  3, 10,  4, 22,  2, 12, 12,  2, 10,  1, 16,  7,\n",
       "        10,  1,  8,  7,  1,  5,  3,  1, 17,  5, 12, 12,  1, 21,  2,  1, 15])"
      ]
     },
     "execution_count": 9,
     "metadata": {},
     "output_type": "execute_result"
    }
   ],
   "source": [
    "batch_item[1][0]"
   ]
  },
  {
   "cell_type": "markdown",
   "metadata": {},
   "source": [
    "A dictionary associating the number of occurrences to each token is also available"
   ]
  },
  {
   "cell_type": "code",
   "execution_count": 10,
   "metadata": {},
   "outputs": [
    {
     "data": {
      "text/plain": [
       "[(' ', 29927),\n",
       " ('e', 17838),\n",
       " ('t', 13515),\n",
       " ('a', 11704),\n",
       " ('i', 10138),\n",
       " ('n', 9917),\n",
       " ('o', 9758),\n",
       " ('s', 8486),\n",
       " ('h', 8257),\n",
       " ('r', 7674),\n",
       " ('d', 6337),\n",
       " ('l', 6146),\n",
       " ('m', 4043),\n",
       " ('u', 3805),\n",
       " ('c', 3424),\n",
       " ('f', 3354),\n",
       " ('w', 3225),\n",
       " ('g', 3075),\n",
       " ('y', 2679),\n",
       " ('p', 2427),\n",
       " ('b', 1897),\n",
       " ('v', 1295),\n",
       " ('k', 1087),\n",
       " ('x', 236),\n",
       " ('z', 144),\n",
       " ('j', 97),\n",
       " ('q', 95)]"
      ]
     },
     "execution_count": 10,
     "metadata": {},
     "output_type": "execute_result"
    }
   ],
   "source": [
    "vocab.token_freqs"
   ]
  },
  {
   "cell_type": "markdown",
   "metadata": {
    "origin_pos": 6
   },
   "source": [
    "### One-Hot Encoding\n",
    "Each token is encoded as a binary vector of length equal to the vocabulary size.\n"
   ]
  },
  {
   "cell_type": "code",
   "execution_count": 11,
   "metadata": {
    "origin_pos": 8,
    "tab": [
     "pytorch"
    ]
   },
   "outputs": [
    {
     "data": {
      "text/plain": [
       "tensor([0, 0, 1, 0, 0, 0, 0, 0, 0, 0, 0, 0, 0, 0, 0, 0, 0, 0, 0, 0, 0, 0, 0, 0,\n",
       "        0, 0, 0, 0])"
      ]
     },
     "execution_count": 11,
     "metadata": {},
     "output_type": "execute_result"
    }
   ],
   "source": [
    "F.one_hot(batch_item[0][0,0], n_tokens)"
   ]
  },
  {
   "cell_type": "markdown",
   "metadata": {
    "origin_pos": 10
   },
   "source": [
    "The shape of the minibatch that we sample each time is (_batch_size_, _num_steps_).\n",
    "The `one_hot` function transforms such a minibatch into a three-dimensional tensor with shape (_batch_size_, _num_steps_, _n_tokens_).\n",
    "\n"
   ]
  },
  {
   "cell_type": "code",
   "execution_count": 12,
   "metadata": {
    "origin_pos": 12,
    "tab": [
     "pytorch"
    ]
   },
   "outputs": [
    {
     "data": {
      "text/plain": [
       "torch.Size([32, 35, 28])"
      ]
     },
     "execution_count": 12,
     "metadata": {},
     "output_type": "execute_result"
    }
   ],
   "source": [
    "F.one_hot(batch_item[0], n_tokens).shape"
   ]
  },
  {
   "cell_type": "markdown",
   "metadata": {},
   "source": [
    "We transpose the input so that we will obtain an output of shape (_num_steps_, _batch_size_, _n_tokens_)\n",
    "\n",
    "This will allow to more conveniently loop through the outermost dimension for updating hidden states of a minibatch, time step by time step."
   ]
  },
  {
   "cell_type": "code",
   "execution_count": 13,
   "metadata": {},
   "outputs": [
    {
     "data": {
      "text/plain": [
       "torch.Size([35, 32, 28])"
      ]
     },
     "execution_count": 13,
     "metadata": {},
     "output_type": "execute_result"
    }
   ],
   "source": [
    "F.one_hot(batch_item[0].T, n_tokens).shape"
   ]
  },
  {
   "cell_type": "markdown",
   "metadata": {
    "origin_pos": 14
   },
   "source": [
    "## Initializing the Model Parameters\n",
    "\n",
    "The number of hidden units _num_hiddens_ of the RNN is a tunable hyperparameter.\n",
    "When training language models, the inputs and outputs are from the same vocabulary.\n",
    "Hence, they have the same dimension, which is equal to the vocabulary size.\n"
   ]
  },
  {
   "cell_type": "code",
   "execution_count": 9,
   "metadata": {
    "origin_pos": 16,
    "tab": [
     "pytorch"
    ]
   },
   "outputs": [],
   "source": [
    "def init_params(n_tokens, num_hiddens, device):\n",
    "    num_inputs = num_outputs = n_tokens\n",
    "\n",
    "    def normal(shape):\n",
    "        return torch.randn(size=shape, device=device) * 0.01\n",
    "\n",
    "    # Hidden layer parameters\n",
    "    W_xh = normal((num_inputs, num_hiddens))\n",
    "    W_hh = normal((num_hiddens, num_hiddens))\n",
    "    b_h = torch.zeros(num_hiddens, device=device)\n",
    "    # Output layer parameters\n",
    "    W_hq = normal((num_hiddens, num_outputs))\n",
    "    b_q = torch.zeros(num_outputs, device=device)\n",
    "    # Attach gradients\n",
    "    params = [W_xh, W_hh, b_h, W_hq, b_q]\n",
    "    for param in params:\n",
    "        param.requires_grad_(True)\n",
    "    return params"
   ]
  },
  {
   "cell_type": "markdown",
   "metadata": {
    "origin_pos": 18
   },
   "source": [
    "## RNN Model\n",
    "\n",
    "To define an RNN model, we first need a function to return the hidden state at initialization.\n",
    "It returns a tensor filled with 0 and with shape (_batch_size_, _num_hiddens_)\n"
   ]
  },
  {
   "cell_type": "code",
   "execution_count": 10,
   "metadata": {
    "origin_pos": 20,
    "tab": [
     "pytorch"
    ]
   },
   "outputs": [],
   "source": [
    "def init_state(batch_size, num_hiddens, device):\n",
    "    return torch.zeros((batch_size, num_hiddens), device=device)"
   ]
  },
  {
   "cell_type": "markdown",
   "metadata": {
    "origin_pos": 22
   },
   "source": [
    "The RNN model loops through the outermost dimension of `inputs` so that it updates hidden states of a minibatch, time step by time step.\n",
    "Besides, the activation function here uses the $\\tanh$ function.\n"
   ]
  },
  {
   "cell_type": "markdown",
   "metadata": {
    "origin_pos": 30
   },
   "source": [
    "Let us check whether the outputs have the correct shapes, e.g., to ensure that the dimensionality of the hidden state remains unchanged.\n"
   ]
  },
  {
   "cell_type": "code",
   "execution_count": 16,
   "metadata": {},
   "outputs": [],
   "source": [
    "num_hiddens = 512\n",
    "\n",
    "device = try_gpu()\n",
    "\n",
    "W_xh, W_hh, b_h, W_hq, b_q = init_params(n_tokens, num_hiddens, device)\n",
    "state = init_state(batch_size, num_hiddens, device) # shape: (batch_size, num_hiddens)\n",
    "\n",
    "X0 = batch_item[0]  # shape: (batch_size, num_steps)\n",
    "X=F.one_hot(X0.T, n_tokens).type(torch.float32) # shape: (num_steps, batch_size, n_tokens)\n",
    "H = state\n",
    "outputs = []\n",
    "for x in X: # for each time step\n",
    "    H = torch.tanh(torch.mm(x, W_xh) + torch.mm(H, W_hh) + b_h)\n",
    "    Y = torch.tanh(torch.mm(H, W_hq) + b_q)\n",
    "    outputs.append(Y)\n",
    "preds = torch.cat(outputs, dim=0) # shape: (num_steps x batch_size, n_tokens)\n"
   ]
  },
  {
   "cell_type": "code",
   "execution_count": 12,
   "metadata": {},
   "outputs": [
    {
     "data": {
      "text/plain": [
       "32"
      ]
     },
     "execution_count": 12,
     "metadata": {},
     "output_type": "execute_result"
    }
   ],
   "source": [
    "batch_size"
   ]
  },
  {
   "cell_type": "code",
   "execution_count": 13,
   "metadata": {},
   "outputs": [
    {
     "name": "stdout",
     "output_type": "stream",
     "text": [
      "torch.Size([32, 512])\n",
      "torch.Size([1120, 28])\n"
     ]
    }
   ],
   "source": [
    "print(H.shape)\n",
    "print(preds.shape)"
   ]
  },
  {
   "cell_type": "markdown",
   "metadata": {},
   "source": [
    "Let us now encapsulate everything in a class"
   ]
  },
  {
   "cell_type": "code",
   "execution_count": 29,
   "metadata": {},
   "outputs": [],
   "source": [
    "class RNNModelScratch:\n",
    "    \"\"\"A RNN Model implemented from scratch.\"\"\"\n",
    "    def __init__(self, vocab_size, num_hiddens, init_params, device='cpu'):\n",
    "        self.vocab_size, self.num_hiddens = vocab_size, num_hiddens\n",
    "        self.params = init_params(vocab_size, num_hiddens, device)\n",
    "        #self.init_state = init_state\n",
    "\n",
    "    def __call__(self, X, state):\n",
    "        X = F.one_hot(X.T, self.vocab_size).type(torch.float32)\n",
    "        return self._forward(X, state, self.params)\n",
    "\n",
    "    def _forward(self, inputs, state, params):\n",
    "    # Here `inputs` shape: (`num_steps`, `batch_size`, `vocab_size`)\n",
    "        W_xh, W_hh, b_h, W_hq, b_q = params\n",
    "        H = state\n",
    "        outputs = []\n",
    "        # Shape of `X`: (`batch_size`, `vocab_size`)\n",
    "        for X in inputs:\n",
    "            H = torch.tanh(torch.mm(X, W_xh) + torch.mm(H, W_hh) + b_h)\n",
    "            Y = torch.mm(H, W_hq) + b_q\n",
    "            outputs.append(Y)\n",
    "        return torch.cat(outputs, dim=0), H\n",
    "\n",
    "    def init_state(self, batch_size, device='cpu'):\n",
    "        return torch.zeros((batch_size, num_hiddens), device=device)"
   ]
  },
  {
   "cell_type": "code",
   "execution_count": 28,
   "metadata": {},
   "outputs": [
    {
     "name": "stdout",
     "output_type": "stream",
     "text": [
      "cpu\n"
     ]
    }
   ],
   "source": [
    "print(try_gpu())"
   ]
  },
  {
   "cell_type": "code",
   "execution_count": 31,
   "metadata": {
    "origin_pos": 32,
    "tab": [
     "pytorch"
    ]
   },
   "outputs": [
    {
     "name": "stdout",
     "output_type": "stream",
     "text": [
      "32\n",
      "torch.Size([32, 512])\n",
      "torch.Size([1120, 28])\n"
     ]
    }
   ],
   "source": [
    "\n",
    "num_hiddens = 512\n",
    "net = RNNModelScratch(n_tokens, num_hiddens, init_params, try_gpu())\n",
    "print(batch_size)\n",
    "state = net.init_state(X0.shape[0], device)\n",
    "preds, new_state = net(X0, state)\n",
    "\n",
    "print(new_state.shape)\n",
    "print(preds.shape)"
   ]
  },
  {
   "cell_type": "markdown",
   "metadata": {
    "origin_pos": 34
   },
   "source": [
    "We can see that the output shape is (number of time steps $\\times$ batch size, vocabulary size), while the hidden state shape remains the same, i.e., (batch size, number of hidden units).\n",
    "\n",
    "\n",
    "## Prediction\n",
    "\n",
    "Let us first define the prediction function\n",
    "to generate new characters following\n",
    "a user-provided _prefix_,\n",
    "which is a string containing several characters.\n",
    "When looping through these beginning characters in _prefix_,\n",
    "we keep passing the hidden state\n",
    "to the next time step without\n",
    "generating any output.\n",
    "This is called the *warm-up* period,\n",
    "during which the model updates itself\n",
    "(e.g., update the hidden state)\n",
    "but does not make predictions.\n",
    "After the warm-up period,\n",
    "the hidden state is generally better than\n",
    "its initialized value at the beginning.\n",
    "So we generate the predicted characters and emit them.\n"
   ]
  },
  {
   "cell_type": "code",
   "execution_count": 33,
   "metadata": {},
   "outputs": [],
   "source": [
    "prefix = 'time traveller '\n",
    "prefix = 'in a hole in the ground there lived a hobbit not a nasty dirty wet hole filled with the ends of worms and an oozy smell nor yet a dry bare sandy hole with nothing in it to sit down on or to eat it was a hobbit hole and that means comfort '#\n",
    "state = net.init_state(1)\n",
    "outputs = [vocab[prefix[0]]]\n",
    "get_input = lambda: torch.tensor([outputs[-1]]).reshape((1, 1))"
   ]
  },
  {
   "cell_type": "code",
   "execution_count": 34,
   "metadata": {},
   "outputs": [
    {
     "data": {
      "text/plain": [
       "torch.Size([1, 512])"
      ]
     },
     "execution_count": 34,
     "metadata": {},
     "output_type": "execute_result"
    }
   ],
   "source": [
    "state.shape"
   ]
  },
  {
   "cell_type": "code",
   "execution_count": 35,
   "metadata": {},
   "outputs": [],
   "source": [
    "y = prefix[1]\n",
    "z = get_input()\n",
    "_, state = net(get_input(), state)"
   ]
  },
  {
   "cell_type": "code",
   "execution_count": 82,
   "metadata": {},
   "outputs": [
    {
     "data": {
      "text/plain": [
       "torch.Size([1, 512])"
      ]
     },
     "execution_count": 82,
     "metadata": {},
     "output_type": "execute_result"
    }
   ],
   "source": [
    "state.shape"
   ]
  },
  {
   "cell_type": "code",
   "execution_count": 37,
   "metadata": {
    "origin_pos": 36,
    "tab": [
     "pytorch"
    ]
   },
   "outputs": [],
   "source": [
    "def predict_seq(prefix, num_preds, net, vocab, device='cpu'):\n",
    "    \"\"\"Generate new characters following the prefix.\"\"\"\n",
    "    state = net.init_state(batch_size=1, device=device)\n",
    "    outputs = [vocab[prefix[0]]]\n",
    "    get_input = lambda: torch.tensor([outputs[-1]], device=device).reshape((1, 1))\n",
    "    for y in prefix[1:]:  # Warm-up period\n",
    "        _, state = net(get_input(), state)\n",
    "        outputs.append(vocab[y])\n",
    "    for _ in range(num_preds):  # Predict `num_preds` steps\n",
    "        y, state = net(get_input(), state)\n",
    "        outputs.append(int(y.argmax(dim=1).reshape(1)))\n",
    "    return ''.join([vocab.idx_to_token[i] for i in outputs])"
   ]
  },
  {
   "cell_type": "markdown",
   "metadata": {},
   "source": [
    "## Training\n",
    "The model training procedure which is introduced here differs from how we train a MLP in three aspects:\n",
    "\n",
    "### Sampling method\n",
    "Different sampling methods for sequential data can be applied and  result in differences in the initialization of hidden states.\n",
    "\n",
    "#### Random sampling\n",
    "In random sampling, each example is a subsequence arbitrarily captured on the original long sequence.\n",
    "The subsequences from two adjacent random minibatches during iteration are not necessarily adjacent on the original sequence.\n",
    "The following code randomly generates a minibatch from the data each time.\n",
    "Here, the argument _batch_size_ specifies the number of subsequence examples in each minibatch\n",
    "and _num_steps_ is the predefined number of time steps\n",
    "in each subsequence."
   ]
  },
  {
   "cell_type": "code",
   "execution_count": 39,
   "metadata": {},
   "outputs": [],
   "source": [
    "def seq_data_iter_random(seq, batch_size, num_steps):  #@save\n",
    "    \"\"\"Generate a minibatch of subsequences using random sampling.\"\"\"\n",
    "    # Start with a random offset (inclusive of `num_steps - 1`) to partition a\n",
    "    # sequence\n",
    "    seq = seq[random.randint(0, num_steps - 1):]\n",
    "    # Subtract 1 since we need to account for labels\n",
    "    num_subseqs = (len(seq) - 1) // num_steps\n",
    "    # The starting indices for subsequences of length `num_steps`\n",
    "    initial_indices = list(range(0, num_subseqs * num_steps, num_steps))\n",
    "    # In random sampling, the subsequences from two adjacent random\n",
    "    # minibatches during iteration are not necessarily adjacent on the\n",
    "    # original sequence\n",
    "    random.shuffle(initial_indices)\n",
    "\n",
    "    def data(pos):\n",
    "        # Return a sequence of length `num_steps` starting from `pos`\n",
    "        return seq[pos:pos + num_steps]\n",
    "\n",
    "    num_batches = num_subseqs // batch_size\n",
    "    for i in range(0, batch_size * num_batches, batch_size):\n",
    "        # Here, `initial_indices` contains randomized starting indices for\n",
    "        # subsequences\n",
    "        initial_indices_per_batch = initial_indices[i:i + batch_size]\n",
    "        X = [data(j) for j in initial_indices_per_batch]\n",
    "        Y = [data(j + 1) for j in initial_indices_per_batch]\n",
    "        yield torch.tensor(X), torch.tensor(Y)"
   ]
  },
  {
   "cell_type": "markdown",
   "metadata": {},
   "source": [
    "Let us manually generate a sequence from 0 to 34.\n",
    "We assume that\n",
    "the batch size and numbers of time steps are 2 and 5,\n",
    "respectively.\n",
    "This means that we can generate $\\lfloor (35 - 1) / 5 \\rfloor= 6$ feature-label subsequence pairs. With a minibatch size of 2, we only get 3 minibatches."
   ]
  },
  {
   "cell_type": "code",
   "execution_count": 40,
   "metadata": {},
   "outputs": [
    {
     "name": "stdout",
     "output_type": "stream",
     "text": [
      "X:  tensor([[28, 29, 30, 31, 32],\n",
      "        [18, 19, 20, 21, 22]]) \n",
      "Y: tensor([[29, 30, 31, 32, 33],\n",
      "        [19, 20, 21, 22, 23]])\n",
      "X:  tensor([[23, 24, 25, 26, 27],\n",
      "        [13, 14, 15, 16, 17]]) \n",
      "Y: tensor([[24, 25, 26, 27, 28],\n",
      "        [14, 15, 16, 17, 18]])\n",
      "X:  tensor([[ 3,  4,  5,  6,  7],\n",
      "        [ 8,  9, 10, 11, 12]]) \n",
      "Y: tensor([[ 4,  5,  6,  7,  8],\n",
      "        [ 9, 10, 11, 12, 13]])\n"
     ]
    }
   ],
   "source": [
    "my_seq = list(range(35))\n",
    "for X, Y in seq_data_iter_random(my_seq, batch_size=2, num_steps=5):\n",
    "    print('X: ', X, '\\nY:', Y)"
   ]
  },
  {
   "cell_type": "markdown",
   "metadata": {},
   "source": [
    "#### Sequential partitioning\n",
    "In addition to random sampling of the original sequence, we can also ensure that \n",
    "the subsequences from two adjacent minibatches\n",
    "during iteration\n",
    "are adjacent on the original sequence.\n",
    "This strategy preserves the order of split subsequences when iterating over minibatches, hence is called sequential partitioning."
   ]
  },
  {
   "cell_type": "code",
   "execution_count": 41,
   "metadata": {},
   "outputs": [],
   "source": [
    "def seq_data_iter_sequential(corpus, batch_size, num_steps):  #@save\n",
    "    \"\"\"Generate a minibatch of subsequences using sequential partitioning.\"\"\"\n",
    "    # Start with a random offset to partition a sequence\n",
    "    offset = random.randint(0, num_steps)\n",
    "    num_tokens = ((len(corpus) - offset - 1) // batch_size) * batch_size\n",
    "    Xs = torch.tensor(corpus[offset:offset + num_tokens])\n",
    "    Ys = torch.tensor(corpus[offset + 1:offset + 1 + num_tokens])\n",
    "    Xs, Ys = Xs.reshape(batch_size, -1), Ys.reshape(batch_size, -1)\n",
    "    num_batches = Xs.shape[1] // num_steps\n",
    "    for i in range(0, num_steps * num_batches, num_steps):\n",
    "        X = Xs[:, i:i + num_steps]\n",
    "        Y = Ys[:, i:i + num_steps]\n",
    "        yield X, Y"
   ]
  },
  {
   "cell_type": "markdown",
   "metadata": {},
   "source": [
    "Using the same settings,\n",
    "let us print features and labels for each minibatch of subsequences read by sequential partitioning.\n",
    "Note that\n",
    "the subsequences from two adjacent minibatches\n",
    "during iteration\n",
    "are indeed adjacent on the original sequence."
   ]
  },
  {
   "cell_type": "code",
   "execution_count": 42,
   "metadata": {},
   "outputs": [
    {
     "name": "stdout",
     "output_type": "stream",
     "text": [
      "X:  tensor([[ 4,  5,  6,  7,  8],\n",
      "        [19, 20, 21, 22, 23]]) \n",
      "Y: tensor([[ 5,  6,  7,  8,  9],\n",
      "        [20, 21, 22, 23, 24]])\n",
      "X:  tensor([[ 9, 10, 11, 12, 13],\n",
      "        [24, 25, 26, 27, 28]]) \n",
      "Y: tensor([[10, 11, 12, 13, 14],\n",
      "        [25, 26, 27, 28, 29]])\n",
      "X:  tensor([[14, 15, 16, 17, 18],\n",
      "        [29, 30, 31, 32, 33]]) \n",
      "Y: tensor([[15, 16, 17, 18, 19],\n",
      "        [30, 31, 32, 33, 34]])\n"
     ]
    }
   ],
   "source": [
    "for X, Y in seq_data_iter_sequential(my_seq, batch_size=2, num_steps=5):\n",
    "    print('X: ', X, '\\nY:', Y)"
   ]
  },
  {
   "cell_type": "markdown",
   "metadata": {
    "origin_pos": 41
   },
   "source": [
    "### Gradient Clipping\n",
    "\n",
    "For a sequence of length $T$, we compute the gradients over these $T$ time steps in an iteration, which results in a chain of matrix-products with length  $\\mathcal{O}(T)$ during backpropagation.\n",
    "This might result in numerical instability, e.g., the gradients may either explode or vanish, when $T$ is large. Therefore, RNN models often need extra help to stabilize the training.\n",
    "\n",
    "Generally speaking, when solving an optimization problem, we take update steps for the model parameter,\n",
    "say in the vector form $\\mathbf{x}$, in the direction of the negative gradient $\\mathbf{g}$ on a minibatch.\n",
    "For example, with $\\eta > 0$ as the learning rate, in one iteration we update $\\mathbf{x}$\n",
    "as $\\mathbf{x} - \\eta \\mathbf{g}$.\n",
    "\n",
    "Sometimes the gradients can be quite large and the optimization algorithm may fail to converge. We could address this by reducing the learning rate $\\eta$. But what if we only *rarely* get large gradients? In this case such an approach may appear entirely unwarranted. One popular alternative is to clip the gradient $\\mathbf{g}$ by projecting them back to a ball of a given radius, say $\\theta$ via\n",
    "\n",
    "$$\\mathbf{g} \\leftarrow \\min\\left(1, \\frac{\\theta}{\\|\\mathbf{g}\\|}\\right) \\mathbf{g}$$\n",
    "\n",
    "By doing so we know that the gradient norm never exceeds $\\theta$ and that the\n",
    "updated gradient is entirely aligned with the original direction of $\\mathbf{g}$.\n",
    "\n",
    "Below we define a function to clip the gradients of\n",
    "a model. Note that we compute the gradient norm over all the model parameters.\n"
   ]
  },
  {
   "cell_type": "code",
   "execution_count": 44,
   "metadata": {
    "origin_pos": 43,
    "tab": [
     "pytorch"
    ]
   },
   "outputs": [],
   "source": [
    "def grad_clipping(net, theta):\n",
    "    \"\"\"Clip the gradient.\"\"\"\n",
    "    if isinstance(net, nn.Module):\n",
    "        params = [p for p in net.parameters() if p.requires_grad]\n",
    "    else:\n",
    "        params = net.params\n",
    "    norm = torch.sqrt(sum(torch.sum((p.grad ** 2)) for p in params))\n",
    "    if norm > theta:\n",
    "        for param in net.params:\n",
    "            param.grad[:] *= theta / norm"
   ]
  },
  {
   "cell_type": "markdown",
   "metadata": {},
   "source": [
    "### Perplexity\n",
    "\n",
    "We use perplexity to evaluate the model. Perplexity of a sequence $x_1,\\ldots,x_n$ wrt a language model $P$ is strongly related to the cross-entropy loss averaged over all the $n$ tokens of the sequence:\n",
    "\n",
    "$$\\frac{1}{n} \\sum_{t=1}^n -\\log P(x_t \\mid x_{t-1}, \\ldots, x_1)$$\n",
    "\n",
    "This makes the performance on documents of different lengths comparable. Perplexity is indeed the exponential of such quantity:\n",
    "\n",
    "$$\\exp\\left(-\\frac{1}{n} \\sum_{t=1}^n \\log P(x_t \\mid x_{t-1}, \\ldots, x_1)\\right)$$\n",
    "\n",
    "Let us look at a number of cases:\n",
    "\n",
    "* In the best case scenario, the model always perfectly estimates the probability of the label token as 1. In this case the perplexity of the model is 1.\n",
    "* In the worst case scenario, the model always predicts the probability of the label token as 0. In this situation, the perplexity is $+\\infty$.\n",
    "* At the baseline, the model predicts a uniform distribution over all the available tokens of the vocabulary. In this case, the perplexity equals the number of unique tokens of the vocabulary."
   ]
  },
  {
   "cell_type": "code",
   "execution_count": 45,
   "metadata": {},
   "outputs": [],
   "source": [
    "def sgd(params, lr, batch_size):\n",
    "    \"\"\"Minibatch stochastic gradient descent\"\"\"\n",
    "    with torch.no_grad():\n",
    "        for param in params:\n",
    "            param -= lr * param.grad / batch_size\n",
    "            param.grad.zero_()"
   ]
  },
  {
   "cell_type": "code",
   "execution_count": 46,
   "metadata": {},
   "outputs": [],
   "source": [
    "num_epochs, lr = 500, 1\n",
    "updater = lambda batch_size: sgd(net.params, lr, batch_size)\n",
    "loss = nn.CrossEntropyLoss()\n",
    "state = None\n",
    "X,Y = batch_item\n",
    "state = net.init_state(batch_size=X.shape[0], device=try_gpu())\n",
    "y = Y.T.reshape(-1)\n",
    "y_hat, state = net(X, state)\n",
    "l = loss(y_hat, y.long()).mean()\n",
    "l.backward()\n",
    "grad_clipping(net, 1)\n",
    "updater(batch_size=1)\n"
   ]
  },
  {
   "cell_type": "code",
   "execution_count": 47,
   "metadata": {},
   "outputs": [
    {
     "data": {
      "text/plain": [
       "torch.Size([1120, 28])"
      ]
     },
     "execution_count": 47,
     "metadata": {},
     "output_type": "execute_result"
    }
   ],
   "source": [
    "y_hat.shape"
   ]
  },
  {
   "cell_type": "code",
   "execution_count": 88,
   "metadata": {},
   "outputs": [],
   "source": [
    "\n",
    "num_hiddens = 512\n"
   ]
  },
  {
   "cell_type": "code",
   "execution_count": 48,
   "metadata": {},
   "outputs": [],
   "source": [
    "num_epochs, lr = 500, 1\n",
    "updater = lambda batch_size: sgd(net.params, lr, batch_size)\n",
    "loss = nn.CrossEntropyLoss()"
   ]
  },
  {
   "cell_type": "code",
   "execution_count": 49,
   "metadata": {},
   "outputs": [],
   "source": [
    "def perplexity(cum_loss, n):\n",
    "    math.exp(cum_loss, n)"
   ]
  },
  {
   "cell_type": "code",
   "execution_count": 50,
   "metadata": {
    "origin_pos": 47,
    "tab": [
     "pytorch"
    ]
   },
   "outputs": [],
   "source": [
    "def train_epoch(net, train_iter, loss, updater, use_random_iter, device='cpu'):\n",
    "    \"\"\"Train a net within one epoch.\"\"\"\n",
    "    state, timer = None, Timer()\n",
    "    metric = Accumulator(2)  # Sum of training loss, no. of tokens\n",
    "    h_epoch = History(['loss', 'n_tokens'])\n",
    "    for X, Y in train_iter:\n",
    "        if state is None or use_random_iter:\n",
    "            # Initialize `state` when either it is the first iteration or\n",
    "            # using random sampling\n",
    "            state = net.init_state(batch_size=X.shape[0], device=device)\n",
    "        else:\n",
    "            state.detach_()\n",
    "        y = Y.T.reshape(-1)\n",
    "        X, y = X.to(device), y.to(device)\n",
    "        y_hat, state = net(X, state)\n",
    "        l = loss(y_hat, y.long()).mean()\n",
    "        l.backward()\n",
    "        grad_clipping(net, 1)\n",
    "        updater(batch_size=1)\n",
    "        metric.add(l * y.numel(), y.numel())\n",
    "        h_epoch.add(float(l)*len(y), len(y))\n",
    "    s = h_epoch.sums()\n",
    "    #return math.exp(metric[0] / metric[1]), metric[1] / timer.stop()#math.exp(s['loss'] / s['n_tokens']), s['n_tokens'] / timer.stop()\n",
    "    return math.exp(s['loss'] / s['n_tokens']), s['n_tokens'] / timer.stop(), h_epoch"
   ]
  },
  {
   "cell_type": "code",
   "execution_count": 52,
   "metadata": {},
   "outputs": [],
   "source": [
    "\n",
    "def train(net, train_iter, vocab, lr, num_epochs, use_random_iter=False, prefix = 'time traveler', device='cpu'):\n",
    "    \"\"\"Train a model.\"\"\"\n",
    "    h_batch = History(['loss', 'n_tokens'])\n",
    "    h_train = History(['perplexity', 'speed', 'prediction'])\n",
    "    loss = nn.CrossEntropyLoss()\n",
    "    animator = Animator(xlabel='epoch', ylabel='perplexity', legend=['train'], xlim=[10, num_epochs], figsize=(8, 6))\n",
    "    # Initialize\n",
    "    updater = lambda batch_size: sgd(net.params, lr, batch_size)\n",
    "    predict = lambda prefix: predict_seq(prefix, 50, net, vocab, device)\n",
    "    # Train and predict\n",
    "    for epoch in range(num_epochs):\n",
    "        ppl, speed, h_epoch = train_epoch(net, train_iter, loss, updater, use_random_iter)\n",
    "        pred = predict(prefix)\n",
    "        if (epoch + 1) % 10 == 0:\n",
    "            print(pred)\n",
    "            animator.add(epoch + 1, [ppl])\n",
    "        h_train.add(ppl, speed, pred)\n",
    "        h_batch.merge(h_epoch.data)\n",
    "    return h_train, h_batch"
   ]
  },
  {
   "cell_type": "markdown",
   "metadata": {},
   "source": [
    "#### Applying sequential partitioning"
   ]
  },
  {
   "cell_type": "code",
   "execution_count": 54,
   "metadata": {},
   "outputs": [
    {
     "data": {
      "image/svg+xml": "<?xml version=\"1.0\" encoding=\"utf-8\" standalone=\"no\"?>\n<!DOCTYPE svg PUBLIC \"-//W3C//DTD SVG 1.1//EN\"\n  \"http://www.w3.org/Graphics/SVG/1.1/DTD/svg11.dtd\">\n<svg xmlns:xlink=\"http://www.w3.org/1999/xlink\" width=\"503.746875pt\" height=\"370.91625pt\" viewBox=\"0 0 503.746875 370.91625\" xmlns=\"http://www.w3.org/2000/svg\" version=\"1.1\">\n <metadata>\n  <rdf:RDF xmlns:dc=\"http://purl.org/dc/elements/1.1/\" xmlns:cc=\"http://creativecommons.org/ns#\" xmlns:rdf=\"http://www.w3.org/1999/02/22-rdf-syntax-ns#\">\n   <cc:Work>\n    <dc:type rdf:resource=\"http://purl.org/dc/dcmitype/StillImage\"/>\n    <dc:date>2022-06-23T16:36:47.303171</dc:date>\n    <dc:format>image/svg+xml</dc:format>\n    <dc:creator>\n     <cc:Agent>\n      <dc:title>Matplotlib v3.5.1, https://matplotlib.org/</dc:title>\n     </cc:Agent>\n    </dc:creator>\n   </cc:Work>\n  </rdf:RDF>\n </metadata>\n <defs>\n  <style type=\"text/css\">*{stroke-linejoin: round; stroke-linecap: butt}</style>\n </defs>\n <g id=\"figure_1\">\n  <g id=\"patch_1\">\n   <path d=\"M 0 370.91625 \nL 503.746875 370.91625 \nL 503.746875 0 \nL 0 0 \nL 0 370.91625 \nz\n\" style=\"fill: none\"/>\n  </g>\n  <g id=\"axes_1\">\n   <g id=\"patch_2\">\n    <path d=\"M 40.603125 333.36 \nL 487.003125 333.36 \nL 487.003125 7.2 \nL 40.603125 7.2 \nz\n\" style=\"fill: #ffffff\"/>\n   </g>\n   <g id=\"matplotlib.axis_1\">\n    <g id=\"xtick_1\">\n     <g id=\"line2d_1\">\n      <path d=\"M 40.603125 333.36 \nL 40.603125 7.2 \n\" clip-path=\"url(#p9c38cdef33)\" style=\"fill: none; stroke: #b0b0b0; stroke-width: 0.8; stroke-linecap: square\"/>\n     </g>\n     <g id=\"line2d_2\">\n      <defs>\n       <path id=\"m5389c4e724\" d=\"M 0 0 \nL 0 3.5 \n\" style=\"stroke: #000000; stroke-width: 0.8\"/>\n      </defs>\n      <g>\n       <use xlink:href=\"#m5389c4e724\" x=\"40.603125\" y=\"333.36\" style=\"stroke: #000000; stroke-width: 0.8\"/>\n      </g>\n     </g>\n     <g id=\"text_1\">\n      <!-- 10 -->\n      <g transform=\"translate(34.240625 347.958438)scale(0.1 -0.1)\">\n       <defs>\n        <path id=\"DejaVuSans-31\" d=\"M 794 531 \nL 1825 531 \nL 1825 4091 \nL 703 3866 \nL 703 4441 \nL 1819 4666 \nL 2450 4666 \nL 2450 531 \nL 3481 531 \nL 3481 0 \nL 794 0 \nL 794 531 \nz\n\" transform=\"scale(0.015625)\"/>\n        <path id=\"DejaVuSans-30\" d=\"M 2034 4250 \nQ 1547 4250 1301 3770 \nQ 1056 3291 1056 2328 \nQ 1056 1369 1301 889 \nQ 1547 409 2034 409 \nQ 2525 409 2770 889 \nQ 3016 1369 3016 2328 \nQ 3016 3291 2770 3770 \nQ 2525 4250 2034 4250 \nz\nM 2034 4750 \nQ 2819 4750 3233 4129 \nQ 3647 3509 3647 2328 \nQ 3647 1150 3233 529 \nQ 2819 -91 2034 -91 \nQ 1250 -91 836 529 \nQ 422 1150 422 2328 \nQ 422 3509 836 4129 \nQ 1250 4750 2034 4750 \nz\n\" transform=\"scale(0.015625)\"/>\n       </defs>\n       <use xlink:href=\"#DejaVuSans-31\"/>\n       <use xlink:href=\"#DejaVuSans-30\" x=\"63.623047\"/>\n      </g>\n     </g>\n    </g>\n    <g id=\"xtick_2\">\n     <g id=\"line2d_3\">\n      <path d=\"M 90.203125 333.36 \nL 90.203125 7.2 \n\" clip-path=\"url(#p9c38cdef33)\" style=\"fill: none; stroke: #b0b0b0; stroke-width: 0.8; stroke-linecap: square\"/>\n     </g>\n     <g id=\"line2d_4\">\n      <g>\n       <use xlink:href=\"#m5389c4e724\" x=\"90.203125\" y=\"333.36\" style=\"stroke: #000000; stroke-width: 0.8\"/>\n      </g>\n     </g>\n     <g id=\"text_2\">\n      <!-- 20 -->\n      <g transform=\"translate(83.840625 347.958438)scale(0.1 -0.1)\">\n       <defs>\n        <path id=\"DejaVuSans-32\" d=\"M 1228 531 \nL 3431 531 \nL 3431 0 \nL 469 0 \nL 469 531 \nQ 828 903 1448 1529 \nQ 2069 2156 2228 2338 \nQ 2531 2678 2651 2914 \nQ 2772 3150 2772 3378 \nQ 2772 3750 2511 3984 \nQ 2250 4219 1831 4219 \nQ 1534 4219 1204 4116 \nQ 875 4013 500 3803 \nL 500 4441 \nQ 881 4594 1212 4672 \nQ 1544 4750 1819 4750 \nQ 2544 4750 2975 4387 \nQ 3406 4025 3406 3419 \nQ 3406 3131 3298 2873 \nQ 3191 2616 2906 2266 \nQ 2828 2175 2409 1742 \nQ 1991 1309 1228 531 \nz\n\" transform=\"scale(0.015625)\"/>\n       </defs>\n       <use xlink:href=\"#DejaVuSans-32\"/>\n       <use xlink:href=\"#DejaVuSans-30\" x=\"63.623047\"/>\n      </g>\n     </g>\n    </g>\n    <g id=\"xtick_3\">\n     <g id=\"line2d_5\">\n      <path d=\"M 139.803125 333.36 \nL 139.803125 7.2 \n\" clip-path=\"url(#p9c38cdef33)\" style=\"fill: none; stroke: #b0b0b0; stroke-width: 0.8; stroke-linecap: square\"/>\n     </g>\n     <g id=\"line2d_6\">\n      <g>\n       <use xlink:href=\"#m5389c4e724\" x=\"139.803125\" y=\"333.36\" style=\"stroke: #000000; stroke-width: 0.8\"/>\n      </g>\n     </g>\n     <g id=\"text_3\">\n      <!-- 30 -->\n      <g transform=\"translate(133.440625 347.958438)scale(0.1 -0.1)\">\n       <defs>\n        <path id=\"DejaVuSans-33\" d=\"M 2597 2516 \nQ 3050 2419 3304 2112 \nQ 3559 1806 3559 1356 \nQ 3559 666 3084 287 \nQ 2609 -91 1734 -91 \nQ 1441 -91 1130 -33 \nQ 819 25 488 141 \nL 488 750 \nQ 750 597 1062 519 \nQ 1375 441 1716 441 \nQ 2309 441 2620 675 \nQ 2931 909 2931 1356 \nQ 2931 1769 2642 2001 \nQ 2353 2234 1838 2234 \nL 1294 2234 \nL 1294 2753 \nL 1863 2753 \nQ 2328 2753 2575 2939 \nQ 2822 3125 2822 3475 \nQ 2822 3834 2567 4026 \nQ 2313 4219 1838 4219 \nQ 1578 4219 1281 4162 \nQ 984 4106 628 3988 \nL 628 4550 \nQ 988 4650 1302 4700 \nQ 1616 4750 1894 4750 \nQ 2613 4750 3031 4423 \nQ 3450 4097 3450 3541 \nQ 3450 3153 3228 2886 \nQ 3006 2619 2597 2516 \nz\n\" transform=\"scale(0.015625)\"/>\n       </defs>\n       <use xlink:href=\"#DejaVuSans-33\"/>\n       <use xlink:href=\"#DejaVuSans-30\" x=\"63.623047\"/>\n      </g>\n     </g>\n    </g>\n    <g id=\"xtick_4\">\n     <g id=\"line2d_7\">\n      <path d=\"M 189.403125 333.36 \nL 189.403125 7.2 \n\" clip-path=\"url(#p9c38cdef33)\" style=\"fill: none; stroke: #b0b0b0; stroke-width: 0.8; stroke-linecap: square\"/>\n     </g>\n     <g id=\"line2d_8\">\n      <g>\n       <use xlink:href=\"#m5389c4e724\" x=\"189.403125\" y=\"333.36\" style=\"stroke: #000000; stroke-width: 0.8\"/>\n      </g>\n     </g>\n     <g id=\"text_4\">\n      <!-- 40 -->\n      <g transform=\"translate(183.040625 347.958438)scale(0.1 -0.1)\">\n       <defs>\n        <path id=\"DejaVuSans-34\" d=\"M 2419 4116 \nL 825 1625 \nL 2419 1625 \nL 2419 4116 \nz\nM 2253 4666 \nL 3047 4666 \nL 3047 1625 \nL 3713 1625 \nL 3713 1100 \nL 3047 1100 \nL 3047 0 \nL 2419 0 \nL 2419 1100 \nL 313 1100 \nL 313 1709 \nL 2253 4666 \nz\n\" transform=\"scale(0.015625)\"/>\n       </defs>\n       <use xlink:href=\"#DejaVuSans-34\"/>\n       <use xlink:href=\"#DejaVuSans-30\" x=\"63.623047\"/>\n      </g>\n     </g>\n    </g>\n    <g id=\"xtick_5\">\n     <g id=\"line2d_9\">\n      <path d=\"M 239.003125 333.36 \nL 239.003125 7.2 \n\" clip-path=\"url(#p9c38cdef33)\" style=\"fill: none; stroke: #b0b0b0; stroke-width: 0.8; stroke-linecap: square\"/>\n     </g>\n     <g id=\"line2d_10\">\n      <g>\n       <use xlink:href=\"#m5389c4e724\" x=\"239.003125\" y=\"333.36\" style=\"stroke: #000000; stroke-width: 0.8\"/>\n      </g>\n     </g>\n     <g id=\"text_5\">\n      <!-- 50 -->\n      <g transform=\"translate(232.640625 347.958438)scale(0.1 -0.1)\">\n       <defs>\n        <path id=\"DejaVuSans-35\" d=\"M 691 4666 \nL 3169 4666 \nL 3169 4134 \nL 1269 4134 \nL 1269 2991 \nQ 1406 3038 1543 3061 \nQ 1681 3084 1819 3084 \nQ 2600 3084 3056 2656 \nQ 3513 2228 3513 1497 \nQ 3513 744 3044 326 \nQ 2575 -91 1722 -91 \nQ 1428 -91 1123 -41 \nQ 819 9 494 109 \nL 494 744 \nQ 775 591 1075 516 \nQ 1375 441 1709 441 \nQ 2250 441 2565 725 \nQ 2881 1009 2881 1497 \nQ 2881 1984 2565 2268 \nQ 2250 2553 1709 2553 \nQ 1456 2553 1204 2497 \nQ 953 2441 691 2322 \nL 691 4666 \nz\n\" transform=\"scale(0.015625)\"/>\n       </defs>\n       <use xlink:href=\"#DejaVuSans-35\"/>\n       <use xlink:href=\"#DejaVuSans-30\" x=\"63.623047\"/>\n      </g>\n     </g>\n    </g>\n    <g id=\"xtick_6\">\n     <g id=\"line2d_11\">\n      <path d=\"M 288.603125 333.36 \nL 288.603125 7.2 \n\" clip-path=\"url(#p9c38cdef33)\" style=\"fill: none; stroke: #b0b0b0; stroke-width: 0.8; stroke-linecap: square\"/>\n     </g>\n     <g id=\"line2d_12\">\n      <g>\n       <use xlink:href=\"#m5389c4e724\" x=\"288.603125\" y=\"333.36\" style=\"stroke: #000000; stroke-width: 0.8\"/>\n      </g>\n     </g>\n     <g id=\"text_6\">\n      <!-- 60 -->\n      <g transform=\"translate(282.240625 347.958438)scale(0.1 -0.1)\">\n       <defs>\n        <path id=\"DejaVuSans-36\" d=\"M 2113 2584 \nQ 1688 2584 1439 2293 \nQ 1191 2003 1191 1497 \nQ 1191 994 1439 701 \nQ 1688 409 2113 409 \nQ 2538 409 2786 701 \nQ 3034 994 3034 1497 \nQ 3034 2003 2786 2293 \nQ 2538 2584 2113 2584 \nz\nM 3366 4563 \nL 3366 3988 \nQ 3128 4100 2886 4159 \nQ 2644 4219 2406 4219 \nQ 1781 4219 1451 3797 \nQ 1122 3375 1075 2522 \nQ 1259 2794 1537 2939 \nQ 1816 3084 2150 3084 \nQ 2853 3084 3261 2657 \nQ 3669 2231 3669 1497 \nQ 3669 778 3244 343 \nQ 2819 -91 2113 -91 \nQ 1303 -91 875 529 \nQ 447 1150 447 2328 \nQ 447 3434 972 4092 \nQ 1497 4750 2381 4750 \nQ 2619 4750 2861 4703 \nQ 3103 4656 3366 4563 \nz\n\" transform=\"scale(0.015625)\"/>\n       </defs>\n       <use xlink:href=\"#DejaVuSans-36\"/>\n       <use xlink:href=\"#DejaVuSans-30\" x=\"63.623047\"/>\n      </g>\n     </g>\n    </g>\n    <g id=\"xtick_7\">\n     <g id=\"line2d_13\">\n      <path d=\"M 338.203125 333.36 \nL 338.203125 7.2 \n\" clip-path=\"url(#p9c38cdef33)\" style=\"fill: none; stroke: #b0b0b0; stroke-width: 0.8; stroke-linecap: square\"/>\n     </g>\n     <g id=\"line2d_14\">\n      <g>\n       <use xlink:href=\"#m5389c4e724\" x=\"338.203125\" y=\"333.36\" style=\"stroke: #000000; stroke-width: 0.8\"/>\n      </g>\n     </g>\n     <g id=\"text_7\">\n      <!-- 70 -->\n      <g transform=\"translate(331.840625 347.958438)scale(0.1 -0.1)\">\n       <defs>\n        <path id=\"DejaVuSans-37\" d=\"M 525 4666 \nL 3525 4666 \nL 3525 4397 \nL 1831 0 \nL 1172 0 \nL 2766 4134 \nL 525 4134 \nL 525 4666 \nz\n\" transform=\"scale(0.015625)\"/>\n       </defs>\n       <use xlink:href=\"#DejaVuSans-37\"/>\n       <use xlink:href=\"#DejaVuSans-30\" x=\"63.623047\"/>\n      </g>\n     </g>\n    </g>\n    <g id=\"xtick_8\">\n     <g id=\"line2d_15\">\n      <path d=\"M 387.803125 333.36 \nL 387.803125 7.2 \n\" clip-path=\"url(#p9c38cdef33)\" style=\"fill: none; stroke: #b0b0b0; stroke-width: 0.8; stroke-linecap: square\"/>\n     </g>\n     <g id=\"line2d_16\">\n      <g>\n       <use xlink:href=\"#m5389c4e724\" x=\"387.803125\" y=\"333.36\" style=\"stroke: #000000; stroke-width: 0.8\"/>\n      </g>\n     </g>\n     <g id=\"text_8\">\n      <!-- 80 -->\n      <g transform=\"translate(381.440625 347.958438)scale(0.1 -0.1)\">\n       <defs>\n        <path id=\"DejaVuSans-38\" d=\"M 2034 2216 \nQ 1584 2216 1326 1975 \nQ 1069 1734 1069 1313 \nQ 1069 891 1326 650 \nQ 1584 409 2034 409 \nQ 2484 409 2743 651 \nQ 3003 894 3003 1313 \nQ 3003 1734 2745 1975 \nQ 2488 2216 2034 2216 \nz\nM 1403 2484 \nQ 997 2584 770 2862 \nQ 544 3141 544 3541 \nQ 544 4100 942 4425 \nQ 1341 4750 2034 4750 \nQ 2731 4750 3128 4425 \nQ 3525 4100 3525 3541 \nQ 3525 3141 3298 2862 \nQ 3072 2584 2669 2484 \nQ 3125 2378 3379 2068 \nQ 3634 1759 3634 1313 \nQ 3634 634 3220 271 \nQ 2806 -91 2034 -91 \nQ 1263 -91 848 271 \nQ 434 634 434 1313 \nQ 434 1759 690 2068 \nQ 947 2378 1403 2484 \nz\nM 1172 3481 \nQ 1172 3119 1398 2916 \nQ 1625 2713 2034 2713 \nQ 2441 2713 2670 2916 \nQ 2900 3119 2900 3481 \nQ 2900 3844 2670 4047 \nQ 2441 4250 2034 4250 \nQ 1625 4250 1398 4047 \nQ 1172 3844 1172 3481 \nz\n\" transform=\"scale(0.015625)\"/>\n       </defs>\n       <use xlink:href=\"#DejaVuSans-38\"/>\n       <use xlink:href=\"#DejaVuSans-30\" x=\"63.623047\"/>\n      </g>\n     </g>\n    </g>\n    <g id=\"xtick_9\">\n     <g id=\"line2d_17\">\n      <path d=\"M 437.403125 333.36 \nL 437.403125 7.2 \n\" clip-path=\"url(#p9c38cdef33)\" style=\"fill: none; stroke: #b0b0b0; stroke-width: 0.8; stroke-linecap: square\"/>\n     </g>\n     <g id=\"line2d_18\">\n      <g>\n       <use xlink:href=\"#m5389c4e724\" x=\"437.403125\" y=\"333.36\" style=\"stroke: #000000; stroke-width: 0.8\"/>\n      </g>\n     </g>\n     <g id=\"text_9\">\n      <!-- 90 -->\n      <g transform=\"translate(431.040625 347.958438)scale(0.1 -0.1)\">\n       <defs>\n        <path id=\"DejaVuSans-39\" d=\"M 703 97 \nL 703 672 \nQ 941 559 1184 500 \nQ 1428 441 1663 441 \nQ 2288 441 2617 861 \nQ 2947 1281 2994 2138 \nQ 2813 1869 2534 1725 \nQ 2256 1581 1919 1581 \nQ 1219 1581 811 2004 \nQ 403 2428 403 3163 \nQ 403 3881 828 4315 \nQ 1253 4750 1959 4750 \nQ 2769 4750 3195 4129 \nQ 3622 3509 3622 2328 \nQ 3622 1225 3098 567 \nQ 2575 -91 1691 -91 \nQ 1453 -91 1209 -44 \nQ 966 3 703 97 \nz\nM 1959 2075 \nQ 2384 2075 2632 2365 \nQ 2881 2656 2881 3163 \nQ 2881 3666 2632 3958 \nQ 2384 4250 1959 4250 \nQ 1534 4250 1286 3958 \nQ 1038 3666 1038 3163 \nQ 1038 2656 1286 2365 \nQ 1534 2075 1959 2075 \nz\n\" transform=\"scale(0.015625)\"/>\n       </defs>\n       <use xlink:href=\"#DejaVuSans-39\"/>\n       <use xlink:href=\"#DejaVuSans-30\" x=\"63.623047\"/>\n      </g>\n     </g>\n    </g>\n    <g id=\"xtick_10\">\n     <g id=\"line2d_19\">\n      <path d=\"M 487.003125 333.36 \nL 487.003125 7.2 \n\" clip-path=\"url(#p9c38cdef33)\" style=\"fill: none; stroke: #b0b0b0; stroke-width: 0.8; stroke-linecap: square\"/>\n     </g>\n     <g id=\"line2d_20\">\n      <g>\n       <use xlink:href=\"#m5389c4e724\" x=\"487.003125\" y=\"333.36\" style=\"stroke: #000000; stroke-width: 0.8\"/>\n      </g>\n     </g>\n     <g id=\"text_10\">\n      <!-- 100 -->\n      <g transform=\"translate(477.459375 347.958438)scale(0.1 -0.1)\">\n       <use xlink:href=\"#DejaVuSans-31\"/>\n       <use xlink:href=\"#DejaVuSans-30\" x=\"63.623047\"/>\n       <use xlink:href=\"#DejaVuSans-30\" x=\"127.246094\"/>\n      </g>\n     </g>\n    </g>\n    <g id=\"text_11\">\n     <!-- epoch -->\n     <g transform=\"translate(248.575 361.636562)scale(0.1 -0.1)\">\n      <defs>\n       <path id=\"DejaVuSans-65\" d=\"M 3597 1894 \nL 3597 1613 \nL 953 1613 \nQ 991 1019 1311 708 \nQ 1631 397 2203 397 \nQ 2534 397 2845 478 \nQ 3156 559 3463 722 \nL 3463 178 \nQ 3153 47 2828 -22 \nQ 2503 -91 2169 -91 \nQ 1331 -91 842 396 \nQ 353 884 353 1716 \nQ 353 2575 817 3079 \nQ 1281 3584 2069 3584 \nQ 2775 3584 3186 3129 \nQ 3597 2675 3597 1894 \nz\nM 3022 2063 \nQ 3016 2534 2758 2815 \nQ 2500 3097 2075 3097 \nQ 1594 3097 1305 2825 \nQ 1016 2553 972 2059 \nL 3022 2063 \nz\n\" transform=\"scale(0.015625)\"/>\n       <path id=\"DejaVuSans-70\" d=\"M 1159 525 \nL 1159 -1331 \nL 581 -1331 \nL 581 3500 \nL 1159 3500 \nL 1159 2969 \nQ 1341 3281 1617 3432 \nQ 1894 3584 2278 3584 \nQ 2916 3584 3314 3078 \nQ 3713 2572 3713 1747 \nQ 3713 922 3314 415 \nQ 2916 -91 2278 -91 \nQ 1894 -91 1617 61 \nQ 1341 213 1159 525 \nz\nM 3116 1747 \nQ 3116 2381 2855 2742 \nQ 2594 3103 2138 3103 \nQ 1681 3103 1420 2742 \nQ 1159 2381 1159 1747 \nQ 1159 1113 1420 752 \nQ 1681 391 2138 391 \nQ 2594 391 2855 752 \nQ 3116 1113 3116 1747 \nz\n\" transform=\"scale(0.015625)\"/>\n       <path id=\"DejaVuSans-6f\" d=\"M 1959 3097 \nQ 1497 3097 1228 2736 \nQ 959 2375 959 1747 \nQ 959 1119 1226 758 \nQ 1494 397 1959 397 \nQ 2419 397 2687 759 \nQ 2956 1122 2956 1747 \nQ 2956 2369 2687 2733 \nQ 2419 3097 1959 3097 \nz\nM 1959 3584 \nQ 2709 3584 3137 3096 \nQ 3566 2609 3566 1747 \nQ 3566 888 3137 398 \nQ 2709 -91 1959 -91 \nQ 1206 -91 779 398 \nQ 353 888 353 1747 \nQ 353 2609 779 3096 \nQ 1206 3584 1959 3584 \nz\n\" transform=\"scale(0.015625)\"/>\n       <path id=\"DejaVuSans-63\" d=\"M 3122 3366 \nL 3122 2828 \nQ 2878 2963 2633 3030 \nQ 2388 3097 2138 3097 \nQ 1578 3097 1268 2742 \nQ 959 2388 959 1747 \nQ 959 1106 1268 751 \nQ 1578 397 2138 397 \nQ 2388 397 2633 464 \nQ 2878 531 3122 666 \nL 3122 134 \nQ 2881 22 2623 -34 \nQ 2366 -91 2075 -91 \nQ 1284 -91 818 406 \nQ 353 903 353 1747 \nQ 353 2603 823 3093 \nQ 1294 3584 2113 3584 \nQ 2378 3584 2631 3529 \nQ 2884 3475 3122 3366 \nz\n\" transform=\"scale(0.015625)\"/>\n       <path id=\"DejaVuSans-68\" d=\"M 3513 2113 \nL 3513 0 \nL 2938 0 \nL 2938 2094 \nQ 2938 2591 2744 2837 \nQ 2550 3084 2163 3084 \nQ 1697 3084 1428 2787 \nQ 1159 2491 1159 1978 \nL 1159 0 \nL 581 0 \nL 581 4863 \nL 1159 4863 \nL 1159 2956 \nQ 1366 3272 1645 3428 \nQ 1925 3584 2291 3584 \nQ 2894 3584 3203 3211 \nQ 3513 2838 3513 2113 \nz\n\" transform=\"scale(0.015625)\"/>\n      </defs>\n      <use xlink:href=\"#DejaVuSans-65\"/>\n      <use xlink:href=\"#DejaVuSans-70\" x=\"61.523438\"/>\n      <use xlink:href=\"#DejaVuSans-6f\" x=\"125\"/>\n      <use xlink:href=\"#DejaVuSans-63\" x=\"186.181641\"/>\n      <use xlink:href=\"#DejaVuSans-68\" x=\"241.162109\"/>\n     </g>\n    </g>\n   </g>\n   <g id=\"matplotlib.axis_2\">\n    <g id=\"ytick_1\">\n     <g id=\"line2d_21\">\n      <path d=\"M 40.603125 307.338205 \nL 487.003125 307.338205 \n\" clip-path=\"url(#p9c38cdef33)\" style=\"fill: none; stroke: #b0b0b0; stroke-width: 0.8; stroke-linecap: square\"/>\n     </g>\n     <g id=\"line2d_22\">\n      <defs>\n       <path id=\"m4f04cd2f4d\" d=\"M 0 0 \nL -3.5 0 \n\" style=\"stroke: #000000; stroke-width: 0.8\"/>\n      </defs>\n      <g>\n       <use xlink:href=\"#m4f04cd2f4d\" x=\"40.603125\" y=\"307.338205\" style=\"stroke: #000000; stroke-width: 0.8\"/>\n      </g>\n     </g>\n     <g id=\"text_12\">\n      <!-- 7 -->\n      <g transform=\"translate(27.240625 311.137423)scale(0.1 -0.1)\">\n       <use xlink:href=\"#DejaVuSans-37\"/>\n      </g>\n     </g>\n    </g>\n    <g id=\"ytick_2\">\n     <g id=\"line2d_23\">\n      <path d=\"M 40.603125 246.658826 \nL 487.003125 246.658826 \n\" clip-path=\"url(#p9c38cdef33)\" style=\"fill: none; stroke: #b0b0b0; stroke-width: 0.8; stroke-linecap: square\"/>\n     </g>\n     <g id=\"line2d_24\">\n      <g>\n       <use xlink:href=\"#m4f04cd2f4d\" x=\"40.603125\" y=\"246.658826\" style=\"stroke: #000000; stroke-width: 0.8\"/>\n      </g>\n     </g>\n     <g id=\"text_13\">\n      <!-- 8 -->\n      <g transform=\"translate(27.240625 250.458044)scale(0.1 -0.1)\">\n       <use xlink:href=\"#DejaVuSans-38\"/>\n      </g>\n     </g>\n    </g>\n    <g id=\"ytick_3\">\n     <g id=\"line2d_25\">\n      <path d=\"M 40.603125 185.979447 \nL 487.003125 185.979447 \n\" clip-path=\"url(#p9c38cdef33)\" style=\"fill: none; stroke: #b0b0b0; stroke-width: 0.8; stroke-linecap: square\"/>\n     </g>\n     <g id=\"line2d_26\">\n      <g>\n       <use xlink:href=\"#m4f04cd2f4d\" x=\"40.603125\" y=\"185.979447\" style=\"stroke: #000000; stroke-width: 0.8\"/>\n      </g>\n     </g>\n     <g id=\"text_14\">\n      <!-- 9 -->\n      <g transform=\"translate(27.240625 189.778665)scale(0.1 -0.1)\">\n       <use xlink:href=\"#DejaVuSans-39\"/>\n      </g>\n     </g>\n    </g>\n    <g id=\"ytick_4\">\n     <g id=\"line2d_27\">\n      <path d=\"M 40.603125 125.300068 \nL 487.003125 125.300068 \n\" clip-path=\"url(#p9c38cdef33)\" style=\"fill: none; stroke: #b0b0b0; stroke-width: 0.8; stroke-linecap: square\"/>\n     </g>\n     <g id=\"line2d_28\">\n      <g>\n       <use xlink:href=\"#m4f04cd2f4d\" x=\"40.603125\" y=\"125.300068\" style=\"stroke: #000000; stroke-width: 0.8\"/>\n      </g>\n     </g>\n     <g id=\"text_15\">\n      <!-- 10 -->\n      <g transform=\"translate(20.878125 129.099286)scale(0.1 -0.1)\">\n       <use xlink:href=\"#DejaVuSans-31\"/>\n       <use xlink:href=\"#DejaVuSans-30\" x=\"63.623047\"/>\n      </g>\n     </g>\n    </g>\n    <g id=\"ytick_5\">\n     <g id=\"line2d_29\">\n      <path d=\"M 40.603125 64.620689 \nL 487.003125 64.620689 \n\" clip-path=\"url(#p9c38cdef33)\" style=\"fill: none; stroke: #b0b0b0; stroke-width: 0.8; stroke-linecap: square\"/>\n     </g>\n     <g id=\"line2d_30\">\n      <g>\n       <use xlink:href=\"#m4f04cd2f4d\" x=\"40.603125\" y=\"64.620689\" style=\"stroke: #000000; stroke-width: 0.8\"/>\n      </g>\n     </g>\n     <g id=\"text_16\">\n      <!-- 11 -->\n      <g transform=\"translate(20.878125 68.419908)scale(0.1 -0.1)\">\n       <use xlink:href=\"#DejaVuSans-31\"/>\n       <use xlink:href=\"#DejaVuSans-31\" x=\"63.623047\"/>\n      </g>\n     </g>\n    </g>\n    <g id=\"text_17\">\n     <!-- perplexity -->\n     <g transform=\"translate(14.798438 195.406562)rotate(-90)scale(0.1 -0.1)\">\n      <defs>\n       <path id=\"DejaVuSans-72\" d=\"M 2631 2963 \nQ 2534 3019 2420 3045 \nQ 2306 3072 2169 3072 \nQ 1681 3072 1420 2755 \nQ 1159 2438 1159 1844 \nL 1159 0 \nL 581 0 \nL 581 3500 \nL 1159 3500 \nL 1159 2956 \nQ 1341 3275 1631 3429 \nQ 1922 3584 2338 3584 \nQ 2397 3584 2469 3576 \nQ 2541 3569 2628 3553 \nL 2631 2963 \nz\n\" transform=\"scale(0.015625)\"/>\n       <path id=\"DejaVuSans-6c\" d=\"M 603 4863 \nL 1178 4863 \nL 1178 0 \nL 603 0 \nL 603 4863 \nz\n\" transform=\"scale(0.015625)\"/>\n       <path id=\"DejaVuSans-78\" d=\"M 3513 3500 \nL 2247 1797 \nL 3578 0 \nL 2900 0 \nL 1881 1375 \nL 863 0 \nL 184 0 \nL 1544 1831 \nL 300 3500 \nL 978 3500 \nL 1906 2253 \nL 2834 3500 \nL 3513 3500 \nz\n\" transform=\"scale(0.015625)\"/>\n       <path id=\"DejaVuSans-69\" d=\"M 603 3500 \nL 1178 3500 \nL 1178 0 \nL 603 0 \nL 603 3500 \nz\nM 603 4863 \nL 1178 4863 \nL 1178 4134 \nL 603 4134 \nL 603 4863 \nz\n\" transform=\"scale(0.015625)\"/>\n       <path id=\"DejaVuSans-74\" d=\"M 1172 4494 \nL 1172 3500 \nL 2356 3500 \nL 2356 3053 \nL 1172 3053 \nL 1172 1153 \nQ 1172 725 1289 603 \nQ 1406 481 1766 481 \nL 2356 481 \nL 2356 0 \nL 1766 0 \nQ 1100 0 847 248 \nQ 594 497 594 1153 \nL 594 3053 \nL 172 3053 \nL 172 3500 \nL 594 3500 \nL 594 4494 \nL 1172 4494 \nz\n\" transform=\"scale(0.015625)\"/>\n       <path id=\"DejaVuSans-79\" d=\"M 2059 -325 \nQ 1816 -950 1584 -1140 \nQ 1353 -1331 966 -1331 \nL 506 -1331 \nL 506 -850 \nL 844 -850 \nQ 1081 -850 1212 -737 \nQ 1344 -625 1503 -206 \nL 1606 56 \nL 191 3500 \nL 800 3500 \nL 1894 763 \nL 2988 3500 \nL 3597 3500 \nL 2059 -325 \nz\n\" transform=\"scale(0.015625)\"/>\n      </defs>\n      <use xlink:href=\"#DejaVuSans-70\"/>\n      <use xlink:href=\"#DejaVuSans-65\" x=\"63.476562\"/>\n      <use xlink:href=\"#DejaVuSans-72\" x=\"125\"/>\n      <use xlink:href=\"#DejaVuSans-70\" x=\"166.113281\"/>\n      <use xlink:href=\"#DejaVuSans-6c\" x=\"229.589844\"/>\n      <use xlink:href=\"#DejaVuSans-65\" x=\"257.373047\"/>\n      <use xlink:href=\"#DejaVuSans-78\" x=\"317.146484\"/>\n      <use xlink:href=\"#DejaVuSans-69\" x=\"376.326172\"/>\n      <use xlink:href=\"#DejaVuSans-74\" x=\"404.109375\"/>\n      <use xlink:href=\"#DejaVuSans-79\" x=\"443.318359\"/>\n     </g>\n    </g>\n   </g>\n   <g id=\"line2d_31\">\n    <path d=\"M 40.603125 22.025455 \nL 90.203125 141.662208 \nL 139.803125 172.732992 \nL 189.403125 218.630541 \nL 239.003125 239.012849 \nL 288.603125 253.923183 \nL 338.203125 267.666161 \nL 387.803125 276.246169 \nL 437.403125 298.937928 \nL 487.003125 318.534545 \n\" clip-path=\"url(#p9c38cdef33)\" style=\"fill: none; stroke: #1f77b4; stroke-width: 1.5; stroke-linecap: square\"/>\n   </g>\n   <g id=\"patch_3\">\n    <path d=\"M 40.603125 333.36 \nL 40.603125 7.2 \n\" style=\"fill: none; stroke: #000000; stroke-width: 0.8; stroke-linejoin: miter; stroke-linecap: square\"/>\n   </g>\n   <g id=\"patch_4\">\n    <path d=\"M 487.003125 333.36 \nL 487.003125 7.2 \n\" style=\"fill: none; stroke: #000000; stroke-width: 0.8; stroke-linejoin: miter; stroke-linecap: square\"/>\n   </g>\n   <g id=\"patch_5\">\n    <path d=\"M 40.603125 333.36 \nL 487.003125 333.36 \n\" style=\"fill: none; stroke: #000000; stroke-width: 0.8; stroke-linejoin: miter; stroke-linecap: square\"/>\n   </g>\n   <g id=\"patch_6\">\n    <path d=\"M 40.603125 7.2 \nL 487.003125 7.2 \n\" style=\"fill: none; stroke: #000000; stroke-width: 0.8; stroke-linejoin: miter; stroke-linecap: square\"/>\n   </g>\n   <g id=\"legend_1\">\n    <g id=\"patch_7\">\n     <path d=\"M 424.728125 29.878125 \nL 480.003125 29.878125 \nQ 482.003125 29.878125 482.003125 27.878125 \nL 482.003125 14.2 \nQ 482.003125 12.2 480.003125 12.2 \nL 424.728125 12.2 \nQ 422.728125 12.2 422.728125 14.2 \nL 422.728125 27.878125 \nQ 422.728125 29.878125 424.728125 29.878125 \nz\n\" style=\"fill: #ffffff; opacity: 0.8; stroke: #cccccc; stroke-linejoin: miter\"/>\n    </g>\n    <g id=\"line2d_32\">\n     <path d=\"M 426.728125 20.298437 \nL 436.728125 20.298437 \nL 446.728125 20.298437 \n\" style=\"fill: none; stroke: #1f77b4; stroke-width: 1.5; stroke-linecap: square\"/>\n    </g>\n    <g id=\"text_18\">\n     <!-- train -->\n     <g transform=\"translate(454.728125 23.798437)scale(0.1 -0.1)\">\n      <defs>\n       <path id=\"DejaVuSans-61\" d=\"M 2194 1759 \nQ 1497 1759 1228 1600 \nQ 959 1441 959 1056 \nQ 959 750 1161 570 \nQ 1363 391 1709 391 \nQ 2188 391 2477 730 \nQ 2766 1069 2766 1631 \nL 2766 1759 \nL 2194 1759 \nz\nM 3341 1997 \nL 3341 0 \nL 2766 0 \nL 2766 531 \nQ 2569 213 2275 61 \nQ 1981 -91 1556 -91 \nQ 1019 -91 701 211 \nQ 384 513 384 1019 \nQ 384 1609 779 1909 \nQ 1175 2209 1959 2209 \nL 2766 2209 \nL 2766 2266 \nQ 2766 2663 2505 2880 \nQ 2244 3097 1772 3097 \nQ 1472 3097 1187 3025 \nQ 903 2953 641 2809 \nL 641 3341 \nQ 956 3463 1253 3523 \nQ 1550 3584 1831 3584 \nQ 2591 3584 2966 3190 \nQ 3341 2797 3341 1997 \nz\n\" transform=\"scale(0.015625)\"/>\n       <path id=\"DejaVuSans-6e\" d=\"M 3513 2113 \nL 3513 0 \nL 2938 0 \nL 2938 2094 \nQ 2938 2591 2744 2837 \nQ 2550 3084 2163 3084 \nQ 1697 3084 1428 2787 \nQ 1159 2491 1159 1978 \nL 1159 0 \nL 581 0 \nL 581 3500 \nL 1159 3500 \nL 1159 2956 \nQ 1366 3272 1645 3428 \nQ 1925 3584 2291 3584 \nQ 2894 3584 3203 3211 \nQ 3513 2838 3513 2113 \nz\n\" transform=\"scale(0.015625)\"/>\n      </defs>\n      <use xlink:href=\"#DejaVuSans-74\"/>\n      <use xlink:href=\"#DejaVuSans-72\" x=\"39.208984\"/>\n      <use xlink:href=\"#DejaVuSans-61\" x=\"80.322266\"/>\n      <use xlink:href=\"#DejaVuSans-69\" x=\"141.601562\"/>\n      <use xlink:href=\"#DejaVuSans-6e\" x=\"169.384766\"/>\n     </g>\n    </g>\n   </g>\n  </g>\n </g>\n <defs>\n  <clipPath id=\"p9c38cdef33\">\n   <rect x=\"40.603125\" y=\"7.2\" width=\"446.4\" height=\"326.16\"/>\n  </clipPath>\n </defs>\n</svg>\n",
      "text/plain": [
       "<Figure size 576x432 with 1 Axes>"
      ]
     },
     "metadata": {
      "needs_background": "light"
     },
     "output_type": "display_data"
    }
   ],
   "source": [
    "num_epochs, lr = 100, 1.5\n",
    "net = RNNModelScratch(n_tokens, num_hiddens, init_params, device=try_gpu())\n",
    "h_train_s, h_batch_s = train(net, train_iter, vocab, lr, num_epochs, device=try_gpu())"
   ]
  },
  {
   "cell_type": "code",
   "execution_count": 55,
   "metadata": {},
   "outputs": [
    {
     "data": {
      "text/plain": [
       "[<matplotlib.lines.Line2D at 0x7f8b94d4b4c0>]"
      ]
     },
     "execution_count": 55,
     "metadata": {},
     "output_type": "execute_result"
    },
    {
     "data": {
      "image/svg+xml": "<?xml version=\"1.0\" encoding=\"utf-8\" standalone=\"no\"?>\n<!DOCTYPE svg PUBLIC \"-//W3C//DTD SVG 1.1//EN\"\n  \"http://www.w3.org/Graphics/SVG/1.1/DTD/svg11.dtd\">\n<svg xmlns:xlink=\"http://www.w3.org/1999/xlink\" width=\"716.45pt\" height=\"357.238125pt\" viewBox=\"0 0 716.45 357.238125\" xmlns=\"http://www.w3.org/2000/svg\" version=\"1.1\">\n <metadata>\n  <rdf:RDF xmlns:dc=\"http://purl.org/dc/elements/1.1/\" xmlns:cc=\"http://creativecommons.org/ns#\" xmlns:rdf=\"http://www.w3.org/1999/02/22-rdf-syntax-ns#\">\n   <cc:Work>\n    <dc:type rdf:resource=\"http://purl.org/dc/dcmitype/StillImage\"/>\n    <dc:date>2022-06-23T16:36:56.386449</dc:date>\n    <dc:format>image/svg+xml</dc:format>\n    <dc:creator>\n     <cc:Agent>\n      <dc:title>Matplotlib v3.5.1, https://matplotlib.org/</dc:title>\n     </cc:Agent>\n    </dc:creator>\n   </cc:Work>\n  </rdf:RDF>\n </metadata>\n <defs>\n  <style type=\"text/css\">*{stroke-linejoin: round; stroke-linecap: butt}</style>\n </defs>\n <g id=\"figure_1\">\n  <g id=\"patch_1\">\n   <path d=\"M 0 357.238125 \nL 716.45 357.238125 \nL 716.45 0 \nL 0 0 \nL 0 357.238125 \nz\n\" style=\"fill: none\"/>\n  </g>\n  <g id=\"axes_1\">\n   <g id=\"patch_2\">\n    <path d=\"M 39.65 333.36 \nL 709.25 333.36 \nL 709.25 7.2 \nL 39.65 7.2 \nz\n\" style=\"fill: #ffffff\"/>\n   </g>\n   <g id=\"matplotlib.axis_1\">\n    <g id=\"xtick_1\">\n     <g id=\"line2d_1\">\n      <defs>\n       <path id=\"mf0d309675f\" d=\"M 0 0 \nL 0 3.5 \n\" style=\"stroke: #000000; stroke-width: 0.8\"/>\n      </defs>\n      <g>\n       <use xlink:href=\"#mf0d309675f\" x=\"70.086364\" y=\"333.36\" style=\"stroke: #000000; stroke-width: 0.8\"/>\n      </g>\n     </g>\n     <g id=\"text_1\">\n      <!-- 0 -->\n      <g transform=\"translate(66.905114 347.958438)scale(0.1 -0.1)\">\n       <defs>\n        <path id=\"DejaVuSans-30\" d=\"M 2034 4250 \nQ 1547 4250 1301 3770 \nQ 1056 3291 1056 2328 \nQ 1056 1369 1301 889 \nQ 1547 409 2034 409 \nQ 2525 409 2770 889 \nQ 3016 1369 3016 2328 \nQ 3016 3291 2770 3770 \nQ 2525 4250 2034 4250 \nz\nM 2034 4750 \nQ 2819 4750 3233 4129 \nQ 3647 3509 3647 2328 \nQ 3647 1150 3233 529 \nQ 2819 -91 2034 -91 \nQ 1250 -91 836 529 \nQ 422 1150 422 2328 \nQ 422 3509 836 4129 \nQ 1250 4750 2034 4750 \nz\n\" transform=\"scale(0.015625)\"/>\n       </defs>\n       <use xlink:href=\"#DejaVuSans-30\"/>\n      </g>\n     </g>\n    </g>\n    <g id=\"xtick_2\">\n     <g id=\"line2d_2\">\n      <g>\n       <use xlink:href=\"#mf0d309675f\" x=\"146.272505\" y=\"333.36\" style=\"stroke: #000000; stroke-width: 0.8\"/>\n      </g>\n     </g>\n     <g id=\"text_2\">\n      <!-- 100 -->\n      <g transform=\"translate(136.728755 347.958438)scale(0.1 -0.1)\">\n       <defs>\n        <path id=\"DejaVuSans-31\" d=\"M 794 531 \nL 1825 531 \nL 1825 4091 \nL 703 3866 \nL 703 4441 \nL 1819 4666 \nL 2450 4666 \nL 2450 531 \nL 3481 531 \nL 3481 0 \nL 794 0 \nL 794 531 \nz\n\" transform=\"scale(0.015625)\"/>\n       </defs>\n       <use xlink:href=\"#DejaVuSans-31\"/>\n       <use xlink:href=\"#DejaVuSans-30\" x=\"63.623047\"/>\n       <use xlink:href=\"#DejaVuSans-30\" x=\"127.246094\"/>\n      </g>\n     </g>\n    </g>\n    <g id=\"xtick_3\">\n     <g id=\"line2d_3\">\n      <g>\n       <use xlink:href=\"#mf0d309675f\" x=\"222.458647\" y=\"333.36\" style=\"stroke: #000000; stroke-width: 0.8\"/>\n      </g>\n     </g>\n     <g id=\"text_3\">\n      <!-- 200 -->\n      <g transform=\"translate(212.914897 347.958438)scale(0.1 -0.1)\">\n       <defs>\n        <path id=\"DejaVuSans-32\" d=\"M 1228 531 \nL 3431 531 \nL 3431 0 \nL 469 0 \nL 469 531 \nQ 828 903 1448 1529 \nQ 2069 2156 2228 2338 \nQ 2531 2678 2651 2914 \nQ 2772 3150 2772 3378 \nQ 2772 3750 2511 3984 \nQ 2250 4219 1831 4219 \nQ 1534 4219 1204 4116 \nQ 875 4013 500 3803 \nL 500 4441 \nQ 881 4594 1212 4672 \nQ 1544 4750 1819 4750 \nQ 2544 4750 2975 4387 \nQ 3406 4025 3406 3419 \nQ 3406 3131 3298 2873 \nQ 3191 2616 2906 2266 \nQ 2828 2175 2409 1742 \nQ 1991 1309 1228 531 \nz\n\" transform=\"scale(0.015625)\"/>\n       </defs>\n       <use xlink:href=\"#DejaVuSans-32\"/>\n       <use xlink:href=\"#DejaVuSans-30\" x=\"63.623047\"/>\n       <use xlink:href=\"#DejaVuSans-30\" x=\"127.246094\"/>\n      </g>\n     </g>\n    </g>\n    <g id=\"xtick_4\">\n     <g id=\"line2d_4\">\n      <g>\n       <use xlink:href=\"#mf0d309675f\" x=\"298.644789\" y=\"333.36\" style=\"stroke: #000000; stroke-width: 0.8\"/>\n      </g>\n     </g>\n     <g id=\"text_4\">\n      <!-- 300 -->\n      <g transform=\"translate(289.101039 347.958438)scale(0.1 -0.1)\">\n       <defs>\n        <path id=\"DejaVuSans-33\" d=\"M 2597 2516 \nQ 3050 2419 3304 2112 \nQ 3559 1806 3559 1356 \nQ 3559 666 3084 287 \nQ 2609 -91 1734 -91 \nQ 1441 -91 1130 -33 \nQ 819 25 488 141 \nL 488 750 \nQ 750 597 1062 519 \nQ 1375 441 1716 441 \nQ 2309 441 2620 675 \nQ 2931 909 2931 1356 \nQ 2931 1769 2642 2001 \nQ 2353 2234 1838 2234 \nL 1294 2234 \nL 1294 2753 \nL 1863 2753 \nQ 2328 2753 2575 2939 \nQ 2822 3125 2822 3475 \nQ 2822 3834 2567 4026 \nQ 2313 4219 1838 4219 \nQ 1578 4219 1281 4162 \nQ 984 4106 628 3988 \nL 628 4550 \nQ 988 4650 1302 4700 \nQ 1616 4750 1894 4750 \nQ 2613 4750 3031 4423 \nQ 3450 4097 3450 3541 \nQ 3450 3153 3228 2886 \nQ 3006 2619 2597 2516 \nz\n\" transform=\"scale(0.015625)\"/>\n       </defs>\n       <use xlink:href=\"#DejaVuSans-33\"/>\n       <use xlink:href=\"#DejaVuSans-30\" x=\"63.623047\"/>\n       <use xlink:href=\"#DejaVuSans-30\" x=\"127.246094\"/>\n      </g>\n     </g>\n    </g>\n    <g id=\"xtick_5\">\n     <g id=\"line2d_5\">\n      <g>\n       <use xlink:href=\"#mf0d309675f\" x=\"374.830931\" y=\"333.36\" style=\"stroke: #000000; stroke-width: 0.8\"/>\n      </g>\n     </g>\n     <g id=\"text_5\">\n      <!-- 400 -->\n      <g transform=\"translate(365.287181 347.958438)scale(0.1 -0.1)\">\n       <defs>\n        <path id=\"DejaVuSans-34\" d=\"M 2419 4116 \nL 825 1625 \nL 2419 1625 \nL 2419 4116 \nz\nM 2253 4666 \nL 3047 4666 \nL 3047 1625 \nL 3713 1625 \nL 3713 1100 \nL 3047 1100 \nL 3047 0 \nL 2419 0 \nL 2419 1100 \nL 313 1100 \nL 313 1709 \nL 2253 4666 \nz\n\" transform=\"scale(0.015625)\"/>\n       </defs>\n       <use xlink:href=\"#DejaVuSans-34\"/>\n       <use xlink:href=\"#DejaVuSans-30\" x=\"63.623047\"/>\n       <use xlink:href=\"#DejaVuSans-30\" x=\"127.246094\"/>\n      </g>\n     </g>\n    </g>\n    <g id=\"xtick_6\">\n     <g id=\"line2d_6\">\n      <g>\n       <use xlink:href=\"#mf0d309675f\" x=\"451.017072\" y=\"333.36\" style=\"stroke: #000000; stroke-width: 0.8\"/>\n      </g>\n     </g>\n     <g id=\"text_6\">\n      <!-- 500 -->\n      <g transform=\"translate(441.473322 347.958438)scale(0.1 -0.1)\">\n       <defs>\n        <path id=\"DejaVuSans-35\" d=\"M 691 4666 \nL 3169 4666 \nL 3169 4134 \nL 1269 4134 \nL 1269 2991 \nQ 1406 3038 1543 3061 \nQ 1681 3084 1819 3084 \nQ 2600 3084 3056 2656 \nQ 3513 2228 3513 1497 \nQ 3513 744 3044 326 \nQ 2575 -91 1722 -91 \nQ 1428 -91 1123 -41 \nQ 819 9 494 109 \nL 494 744 \nQ 775 591 1075 516 \nQ 1375 441 1709 441 \nQ 2250 441 2565 725 \nQ 2881 1009 2881 1497 \nQ 2881 1984 2565 2268 \nQ 2250 2553 1709 2553 \nQ 1456 2553 1204 2497 \nQ 953 2441 691 2322 \nL 691 4666 \nz\n\" transform=\"scale(0.015625)\"/>\n       </defs>\n       <use xlink:href=\"#DejaVuSans-35\"/>\n       <use xlink:href=\"#DejaVuSans-30\" x=\"63.623047\"/>\n       <use xlink:href=\"#DejaVuSans-30\" x=\"127.246094\"/>\n      </g>\n     </g>\n    </g>\n    <g id=\"xtick_7\">\n     <g id=\"line2d_7\">\n      <g>\n       <use xlink:href=\"#mf0d309675f\" x=\"527.203214\" y=\"333.36\" style=\"stroke: #000000; stroke-width: 0.8\"/>\n      </g>\n     </g>\n     <g id=\"text_7\">\n      <!-- 600 -->\n      <g transform=\"translate(517.659464 347.958438)scale(0.1 -0.1)\">\n       <defs>\n        <path id=\"DejaVuSans-36\" d=\"M 2113 2584 \nQ 1688 2584 1439 2293 \nQ 1191 2003 1191 1497 \nQ 1191 994 1439 701 \nQ 1688 409 2113 409 \nQ 2538 409 2786 701 \nQ 3034 994 3034 1497 \nQ 3034 2003 2786 2293 \nQ 2538 2584 2113 2584 \nz\nM 3366 4563 \nL 3366 3988 \nQ 3128 4100 2886 4159 \nQ 2644 4219 2406 4219 \nQ 1781 4219 1451 3797 \nQ 1122 3375 1075 2522 \nQ 1259 2794 1537 2939 \nQ 1816 3084 2150 3084 \nQ 2853 3084 3261 2657 \nQ 3669 2231 3669 1497 \nQ 3669 778 3244 343 \nQ 2819 -91 2113 -91 \nQ 1303 -91 875 529 \nQ 447 1150 447 2328 \nQ 447 3434 972 4092 \nQ 1497 4750 2381 4750 \nQ 2619 4750 2861 4703 \nQ 3103 4656 3366 4563 \nz\n\" transform=\"scale(0.015625)\"/>\n       </defs>\n       <use xlink:href=\"#DejaVuSans-36\"/>\n       <use xlink:href=\"#DejaVuSans-30\" x=\"63.623047\"/>\n       <use xlink:href=\"#DejaVuSans-30\" x=\"127.246094\"/>\n      </g>\n     </g>\n    </g>\n    <g id=\"xtick_8\">\n     <g id=\"line2d_8\">\n      <g>\n       <use xlink:href=\"#mf0d309675f\" x=\"603.389356\" y=\"333.36\" style=\"stroke: #000000; stroke-width: 0.8\"/>\n      </g>\n     </g>\n     <g id=\"text_8\">\n      <!-- 700 -->\n      <g transform=\"translate(593.845606 347.958438)scale(0.1 -0.1)\">\n       <defs>\n        <path id=\"DejaVuSans-37\" d=\"M 525 4666 \nL 3525 4666 \nL 3525 4397 \nL 1831 0 \nL 1172 0 \nL 2766 4134 \nL 525 4134 \nL 525 4666 \nz\n\" transform=\"scale(0.015625)\"/>\n       </defs>\n       <use xlink:href=\"#DejaVuSans-37\"/>\n       <use xlink:href=\"#DejaVuSans-30\" x=\"63.623047\"/>\n       <use xlink:href=\"#DejaVuSans-30\" x=\"127.246094\"/>\n      </g>\n     </g>\n    </g>\n    <g id=\"xtick_9\">\n     <g id=\"line2d_9\">\n      <g>\n       <use xlink:href=\"#mf0d309675f\" x=\"679.575498\" y=\"333.36\" style=\"stroke: #000000; stroke-width: 0.8\"/>\n      </g>\n     </g>\n     <g id=\"text_9\">\n      <!-- 800 -->\n      <g transform=\"translate(670.031748 347.958438)scale(0.1 -0.1)\">\n       <defs>\n        <path id=\"DejaVuSans-38\" d=\"M 2034 2216 \nQ 1584 2216 1326 1975 \nQ 1069 1734 1069 1313 \nQ 1069 891 1326 650 \nQ 1584 409 2034 409 \nQ 2484 409 2743 651 \nQ 3003 894 3003 1313 \nQ 3003 1734 2745 1975 \nQ 2488 2216 2034 2216 \nz\nM 1403 2484 \nQ 997 2584 770 2862 \nQ 544 3141 544 3541 \nQ 544 4100 942 4425 \nQ 1341 4750 2034 4750 \nQ 2731 4750 3128 4425 \nQ 3525 4100 3525 3541 \nQ 3525 3141 3298 2862 \nQ 3072 2584 2669 2484 \nQ 3125 2378 3379 2068 \nQ 3634 1759 3634 1313 \nQ 3634 634 3220 271 \nQ 2806 -91 2034 -91 \nQ 1263 -91 848 271 \nQ 434 634 434 1313 \nQ 434 1759 690 2068 \nQ 947 2378 1403 2484 \nz\nM 1172 3481 \nQ 1172 3119 1398 2916 \nQ 1625 2713 2034 2713 \nQ 2441 2713 2670 2916 \nQ 2900 3119 2900 3481 \nQ 2900 3844 2670 4047 \nQ 2441 4250 2034 4250 \nQ 1625 4250 1398 4047 \nQ 1172 3844 1172 3481 \nz\n\" transform=\"scale(0.015625)\"/>\n       </defs>\n       <use xlink:href=\"#DejaVuSans-38\"/>\n       <use xlink:href=\"#DejaVuSans-30\" x=\"63.623047\"/>\n       <use xlink:href=\"#DejaVuSans-30\" x=\"127.246094\"/>\n      </g>\n     </g>\n    </g>\n   </g>\n   <g id=\"matplotlib.axis_2\">\n    <g id=\"ytick_1\">\n     <g id=\"line2d_10\">\n      <defs>\n       <path id=\"mcf4f7d8704\" d=\"M 0 0 \nL -3.5 0 \n\" style=\"stroke: #000000; stroke-width: 0.8\"/>\n      </defs>\n      <g>\n       <use xlink:href=\"#mcf4f7d8704\" x=\"39.65\" y=\"288.47636\" style=\"stroke: #000000; stroke-width: 0.8\"/>\n      </g>\n     </g>\n     <g id=\"text_10\">\n      <!-- 2250 -->\n      <g transform=\"translate(7.2 292.275579)scale(0.1 -0.1)\">\n       <use xlink:href=\"#DejaVuSans-32\"/>\n       <use xlink:href=\"#DejaVuSans-32\" x=\"63.623047\"/>\n       <use xlink:href=\"#DejaVuSans-35\" x=\"127.246094\"/>\n       <use xlink:href=\"#DejaVuSans-30\" x=\"190.869141\"/>\n      </g>\n     </g>\n    </g>\n    <g id=\"ytick_2\">\n     <g id=\"line2d_11\">\n      <g>\n       <use xlink:href=\"#mcf4f7d8704\" x=\"39.65\" y=\"243.536703\" style=\"stroke: #000000; stroke-width: 0.8\"/>\n      </g>\n     </g>\n     <g id=\"text_11\">\n      <!-- 2500 -->\n      <g transform=\"translate(7.2 247.335922)scale(0.1 -0.1)\">\n       <use xlink:href=\"#DejaVuSans-32\"/>\n       <use xlink:href=\"#DejaVuSans-35\" x=\"63.623047\"/>\n       <use xlink:href=\"#DejaVuSans-30\" x=\"127.246094\"/>\n       <use xlink:href=\"#DejaVuSans-30\" x=\"190.869141\"/>\n      </g>\n     </g>\n    </g>\n    <g id=\"ytick_3\">\n     <g id=\"line2d_12\">\n      <g>\n       <use xlink:href=\"#mcf4f7d8704\" x=\"39.65\" y=\"198.597046\" style=\"stroke: #000000; stroke-width: 0.8\"/>\n      </g>\n     </g>\n     <g id=\"text_12\">\n      <!-- 2750 -->\n      <g transform=\"translate(7.2 202.396265)scale(0.1 -0.1)\">\n       <use xlink:href=\"#DejaVuSans-32\"/>\n       <use xlink:href=\"#DejaVuSans-37\" x=\"63.623047\"/>\n       <use xlink:href=\"#DejaVuSans-35\" x=\"127.246094\"/>\n       <use xlink:href=\"#DejaVuSans-30\" x=\"190.869141\"/>\n      </g>\n     </g>\n    </g>\n    <g id=\"ytick_4\">\n     <g id=\"line2d_13\">\n      <g>\n       <use xlink:href=\"#mcf4f7d8704\" x=\"39.65\" y=\"153.657389\" style=\"stroke: #000000; stroke-width: 0.8\"/>\n      </g>\n     </g>\n     <g id=\"text_13\">\n      <!-- 3000 -->\n      <g transform=\"translate(7.2 157.456608)scale(0.1 -0.1)\">\n       <use xlink:href=\"#DejaVuSans-33\"/>\n       <use xlink:href=\"#DejaVuSans-30\" x=\"63.623047\"/>\n       <use xlink:href=\"#DejaVuSans-30\" x=\"127.246094\"/>\n       <use xlink:href=\"#DejaVuSans-30\" x=\"190.869141\"/>\n      </g>\n     </g>\n    </g>\n    <g id=\"ytick_5\">\n     <g id=\"line2d_14\">\n      <g>\n       <use xlink:href=\"#mcf4f7d8704\" x=\"39.65\" y=\"108.717732\" style=\"stroke: #000000; stroke-width: 0.8\"/>\n      </g>\n     </g>\n     <g id=\"text_14\">\n      <!-- 3250 -->\n      <g transform=\"translate(7.2 112.516951)scale(0.1 -0.1)\">\n       <use xlink:href=\"#DejaVuSans-33\"/>\n       <use xlink:href=\"#DejaVuSans-32\" x=\"63.623047\"/>\n       <use xlink:href=\"#DejaVuSans-35\" x=\"127.246094\"/>\n       <use xlink:href=\"#DejaVuSans-30\" x=\"190.869141\"/>\n      </g>\n     </g>\n    </g>\n    <g id=\"ytick_6\">\n     <g id=\"line2d_15\">\n      <g>\n       <use xlink:href=\"#mcf4f7d8704\" x=\"39.65\" y=\"63.778075\" style=\"stroke: #000000; stroke-width: 0.8\"/>\n      </g>\n     </g>\n     <g id=\"text_15\">\n      <!-- 3500 -->\n      <g transform=\"translate(7.2 67.577294)scale(0.1 -0.1)\">\n       <use xlink:href=\"#DejaVuSans-33\"/>\n       <use xlink:href=\"#DejaVuSans-35\" x=\"63.623047\"/>\n       <use xlink:href=\"#DejaVuSans-30\" x=\"127.246094\"/>\n       <use xlink:href=\"#DejaVuSans-30\" x=\"190.869141\"/>\n      </g>\n     </g>\n    </g>\n    <g id=\"ytick_7\">\n     <g id=\"line2d_16\">\n      <g>\n       <use xlink:href=\"#mcf4f7d8704\" x=\"39.65\" y=\"18.838419\" style=\"stroke: #000000; stroke-width: 0.8\"/>\n      </g>\n     </g>\n     <g id=\"text_16\">\n      <!-- 3750 -->\n      <g transform=\"translate(7.2 22.637637)scale(0.1 -0.1)\">\n       <use xlink:href=\"#DejaVuSans-33\"/>\n       <use xlink:href=\"#DejaVuSans-37\" x=\"63.623047\"/>\n       <use xlink:href=\"#DejaVuSans-35\" x=\"127.246094\"/>\n       <use xlink:href=\"#DejaVuSans-30\" x=\"190.869141\"/>\n      </g>\n     </g>\n    </g>\n   </g>\n   <g id=\"line2d_17\">\n    <path d=\"M 70.086364 22.025455 \nL 71.610086 43.896076 \nL 73.895671 70.541475 \nL 75.419394 87.076767 \nL 76.181255 88.919275 \nL 76.943116 96.827732 \nL 77.704978 106.490519 \nL 78.466839 109.667639 \nL 79.228701 111.910954 \nL 79.990562 115.539809 \nL 80.752423 109.816394 \nL 81.514285 116.882485 \nL 82.276146 106.036096 \nL 83.038008 116.081353 \nL 83.799869 117.242587 \nL 84.561731 111.666678 \nL 85.323592 102.338504 \nL 86.085453 114.432576 \nL 86.847315 124.405064 \nL 87.609176 125.762909 \nL 88.371038 117.807892 \nL 89.132899 122.392346 \nL 89.89476 118.958181 \nL 90.656622 116.972631 \nL 91.418483 124.314727 \nL 92.180345 126.950015 \nL 92.942206 131.083022 \nL 93.704068 136.909591 \nL 94.465929 124.006034 \nL 95.22779 122.588669 \nL 95.989652 127.209363 \nL 96.751513 133.817096 \nL 97.513375 137.24982 \nL 98.275236 142.234888 \nL 99.037098 144.140661 \nL 99.798959 147.344854 \nL 100.56082 128.164866 \nL 101.322682 127.688458 \nL 102.084543 143.615437 \nL 102.846405 142.805185 \nL 103.608266 159.617585 \nL 104.370127 149.394197 \nL 105.131989 169.223396 \nL 105.89385 165.920994 \nL 106.655712 155.310576 \nL 107.417573 161.444925 \nL 108.179435 163.315226 \nL 108.941296 158.123659 \nL 109.703157 175.918394 \nL 110.465019 163.296217 \nL 111.22688 183.868899 \nL 111.988742 179.961784 \nL 112.750603 165.766479 \nL 113.512464 176.158014 \nL 114.274326 180.90039 \nL 115.036187 176.98617 \nL 115.798049 191.721435 \nL 116.55991 176.203566 \nL 117.321772 195.248097 \nL 118.083633 191.2457 \nL 118.845494 180.370462 \nL 119.607356 191.643002 \nL 120.369217 185.715151 \nL 121.131079 185.174903 \nL 121.89294 203.097801 \nL 122.654801 189.222085 \nL 123.416663 203.260667 \nL 124.178524 203.650817 \nL 124.940386 183.987797 \nL 125.702247 187.514507 \nL 126.464109 189.899183 \nL 127.22597 196.88905 \nL 127.987831 209.031267 \nL 128.749693 193.183297 \nL 129.511554 213.353253 \nL 130.273416 207.830817 \nL 131.035277 197.839656 \nL 131.797138 192.712362 \nL 132.559 205.484877 \nL 133.320861 193.488726 \nL 134.082723 208.263303 \nL 134.844584 204.279435 \nL 135.606446 205.942996 \nL 136.368307 223.822789 \nL 137.130168 195.348946 \nL 137.89203 208.719838 \nL 138.653891 206.357242 \nL 139.415753 198.97593 \nL 140.177614 217.434371 \nL 140.939475 201.840757 \nL 141.701337 223.13417 \nL 142.463198 220.712869 \nL 143.22506 199.370304 \nL 144.748783 211.109891 \nL 145.510644 205.773505 \nL 146.272505 220.106668 \nL 147.034367 211.730684 \nL 148.55809 225.868052 \nL 149.319951 202.869221 \nL 150.081812 214.643753 \nL 150.843674 213.892253 \nL 151.605535 206.491788 \nL 152.367397 224.487599 \nL 153.129258 210.783678 \nL 153.89112 228.654254 \nL 154.652981 231.885328 \nL 155.414842 211.061554 \nL 156.176704 213.159138 \nL 156.938565 216.986956 \nL 157.700427 203.535327 \nL 158.462288 226.844387 \nL 159.22415 218.39981 \nL 159.986011 226.810738 \nL 160.747872 237.383524 \nL 161.509734 213.757083 \nL 162.271595 225.400381 \nL 163.033457 224.042824 \nL 163.795318 213.751803 \nL 164.557179 207.203927 \nL 165.319041 216.206993 \nL 166.080902 233.998032 \nL 166.842764 236.63356 \nL 167.604625 218.842473 \nL 168.366487 228.98738 \nL 169.128348 229.447803 \nL 169.890209 222.961032 \nL 170.652071 232.94072 \nL 171.413932 212.382438 \nL 172.175794 234.191763 \nL 172.937655 237.408628 \nL 173.699516 217.821929 \nL 174.461378 223.832245 \nL 175.223239 227.596126 \nL 175.985101 217.042541 \nL 176.746962 236.389524 \nL 177.508824 225.061448 \nL 178.270685 235.273315 \nL 179.032546 242.754326 \nL 179.794408 222.925751 \nL 180.556269 231.132532 \nL 181.318131 224.873045 \nL 182.079992 222.688387 \nL 182.841853 242.28987 \nL 183.603715 219.798167 \nL 184.365576 235.637833 \nL 185.127438 227.656559 \nL 185.889299 213.437398 \nL 186.651161 237.914844 \nL 187.413022 239.884554 \nL 188.174883 229.119046 \nL 188.936745 241.930921 \nL 189.698606 230.05794 \nL 190.460468 240.843464 \nL 191.222329 245.675554 \nL 191.98419 220.159997 \nL 192.746052 237.357459 \nL 194.269775 234.693851 \nL 195.031636 240.119565 \nL 195.793498 230.734606 \nL 196.555359 246.806595 \nL 197.31722 240.781927 \nL 198.079082 223.762884 \nL 198.840943 241.644021 \nL 199.602805 242.864343 \nL 201.126527 242.322511 \nL 201.888389 230.545723 \nL 202.65025 247.76901 \nL 203.412112 241.084524 \nL 204.173973 222.404031 \nL 204.935835 232.615995 \nL 205.697696 244.435503 \nL 206.459557 236.873756 \nL 207.221419 248.089847 \nL 207.98328 233.074114 \nL 208.745142 251.335704 \nL 209.507003 252.532843 \nL 210.268864 230.142469 \nL 211.792587 247.352844 \nL 212.554449 234.014544 \nL 213.31631 242.696293 \nL 214.078172 230.812271 \nL 215.601894 257.579496 \nL 216.363756 236.032159 \nL 217.125617 235.274467 \nL 217.887479 248.54283 \nL 218.64934 246.962022 \nL 219.411202 252.59726 \nL 220.173063 237.897947 \nL 220.934924 247.494974 \nL 221.696786 251.970226 \nL 222.458647 231.827871 \nL 223.220509 248.245417 \nL 223.98237 252.220502 \nL 224.744231 250.461179 \nL 225.506093 249.052982 \nL 226.267954 235.55628 \nL 227.029816 250.689855 \nL 227.791677 244.286941 \nL 228.553539 234.120578 \nL 229.3154 245.39787 \nL 230.077261 259.125071 \nL 230.839123 249.563181 \nL 231.600984 253.933552 \nL 232.362846 237.877499 \nL 233.124707 256.392966 \nL 233.886568 257.327348 \nL 234.64843 227.702208 \nL 236.172153 250.81072 \nL 236.934014 247.482254 \nL 237.695876 258.082831 \nL 238.457737 238.951948 \nL 239.219598 258.504998 \nL 239.98146 260.872874 \nL 240.743321 241.212254 \nL 241.505183 250.358698 \nL 242.267044 263.76751 \nL 243.028905 248.912579 \nL 243.790767 255.948959 \nL 244.552628 240.30048 \nL 245.31449 260.543109 \nL 246.076351 262.758487 \nL 246.838213 239.656118 \nL 247.600074 247.205625 \nL 248.361935 242.676228 \nL 249.123797 230.945665 \nL 249.885658 247.640704 \nL 250.64752 241.376849 \nL 252.171242 263.950009 \nL 252.933104 240.004556 \nL 253.694965 255.537785 \nL 254.456827 257.797035 \nL 255.218688 250.942098 \nL 255.98055 262.232447 \nL 256.742411 246.269851 \nL 257.504272 261.163662 \nL 258.266134 262.791943 \nL 259.027995 238.325394 \nL 259.789857 249.655151 \nL 260.551718 267.749987 \nL 261.313579 251.609501 \nL 262.075441 271.838929 \nL 262.837302 245.717171 \nL 263.599164 257.329556 \nL 264.361025 255.121138 \nL 265.122887 222.813573 \nL 265.884748 224.629441 \nL 266.646609 257.805051 \nL 267.408471 259.403379 \nL 268.170332 263.918184 \nL 268.932194 249.197368 \nL 269.694055 260.019037 \nL 270.455916 267.019416 \nL 271.217778 247.052023 \nL 272.741501 260.509412 \nL 273.503362 253.952656 \nL 274.265224 267.238875 \nL 275.027085 240.593717 \nL 275.788946 257.945021 \nL 276.550808 256.667578 \nL 277.312669 242.994425 \nL 278.074531 250.555213 \nL 278.836392 261.039148 \nL 279.598253 259.071934 \nL 280.360115 267.316252 \nL 281.121976 252.410585 \nL 282.645699 268.968005 \nL 283.407561 242.550034 \nL 284.169422 245.094121 \nL 284.931283 265.430207 \nL 285.693145 264.465441 \nL 286.455006 268.46419 \nL 287.216868 252.86736 \nL 287.978729 263.683077 \nL 288.740591 272.763519 \nL 289.502452 251.242055 \nL 291.026175 264.696084 \nL 291.788036 254.943775 \nL 292.549898 268.905172 \nL 293.311759 244.995816 \nL 294.07362 264.250733 \nL 294.835482 261.719175 \nL 295.597343 242.481009 \nL 296.359205 263.974537 \nL 297.121066 271.593981 \nL 297.882928 269.696128 \nL 298.644789 259.566294 \nL 299.40665 254.652603 \nL 300.168512 268.868164 \nL 301.692235 247.269562 \nL 302.454096 250.231976 \nL 303.215957 268.639008 \nL 303.977819 266.90167 \nL 304.73968 269.591583 \nL 305.501542 253.11226 \nL 306.263403 253.882959 \nL 307.025265 271.434859 \nL 307.787126 250.378378 \nL 308.548987 262.922409 \nL 309.310849 271.215832 \nL 310.07271 265.928071 \nL 310.834572 262.530531 \nL 311.596433 252.312087 \nL 312.358294 271.491884 \nL 313.120156 267.05076 \nL 313.882017 252.332104 \nL 314.643879 256.708618 \nL 315.40574 269.271994 \nL 316.167602 266.496304 \nL 316.929463 275.621435 \nL 317.691324 251.332584 \nL 318.453186 271.863266 \nL 319.215047 271.806577 \nL 319.976909 250.10103 \nL 321.500631 268.107352 \nL 322.262493 264.039626 \nL 323.024354 272.40289 \nL 323.786216 253.80203 \nL 324.548077 256.547768 \nL 325.309939 276.040961 \nL 326.0718 251.282232 \nL 326.833661 256.302772 \nL 327.595523 273.99349 \nL 328.357384 270.429676 \nL 329.119246 274.695933 \nL 329.881107 260.515028 \nL 330.642968 267.238155 \nL 331.40483 279.125536 \nL 332.166691 246.921077 \nL 332.928553 257.692873 \nL 333.690414 275.948176 \nL 334.452276 267.04356 \nL 335.214137 263.482482 \nL 335.975998 253.911568 \nL 336.73786 274.397656 \nL 337.499721 270.610974 \nL 338.261583 253.013042 \nL 339.023444 263.900184 \nL 339.785305 283.712918 \nL 340.547167 267.3127 \nL 341.309028 276.076722 \nL 342.07089 257.965566 \nL 342.832751 273.127221 \nL 343.594613 269.902436 \nL 344.356474 251.843168 \nL 345.118335 264.826358 \nL 345.880197 274.976785 \nL 346.642058 272.562348 \nL 347.40392 274.819727 \nL 348.165781 258.466645 \nL 348.927643 275.234597 \nL 349.689504 269.77413 \nL 350.451365 248.640175 \nL 351.213227 270.498797 \nL 351.975088 278.088336 \nL 352.73695 274.081955 \nL 353.498811 271.158423 \nL 354.260672 256.785228 \nL 355.022534 273.781375 \nL 355.784395 274.884048 \nL 356.546257 251.518251 \nL 358.06998 271.476236 \nL 358.831841 268.588368 \nL 359.593702 280.93646 \nL 360.355564 262.682069 \nL 361.117425 268.341308 \nL 361.879287 281.085358 \nL 362.641148 250.896162 \nL 363.403009 261.11547 \nL 364.164871 275.555146 \nL 364.926732 275.506809 \nL 365.688594 275.983456 \nL 366.450455 258.828283 \nL 367.212317 272.776143 \nL 367.974178 279.557879 \nL 368.736039 256.295188 \nL 369.497901 267.29854 \nL 370.259762 286.490241 \nL 371.021624 270.680816 \nL 371.783485 280.484773 \nL 372.545346 260.598982 \nL 373.307208 275.058434 \nL 374.069069 272.162022 \nL 374.830931 253.712653 \nL 375.592792 265.992056 \nL 376.354654 283.785207 \nL 377.116515 271.925666 \nL 377.878376 281.519957 \nL 378.640238 261.515316 \nL 379.402099 279.977213 \nL 380.163961 279.532631 \nL 380.925822 251.943346 \nL 381.687683 260.730936 \nL 382.449545 282.122606 \nL 383.211406 271.345866 \nL 383.973268 280.642503 \nL 384.735129 255.312757 \nL 386.258852 273.459098 \nL 387.020713 256.172546 \nL 387.782575 266.920438 \nL 388.544436 286.383487 \nL 389.306298 271.443883 \nL 390.068159 278.569688 \nL 390.83002 261.977851 \nL 391.591882 280.636023 \nL 392.353743 280.194993 \nL 393.115605 258.819355 \nL 393.877466 274.766734 \nL 394.639328 286.733172 \nL 395.401189 273.480602 \nL 396.16305 277.329205 \nL 396.924912 256.560392 \nL 397.686773 276.653403 \nL 398.448635 280.68244 \nL 399.210496 255.108178 \nL 399.972357 264.917992 \nL 400.734219 278.891341 \nL 401.49608 280.388724 \nL 402.257942 280.393044 \nL 403.019803 264.423968 \nL 403.781665 270.05383 \nL 404.543526 282.529508 \nL 405.305387 255.99936 \nL 406.067249 276.967135 \nL 406.82911 283.713638 \nL 407.590972 277.608905 \nL 408.352833 262.322448 \nL 409.114695 264.353695 \nL 409.876556 276.280677 \nL 410.638417 270.147383 \nL 411.400279 259.008813 \nL 412.16214 270.746385 \nL 412.924002 278.69977 \nL 413.685863 276.149635 \nL 414.447724 286.572706 \nL 415.209586 266.112106 \nL 415.971447 275.381959 \nL 416.733309 286.33011 \nL 417.49517 251.42681 \nL 418.257032 257.545175 \nL 419.018893 280.907996 \nL 419.780754 272.104757 \nL 420.542616 286.184812 \nL 421.304477 267.867397 \nL 422.8282 285.349071 \nL 423.590061 258.588087 \nL 424.351923 282.246688 \nL 425.113784 286.72938 \nL 425.875646 278.162354 \nL 426.637507 283.15035 \nL 427.399369 267.471343 \nL 428.16123 284.658389 \nL 428.923091 285.054923 \nL 429.684953 261.759687 \nL 430.446814 273.3666 \nL 431.208676 282.10475 \nL 431.970537 280.948508 \nL 432.732398 290.872516 \nL 433.49426 264.326239 \nL 434.256121 282.021228 \nL 435.017983 283.125293 \nL 435.779844 258.438997 \nL 436.541706 267.731891 \nL 437.303567 280.991901 \nL 438.065428 282.032941 \nL 438.82729 280.870603 \nL 439.589151 263.532354 \nL 440.351013 276.370726 \nL 441.112874 282.355986 \nL 441.874735 260.059309 \nL 442.636597 270.327194 \nL 443.398458 284.918313 \nL 444.16032 282.002988 \nL 444.922181 288.460863 \nL 445.684043 261.175615 \nL 446.445904 285.191005 \nL 447.207765 278.094481 \nL 447.969627 258.950733 \nL 448.731488 265.770533 \nL 449.49335 277.150306 \nL 450.255211 280.279282 \nL 451.017072 291.108439 \nL 451.778934 264.359263 \nL 452.540795 286.974328 \nL 453.302657 276.35599 \nL 454.064518 252.89088 \nL 454.82638 276.309429 \nL 455.588241 290.259882 \nL 456.350102 283.977354 \nL 457.111964 282.13259 \nL 457.873825 272.660174 \nL 458.635687 282.338321 \nL 459.397548 275.330262 \nL 460.159409 257.812011 \nL 461.683132 287.921142 \nL 462.444994 278.138737 \nL 463.206855 291.997101 \nL 463.968717 262.715814 \nL 464.730578 279.667945 \nL 465.492439 284.083292 \nL 466.254301 261.29144 \nL 467.778024 284.757558 \nL 468.539885 285.913704 \nL 469.301747 293.513636 \nL 470.063608 266.860389 \nL 470.825469 288.992279 \nL 471.587331 280.28053 \nL 472.349192 255.14125 \nL 473.111054 278.999918 \nL 473.872915 289.449918 \nL 474.634776 282.88553 \nL 475.396638 287.506752 \nL 476.158499 272.047012 \nL 476.920361 279.684985 \nL 477.682222 278.877277 \nL 478.444084 262.562116 \nL 479.205945 280.939868 \nL 479.967806 286.416752 \nL 480.729668 284.091452 \nL 481.491529 294.198966 \nL 482.253391 268.833219 \nL 483.015252 286.881255 \nL 483.777113 279.225138 \nL 484.538975 260.886026 \nL 485.300836 286.139691 \nL 486.062698 288.873957 \nL 486.824559 286.034282 \nL 487.586421 293.082325 \nL 488.348282 272.683166 \nL 489.110143 286.689348 \nL 489.872005 281.738216 \nL 490.633866 262.515699 \nL 491.395728 287.429903 \nL 492.157589 291.694672 \nL 492.91945 287.856629 \nL 493.681312 285.551346 \nL 494.443173 273.045716 \nL 495.205035 289.804691 \nL 495.966896 287.595314 \nL 496.728758 265.694211 \nL 497.490619 277.754491 \nL 498.25248 287.349454 \nL 499.014342 286.396447 \nL 499.776203 295.642516 \nL 500.538065 266.319181 \nL 501.299926 286.680132 \nL 502.061787 287.074554 \nL 502.823649 265.025177 \nL 503.58551 277.652154 \nL 504.347372 295.325015 \nL 505.109233 283.888793 \nL 505.871095 294.320984 \nL 506.632956 270.322058 \nL 507.394817 285.91764 \nL 508.156679 285.197101 \nL 508.91854 259.004253 \nL 509.680402 281.686471 \nL 510.442263 286.948456 \nL 511.204124 290.905372 \nL 511.965986 284.128605 \nL 512.727847 273.10418 \nL 513.489709 292.454836 \nL 514.25157 291.074863 \nL 515.013432 266.071065 \nL 515.775293 291.226233 \nL 516.537154 291.826506 \nL 517.299016 289.98527 \nL 518.060877 296.247421 \nL 518.822739 274.603675 \nL 519.5846 284.876936 \nL 520.346461 279.415365 \nL 521.108323 265.023737 \nL 521.870184 281.892683 \nL 522.632046 287.821157 \nL 523.393907 287.913318 \nL 524.155769 298.519488 \nL 524.91763 275.257205 \nL 525.679491 293.00082 \nL 526.441353 286.622051 \nL 527.203214 260.000317 \nL 527.965076 278.266515 \nL 528.726937 288.160138 \nL 529.488798 293.699639 \nL 530.25066 292.405467 \nL 531.012521 274.28471 \nL 531.774383 287.197387 \nL 532.536244 293.065861 \nL 533.298106 268.318795 \nL 534.059967 276.551401 \nL 534.821828 294.666877 \nL 535.58369 287.044985 \nL 536.345551 299.105769 \nL 537.107413 276.401399 \nL 537.869274 282.324833 \nL 538.631136 280.993965 \nL 539.392997 263.448401 \nL 540.154858 279.292771 \nL 540.91672 289.936933 \nL 541.678581 286.766389 \nL 542.440443 286.995208 \nL 543.202304 280.945388 \nL 543.964165 288.240059 \nL 544.726027 280.430052 \nL 545.487888 269.703857 \nL 546.24975 287.539729 \nL 547.011611 293.843041 \nL 547.773473 294.100133 \nL 548.535334 300.797723 \nL 549.297195 274.1049 \nL 550.059057 296.415616 \nL 550.820918 293.390418 \nL 551.58278 271.61131 \nL 552.344641 294.776199 \nL 553.106502 297.105339 \nL 553.868364 293.613957 \nL 554.630225 287.482224 \nL 555.392087 274.131588 \nL 556.153948 289.722754 \nL 556.91581 287.084394 \nL 557.677671 267.941462 \nL 558.439532 278.447574 \nL 559.201394 300.172513 \nL 559.963255 289.295211 \nL 560.725117 302.719912 \nL 561.486978 279.816267 \nL 562.248839 289.08108 \nL 563.010701 293.926442 \nL 563.772562 269.226345 \nL 564.534424 287.78002 \nL 565.296285 291.857059 \nL 566.058147 290.003318 \nL 566.820008 298.567681 \nL 567.581869 270.797409 \nL 568.343731 293.773848 \nL 569.105592 294.795039 \nL 569.867454 271.62979 \nL 570.629315 287.299869 \nL 571.391176 297.684611 \nL 572.153038 286.355551 \nL 572.914899 291.324802 \nL 573.676761 265.746676 \nL 574.438622 281.050654 \nL 575.200484 285.287966 \nL 575.962345 260.134047 \nL 576.724206 270.322826 \nL 577.486068 293.218815 \nL 578.247929 289.977158 \nL 579.009791 304.833384 \nL 579.771652 281.965356 \nL 580.533513 289.956326 \nL 581.295375 296.213125 \nL 582.057236 271.512668 \nL 582.819098 293.855377 \nL 583.580959 299.762491 \nL 584.342821 300.250107 \nL 585.104682 292.000917 \nL 585.866543 280.105711 \nL 586.628405 302.149952 \nL 587.390266 295.566387 \nL 588.152128 280.778346 \nL 588.913989 295.155429 \nL 589.67585 300.262347 \nL 590.437712 300.077952 \nL 591.199573 298.25582 \nL 591.961435 283.745991 \nL 592.723296 296.011258 \nL 593.485158 290.495182 \nL 594.247019 271.496204 \nL 595.00888 283.297232 \nL 595.770742 299.820164 \nL 596.532603 293.422698 \nL 597.294465 300.919597 \nL 598.056326 278.436438 \nL 598.818188 296.553474 \nL 599.580049 300.547927 \nL 600.34191 273.770671 \nL 601.103772 290.969021 \nL 601.865633 297.968944 \nL 602.627495 300.280083 \nL 603.389356 306.731117 \nL 604.151217 281.445172 \nL 604.913079 294.617989 \nL 605.67494 293.936978 \nL 606.436802 271.966899 \nL 607.198663 281.485972 \nL 607.960525 299.594657 \nL 608.722386 295.729062 \nL 609.484247 310.553416 \nL 610.246109 284.360496 \nL 611.769832 295.952529 \nL 612.531693 278.938237 \nL 613.293554 297.43436 \nL 614.055416 311.287443 \nL 614.817277 301.939156 \nL 615.579139 304.033212 \nL 616.341 286.105275 \nL 617.102862 299.468535 \nL 617.864723 298.562233 \nL 618.626584 267.444798 \nL 619.388446 282.223648 \nL 620.150307 299.859837 \nL 620.912169 297.172804 \nL 621.67403 305.296208 \nL 622.435891 278.60372 \nL 623.197753 290.067735 \nL 623.959614 296.78299 \nL 624.721476 270.060502 \nL 625.483337 295.884824 \nL 626.245199 303.525869 \nL 627.00706 296.984089 \nL 627.768921 310.0574 \nL 628.530783 284.50877 \nL 629.292644 290.181833 \nL 630.054506 287.172043 \nL 630.816367 246.262747 \nL 631.578228 257.070352 \nL 632.34009 254.663019 \nL 633.101951 280.741433 \nL 633.863813 298.295949 \nL 634.625674 276.157603 \nL 635.387536 294.267223 \nL 636.149397 294.404433 \nL 636.911258 274.503786 \nL 637.67312 292.225608 \nL 638.434981 296.649452 \nL 639.196843 305.145029 \nL 639.958704 310.394053 \nL 640.720565 287.079786 \nL 641.482427 300.278427 \nL 642.244288 300.788675 \nL 643.00615 277.412294 \nL 643.768011 299.425094 \nL 644.529873 296.11926 \nL 645.291734 295.043611 \nL 646.053595 310.377421 \nL 646.815457 285.935016 \nL 647.577318 302.920987 \nL 648.33918 297.056234 \nL 649.101041 279.991566 \nL 649.862902 305.8282 \nL 650.624764 311.991518 \nL 651.386625 307.032874 \nL 652.148487 310.029704 \nL 652.910348 290.506318 \nL 653.67221 301.81721 \nL 654.434071 298.188811 \nL 655.195932 285.131148 \nL 655.957794 308.042833 \nL 656.719655 301.101856 \nL 657.481517 304.803408 \nL 658.243378 316.780191 \nL 659.00524 284.318736 \nL 659.767101 307.386255 \nL 660.528962 299.898405 \nL 661.290824 282.326561 \nL 662.052685 305.667349 \nL 662.814547 301.595447 \nL 663.576408 303.541325 \nL 664.338269 314.474116 \nL 665.100131 288.252252 \nL 665.861992 307.491593 \nL 666.623854 303.169823 \nL 667.385715 285.617587 \nL 668.147577 306.496514 \nL 668.909438 311.956357 \nL 669.671299 311.09628 \nL 670.433161 314.627478 \nL 671.195022 294.278359 \nL 671.956884 308.636626 \nL 672.718745 300.654177 \nL 673.480606 284.697941 \nL 674.242468 308.578162 \nL 675.004329 314.569925 \nL 675.766191 312.091623 \nL 676.528052 318.534545 \nL 677.289914 295.859192 \nL 678.051775 313.112191 \nL 678.813636 304.892281 \nL 678.813636 304.892281 \n\" clip-path=\"url(#p3a44ddc3f0)\" style=\"fill: none; stroke: #1f77b4; stroke-width: 1.5; stroke-linecap: square\"/>\n   </g>\n   <g id=\"patch_3\">\n    <path d=\"M 39.65 333.36 \nL 39.65 7.2 \n\" style=\"fill: none; stroke: #000000; stroke-width: 0.8; stroke-linejoin: miter; stroke-linecap: square\"/>\n   </g>\n   <g id=\"patch_4\">\n    <path d=\"M 709.25 333.36 \nL 709.25 7.2 \n\" style=\"fill: none; stroke: #000000; stroke-width: 0.8; stroke-linejoin: miter; stroke-linecap: square\"/>\n   </g>\n   <g id=\"patch_5\">\n    <path d=\"M 39.65 333.36 \nL 709.25 333.36 \n\" style=\"fill: none; stroke: #000000; stroke-width: 0.8; stroke-linejoin: miter; stroke-linecap: square\"/>\n   </g>\n   <g id=\"patch_6\">\n    <path d=\"M 39.65 7.2 \nL 709.25 7.2 \n\" style=\"fill: none; stroke: #000000; stroke-width: 0.8; stroke-linejoin: miter; stroke-linecap: square\"/>\n   </g>\n  </g>\n </g>\n <defs>\n  <clipPath id=\"p3a44ddc3f0\">\n   <rect x=\"39.65\" y=\"7.2\" width=\"669.6\" height=\"326.16\"/>\n  </clipPath>\n </defs>\n</svg>\n",
      "text/plain": [
       "<Figure size 864x432 with 1 Axes>"
      ]
     },
     "metadata": {
      "needs_background": "light"
     },
     "output_type": "display_data"
    }
   ],
   "source": [
    "import matplotlib.pyplot as plt\n",
    "plt.figure(figsize=(12,6))\n",
    "plt.plot(h_batch_s.data['loss'])"
   ]
  },
  {
   "cell_type": "code",
   "execution_count": 56,
   "metadata": {},
   "outputs": [
    {
     "data": {
      "image/svg+xml": "<?xml version=\"1.0\" encoding=\"utf-8\" standalone=\"no\"?>\n<!DOCTYPE svg PUBLIC \"-//W3C//DTD SVG 1.1//EN\"\n  \"http://www.w3.org/Graphics/SVG/1.1/DTD/svg11.dtd\">\n<svg xmlns:xlink=\"http://www.w3.org/1999/xlink\" width=\"503.746875pt\" height=\"370.91625pt\" viewBox=\"0 0 503.746875 370.91625\" xmlns=\"http://www.w3.org/2000/svg\" version=\"1.1\">\n <metadata>\n  <rdf:RDF xmlns:dc=\"http://purl.org/dc/elements/1.1/\" xmlns:cc=\"http://creativecommons.org/ns#\" xmlns:rdf=\"http://www.w3.org/1999/02/22-rdf-syntax-ns#\">\n   <cc:Work>\n    <dc:type rdf:resource=\"http://purl.org/dc/dcmitype/StillImage\"/>\n    <dc:date>2022-06-23T16:43:50.270305</dc:date>\n    <dc:format>image/svg+xml</dc:format>\n    <dc:creator>\n     <cc:Agent>\n      <dc:title>Matplotlib v3.5.1, https://matplotlib.org/</dc:title>\n     </cc:Agent>\n    </dc:creator>\n   </cc:Work>\n  </rdf:RDF>\n </metadata>\n <defs>\n  <style type=\"text/css\">*{stroke-linejoin: round; stroke-linecap: butt}</style>\n </defs>\n <g id=\"figure_1\">\n  <g id=\"patch_1\">\n   <path d=\"M 0 370.91625 \nL 503.746875 370.91625 \nL 503.746875 0 \nL 0 0 \nL 0 370.91625 \nz\n\" style=\"fill: none\"/>\n  </g>\n  <g id=\"axes_1\">\n   <g id=\"patch_2\">\n    <path d=\"M 40.603125 333.36 \nL 487.003125 333.36 \nL 487.003125 7.2 \nL 40.603125 7.2 \nz\n\" style=\"fill: #ffffff\"/>\n   </g>\n   <g id=\"matplotlib.axis_1\">\n    <g id=\"xtick_1\">\n     <g id=\"line2d_1\">\n      <path d=\"M 122.594962 333.36 \nL 122.594962 7.2 \n\" clip-path=\"url(#pe2f75cee65)\" style=\"fill: none; stroke: #b0b0b0; stroke-width: 0.8; stroke-linecap: square\"/>\n     </g>\n     <g id=\"line2d_2\">\n      <defs>\n       <path id=\"med8dbff05b\" d=\"M 0 0 \nL 0 3.5 \n\" style=\"stroke: #000000; stroke-width: 0.8\"/>\n      </defs>\n      <g>\n       <use xlink:href=\"#med8dbff05b\" x=\"122.594962\" y=\"333.36\" style=\"stroke: #000000; stroke-width: 0.8\"/>\n      </g>\n     </g>\n     <g id=\"text_1\">\n      <!-- 100 -->\n      <g transform=\"translate(113.051212 347.958438)scale(0.1 -0.1)\">\n       <defs>\n        <path id=\"DejaVuSans-31\" d=\"M 794 531 \nL 1825 531 \nL 1825 4091 \nL 703 3866 \nL 703 4441 \nL 1819 4666 \nL 2450 4666 \nL 2450 531 \nL 3481 531 \nL 3481 0 \nL 794 0 \nL 794 531 \nz\n\" transform=\"scale(0.015625)\"/>\n        <path id=\"DejaVuSans-30\" d=\"M 2034 4250 \nQ 1547 4250 1301 3770 \nQ 1056 3291 1056 2328 \nQ 1056 1369 1301 889 \nQ 1547 409 2034 409 \nQ 2525 409 2770 889 \nQ 3016 1369 3016 2328 \nQ 3016 3291 2770 3770 \nQ 2525 4250 2034 4250 \nz\nM 2034 4750 \nQ 2819 4750 3233 4129 \nQ 3647 3509 3647 2328 \nQ 3647 1150 3233 529 \nQ 2819 -91 2034 -91 \nQ 1250 -91 836 529 \nQ 422 1150 422 2328 \nQ 422 3509 836 4129 \nQ 1250 4750 2034 4750 \nz\n\" transform=\"scale(0.015625)\"/>\n       </defs>\n       <use xlink:href=\"#DejaVuSans-31\"/>\n       <use xlink:href=\"#DejaVuSans-30\" x=\"63.623047\"/>\n       <use xlink:href=\"#DejaVuSans-30\" x=\"127.246094\"/>\n      </g>\n     </g>\n    </g>\n    <g id=\"xtick_2\">\n     <g id=\"line2d_3\">\n      <path d=\"M 213.697003 333.36 \nL 213.697003 7.2 \n\" clip-path=\"url(#pe2f75cee65)\" style=\"fill: none; stroke: #b0b0b0; stroke-width: 0.8; stroke-linecap: square\"/>\n     </g>\n     <g id=\"line2d_4\">\n      <g>\n       <use xlink:href=\"#med8dbff05b\" x=\"213.697003\" y=\"333.36\" style=\"stroke: #000000; stroke-width: 0.8\"/>\n      </g>\n     </g>\n     <g id=\"text_2\">\n      <!-- 200 -->\n      <g transform=\"translate(204.153253 347.958438)scale(0.1 -0.1)\">\n       <defs>\n        <path id=\"DejaVuSans-32\" d=\"M 1228 531 \nL 3431 531 \nL 3431 0 \nL 469 0 \nL 469 531 \nQ 828 903 1448 1529 \nQ 2069 2156 2228 2338 \nQ 2531 2678 2651 2914 \nQ 2772 3150 2772 3378 \nQ 2772 3750 2511 3984 \nQ 2250 4219 1831 4219 \nQ 1534 4219 1204 4116 \nQ 875 4013 500 3803 \nL 500 4441 \nQ 881 4594 1212 4672 \nQ 1544 4750 1819 4750 \nQ 2544 4750 2975 4387 \nQ 3406 4025 3406 3419 \nQ 3406 3131 3298 2873 \nQ 3191 2616 2906 2266 \nQ 2828 2175 2409 1742 \nQ 1991 1309 1228 531 \nz\n\" transform=\"scale(0.015625)\"/>\n       </defs>\n       <use xlink:href=\"#DejaVuSans-32\"/>\n       <use xlink:href=\"#DejaVuSans-30\" x=\"63.623047\"/>\n       <use xlink:href=\"#DejaVuSans-30\" x=\"127.246094\"/>\n      </g>\n     </g>\n    </g>\n    <g id=\"xtick_3\">\n     <g id=\"line2d_5\">\n      <path d=\"M 304.799043 333.36 \nL 304.799043 7.2 \n\" clip-path=\"url(#pe2f75cee65)\" style=\"fill: none; stroke: #b0b0b0; stroke-width: 0.8; stroke-linecap: square\"/>\n     </g>\n     <g id=\"line2d_6\">\n      <g>\n       <use xlink:href=\"#med8dbff05b\" x=\"304.799043\" y=\"333.36\" style=\"stroke: #000000; stroke-width: 0.8\"/>\n      </g>\n     </g>\n     <g id=\"text_3\">\n      <!-- 300 -->\n      <g transform=\"translate(295.255293 347.958438)scale(0.1 -0.1)\">\n       <defs>\n        <path id=\"DejaVuSans-33\" d=\"M 2597 2516 \nQ 3050 2419 3304 2112 \nQ 3559 1806 3559 1356 \nQ 3559 666 3084 287 \nQ 2609 -91 1734 -91 \nQ 1441 -91 1130 -33 \nQ 819 25 488 141 \nL 488 750 \nQ 750 597 1062 519 \nQ 1375 441 1716 441 \nQ 2309 441 2620 675 \nQ 2931 909 2931 1356 \nQ 2931 1769 2642 2001 \nQ 2353 2234 1838 2234 \nL 1294 2234 \nL 1294 2753 \nL 1863 2753 \nQ 2328 2753 2575 2939 \nQ 2822 3125 2822 3475 \nQ 2822 3834 2567 4026 \nQ 2313 4219 1838 4219 \nQ 1578 4219 1281 4162 \nQ 984 4106 628 3988 \nL 628 4550 \nQ 988 4650 1302 4700 \nQ 1616 4750 1894 4750 \nQ 2613 4750 3031 4423 \nQ 3450 4097 3450 3541 \nQ 3450 3153 3228 2886 \nQ 3006 2619 2597 2516 \nz\n\" transform=\"scale(0.015625)\"/>\n       </defs>\n       <use xlink:href=\"#DejaVuSans-33\"/>\n       <use xlink:href=\"#DejaVuSans-30\" x=\"63.623047\"/>\n       <use xlink:href=\"#DejaVuSans-30\" x=\"127.246094\"/>\n      </g>\n     </g>\n    </g>\n    <g id=\"xtick_4\">\n     <g id=\"line2d_7\">\n      <path d=\"M 395.901084 333.36 \nL 395.901084 7.2 \n\" clip-path=\"url(#pe2f75cee65)\" style=\"fill: none; stroke: #b0b0b0; stroke-width: 0.8; stroke-linecap: square\"/>\n     </g>\n     <g id=\"line2d_8\">\n      <g>\n       <use xlink:href=\"#med8dbff05b\" x=\"395.901084\" y=\"333.36\" style=\"stroke: #000000; stroke-width: 0.8\"/>\n      </g>\n     </g>\n     <g id=\"text_4\">\n      <!-- 400 -->\n      <g transform=\"translate(386.357334 347.958438)scale(0.1 -0.1)\">\n       <defs>\n        <path id=\"DejaVuSans-34\" d=\"M 2419 4116 \nL 825 1625 \nL 2419 1625 \nL 2419 4116 \nz\nM 2253 4666 \nL 3047 4666 \nL 3047 1625 \nL 3713 1625 \nL 3713 1100 \nL 3047 1100 \nL 3047 0 \nL 2419 0 \nL 2419 1100 \nL 313 1100 \nL 313 1709 \nL 2253 4666 \nz\n\" transform=\"scale(0.015625)\"/>\n       </defs>\n       <use xlink:href=\"#DejaVuSans-34\"/>\n       <use xlink:href=\"#DejaVuSans-30\" x=\"63.623047\"/>\n       <use xlink:href=\"#DejaVuSans-30\" x=\"127.246094\"/>\n      </g>\n     </g>\n    </g>\n    <g id=\"xtick_5\">\n     <g id=\"line2d_9\">\n      <path d=\"M 487.003125 333.36 \nL 487.003125 7.2 \n\" clip-path=\"url(#pe2f75cee65)\" style=\"fill: none; stroke: #b0b0b0; stroke-width: 0.8; stroke-linecap: square\"/>\n     </g>\n     <g id=\"line2d_10\">\n      <g>\n       <use xlink:href=\"#med8dbff05b\" x=\"487.003125\" y=\"333.36\" style=\"stroke: #000000; stroke-width: 0.8\"/>\n      </g>\n     </g>\n     <g id=\"text_5\">\n      <!-- 500 -->\n      <g transform=\"translate(477.459375 347.958438)scale(0.1 -0.1)\">\n       <defs>\n        <path id=\"DejaVuSans-35\" d=\"M 691 4666 \nL 3169 4666 \nL 3169 4134 \nL 1269 4134 \nL 1269 2991 \nQ 1406 3038 1543 3061 \nQ 1681 3084 1819 3084 \nQ 2600 3084 3056 2656 \nQ 3513 2228 3513 1497 \nQ 3513 744 3044 326 \nQ 2575 -91 1722 -91 \nQ 1428 -91 1123 -41 \nQ 819 9 494 109 \nL 494 744 \nQ 775 591 1075 516 \nQ 1375 441 1709 441 \nQ 2250 441 2565 725 \nQ 2881 1009 2881 1497 \nQ 2881 1984 2565 2268 \nQ 2250 2553 1709 2553 \nQ 1456 2553 1204 2497 \nQ 953 2441 691 2322 \nL 691 4666 \nz\n\" transform=\"scale(0.015625)\"/>\n       </defs>\n       <use xlink:href=\"#DejaVuSans-35\"/>\n       <use xlink:href=\"#DejaVuSans-30\" x=\"63.623047\"/>\n       <use xlink:href=\"#DejaVuSans-30\" x=\"127.246094\"/>\n      </g>\n     </g>\n    </g>\n    <g id=\"text_6\">\n     <!-- epoch -->\n     <g transform=\"translate(248.575 361.636562)scale(0.1 -0.1)\">\n      <defs>\n       <path id=\"DejaVuSans-65\" d=\"M 3597 1894 \nL 3597 1613 \nL 953 1613 \nQ 991 1019 1311 708 \nQ 1631 397 2203 397 \nQ 2534 397 2845 478 \nQ 3156 559 3463 722 \nL 3463 178 \nQ 3153 47 2828 -22 \nQ 2503 -91 2169 -91 \nQ 1331 -91 842 396 \nQ 353 884 353 1716 \nQ 353 2575 817 3079 \nQ 1281 3584 2069 3584 \nQ 2775 3584 3186 3129 \nQ 3597 2675 3597 1894 \nz\nM 3022 2063 \nQ 3016 2534 2758 2815 \nQ 2500 3097 2075 3097 \nQ 1594 3097 1305 2825 \nQ 1016 2553 972 2059 \nL 3022 2063 \nz\n\" transform=\"scale(0.015625)\"/>\n       <path id=\"DejaVuSans-70\" d=\"M 1159 525 \nL 1159 -1331 \nL 581 -1331 \nL 581 3500 \nL 1159 3500 \nL 1159 2969 \nQ 1341 3281 1617 3432 \nQ 1894 3584 2278 3584 \nQ 2916 3584 3314 3078 \nQ 3713 2572 3713 1747 \nQ 3713 922 3314 415 \nQ 2916 -91 2278 -91 \nQ 1894 -91 1617 61 \nQ 1341 213 1159 525 \nz\nM 3116 1747 \nQ 3116 2381 2855 2742 \nQ 2594 3103 2138 3103 \nQ 1681 3103 1420 2742 \nQ 1159 2381 1159 1747 \nQ 1159 1113 1420 752 \nQ 1681 391 2138 391 \nQ 2594 391 2855 752 \nQ 3116 1113 3116 1747 \nz\n\" transform=\"scale(0.015625)\"/>\n       <path id=\"DejaVuSans-6f\" d=\"M 1959 3097 \nQ 1497 3097 1228 2736 \nQ 959 2375 959 1747 \nQ 959 1119 1226 758 \nQ 1494 397 1959 397 \nQ 2419 397 2687 759 \nQ 2956 1122 2956 1747 \nQ 2956 2369 2687 2733 \nQ 2419 3097 1959 3097 \nz\nM 1959 3584 \nQ 2709 3584 3137 3096 \nQ 3566 2609 3566 1747 \nQ 3566 888 3137 398 \nQ 2709 -91 1959 -91 \nQ 1206 -91 779 398 \nQ 353 888 353 1747 \nQ 353 2609 779 3096 \nQ 1206 3584 1959 3584 \nz\n\" transform=\"scale(0.015625)\"/>\n       <path id=\"DejaVuSans-63\" d=\"M 3122 3366 \nL 3122 2828 \nQ 2878 2963 2633 3030 \nQ 2388 3097 2138 3097 \nQ 1578 3097 1268 2742 \nQ 959 2388 959 1747 \nQ 959 1106 1268 751 \nQ 1578 397 2138 397 \nQ 2388 397 2633 464 \nQ 2878 531 3122 666 \nL 3122 134 \nQ 2881 22 2623 -34 \nQ 2366 -91 2075 -91 \nQ 1284 -91 818 406 \nQ 353 903 353 1747 \nQ 353 2603 823 3093 \nQ 1294 3584 2113 3584 \nQ 2378 3584 2631 3529 \nQ 2884 3475 3122 3366 \nz\n\" transform=\"scale(0.015625)\"/>\n       <path id=\"DejaVuSans-68\" d=\"M 3513 2113 \nL 3513 0 \nL 2938 0 \nL 2938 2094 \nQ 2938 2591 2744 2837 \nQ 2550 3084 2163 3084 \nQ 1697 3084 1428 2787 \nQ 1159 2491 1159 1978 \nL 1159 0 \nL 581 0 \nL 581 4863 \nL 1159 4863 \nL 1159 2956 \nQ 1366 3272 1645 3428 \nQ 1925 3584 2291 3584 \nQ 2894 3584 3203 3211 \nQ 3513 2838 3513 2113 \nz\n\" transform=\"scale(0.015625)\"/>\n      </defs>\n      <use xlink:href=\"#DejaVuSans-65\"/>\n      <use xlink:href=\"#DejaVuSans-70\" x=\"61.523438\"/>\n      <use xlink:href=\"#DejaVuSans-6f\" x=\"125\"/>\n      <use xlink:href=\"#DejaVuSans-63\" x=\"186.181641\"/>\n      <use xlink:href=\"#DejaVuSans-68\" x=\"241.162109\"/>\n     </g>\n    </g>\n   </g>\n   <g id=\"matplotlib.axis_2\">\n    <g id=\"ytick_1\">\n     <g id=\"line2d_11\">\n      <path d=\"M 40.603125 295.864489 \nL 487.003125 295.864489 \n\" clip-path=\"url(#pe2f75cee65)\" style=\"fill: none; stroke: #b0b0b0; stroke-width: 0.8; stroke-linecap: square\"/>\n     </g>\n     <g id=\"line2d_12\">\n      <defs>\n       <path id=\"mbca00a54ed\" d=\"M 0 0 \nL -3.5 0 \n\" style=\"stroke: #000000; stroke-width: 0.8\"/>\n      </defs>\n      <g>\n       <use xlink:href=\"#mbca00a54ed\" x=\"40.603125\" y=\"295.864489\" style=\"stroke: #000000; stroke-width: 0.8\"/>\n      </g>\n     </g>\n     <g id=\"text_7\">\n      <!-- 2 -->\n      <g transform=\"translate(27.240625 299.663707)scale(0.1 -0.1)\">\n       <use xlink:href=\"#DejaVuSans-32\"/>\n      </g>\n     </g>\n    </g>\n    <g id=\"ytick_2\">\n     <g id=\"line2d_13\">\n      <path d=\"M 40.603125 249.139737 \nL 487.003125 249.139737 \n\" clip-path=\"url(#pe2f75cee65)\" style=\"fill: none; stroke: #b0b0b0; stroke-width: 0.8; stroke-linecap: square\"/>\n     </g>\n     <g id=\"line2d_14\">\n      <g>\n       <use xlink:href=\"#mbca00a54ed\" x=\"40.603125\" y=\"249.139737\" style=\"stroke: #000000; stroke-width: 0.8\"/>\n      </g>\n     </g>\n     <g id=\"text_8\">\n      <!-- 4 -->\n      <g transform=\"translate(27.240625 252.938956)scale(0.1 -0.1)\">\n       <use xlink:href=\"#DejaVuSans-34\"/>\n      </g>\n     </g>\n    </g>\n    <g id=\"ytick_3\">\n     <g id=\"line2d_15\">\n      <path d=\"M 40.603125 202.414985 \nL 487.003125 202.414985 \n\" clip-path=\"url(#pe2f75cee65)\" style=\"fill: none; stroke: #b0b0b0; stroke-width: 0.8; stroke-linecap: square\"/>\n     </g>\n     <g id=\"line2d_16\">\n      <g>\n       <use xlink:href=\"#mbca00a54ed\" x=\"40.603125\" y=\"202.414985\" style=\"stroke: #000000; stroke-width: 0.8\"/>\n      </g>\n     </g>\n     <g id=\"text_9\">\n      <!-- 6 -->\n      <g transform=\"translate(27.240625 206.214204)scale(0.1 -0.1)\">\n       <defs>\n        <path id=\"DejaVuSans-36\" d=\"M 2113 2584 \nQ 1688 2584 1439 2293 \nQ 1191 2003 1191 1497 \nQ 1191 994 1439 701 \nQ 1688 409 2113 409 \nQ 2538 409 2786 701 \nQ 3034 994 3034 1497 \nQ 3034 2003 2786 2293 \nQ 2538 2584 2113 2584 \nz\nM 3366 4563 \nL 3366 3988 \nQ 3128 4100 2886 4159 \nQ 2644 4219 2406 4219 \nQ 1781 4219 1451 3797 \nQ 1122 3375 1075 2522 \nQ 1259 2794 1537 2939 \nQ 1816 3084 2150 3084 \nQ 2853 3084 3261 2657 \nQ 3669 2231 3669 1497 \nQ 3669 778 3244 343 \nQ 2819 -91 2113 -91 \nQ 1303 -91 875 529 \nQ 447 1150 447 2328 \nQ 447 3434 972 4092 \nQ 1497 4750 2381 4750 \nQ 2619 4750 2861 4703 \nQ 3103 4656 3366 4563 \nz\n\" transform=\"scale(0.015625)\"/>\n       </defs>\n       <use xlink:href=\"#DejaVuSans-36\"/>\n      </g>\n     </g>\n    </g>\n    <g id=\"ytick_4\">\n     <g id=\"line2d_17\">\n      <path d=\"M 40.603125 155.690234 \nL 487.003125 155.690234 \n\" clip-path=\"url(#pe2f75cee65)\" style=\"fill: none; stroke: #b0b0b0; stroke-width: 0.8; stroke-linecap: square\"/>\n     </g>\n     <g id=\"line2d_18\">\n      <g>\n       <use xlink:href=\"#mbca00a54ed\" x=\"40.603125\" y=\"155.690234\" style=\"stroke: #000000; stroke-width: 0.8\"/>\n      </g>\n     </g>\n     <g id=\"text_10\">\n      <!-- 8 -->\n      <g transform=\"translate(27.240625 159.489453)scale(0.1 -0.1)\">\n       <defs>\n        <path id=\"DejaVuSans-38\" d=\"M 2034 2216 \nQ 1584 2216 1326 1975 \nQ 1069 1734 1069 1313 \nQ 1069 891 1326 650 \nQ 1584 409 2034 409 \nQ 2484 409 2743 651 \nQ 3003 894 3003 1313 \nQ 3003 1734 2745 1975 \nQ 2488 2216 2034 2216 \nz\nM 1403 2484 \nQ 997 2584 770 2862 \nQ 544 3141 544 3541 \nQ 544 4100 942 4425 \nQ 1341 4750 2034 4750 \nQ 2731 4750 3128 4425 \nQ 3525 4100 3525 3541 \nQ 3525 3141 3298 2862 \nQ 3072 2584 2669 2484 \nQ 3125 2378 3379 2068 \nQ 3634 1759 3634 1313 \nQ 3634 634 3220 271 \nQ 2806 -91 2034 -91 \nQ 1263 -91 848 271 \nQ 434 634 434 1313 \nQ 434 1759 690 2068 \nQ 947 2378 1403 2484 \nz\nM 1172 3481 \nQ 1172 3119 1398 2916 \nQ 1625 2713 2034 2713 \nQ 2441 2713 2670 2916 \nQ 2900 3119 2900 3481 \nQ 2900 3844 2670 4047 \nQ 2441 4250 2034 4250 \nQ 1625 4250 1398 4047 \nQ 1172 3844 1172 3481 \nz\n\" transform=\"scale(0.015625)\"/>\n       </defs>\n       <use xlink:href=\"#DejaVuSans-38\"/>\n      </g>\n     </g>\n    </g>\n    <g id=\"ytick_5\">\n     <g id=\"line2d_19\">\n      <path d=\"M 40.603125 108.965482 \nL 487.003125 108.965482 \n\" clip-path=\"url(#pe2f75cee65)\" style=\"fill: none; stroke: #b0b0b0; stroke-width: 0.8; stroke-linecap: square\"/>\n     </g>\n     <g id=\"line2d_20\">\n      <g>\n       <use xlink:href=\"#mbca00a54ed\" x=\"40.603125\" y=\"108.965482\" style=\"stroke: #000000; stroke-width: 0.8\"/>\n      </g>\n     </g>\n     <g id=\"text_11\">\n      <!-- 10 -->\n      <g transform=\"translate(20.878125 112.764701)scale(0.1 -0.1)\">\n       <use xlink:href=\"#DejaVuSans-31\"/>\n       <use xlink:href=\"#DejaVuSans-30\" x=\"63.623047\"/>\n      </g>\n     </g>\n    </g>\n    <g id=\"ytick_6\">\n     <g id=\"line2d_21\">\n      <path d=\"M 40.603125 62.240731 \nL 487.003125 62.240731 \n\" clip-path=\"url(#pe2f75cee65)\" style=\"fill: none; stroke: #b0b0b0; stroke-width: 0.8; stroke-linecap: square\"/>\n     </g>\n     <g id=\"line2d_22\">\n      <g>\n       <use xlink:href=\"#mbca00a54ed\" x=\"40.603125\" y=\"62.240731\" style=\"stroke: #000000; stroke-width: 0.8\"/>\n      </g>\n     </g>\n     <g id=\"text_12\">\n      <!-- 12 -->\n      <g transform=\"translate(20.878125 66.03995)scale(0.1 -0.1)\">\n       <use xlink:href=\"#DejaVuSans-31\"/>\n       <use xlink:href=\"#DejaVuSans-32\" x=\"63.623047\"/>\n      </g>\n     </g>\n    </g>\n    <g id=\"ytick_7\">\n     <g id=\"line2d_23\">\n      <path d=\"M 40.603125 15.515979 \nL 487.003125 15.515979 \n\" clip-path=\"url(#pe2f75cee65)\" style=\"fill: none; stroke: #b0b0b0; stroke-width: 0.8; stroke-linecap: square\"/>\n     </g>\n     <g id=\"line2d_24\">\n      <g>\n       <use xlink:href=\"#mbca00a54ed\" x=\"40.603125\" y=\"15.515979\" style=\"stroke: #000000; stroke-width: 0.8\"/>\n      </g>\n     </g>\n     <g id=\"text_13\">\n      <!-- 14 -->\n      <g transform=\"translate(20.878125 19.315198)scale(0.1 -0.1)\">\n       <use xlink:href=\"#DejaVuSans-31\"/>\n       <use xlink:href=\"#DejaVuSans-34\" x=\"63.623047\"/>\n      </g>\n     </g>\n    </g>\n    <g id=\"text_14\">\n     <!-- perplexity -->\n     <g transform=\"translate(14.798438 195.406562)rotate(-90)scale(0.1 -0.1)\">\n      <defs>\n       <path id=\"DejaVuSans-72\" d=\"M 2631 2963 \nQ 2534 3019 2420 3045 \nQ 2306 3072 2169 3072 \nQ 1681 3072 1420 2755 \nQ 1159 2438 1159 1844 \nL 1159 0 \nL 581 0 \nL 581 3500 \nL 1159 3500 \nL 1159 2956 \nQ 1341 3275 1631 3429 \nQ 1922 3584 2338 3584 \nQ 2397 3584 2469 3576 \nQ 2541 3569 2628 3553 \nL 2631 2963 \nz\n\" transform=\"scale(0.015625)\"/>\n       <path id=\"DejaVuSans-6c\" d=\"M 603 4863 \nL 1178 4863 \nL 1178 0 \nL 603 0 \nL 603 4863 \nz\n\" transform=\"scale(0.015625)\"/>\n       <path id=\"DejaVuSans-78\" d=\"M 3513 3500 \nL 2247 1797 \nL 3578 0 \nL 2900 0 \nL 1881 1375 \nL 863 0 \nL 184 0 \nL 1544 1831 \nL 300 3500 \nL 978 3500 \nL 1906 2253 \nL 2834 3500 \nL 3513 3500 \nz\n\" transform=\"scale(0.015625)\"/>\n       <path id=\"DejaVuSans-69\" d=\"M 603 3500 \nL 1178 3500 \nL 1178 0 \nL 603 0 \nL 603 3500 \nz\nM 603 4863 \nL 1178 4863 \nL 1178 4134 \nL 603 4134 \nL 603 4863 \nz\n\" transform=\"scale(0.015625)\"/>\n       <path id=\"DejaVuSans-74\" d=\"M 1172 4494 \nL 1172 3500 \nL 2356 3500 \nL 2356 3053 \nL 1172 3053 \nL 1172 1153 \nQ 1172 725 1289 603 \nQ 1406 481 1766 481 \nL 2356 481 \nL 2356 0 \nL 1766 0 \nQ 1100 0 847 248 \nQ 594 497 594 1153 \nL 594 3053 \nL 172 3053 \nL 172 3500 \nL 594 3500 \nL 594 4494 \nL 1172 4494 \nz\n\" transform=\"scale(0.015625)\"/>\n       <path id=\"DejaVuSans-79\" d=\"M 2059 -325 \nQ 1816 -950 1584 -1140 \nQ 1353 -1331 966 -1331 \nL 506 -1331 \nL 506 -850 \nL 844 -850 \nQ 1081 -850 1212 -737 \nQ 1344 -625 1503 -206 \nL 1606 56 \nL 191 3500 \nL 800 3500 \nL 1894 763 \nL 2988 3500 \nL 3597 3500 \nL 2059 -325 \nz\n\" transform=\"scale(0.015625)\"/>\n      </defs>\n      <use xlink:href=\"#DejaVuSans-70\"/>\n      <use xlink:href=\"#DejaVuSans-65\" x=\"63.476562\"/>\n      <use xlink:href=\"#DejaVuSans-72\" x=\"125\"/>\n      <use xlink:href=\"#DejaVuSans-70\" x=\"166.113281\"/>\n      <use xlink:href=\"#DejaVuSans-6c\" x=\"229.589844\"/>\n      <use xlink:href=\"#DejaVuSans-65\" x=\"257.373047\"/>\n      <use xlink:href=\"#DejaVuSans-78\" x=\"317.146484\"/>\n      <use xlink:href=\"#DejaVuSans-69\" x=\"376.326172\"/>\n      <use xlink:href=\"#DejaVuSans-74\" x=\"404.109375\"/>\n      <use xlink:href=\"#DejaVuSans-79\" x=\"443.318359\"/>\n     </g>\n    </g>\n   </g>\n   <g id=\"line2d_25\">\n    <path d=\"M 40.603125 22.025455 \nL 49.713329 93.192694 \nL 58.823533 119.480704 \nL 67.933737 131.200663 \nL 77.043941 141.4672 \nL 86.154145 150.023018 \nL 95.264349 156.927455 \nL 104.374554 159.096671 \nL 113.484758 164.698136 \nL 122.594962 168.964857 \nL 131.705166 175.000205 \nL 140.81537 176.772787 \nL 149.925574 184.890643 \nL 159.035778 194.890441 \nL 168.145982 204.083299 \nL 177.256186 215.536221 \nL 186.36639 230.087669 \nL 195.476594 246.831318 \nL 204.586798 259.830098 \nL 213.697003 268.497312 \nL 222.807207 281.599424 \nL 231.917411 288.036319 \nL 241.027615 295.580825 \nL 250.137819 303.453027 \nL 259.248023 304.391674 \nL 268.358227 307.748226 \nL 277.468431 310.444684 \nL 286.578635 310.306993 \nL 295.688839 311.783254 \nL 304.799043 312.676328 \nL 313.909247 312.853148 \nL 323.019452 314.13212 \nL 332.129656 316.266079 \nL 341.23986 317.146729 \nL 350.350064 316.645771 \nL 359.460268 317.426769 \nL 368.570472 316.512117 \nL 377.680676 318.230637 \nL 386.79088 317.915947 \nL 395.901084 317.762201 \nL 405.011288 317.928063 \nL 414.121492 318.084085 \nL 423.231696 318.09637 \nL 432.341901 318.448037 \nL 441.452105 318.534545 \nL 450.562309 318.271051 \nL 459.672513 318.0561 \nL 468.782717 318.280014 \nL 477.892921 318.454565 \nL 487.003125 318.413243 \n\" clip-path=\"url(#pe2f75cee65)\" style=\"fill: none; stroke: #1f77b4; stroke-width: 1.5; stroke-linecap: square\"/>\n   </g>\n   <g id=\"patch_3\">\n    <path d=\"M 40.603125 333.36 \nL 40.603125 7.2 \n\" style=\"fill: none; stroke: #000000; stroke-width: 0.8; stroke-linejoin: miter; stroke-linecap: square\"/>\n   </g>\n   <g id=\"patch_4\">\n    <path d=\"M 487.003125 333.36 \nL 487.003125 7.2 \n\" style=\"fill: none; stroke: #000000; stroke-width: 0.8; stroke-linejoin: miter; stroke-linecap: square\"/>\n   </g>\n   <g id=\"patch_5\">\n    <path d=\"M 40.603125 333.36 \nL 487.003125 333.36 \n\" style=\"fill: none; stroke: #000000; stroke-width: 0.8; stroke-linejoin: miter; stroke-linecap: square\"/>\n   </g>\n   <g id=\"patch_6\">\n    <path d=\"M 40.603125 7.2 \nL 487.003125 7.2 \n\" style=\"fill: none; stroke: #000000; stroke-width: 0.8; stroke-linejoin: miter; stroke-linecap: square\"/>\n   </g>\n   <g id=\"legend_1\">\n    <g id=\"patch_7\">\n     <path d=\"M 424.728125 29.878125 \nL 480.003125 29.878125 \nQ 482.003125 29.878125 482.003125 27.878125 \nL 482.003125 14.2 \nQ 482.003125 12.2 480.003125 12.2 \nL 424.728125 12.2 \nQ 422.728125 12.2 422.728125 14.2 \nL 422.728125 27.878125 \nQ 422.728125 29.878125 424.728125 29.878125 \nz\n\" style=\"fill: #ffffff; opacity: 0.8; stroke: #cccccc; stroke-linejoin: miter\"/>\n    </g>\n    <g id=\"line2d_26\">\n     <path d=\"M 426.728125 20.298437 \nL 436.728125 20.298437 \nL 446.728125 20.298437 \n\" style=\"fill: none; stroke: #1f77b4; stroke-width: 1.5; stroke-linecap: square\"/>\n    </g>\n    <g id=\"text_15\">\n     <!-- train -->\n     <g transform=\"translate(454.728125 23.798437)scale(0.1 -0.1)\">\n      <defs>\n       <path id=\"DejaVuSans-61\" d=\"M 2194 1759 \nQ 1497 1759 1228 1600 \nQ 959 1441 959 1056 \nQ 959 750 1161 570 \nQ 1363 391 1709 391 \nQ 2188 391 2477 730 \nQ 2766 1069 2766 1631 \nL 2766 1759 \nL 2194 1759 \nz\nM 3341 1997 \nL 3341 0 \nL 2766 0 \nL 2766 531 \nQ 2569 213 2275 61 \nQ 1981 -91 1556 -91 \nQ 1019 -91 701 211 \nQ 384 513 384 1019 \nQ 384 1609 779 1909 \nQ 1175 2209 1959 2209 \nL 2766 2209 \nL 2766 2266 \nQ 2766 2663 2505 2880 \nQ 2244 3097 1772 3097 \nQ 1472 3097 1187 3025 \nQ 903 2953 641 2809 \nL 641 3341 \nQ 956 3463 1253 3523 \nQ 1550 3584 1831 3584 \nQ 2591 3584 2966 3190 \nQ 3341 2797 3341 1997 \nz\n\" transform=\"scale(0.015625)\"/>\n       <path id=\"DejaVuSans-6e\" d=\"M 3513 2113 \nL 3513 0 \nL 2938 0 \nL 2938 2094 \nQ 2938 2591 2744 2837 \nQ 2550 3084 2163 3084 \nQ 1697 3084 1428 2787 \nQ 1159 2491 1159 1978 \nL 1159 0 \nL 581 0 \nL 581 3500 \nL 1159 3500 \nL 1159 2956 \nQ 1366 3272 1645 3428 \nQ 1925 3584 2291 3584 \nQ 2894 3584 3203 3211 \nQ 3513 2838 3513 2113 \nz\n\" transform=\"scale(0.015625)\"/>\n      </defs>\n      <use xlink:href=\"#DejaVuSans-74\"/>\n      <use xlink:href=\"#DejaVuSans-72\" x=\"39.208984\"/>\n      <use xlink:href=\"#DejaVuSans-61\" x=\"80.322266\"/>\n      <use xlink:href=\"#DejaVuSans-69\" x=\"141.601562\"/>\n      <use xlink:href=\"#DejaVuSans-6e\" x=\"169.384766\"/>\n     </g>\n    </g>\n   </g>\n  </g>\n </g>\n <defs>\n  <clipPath id=\"pe2f75cee65\">\n   <rect x=\"40.603125\" y=\"7.2\" width=\"446.4\" height=\"326.16\"/>\n  </clipPath>\n </defs>\n</svg>\n",
      "text/plain": [
       "<Figure size 576x432 with 1 Axes>"
      ]
     },
     "metadata": {
      "needs_background": "light"
     },
     "output_type": "display_data"
    }
   ],
   "source": [
    "\n",
    "num_epochs, lr = 500, 1\n",
    "net0 = RNNModelScratch(n_tokens, num_hiddens, init_params, device=try_gpu())\n",
    "h_train, h_batch = train(net0, train_iter, vocab, lr, num_epochs, use_random_iter=False, device=try_gpu())"
   ]
  },
  {
   "cell_type": "code",
   "execution_count": 57,
   "metadata": {},
   "outputs": [
    {
     "data": {
      "text/plain": [
       "[24.773557352592096,\n",
       " 19.732749923945605,\n",
       " 17.80681700890508,\n",
       " 17.55621473760177,\n",
       " 17.17190201649287,\n",
       " 16.675097101716382,\n",
       " 16.127343850977226,\n",
       " 15.249406151921615,\n",
       " 14.453520024177497,\n",
       " 13.721369294031124,\n",
       " 12.97063934265342,\n",
       " 12.413398171265824,\n",
       " 12.058755647683265,\n",
       " 11.642367202035127,\n",
       " 11.532566499212646,\n",
       " 11.23439709197599,\n",
       " 11.094952401870117,\n",
       " 10.984134902005978,\n",
       " 10.64329919449574,\n",
       " 10.675136320174868,\n",
       " 10.421111337631022,\n",
       " 10.46985517245395,\n",
       " 10.33837434361036,\n",
       " 10.181127982862801,\n",
       " 10.042703195752415,\n",
       " 10.060131334902163,\n",
       " 9.9140180796363,\n",
       " 9.727666268313657,\n",
       " 9.818644729198429,\n",
       " 9.549907864758278,\n",
       " 9.535632858517314,\n",
       " 9.426984969712306,\n",
       " 9.35823931731242,\n",
       " 9.291658255422773,\n",
       " 9.194078108678024,\n",
       " 9.232500769978378,\n",
       " 9.102558967260407,\n",
       " 9.108312951045704,\n",
       " 8.992518763864712,\n",
       " 9.048248322412999,\n",
       " 8.942635549395769,\n",
       " 8.819788324199433,\n",
       " 8.887354647710376,\n",
       " 8.831002590484259,\n",
       " 8.782163997741632,\n",
       " 8.732893549026246,\n",
       " 8.696234158765018,\n",
       " 8.715699210670463,\n",
       " 8.637992096577529,\n",
       " 8.608800835772898,\n",
       " 8.588984744425481,\n",
       " 8.478413821039288,\n",
       " 8.400835410918772,\n",
       " 8.458086909777824,\n",
       " 8.32476866401064,\n",
       " 8.505005663324296,\n",
       " 8.271003920051141,\n",
       " 8.336292074850745,\n",
       " 8.323600455142532,\n",
       " 8.242578746124147,\n",
       " 8.30110681705672,\n",
       " 8.234746298992425,\n",
       " 8.168183032111006,\n",
       " 8.213066007423661,\n",
       " 8.092464282097547,\n",
       " 8.213797897670585,\n",
       " 8.077201511809605,\n",
       " 8.064803638290977,\n",
       " 8.100074734802062,\n",
       " 7.947042142007187,\n",
       " 8.053499741001401,\n",
       " 8.002763078840704,\n",
       " 7.993242066027075,\n",
       " 7.920621621606119,\n",
       " 7.934516302907413,\n",
       " 7.921086423441116,\n",
       " 7.9682431851480615,\n",
       " 7.851439220553194,\n",
       " 7.845102140845372,\n",
       " 7.854191321385471,\n",
       " 7.81687571026029,\n",
       " 7.810855753402061,\n",
       " 7.80059322268631,\n",
       " 7.713336462685938,\n",
       " 7.8202719716312705,\n",
       " 7.718874077598779,\n",
       " 7.633107389460939,\n",
       " 7.760100277143565,\n",
       " 7.607581949231334,\n",
       " 7.614426978577325,\n",
       " 7.606910423538709,\n",
       " 7.706632305089272,\n",
       " 7.590299876657427,\n",
       " 7.575583008327927,\n",
       " 7.502815755036877,\n",
       " 7.590352017910506,\n",
       " 7.614756824999029,\n",
       " 7.454202231817027,\n",
       " 7.460972403950534,\n",
       " 7.431794795059918,\n",
       " 7.454396284584831,\n",
       " 7.401220649071615,\n",
       " 7.350744902818668,\n",
       " 7.346515235375442,\n",
       " 7.4620235467882745,\n",
       " 7.388835450771091,\n",
       " 7.409184769114096,\n",
       " 7.364110516082789,\n",
       " 7.274612571132257,\n",
       " 7.173458575164237,\n",
       " 7.215238486786503,\n",
       " 7.1399248465288725,\n",
       " 7.1342953572644285,\n",
       " 7.022230477138636,\n",
       " 7.265535713222353,\n",
       " 7.181674465500136,\n",
       " 6.9829855722132645,\n",
       " 7.090819131304898,\n",
       " 6.9379155567045165,\n",
       " 7.097585217760504,\n",
       " 6.820039411066745,\n",
       " 7.005481915648545,\n",
       " 7.004732750005095,\n",
       " 6.776955841856778,\n",
       " 6.7114079505108615,\n",
       " 6.616853641864425,\n",
       " 6.624418124281313,\n",
       " 6.704406960247731,\n",
       " 6.930128057356554,\n",
       " 6.750109609779511,\n",
       " 6.472359254940501,\n",
       " 6.879759408117304,\n",
       " 6.444507974496385,\n",
       " 6.447244084316641,\n",
       " 6.659745884820669,\n",
       " 6.421202571899279,\n",
       " 6.316062570035309,\n",
       " 6.345230870290491,\n",
       " 6.462323577230855,\n",
       " 6.32207958338191,\n",
       " 6.3133801559925296,\n",
       " 6.007577502591232,\n",
       " 6.262861814893568,\n",
       " 6.00219574137256,\n",
       " 6.108180107462378,\n",
       " 6.068463143363154,\n",
       " 5.915813312792721,\n",
       " 6.071352978584995,\n",
       " 5.7368457814854,\n",
       " 5.928589718614323,\n",
       " 5.924781244432576,\n",
       " 5.815998271823937,\n",
       " 5.906824275883979,\n",
       " 5.83634348701968,\n",
       " 5.724278811880696,\n",
       " 5.465992059223299,\n",
       " 5.658440316059138,\n",
       " 5.508618322728906,\n",
       " 5.571940856570391,\n",
       " 5.4383603855027856,\n",
       " 5.5363871881926645,\n",
       " 5.327252851141961,\n",
       " 5.1954140373507,\n",
       " 5.144127783038145,\n",
       " 5.142453560334406,\n",
       " 5.081975613864188,\n",
       " 4.971821365911426,\n",
       " 5.0410809220268975,\n",
       " 4.942634620785176,\n",
       " 4.8155021618690546,\n",
       " 4.693757271896424,\n",
       " 4.6546126459294035,\n",
       " 4.627576833239726,\n",
       " 4.52011495747728,\n",
       " 4.520727727094239,\n",
       " 4.419591486342393,\n",
       " 4.338985753498599,\n",
       " 4.3269847191194755,\n",
       " 4.185290382655525,\n",
       " 4.098809257383142,\n",
       " 4.1654707455355515,\n",
       " 3.980165839190394,\n",
       " 3.9182053928157794,\n",
       " 3.9454796436444046,\n",
       " 3.7777548370135543,\n",
       " 3.8796494783092603,\n",
       " 3.757118518567231,\n",
       " 3.6114840120847886,\n",
       " 3.607891637151352,\n",
       " 3.5424112048869962,\n",
       " 3.525076854937931,\n",
       " 3.4801285220056015,\n",
       " 3.3470496244544354,\n",
       " 3.28999987136232,\n",
       " 3.2646788380063825,\n",
       " 3.275070785232406,\n",
       " 3.1727472363635356,\n",
       " 3.1478318444128504,\n",
       " 3.0605463306612433,\n",
       " 3.1714209509672053,\n",
       " 3.07752560123779,\n",
       " 2.948577911896904,\n",
       " 2.8914665078501844,\n",
       " 2.814068383977723,\n",
       " 2.782091776581927,\n",
       " 2.7674895734554408,\n",
       " 2.7002028167079613,\n",
       " 2.7323877448322613,\n",
       " 2.598188538393568,\n",
       " 2.610599899480392,\n",
       " 2.5680614382308486,\n",
       " 2.511880744335723,\n",
       " 2.4528076782087056,\n",
       " 2.5005864440015024,\n",
       " 2.4146056206120643,\n",
       " 2.3884005509964386,\n",
       " 2.3398984610627003,\n",
       " 2.3583175087869783,\n",
       " 2.340673111902318,\n",
       " 2.335075933629872,\n",
       " 2.290207319417167,\n",
       " 2.2528840113205084,\n",
       " 2.1282835831158793,\n",
       " 2.0971276348037757,\n",
       " 2.1046851478269306,\n",
       " 2.041202938497289,\n",
       " 2.005653014627885,\n",
       " 2.020649089623724,\n",
       " 1.946914106352314,\n",
       " 2.012141893524246,\n",
       " 1.9552289507134764,\n",
       " 1.9422756308657645,\n",
       " 1.9442471868875684,\n",
       " 1.8746554227260057,\n",
       " 1.8296043259856776,\n",
       " 1.8250906545622594,\n",
       " 1.774472626624317,\n",
       " 1.7589988819379323,\n",
       " 1.7522118212964846,\n",
       " 1.6751812076846966,\n",
       " 1.772150067686025,\n",
       " 1.8439491034845945,\n",
       " 1.755761736669331,\n",
       " 1.6817911789067055,\n",
       " 1.719543915040276,\n",
       " 1.6876731806444414,\n",
       " 1.6449987804651767,\n",
       " 1.606446620887887,\n",
       " 1.579789965282416,\n",
       " 1.6350034755972005,\n",
       " 1.5447620498472656,\n",
       " 1.5510804622842709,\n",
       " 1.5639433786358425,\n",
       " 1.5570812166009707,\n",
       " 1.5488550341463847,\n",
       " 1.5657805192096497,\n",
       " 1.4866845657720336,\n",
       " 1.506189531707549,\n",
       " 1.5205362900059847,\n",
       " 1.4913300866774664,\n",
       " 1.4974905748434046,\n",
       " 1.4796488659462257,\n",
       " 1.4272939449599276,\n",
       " 1.5016270649738497,\n",
       " 1.4555200434153,\n",
       " 1.4878592223435252,\n",
       " 1.4171340088643658,\n",
       " 1.4392928458133345,\n",
       " 1.4125011501515685,\n",
       " 1.3759112494773307,\n",
       " 1.4142945274992789,\n",
       " 1.3872327824661819,\n",
       " 1.419240678915297,\n",
       " 1.4065013939841013,\n",
       " 1.3971744606207883,\n",
       " 1.3714306507496221,\n",
       " 1.3720013783742406,\n",
       " 1.375825146060922,\n",
       " 1.3377468914471906,\n",
       " 1.3818049750485821,\n",
       " 1.3414472268104012,\n",
       " 1.340865237399213,\n",
       " 1.3766571364425502,\n",
       " 1.4126347054371293,\n",
       " 1.3243106490783765,\n",
       " 1.3358087552262392,\n",
       " 1.3707070733213818,\n",
       " 1.312191759634519,\n",
       " 1.3281249062290925,\n",
       " 1.3186152918834237,\n",
       " 1.3228246378636168,\n",
       " 1.3252199329137713,\n",
       " 1.3252221372097348,\n",
       " 1.3105117781375641,\n",
       " 1.3306769239691856,\n",
       " 1.2495198315460565,\n",
       " 1.2782730648167508,\n",
       " 1.2861376910752669,\n",
       " 1.3339498310477562,\n",
       " 1.2803882742393609,\n",
       " 1.2894265005195253,\n",
       " 1.255813772894229,\n",
       " 1.3186972303380378,\n",
       " 1.277475266603639,\n",
       " 1.2593004095267766,\n",
       " 1.2869004867593963,\n",
       " 1.2932634613189535,\n",
       " 1.2481677867294247,\n",
       " 1.2584582711946597,\n",
       " 1.2728196779513572,\n",
       " 1.2594679525882844,\n",
       " 1.2453430743641538,\n",
       " 1.220465702611945,\n",
       " 1.2897574240449423,\n",
       " 1.2561733389499437,\n",
       " 1.2757556815579738,\n",
       " 1.249185096785691,\n",
       " 1.2375693245390562,\n",
       " 1.2494320644289711,\n",
       " 1.2180747459417622,\n",
       " 1.2248157188419397,\n",
       " 1.2372504420179469,\n",
       " 1.2175059408140985,\n",
       " 1.2539305805594547,\n",
       " 1.157589965754146,\n",
       " 1.1422273873196078,\n",
       " 1.1962511754616234,\n",
       " 1.1517607845731346,\n",
       " 1.0934732209904299,\n",
       " 1.126733036204496,\n",
       " 1.0997741357070494,\n",
       " 1.1202918107671096,\n",
       " 1.1298964860752498,\n",
       " 1.125970243852767,\n",
       " 1.1187879868919892,\n",
       " 1.1119297413511136,\n",
       " 1.1101310681211918,\n",
       " 1.0769149721936684,\n",
       " 1.0805509598331626,\n",
       " 1.089037818420475,\n",
       " 1.1265141852136946,\n",
       " 1.099598309519875,\n",
       " 1.1036888727678662,\n",
       " 1.071723045397256,\n",
       " 1.1214948917402452,\n",
       " 1.0588109769368665,\n",
       " 1.0781126582420966,\n",
       " 1.0883798104968296,\n",
       " 1.0794887575803298,\n",
       " 1.1104807866440047,\n",
       " 1.088947373537221,\n",
       " 1.1190004085533007,\n",
       " 1.0579496617541972,\n",
       " 1.0936589707801327,\n",
       " 1.0633746750928157,\n",
       " 1.0728772271346396,\n",
       " 1.0646303526447964,\n",
       " 1.0650051291929898,\n",
       " 1.0925891728381887,\n",
       " 1.0770510342972495,\n",
       " 1.094949075977533,\n",
       " 1.1091372392027372,\n",
       " 1.083027204906545,\n",
       " 1.0601750012268347,\n",
       " 1.066247010074247,\n",
       " 1.0620579527941207,\n",
       " 1.086348676684404,\n",
       " 1.0720470105741038,\n",
       " 1.1050827582330747,\n",
       " 1.11620168097984,\n",
       " 1.0882574820428716,\n",
       " 1.0747288006865168,\n",
       " 1.0747239143352363,\n",
       " 1.0663444032119653,\n",
       " 1.0637688885565542,\n",
       " 1.060769026849232,\n",
       " 1.065140957913597,\n",
       " 1.062687240185101,\n",
       " 1.073526528940136,\n",
       " 1.0426423662174504,\n",
       " 1.0717683370412905,\n",
       " 1.0528963235451323,\n",
       " 1.0421341951588665,\n",
       " 1.0675573095053943,\n",
       " 1.0451359524956458,\n",
       " 1.0445125684852532,\n",
       " 1.0967220699129352,\n",
       " 1.0469601807767148,\n",
       " 1.0354330334713469,\n",
       " 1.0561123456690378,\n",
       " 1.0489759353460457,\n",
       " 1.057348658339861,\n",
       " 1.048323746986865,\n",
       " 1.0522620051826768,\n",
       " 1.049824297765219,\n",
       " 1.0373538638748565,\n",
       " 1.0487365591315325,\n",
       " 1.0413015678328201,\n",
       " 1.0590292533453671,\n",
       " 1.0626932463482526,\n",
       " 1.0335961836400707,\n",
       " 1.060851469290098,\n",
       " 1.036585344130933,\n",
       " 1.05529869798927,\n",
       " 1.0501259605427353,\n",
       " 1.0322505363443506,\n",
       " 1.0347416951897463,\n",
       " 1.062262964862853,\n",
       " 1.0253132134673335,\n",
       " 1.0555937205486747,\n",
       " 1.0415598057515176,\n",
       " 1.051995402375585,\n",
       " 1.0506048268642263,\n",
       " 1.044850438292261,\n",
       " 1.0530356596484725,\n",
       " 1.0718286963521515,\n",
       " 1.0638865437200757,\n",
       " 1.053624220802418,\n",
       " 1.0444874282792986,\n",
       " 1.0489153729268774,\n",
       " 1.0586605120635717,\n",
       " 1.0314147287166078,\n",
       " 1.0397125778261218,\n",
       " 1.0372225193067288,\n",
       " 1.0412094118686248,\n",
       " 1.0383371089757472,\n",
       " 1.0343493798032581,\n",
       " 1.0423240852330522,\n",
       " 1.0246520802704744,\n",
       " 1.0483895462686175,\n",
       " 1.0298249501904446,\n",
       " 1.0499752075200108,\n",
       " 1.0379227575939347,\n",
       " 1.0414378388242238,\n",
       " 1.0674386626009544,\n",
       " 1.0553485138812748,\n",
       " 1.041358650795813,\n",
       " 1.041185970105922,\n",
       " 1.0313966183438141,\n",
       " 1.0333368152018951,\n",
       " 1.0363774866684303,\n",
       " 1.0383306011173843,\n",
       " 1.033620984689323,\n",
       " 1.0374760587009657,\n",
       " 1.0364576725784747,\n",
       " 1.0428241644437204,\n",
       " 1.0430515340921525,\n",
       " 1.0343959287935847,\n",
       " 1.03362191417357,\n",
       " 1.029633923556673,\n",
       " 1.0428767920995805,\n",
       " 1.024950796951309,\n",
       " 1.0502836317154345,\n",
       " 1.029557414726785,\n",
       " 1.0461677591849639,\n",
       " 1.0330920747573813,\n",
       " 1.0408358159154336,\n",
       " 1.0365618410636568,\n",
       " 1.0376691913001943,\n",
       " 1.0409125220794662,\n",
       " 1.0304176851445075,\n",
       " 1.0351947917652842,\n",
       " 1.0361036293367218,\n",
       " 1.034907467368535,\n",
       " 1.044741681978659,\n",
       " 1.0333904723259382,\n",
       " 1.0277270653276886,\n",
       " 1.0574504321591591,\n",
       " 1.0555700867623783,\n",
       " 1.0501132182408228,\n",
       " 1.0563070137877946,\n",
       " 1.0442979580144887,\n",
       " 1.0290883319537958,\n",
       " 1.0571763666247216,\n",
       " 1.032214705222401,\n",
       " 1.036894865937802,\n",
       " 1.031097995874509,\n",
       " 1.0405538101904948,\n",
       " 1.044348361944383,\n",
       " 1.040528866625714,\n",
       " 1.0446240088705354,\n",
       " 1.0545513526170545,\n",
       " 1.0390647712307637,\n",
       " 1.0344133497333536,\n",
       " 1.0317223950896586,\n",
       " 1.0400774979891882,\n",
       " 1.0383147337279008,\n",
       " 1.0348806154285937,\n",
       " 1.0365139359359319,\n",
       " 1.0330573978485318,\n",
       " 1.0198072486092906,\n",
       " 1.0168096785944003,\n",
       " 1.03843168088699,\n",
       " 1.0309000425261219,\n",
       " 1.0323677736373396,\n",
       " 1.0360092888632626,\n",
       " 1.034452972196959,\n",
       " 1.029740563376545,\n",
       " 1.0294286982763972,\n",
       " 1.034826145524238]"
      ]
     },
     "execution_count": 57,
     "metadata": {},
     "output_type": "execute_result"
    }
   ],
   "source": [
    "h_train.data['perplexity']"
   ]
  },
  {
   "cell_type": "code",
   "execution_count": 59,
   "metadata": {},
   "outputs": [],
   "source": [
    "df_train = pd.DataFrame.from_dict(h_train.data)"
   ]
  },
  {
   "cell_type": "code",
   "execution_count": 66,
   "metadata": {},
   "outputs": [
    {
     "data": {
      "text/plain": [
       "<AxesSubplot:>"
      ]
     },
     "execution_count": 66,
     "metadata": {},
     "output_type": "execute_result"
    },
    {
     "data": {
      "image/svg+xml": "<?xml version=\"1.0\" encoding=\"utf-8\" standalone=\"no\"?>\n<!DOCTYPE svg PUBLIC \"-//W3C//DTD SVG 1.1//EN\"\n  \"http://www.w3.org/Graphics/SVG/1.1/DTD/svg11.dtd\">\n<svg xmlns:xlink=\"http://www.w3.org/1999/xlink\" width=\"368.925pt\" height=\"248.518125pt\" viewBox=\"0 0 368.925 248.518125\" xmlns=\"http://www.w3.org/2000/svg\" version=\"1.1\">\n <metadata>\n  <rdf:RDF xmlns:dc=\"http://purl.org/dc/elements/1.1/\" xmlns:cc=\"http://creativecommons.org/ns#\" xmlns:rdf=\"http://www.w3.org/1999/02/22-rdf-syntax-ns#\">\n   <cc:Work>\n    <dc:type rdf:resource=\"http://purl.org/dc/dcmitype/StillImage\"/>\n    <dc:date>2022-06-23T16:48:40.974339</dc:date>\n    <dc:format>image/svg+xml</dc:format>\n    <dc:creator>\n     <cc:Agent>\n      <dc:title>Matplotlib v3.5.1, https://matplotlib.org/</dc:title>\n     </cc:Agent>\n    </dc:creator>\n   </cc:Work>\n  </rdf:RDF>\n </metadata>\n <defs>\n  <style type=\"text/css\">*{stroke-linejoin: round; stroke-linecap: butt}</style>\n </defs>\n <g id=\"figure_1\">\n  <g id=\"patch_1\">\n   <path d=\"M -0 248.518125 \nL 368.925 248.518125 \nL 368.925 0 \nL -0 0 \nL -0 248.518125 \nz\n\" style=\"fill: none\"/>\n  </g>\n  <g id=\"axes_1\">\n   <g id=\"patch_2\">\n    <path d=\"M 26.925 224.64 \nL 361.725 224.64 \nL 361.725 7.2 \nL 26.925 7.2 \nz\n\" style=\"fill: #ffffff\"/>\n   </g>\n   <g id=\"matplotlib.axis_1\">\n    <g id=\"xtick_1\">\n     <g id=\"line2d_1\">\n      <defs>\n       <path id=\"m13ab17c787\" d=\"M 0 0 \nL 0 3.5 \n\" style=\"stroke: #000000; stroke-width: 0.8\"/>\n      </defs>\n      <g>\n       <use xlink:href=\"#m13ab17c787\" x=\"42.143182\" y=\"224.64\" style=\"stroke: #000000; stroke-width: 0.8\"/>\n      </g>\n     </g>\n     <g id=\"text_1\">\n      <!-- 0 -->\n      <g transform=\"translate(38.961932 239.238438)scale(0.1 -0.1)\">\n       <defs>\n        <path id=\"DejaVuSans-30\" d=\"M 2034 4250 \nQ 1547 4250 1301 3770 \nQ 1056 3291 1056 2328 \nQ 1056 1369 1301 889 \nQ 1547 409 2034 409 \nQ 2525 409 2770 889 \nQ 3016 1369 3016 2328 \nQ 3016 3291 2770 3770 \nQ 2525 4250 2034 4250 \nz\nM 2034 4750 \nQ 2819 4750 3233 4129 \nQ 3647 3509 3647 2328 \nQ 3647 1150 3233 529 \nQ 2819 -91 2034 -91 \nQ 1250 -91 836 529 \nQ 422 1150 422 2328 \nQ 422 3509 836 4129 \nQ 1250 4750 2034 4750 \nz\n\" transform=\"scale(0.015625)\"/>\n       </defs>\n       <use xlink:href=\"#DejaVuSans-30\"/>\n      </g>\n     </g>\n    </g>\n    <g id=\"xtick_2\">\n     <g id=\"line2d_2\">\n      <g>\n       <use xlink:href=\"#m13ab17c787\" x=\"103.137899\" y=\"224.64\" style=\"stroke: #000000; stroke-width: 0.8\"/>\n      </g>\n     </g>\n     <g id=\"text_2\">\n      <!-- 100 -->\n      <g transform=\"translate(93.594149 239.238438)scale(0.1 -0.1)\">\n       <defs>\n        <path id=\"DejaVuSans-31\" d=\"M 794 531 \nL 1825 531 \nL 1825 4091 \nL 703 3866 \nL 703 4441 \nL 1819 4666 \nL 2450 4666 \nL 2450 531 \nL 3481 531 \nL 3481 0 \nL 794 0 \nL 794 531 \nz\n\" transform=\"scale(0.015625)\"/>\n       </defs>\n       <use xlink:href=\"#DejaVuSans-31\"/>\n       <use xlink:href=\"#DejaVuSans-30\" x=\"63.623047\"/>\n       <use xlink:href=\"#DejaVuSans-30\" x=\"127.246094\"/>\n      </g>\n     </g>\n    </g>\n    <g id=\"xtick_3\">\n     <g id=\"line2d_3\">\n      <g>\n       <use xlink:href=\"#m13ab17c787\" x=\"164.132615\" y=\"224.64\" style=\"stroke: #000000; stroke-width: 0.8\"/>\n      </g>\n     </g>\n     <g id=\"text_3\">\n      <!-- 200 -->\n      <g transform=\"translate(154.588865 239.238438)scale(0.1 -0.1)\">\n       <defs>\n        <path id=\"DejaVuSans-32\" d=\"M 1228 531 \nL 3431 531 \nL 3431 0 \nL 469 0 \nL 469 531 \nQ 828 903 1448 1529 \nQ 2069 2156 2228 2338 \nQ 2531 2678 2651 2914 \nQ 2772 3150 2772 3378 \nQ 2772 3750 2511 3984 \nQ 2250 4219 1831 4219 \nQ 1534 4219 1204 4116 \nQ 875 4013 500 3803 \nL 500 4441 \nQ 881 4594 1212 4672 \nQ 1544 4750 1819 4750 \nQ 2544 4750 2975 4387 \nQ 3406 4025 3406 3419 \nQ 3406 3131 3298 2873 \nQ 3191 2616 2906 2266 \nQ 2828 2175 2409 1742 \nQ 1991 1309 1228 531 \nz\n\" transform=\"scale(0.015625)\"/>\n       </defs>\n       <use xlink:href=\"#DejaVuSans-32\"/>\n       <use xlink:href=\"#DejaVuSans-30\" x=\"63.623047\"/>\n       <use xlink:href=\"#DejaVuSans-30\" x=\"127.246094\"/>\n      </g>\n     </g>\n    </g>\n    <g id=\"xtick_4\">\n     <g id=\"line2d_4\">\n      <g>\n       <use xlink:href=\"#m13ab17c787\" x=\"225.127332\" y=\"224.64\" style=\"stroke: #000000; stroke-width: 0.8\"/>\n      </g>\n     </g>\n     <g id=\"text_4\">\n      <!-- 300 -->\n      <g transform=\"translate(215.583582 239.238438)scale(0.1 -0.1)\">\n       <defs>\n        <path id=\"DejaVuSans-33\" d=\"M 2597 2516 \nQ 3050 2419 3304 2112 \nQ 3559 1806 3559 1356 \nQ 3559 666 3084 287 \nQ 2609 -91 1734 -91 \nQ 1441 -91 1130 -33 \nQ 819 25 488 141 \nL 488 750 \nQ 750 597 1062 519 \nQ 1375 441 1716 441 \nQ 2309 441 2620 675 \nQ 2931 909 2931 1356 \nQ 2931 1769 2642 2001 \nQ 2353 2234 1838 2234 \nL 1294 2234 \nL 1294 2753 \nL 1863 2753 \nQ 2328 2753 2575 2939 \nQ 2822 3125 2822 3475 \nQ 2822 3834 2567 4026 \nQ 2313 4219 1838 4219 \nQ 1578 4219 1281 4162 \nQ 984 4106 628 3988 \nL 628 4550 \nQ 988 4650 1302 4700 \nQ 1616 4750 1894 4750 \nQ 2613 4750 3031 4423 \nQ 3450 4097 3450 3541 \nQ 3450 3153 3228 2886 \nQ 3006 2619 2597 2516 \nz\n\" transform=\"scale(0.015625)\"/>\n       </defs>\n       <use xlink:href=\"#DejaVuSans-33\"/>\n       <use xlink:href=\"#DejaVuSans-30\" x=\"63.623047\"/>\n       <use xlink:href=\"#DejaVuSans-30\" x=\"127.246094\"/>\n      </g>\n     </g>\n    </g>\n    <g id=\"xtick_5\">\n     <g id=\"line2d_5\">\n      <g>\n       <use xlink:href=\"#m13ab17c787\" x=\"286.122049\" y=\"224.64\" style=\"stroke: #000000; stroke-width: 0.8\"/>\n      </g>\n     </g>\n     <g id=\"text_5\">\n      <!-- 400 -->\n      <g transform=\"translate(276.578299 239.238438)scale(0.1 -0.1)\">\n       <defs>\n        <path id=\"DejaVuSans-34\" d=\"M 2419 4116 \nL 825 1625 \nL 2419 1625 \nL 2419 4116 \nz\nM 2253 4666 \nL 3047 4666 \nL 3047 1625 \nL 3713 1625 \nL 3713 1100 \nL 3047 1100 \nL 3047 0 \nL 2419 0 \nL 2419 1100 \nL 313 1100 \nL 313 1709 \nL 2253 4666 \nz\n\" transform=\"scale(0.015625)\"/>\n       </defs>\n       <use xlink:href=\"#DejaVuSans-34\"/>\n       <use xlink:href=\"#DejaVuSans-30\" x=\"63.623047\"/>\n       <use xlink:href=\"#DejaVuSans-30\" x=\"127.246094\"/>\n      </g>\n     </g>\n    </g>\n    <g id=\"xtick_6\">\n     <g id=\"line2d_6\">\n      <g>\n       <use xlink:href=\"#m13ab17c787\" x=\"347.116765\" y=\"224.64\" style=\"stroke: #000000; stroke-width: 0.8\"/>\n      </g>\n     </g>\n     <g id=\"text_6\">\n      <!-- 500 -->\n      <g transform=\"translate(337.573015 239.238438)scale(0.1 -0.1)\">\n       <defs>\n        <path id=\"DejaVuSans-35\" d=\"M 691 4666 \nL 3169 4666 \nL 3169 4134 \nL 1269 4134 \nL 1269 2991 \nQ 1406 3038 1543 3061 \nQ 1681 3084 1819 3084 \nQ 2600 3084 3056 2656 \nQ 3513 2228 3513 1497 \nQ 3513 744 3044 326 \nQ 2575 -91 1722 -91 \nQ 1428 -91 1123 -41 \nQ 819 9 494 109 \nL 494 744 \nQ 775 591 1075 516 \nQ 1375 441 1709 441 \nQ 2250 441 2565 725 \nQ 2881 1009 2881 1497 \nQ 2881 1984 2565 2268 \nQ 2250 2553 1709 2553 \nQ 1456 2553 1204 2497 \nQ 953 2441 691 2322 \nL 691 4666 \nz\n\" transform=\"scale(0.015625)\"/>\n       </defs>\n       <use xlink:href=\"#DejaVuSans-35\"/>\n       <use xlink:href=\"#DejaVuSans-30\" x=\"63.623047\"/>\n       <use xlink:href=\"#DejaVuSans-30\" x=\"127.246094\"/>\n      </g>\n     </g>\n    </g>\n   </g>\n   <g id=\"matplotlib.axis_2\">\n    <g id=\"ytick_1\">\n     <g id=\"line2d_7\">\n      <defs>\n       <path id=\"mab934c3cd0\" d=\"M 0 0 \nL -3.5 0 \n\" style=\"stroke: #000000; stroke-width: 0.8\"/>\n      </defs>\n      <g>\n       <use xlink:href=\"#mab934c3cd0\" x=\"26.925\" y=\"223.21693\" style=\"stroke: #000000; stroke-width: 0.8\"/>\n      </g>\n     </g>\n     <g id=\"text_7\">\n      <!-- 0 -->\n      <g transform=\"translate(13.5625 227.016149)scale(0.1 -0.1)\">\n       <use xlink:href=\"#DejaVuSans-30\"/>\n      </g>\n     </g>\n    </g>\n    <g id=\"ytick_2\">\n     <g id=\"line2d_8\">\n      <g>\n       <use xlink:href=\"#mab934c3cd0\" x=\"26.925\" y=\"181.613439\" style=\"stroke: #000000; stroke-width: 0.8\"/>\n      </g>\n     </g>\n     <g id=\"text_8\">\n      <!-- 5 -->\n      <g transform=\"translate(13.5625 185.412658)scale(0.1 -0.1)\">\n       <use xlink:href=\"#DejaVuSans-35\"/>\n      </g>\n     </g>\n    </g>\n    <g id=\"ytick_3\">\n     <g id=\"line2d_9\">\n      <g>\n       <use xlink:href=\"#mab934c3cd0\" x=\"26.925\" y=\"140.009948\" style=\"stroke: #000000; stroke-width: 0.8\"/>\n      </g>\n     </g>\n     <g id=\"text_9\">\n      <!-- 10 -->\n      <g transform=\"translate(7.2 143.809167)scale(0.1 -0.1)\">\n       <use xlink:href=\"#DejaVuSans-31\"/>\n       <use xlink:href=\"#DejaVuSans-30\" x=\"63.623047\"/>\n      </g>\n     </g>\n    </g>\n    <g id=\"ytick_4\">\n     <g id=\"line2d_10\">\n      <g>\n       <use xlink:href=\"#mab934c3cd0\" x=\"26.925\" y=\"98.406457\" style=\"stroke: #000000; stroke-width: 0.8\"/>\n      </g>\n     </g>\n     <g id=\"text_10\">\n      <!-- 15 -->\n      <g transform=\"translate(7.2 102.205676)scale(0.1 -0.1)\">\n       <use xlink:href=\"#DejaVuSans-31\"/>\n       <use xlink:href=\"#DejaVuSans-35\" x=\"63.623047\"/>\n      </g>\n     </g>\n    </g>\n    <g id=\"ytick_5\">\n     <g id=\"line2d_11\">\n      <g>\n       <use xlink:href=\"#mab934c3cd0\" x=\"26.925\" y=\"56.802966\" style=\"stroke: #000000; stroke-width: 0.8\"/>\n      </g>\n     </g>\n     <g id=\"text_11\">\n      <!-- 20 -->\n      <g transform=\"translate(7.2 60.602185)scale(0.1 -0.1)\">\n       <use xlink:href=\"#DejaVuSans-32\"/>\n       <use xlink:href=\"#DejaVuSans-30\" x=\"63.623047\"/>\n      </g>\n     </g>\n    </g>\n    <g id=\"ytick_6\">\n     <g id=\"line2d_12\">\n      <g>\n       <use xlink:href=\"#mab934c3cd0\" x=\"26.925\" y=\"15.199475\" style=\"stroke: #000000; stroke-width: 0.8\"/>\n      </g>\n     </g>\n     <g id=\"text_12\">\n      <!-- 25 -->\n      <g transform=\"translate(7.2 18.998694)scale(0.1 -0.1)\">\n       <use xlink:href=\"#DejaVuSans-32\"/>\n       <use xlink:href=\"#DejaVuSans-35\" x=\"63.623047\"/>\n      </g>\n     </g>\n    </g>\n   </g>\n   <g id=\"line2d_13\">\n    <path d=\"M 42.143182 17.083636 \nL 42.753129 59.026674 \nL 43.363076 75.05178 \nL 43.973023 77.136966 \nL 44.58297 80.334716 \nL 45.802865 89.026169 \nL 47.022759 102.953552 \nL 48.242653 115.292155 \nL 48.852601 119.92879 \nL 50.072495 126.344306 \nL 50.682442 127.257925 \nL 51.292389 129.738903 \nL 52.512284 131.821259 \nL 53.122231 134.65725 \nL 53.732178 134.392343 \nL 54.342125 136.506008 \nL 54.952072 136.100425 \nL 56.171967 138.502837 \nL 56.781914 139.654628 \nL 57.391861 139.509614 \nL 58.001808 140.725378 \nL 58.611755 142.275955 \nL 59.221702 141.518951 \nL 59.83165 143.755029 \nL 60.441597 143.873807 \nL 61.051544 144.777833 \nL 62.271438 145.903846 \nL 62.881385 146.715781 \nL 63.491333 146.396078 \nL 64.10128 147.477284 \nL 64.711227 147.429407 \nL 65.321174 148.392896 \nL 65.931121 147.929187 \nL 67.151016 149.830133 \nL 67.760963 149.267934 \nL 69.590804 150.553159 \nL 70.200752 150.85819 \nL 70.810699 150.696227 \nL 71.420646 151.342805 \nL 72.64054 151.75058 \nL 73.250487 152.670608 \nL 73.860435 153.316114 \nL 74.470382 152.839742 \nL 75.080329 153.949043 \nL 75.690276 152.449345 \nL 76.300223 154.396403 \nL 76.91017 153.85316 \nL 77.520118 153.958763 \nL 78.130065 154.63292 \nL 78.740012 154.145926 \nL 79.959906 155.251944 \nL 80.569853 154.878487 \nL 81.179801 155.881977 \nL 81.789748 154.872397 \nL 82.399695 156.008974 \nL 83.009642 156.112133 \nL 83.619589 155.818653 \nL 84.229536 157.091991 \nL 84.839484 156.206189 \nL 85.449431 156.628354 \nL 86.059378 156.707575 \nL 86.669325 157.311828 \nL 87.279272 157.196215 \nL 87.889219 157.307961 \nL 88.499167 156.915583 \nL 89.109114 157.887474 \nL 89.719061 157.940203 \nL 90.329008 157.864575 \nL 90.938955 158.175067 \nL 92.15885 158.310548 \nL 92.768797 159.036585 \nL 93.378744 158.146807 \nL 94.598638 159.704147 \nL 95.208585 158.647478 \nL 95.818533 159.916537 \nL 96.42848 159.859581 \nL 97.038427 159.922124 \nL 97.648374 159.092369 \nL 98.258321 160.060336 \nL 98.868268 160.18279 \nL 99.478216 160.788265 \nL 100.088163 160.059902 \nL 100.69811 159.856837 \nL 101.308057 161.192763 \nL 101.918004 161.136431 \nL 102.527951 161.379209 \nL 103.137899 161.191148 \nL 104.357793 162.0536 \nL 104.96774 162.088794 \nL 105.577687 161.127684 \nL 106.187634 161.73666 \nL 106.797582 161.56734 \nL 107.407529 161.942389 \nL 108.627423 163.528746 \nL 109.23737 163.181108 \nL 109.847317 163.80777 \nL 110.457265 163.854612 \nL 111.067212 164.78707 \nL 111.677159 162.7626 \nL 112.287106 163.460384 \nL 112.897053 165.113615 \nL 113.507 164.216364 \nL 114.116948 165.488629 \nL 114.726895 164.160066 \nL 115.336842 166.469441 \nL 115.946789 164.926429 \nL 116.556736 164.932663 \nL 117.166683 166.827926 \nL 117.776631 167.37333 \nL 118.386578 168.160088 \nL 118.996525 168.097146 \nL 119.606472 167.431583 \nL 120.216419 165.553426 \nL 120.826366 167.051305 \nL 121.436314 169.362382 \nL 122.046261 165.972528 \nL 122.656208 169.594124 \nL 123.266155 169.571358 \nL 123.876102 167.803195 \nL 124.486049 169.788041 \nL 125.095997 170.66288 \nL 125.705944 170.420179 \nL 126.315891 169.445886 \nL 126.925838 170.612814 \nL 127.535785 170.685199 \nL 128.145732 173.229691 \nL 128.75568 171.105547 \nL 129.365627 173.274471 \nL 129.975574 172.392607 \nL 130.585521 172.72308 \nL 131.195468 173.993233 \nL 131.805415 172.699034 \nL 132.415363 175.482368 \nL 133.02531 173.886924 \nL 133.635257 173.918614 \nL 134.245204 174.823764 \nL 134.855151 174.068028 \nL 135.465098 174.654477 \nL 136.075046 175.586934 \nL 136.684993 177.73606 \nL 137.29494 176.134756 \nL 137.904887 177.38138 \nL 138.514834 176.854492 \nL 139.124781 177.965975 \nL 139.734729 177.150323 \nL 140.344676 178.890467 \nL 140.954623 179.987458 \nL 141.56457 180.414195 \nL 142.174517 180.428126 \nL 142.784464 180.931345 \nL 143.394412 181.847905 \nL 144.004359 181.271617 \nL 144.614306 182.090759 \nL 145.8342 184.161592 \nL 147.054095 184.71226 \nL 147.664042 185.606418 \nL 148.273989 185.601319 \nL 149.493883 187.113539 \nL 150.10383 187.213396 \nL 150.713778 188.392392 \nL 151.323725 189.111975 \nL 151.933672 188.557305 \nL 152.543619 190.099171 \nL 153.153566 190.614726 \nL 153.763513 190.387785 \nL 154.373461 191.783372 \nL 154.983408 190.935538 \nL 156.203302 193.166862 \nL 156.813249 193.196753 \nL 157.423196 193.741596 \nL 158.033144 193.885829 \nL 158.643091 194.259831 \nL 159.253038 195.36714 \nL 159.862985 195.841834 \nL 160.472932 196.052523 \nL 161.082879 195.966055 \nL 161.692827 196.817458 \nL 162.302774 197.024771 \nL 162.912721 197.751048 \nL 163.522668 196.828494 \nL 164.132615 197.609768 \nL 164.742562 198.682703 \nL 165.35251 199.15791 \nL 165.962457 199.801916 \nL 166.572404 200.067984 \nL 167.182351 200.189485 \nL 167.792298 200.749357 \nL 168.402245 200.481556 \nL 169.012193 201.598187 \nL 169.62214 201.494916 \nL 170.842034 202.316329 \nL 171.451981 202.807858 \nL 172.061928 202.410305 \nL 172.671876 203.125725 \nL 173.281823 203.34377 \nL 173.89177 203.747341 \nL 174.501717 203.594082 \nL 175.721611 203.787468 \nL 176.941506 204.471362 \nL 177.551453 205.508125 \nL 178.1614 205.767364 \nL 178.771347 205.70448 \nL 179.381294 206.232696 \nL 179.991242 206.528497 \nL 180.601189 206.403719 \nL 181.211136 207.017245 \nL 181.821083 206.474505 \nL 182.43103 206.94806 \nL 183.040977 207.055841 \nL 183.650925 207.039436 \nL 184.260872 207.618488 \nL 184.870819 207.993345 \nL 185.480766 208.030902 \nL 186.090713 208.452079 \nL 187.310608 208.637304 \nL 187.920555 209.278253 \nL 188.530502 208.471404 \nL 189.140449 207.873986 \nL 190.360343 209.223253 \nL 190.970291 208.909124 \nL 192.190185 209.529392 \nL 193.410079 210.071975 \nL 194.020026 209.61256 \nL 194.629974 210.363431 \nL 196.459815 210.260927 \nL 197.069762 210.329375 \nL 197.679709 210.188543 \nL 198.289657 210.846677 \nL 199.509551 210.565007 \nL 200.119498 210.808023 \nL 200.729445 210.756763 \nL 201.339392 210.905218 \nL 201.94934 211.340848 \nL 202.559287 210.722344 \nL 203.169234 211.105987 \nL 203.779181 210.836903 \nL 204.389128 211.425386 \nL 204.999075 211.241009 \nL 206.21897 211.768388 \nL 206.828917 211.449012 \nL 207.438864 211.674185 \nL 208.048811 211.407857 \nL 210.4886 211.800921 \nL 211.098547 211.769104 \nL 211.708494 212.085942 \nL 212.318441 211.719348 \nL 212.928389 212.055153 \nL 213.538336 212.059995 \nL 214.75823 211.462823 \nL 215.368177 212.197741 \nL 215.978124 212.102069 \nL 216.588072 211.81169 \nL 217.198019 212.298578 \nL 217.807966 212.166004 \nL 218.417913 212.24513 \nL 220.247755 212.190157 \nL 220.857702 212.312557 \nL 221.467649 212.144769 \nL 222.077596 212.820053 \nL 222.687543 212.580806 \nL 223.29749 212.515367 \nL 223.907438 212.117536 \nL 224.517385 212.563206 \nL 225.127332 212.488001 \nL 225.737279 212.767683 \nL 226.347226 212.244448 \nL 226.957173 212.587444 \nL 227.567121 212.738671 \nL 228.177068 212.50902 \nL 228.787015 212.456075 \nL 229.396962 212.831303 \nL 230.616856 212.626182 \nL 232.446698 213.061803 \nL 233.056645 212.485248 \nL 233.666592 212.764691 \nL 234.276539 212.601752 \nL 234.886487 212.822838 \nL 235.496434 212.919489 \nL 236.106381 212.820783 \nL 236.716328 213.081698 \nL 237.936222 212.922143 \nL 238.54617 213.086431 \nL 239.156117 212.783352 \nL 239.766064 213.584973 \nL 240.376011 213.712801 \nL 240.985958 213.263285 \nL 242.205853 214.118469 \nL 242.8158 213.841725 \nL 243.425747 214.066041 \nL 244.645641 213.815402 \nL 247.08543 213.979865 \nL 247.695377 214.256246 \nL 248.915271 214.155375 \nL 249.525219 213.843546 \nL 250.135166 214.067504 \nL 250.745113 214.033468 \nL 251.35506 214.299446 \nL 251.965007 213.88531 \nL 252.574954 214.406884 \nL 253.794849 214.16085 \nL 254.404796 214.23483 \nL 255.014743 213.976955 \nL 255.62469 214.156128 \nL 256.234637 213.906065 \nL 256.844585 214.41405 \nL 257.454532 214.116924 \nL 258.064479 214.36891 \nL 258.674426 214.289842 \nL 259.89432 214.355344 \nL 260.504268 214.125825 \nL 261.114215 214.255113 \nL 262.334109 213.988134 \nL 263.554003 214.395534 \nL 265.993792 214.29675 \nL 266.603739 214.02187 \nL 267.213686 213.929353 \nL 267.823634 214.161868 \nL 269.043528 214.274477 \nL 270.873369 214.390591 \nL 272.703211 214.28444 \nL 273.313158 214.541418 \nL 273.923105 214.299069 \nL 275.143 214.545646 \nL 275.752947 214.334108 \nL 276.362894 214.520669 \nL 276.972841 214.525856 \nL 277.582788 214.091437 \nL 278.192735 214.50549 \nL 278.802683 214.601404 \nL 279.41263 214.429338 \nL 280.022577 214.488718 \nL 280.632524 214.419051 \nL 281.852418 214.461376 \nL 284.292207 214.552574 \nL 284.902154 214.405067 \nL 285.512101 214.37458 \nL 286.122049 214.616688 \nL 286.731996 214.389905 \nL 287.341943 214.591816 \nL 287.95189 214.436108 \nL 289.781732 214.607157 \nL 290.391679 214.378161 \nL 291.001626 214.685608 \nL 291.611573 214.433653 \nL 292.22152 214.550425 \nL 293.441415 214.475164 \nL 294.051362 214.523045 \nL 295.881203 214.364651 \nL 297.101098 214.526065 \nL 298.320992 214.408135 \nL 298.930939 214.634839 \nL 300.150833 214.586515 \nL 301.370728 214.57724 \nL 303.200569 214.691109 \nL 303.810516 214.493597 \nL 304.420464 214.648067 \nL 305.030411 214.480403 \nL 305.640358 214.580688 \nL 306.250305 214.55144 \nL 306.860252 214.335095 \nL 309.300041 214.63499 \nL 314.179618 214.538013 \nL 316.00946 214.649657 \nL 316.619407 214.539467 \nL 317.229354 214.688624 \nL 317.839301 214.477837 \nL 318.449248 214.650294 \nL 319.059196 214.512084 \nL 319.669143 214.620883 \nL 320.889037 214.592012 \nL 325.768615 214.6184 \nL 326.378562 214.665523 \nL 326.988509 214.418204 \nL 329.428298 214.527642 \nL 330.038245 214.654197 \nL 330.648192 214.420485 \nL 331.258139 214.628183 \nL 333.697928 214.527223 \nL 334.917822 214.524929 \nL 335.527769 214.442327 \nL 336.747664 214.609889 \nL 339.187452 214.606001 \nL 340.407347 214.621171 \nL 341.627241 214.756364 \nL 342.237188 214.576453 \nL 343.457082 214.626909 \nL 344.676977 214.609559 \nL 345.896871 214.651365 \nL 346.506818 214.606454 \nL 346.506818 214.606454 \n\" clip-path=\"url(#p25c3432988)\" style=\"fill: none; stroke: #1f77b4; stroke-width: 1.5; stroke-linecap: square\"/>\n   </g>\n   <g id=\"patch_3\">\n    <path d=\"M 26.925 224.64 \nL 26.925 7.2 \n\" style=\"fill: none; stroke: #000000; stroke-width: 0.8; stroke-linejoin: miter; stroke-linecap: square\"/>\n   </g>\n   <g id=\"patch_4\">\n    <path d=\"M 361.725 224.64 \nL 361.725 7.2 \n\" style=\"fill: none; stroke: #000000; stroke-width: 0.8; stroke-linejoin: miter; stroke-linecap: square\"/>\n   </g>\n   <g id=\"patch_5\">\n    <path d=\"M 26.925 224.64 \nL 361.725 224.64 \n\" style=\"fill: none; stroke: #000000; stroke-width: 0.8; stroke-linejoin: miter; stroke-linecap: square\"/>\n   </g>\n   <g id=\"patch_6\">\n    <path d=\"M 26.925 7.2 \nL 361.725 7.2 \n\" style=\"fill: none; stroke: #000000; stroke-width: 0.8; stroke-linejoin: miter; stroke-linecap: square\"/>\n   </g>\n  </g>\n </g>\n <defs>\n  <clipPath id=\"p25c3432988\">\n   <rect x=\"26.925\" y=\"7.2\" width=\"334.8\" height=\"217.44\"/>\n  </clipPath>\n </defs>\n</svg>\n",
      "text/plain": [
       "<Figure size 432x288 with 1 Axes>"
      ]
     },
     "metadata": {
      "needs_background": "light"
     },
     "output_type": "display_data"
    }
   ],
   "source": [
    "df_train.perplexity.plot()"
   ]
  },
  {
   "cell_type": "code",
   "execution_count": 58,
   "metadata": {},
   "outputs": [
    {
     "data": {
      "text/plain": [
       "'killer lives inside me yes i can hear him move exterremele proceecerirew yor sard hew ol the piccedeag yoon ghan forethed hens aisatsoni at p andth antlysunsttattor ousted treface back for ana dit'"
      ]
     },
     "execution_count": 58,
     "metadata": {},
     "output_type": "execute_result"
    }
   ],
   "source": [
    "predict_seq('killer lives inside me yes i can hear him move', 150, net0, vocab, device)"
   ]
  },
  {
   "cell_type": "markdown",
   "metadata": {
    "origin_pos": 56
   },
   "source": [
    "### Applying random partitioning\n"
   ]
  },
  {
   "cell_type": "code",
   "execution_count": 68,
   "metadata": {
    "origin_pos": 57,
    "tab": [
     "pytorch"
    ]
   },
   "outputs": [
    {
     "data": {
      "image/svg+xml": "<?xml version=\"1.0\" encoding=\"utf-8\" standalone=\"no\"?>\n<!DOCTYPE svg PUBLIC \"-//W3C//DTD SVG 1.1//EN\"\n  \"http://www.w3.org/Graphics/SVG/1.1/DTD/svg11.dtd\">\n<svg xmlns:xlink=\"http://www.w3.org/1999/xlink\" width=\"503.746875pt\" height=\"373.225832pt\" viewBox=\"0 0 503.746875 373.225832\" xmlns=\"http://www.w3.org/2000/svg\" version=\"1.1\">\n <metadata>\n  <rdf:RDF xmlns:dc=\"http://purl.org/dc/elements/1.1/\" xmlns:cc=\"http://creativecommons.org/ns#\" xmlns:rdf=\"http://www.w3.org/1999/02/22-rdf-syntax-ns#\">\n   <cc:Work>\n    <dc:type rdf:resource=\"http://purl.org/dc/dcmitype/StillImage\"/>\n    <dc:date>2022-06-23T16:56:22.932615</dc:date>\n    <dc:format>image/svg+xml</dc:format>\n    <dc:creator>\n     <cc:Agent>\n      <dc:title>Matplotlib v3.5.1, https://matplotlib.org/</dc:title>\n     </cc:Agent>\n    </dc:creator>\n   </cc:Work>\n  </rdf:RDF>\n </metadata>\n <defs>\n  <style type=\"text/css\">*{stroke-linejoin: round; stroke-linecap: butt}</style>\n </defs>\n <g id=\"figure_1\">\n  <g id=\"patch_1\">\n   <path d=\"M 0 373.225832 \nL 503.746875 373.225832 \nL 503.746875 0 \nL 0 0 \nL 0 373.225832 \nz\n\" style=\"fill: none\"/>\n  </g>\n  <g id=\"axes_1\">\n   <g id=\"patch_2\">\n    <path d=\"M 40.603125 335.669582 \nL 487.003125 335.669582 \nL 487.003125 9.509582 \nL 40.603125 9.509582 \nz\n\" style=\"fill: #ffffff\"/>\n   </g>\n   <g id=\"matplotlib.axis_1\">\n    <g id=\"xtick_1\">\n     <g id=\"line2d_1\">\n      <path d=\"M 122.594962 335.669582 \nL 122.594962 9.509582 \n\" clip-path=\"url(#pe397eff8cc)\" style=\"fill: none; stroke: #b0b0b0; stroke-width: 0.8; stroke-linecap: square\"/>\n     </g>\n     <g id=\"line2d_2\">\n      <defs>\n       <path id=\"mc6e64fdf90\" d=\"M 0 0 \nL 0 3.5 \n\" style=\"stroke: #000000; stroke-width: 0.8\"/>\n      </defs>\n      <g>\n       <use xlink:href=\"#mc6e64fdf90\" x=\"122.594962\" y=\"335.669582\" style=\"stroke: #000000; stroke-width: 0.8\"/>\n      </g>\n     </g>\n     <g id=\"text_1\">\n      <!-- 100 -->\n      <g transform=\"translate(113.051212 350.268019)scale(0.1 -0.1)\">\n       <defs>\n        <path id=\"DejaVuSans-31\" d=\"M 794 531 \nL 1825 531 \nL 1825 4091 \nL 703 3866 \nL 703 4441 \nL 1819 4666 \nL 2450 4666 \nL 2450 531 \nL 3481 531 \nL 3481 0 \nL 794 0 \nL 794 531 \nz\n\" transform=\"scale(0.015625)\"/>\n        <path id=\"DejaVuSans-30\" d=\"M 2034 4250 \nQ 1547 4250 1301 3770 \nQ 1056 3291 1056 2328 \nQ 1056 1369 1301 889 \nQ 1547 409 2034 409 \nQ 2525 409 2770 889 \nQ 3016 1369 3016 2328 \nQ 3016 3291 2770 3770 \nQ 2525 4250 2034 4250 \nz\nM 2034 4750 \nQ 2819 4750 3233 4129 \nQ 3647 3509 3647 2328 \nQ 3647 1150 3233 529 \nQ 2819 -91 2034 -91 \nQ 1250 -91 836 529 \nQ 422 1150 422 2328 \nQ 422 3509 836 4129 \nQ 1250 4750 2034 4750 \nz\n\" transform=\"scale(0.015625)\"/>\n       </defs>\n       <use xlink:href=\"#DejaVuSans-31\"/>\n       <use xlink:href=\"#DejaVuSans-30\" x=\"63.623047\"/>\n       <use xlink:href=\"#DejaVuSans-30\" x=\"127.246094\"/>\n      </g>\n     </g>\n    </g>\n    <g id=\"xtick_2\">\n     <g id=\"line2d_3\">\n      <path d=\"M 213.697003 335.669582 \nL 213.697003 9.509582 \n\" clip-path=\"url(#pe397eff8cc)\" style=\"fill: none; stroke: #b0b0b0; stroke-width: 0.8; stroke-linecap: square\"/>\n     </g>\n     <g id=\"line2d_4\">\n      <g>\n       <use xlink:href=\"#mc6e64fdf90\" x=\"213.697003\" y=\"335.669582\" style=\"stroke: #000000; stroke-width: 0.8\"/>\n      </g>\n     </g>\n     <g id=\"text_2\">\n      <!-- 200 -->\n      <g transform=\"translate(204.153253 350.268019)scale(0.1 -0.1)\">\n       <defs>\n        <path id=\"DejaVuSans-32\" d=\"M 1228 531 \nL 3431 531 \nL 3431 0 \nL 469 0 \nL 469 531 \nQ 828 903 1448 1529 \nQ 2069 2156 2228 2338 \nQ 2531 2678 2651 2914 \nQ 2772 3150 2772 3378 \nQ 2772 3750 2511 3984 \nQ 2250 4219 1831 4219 \nQ 1534 4219 1204 4116 \nQ 875 4013 500 3803 \nL 500 4441 \nQ 881 4594 1212 4672 \nQ 1544 4750 1819 4750 \nQ 2544 4750 2975 4387 \nQ 3406 4025 3406 3419 \nQ 3406 3131 3298 2873 \nQ 3191 2616 2906 2266 \nQ 2828 2175 2409 1742 \nQ 1991 1309 1228 531 \nz\n\" transform=\"scale(0.015625)\"/>\n       </defs>\n       <use xlink:href=\"#DejaVuSans-32\"/>\n       <use xlink:href=\"#DejaVuSans-30\" x=\"63.623047\"/>\n       <use xlink:href=\"#DejaVuSans-30\" x=\"127.246094\"/>\n      </g>\n     </g>\n    </g>\n    <g id=\"xtick_3\">\n     <g id=\"line2d_5\">\n      <path d=\"M 304.799043 335.669582 \nL 304.799043 9.509582 \n\" clip-path=\"url(#pe397eff8cc)\" style=\"fill: none; stroke: #b0b0b0; stroke-width: 0.8; stroke-linecap: square\"/>\n     </g>\n     <g id=\"line2d_6\">\n      <g>\n       <use xlink:href=\"#mc6e64fdf90\" x=\"304.799043\" y=\"335.669582\" style=\"stroke: #000000; stroke-width: 0.8\"/>\n      </g>\n     </g>\n     <g id=\"text_3\">\n      <!-- 300 -->\n      <g transform=\"translate(295.255293 350.268019)scale(0.1 -0.1)\">\n       <defs>\n        <path id=\"DejaVuSans-33\" d=\"M 2597 2516 \nQ 3050 2419 3304 2112 \nQ 3559 1806 3559 1356 \nQ 3559 666 3084 287 \nQ 2609 -91 1734 -91 \nQ 1441 -91 1130 -33 \nQ 819 25 488 141 \nL 488 750 \nQ 750 597 1062 519 \nQ 1375 441 1716 441 \nQ 2309 441 2620 675 \nQ 2931 909 2931 1356 \nQ 2931 1769 2642 2001 \nQ 2353 2234 1838 2234 \nL 1294 2234 \nL 1294 2753 \nL 1863 2753 \nQ 2328 2753 2575 2939 \nQ 2822 3125 2822 3475 \nQ 2822 3834 2567 4026 \nQ 2313 4219 1838 4219 \nQ 1578 4219 1281 4162 \nQ 984 4106 628 3988 \nL 628 4550 \nQ 988 4650 1302 4700 \nQ 1616 4750 1894 4750 \nQ 2613 4750 3031 4423 \nQ 3450 4097 3450 3541 \nQ 3450 3153 3228 2886 \nQ 3006 2619 2597 2516 \nz\n\" transform=\"scale(0.015625)\"/>\n       </defs>\n       <use xlink:href=\"#DejaVuSans-33\"/>\n       <use xlink:href=\"#DejaVuSans-30\" x=\"63.623047\"/>\n       <use xlink:href=\"#DejaVuSans-30\" x=\"127.246094\"/>\n      </g>\n     </g>\n    </g>\n    <g id=\"xtick_4\">\n     <g id=\"line2d_7\">\n      <path d=\"M 395.901084 335.669582 \nL 395.901084 9.509582 \n\" clip-path=\"url(#pe397eff8cc)\" style=\"fill: none; stroke: #b0b0b0; stroke-width: 0.8; stroke-linecap: square\"/>\n     </g>\n     <g id=\"line2d_8\">\n      <g>\n       <use xlink:href=\"#mc6e64fdf90\" x=\"395.901084\" y=\"335.669582\" style=\"stroke: #000000; stroke-width: 0.8\"/>\n      </g>\n     </g>\n     <g id=\"text_4\">\n      <!-- 400 -->\n      <g transform=\"translate(386.357334 350.268019)scale(0.1 -0.1)\">\n       <defs>\n        <path id=\"DejaVuSans-34\" d=\"M 2419 4116 \nL 825 1625 \nL 2419 1625 \nL 2419 4116 \nz\nM 2253 4666 \nL 3047 4666 \nL 3047 1625 \nL 3713 1625 \nL 3713 1100 \nL 3047 1100 \nL 3047 0 \nL 2419 0 \nL 2419 1100 \nL 313 1100 \nL 313 1709 \nL 2253 4666 \nz\n\" transform=\"scale(0.015625)\"/>\n       </defs>\n       <use xlink:href=\"#DejaVuSans-34\"/>\n       <use xlink:href=\"#DejaVuSans-30\" x=\"63.623047\"/>\n       <use xlink:href=\"#DejaVuSans-30\" x=\"127.246094\"/>\n      </g>\n     </g>\n    </g>\n    <g id=\"xtick_5\">\n     <g id=\"line2d_9\">\n      <path d=\"M 487.003125 335.669582 \nL 487.003125 9.509582 \n\" clip-path=\"url(#pe397eff8cc)\" style=\"fill: none; stroke: #b0b0b0; stroke-width: 0.8; stroke-linecap: square\"/>\n     </g>\n     <g id=\"line2d_10\">\n      <g>\n       <use xlink:href=\"#mc6e64fdf90\" x=\"487.003125\" y=\"335.669582\" style=\"stroke: #000000; stroke-width: 0.8\"/>\n      </g>\n     </g>\n     <g id=\"text_5\">\n      <!-- 500 -->\n      <g transform=\"translate(477.459375 350.268019)scale(0.1 -0.1)\">\n       <defs>\n        <path id=\"DejaVuSans-35\" d=\"M 691 4666 \nL 3169 4666 \nL 3169 4134 \nL 1269 4134 \nL 1269 2991 \nQ 1406 3038 1543 3061 \nQ 1681 3084 1819 3084 \nQ 2600 3084 3056 2656 \nQ 3513 2228 3513 1497 \nQ 3513 744 3044 326 \nQ 2575 -91 1722 -91 \nQ 1428 -91 1123 -41 \nQ 819 9 494 109 \nL 494 744 \nQ 775 591 1075 516 \nQ 1375 441 1709 441 \nQ 2250 441 2565 725 \nQ 2881 1009 2881 1497 \nQ 2881 1984 2565 2268 \nQ 2250 2553 1709 2553 \nQ 1456 2553 1204 2497 \nQ 953 2441 691 2322 \nL 691 4666 \nz\n\" transform=\"scale(0.015625)\"/>\n       </defs>\n       <use xlink:href=\"#DejaVuSans-35\"/>\n       <use xlink:href=\"#DejaVuSans-30\" x=\"63.623047\"/>\n       <use xlink:href=\"#DejaVuSans-30\" x=\"127.246094\"/>\n      </g>\n     </g>\n    </g>\n    <g id=\"text_6\">\n     <!-- epoch -->\n     <g transform=\"translate(248.575 363.946144)scale(0.1 -0.1)\">\n      <defs>\n       <path id=\"DejaVuSans-65\" d=\"M 3597 1894 \nL 3597 1613 \nL 953 1613 \nQ 991 1019 1311 708 \nQ 1631 397 2203 397 \nQ 2534 397 2845 478 \nQ 3156 559 3463 722 \nL 3463 178 \nQ 3153 47 2828 -22 \nQ 2503 -91 2169 -91 \nQ 1331 -91 842 396 \nQ 353 884 353 1716 \nQ 353 2575 817 3079 \nQ 1281 3584 2069 3584 \nQ 2775 3584 3186 3129 \nQ 3597 2675 3597 1894 \nz\nM 3022 2063 \nQ 3016 2534 2758 2815 \nQ 2500 3097 2075 3097 \nQ 1594 3097 1305 2825 \nQ 1016 2553 972 2059 \nL 3022 2063 \nz\n\" transform=\"scale(0.015625)\"/>\n       <path id=\"DejaVuSans-70\" d=\"M 1159 525 \nL 1159 -1331 \nL 581 -1331 \nL 581 3500 \nL 1159 3500 \nL 1159 2969 \nQ 1341 3281 1617 3432 \nQ 1894 3584 2278 3584 \nQ 2916 3584 3314 3078 \nQ 3713 2572 3713 1747 \nQ 3713 922 3314 415 \nQ 2916 -91 2278 -91 \nQ 1894 -91 1617 61 \nQ 1341 213 1159 525 \nz\nM 3116 1747 \nQ 3116 2381 2855 2742 \nQ 2594 3103 2138 3103 \nQ 1681 3103 1420 2742 \nQ 1159 2381 1159 1747 \nQ 1159 1113 1420 752 \nQ 1681 391 2138 391 \nQ 2594 391 2855 752 \nQ 3116 1113 3116 1747 \nz\n\" transform=\"scale(0.015625)\"/>\n       <path id=\"DejaVuSans-6f\" d=\"M 1959 3097 \nQ 1497 3097 1228 2736 \nQ 959 2375 959 1747 \nQ 959 1119 1226 758 \nQ 1494 397 1959 397 \nQ 2419 397 2687 759 \nQ 2956 1122 2956 1747 \nQ 2956 2369 2687 2733 \nQ 2419 3097 1959 3097 \nz\nM 1959 3584 \nQ 2709 3584 3137 3096 \nQ 3566 2609 3566 1747 \nQ 3566 888 3137 398 \nQ 2709 -91 1959 -91 \nQ 1206 -91 779 398 \nQ 353 888 353 1747 \nQ 353 2609 779 3096 \nQ 1206 3584 1959 3584 \nz\n\" transform=\"scale(0.015625)\"/>\n       <path id=\"DejaVuSans-63\" d=\"M 3122 3366 \nL 3122 2828 \nQ 2878 2963 2633 3030 \nQ 2388 3097 2138 3097 \nQ 1578 3097 1268 2742 \nQ 959 2388 959 1747 \nQ 959 1106 1268 751 \nQ 1578 397 2138 397 \nQ 2388 397 2633 464 \nQ 2878 531 3122 666 \nL 3122 134 \nQ 2881 22 2623 -34 \nQ 2366 -91 2075 -91 \nQ 1284 -91 818 406 \nQ 353 903 353 1747 \nQ 353 2603 823 3093 \nQ 1294 3584 2113 3584 \nQ 2378 3584 2631 3529 \nQ 2884 3475 3122 3366 \nz\n\" transform=\"scale(0.015625)\"/>\n       <path id=\"DejaVuSans-68\" d=\"M 3513 2113 \nL 3513 0 \nL 2938 0 \nL 2938 2094 \nQ 2938 2591 2744 2837 \nQ 2550 3084 2163 3084 \nQ 1697 3084 1428 2787 \nQ 1159 2491 1159 1978 \nL 1159 0 \nL 581 0 \nL 581 4863 \nL 1159 4863 \nL 1159 2956 \nQ 1366 3272 1645 3428 \nQ 1925 3584 2291 3584 \nQ 2894 3584 3203 3211 \nQ 3513 2838 3513 2113 \nz\n\" transform=\"scale(0.015625)\"/>\n      </defs>\n      <use xlink:href=\"#DejaVuSans-65\"/>\n      <use xlink:href=\"#DejaVuSans-70\" x=\"61.523438\"/>\n      <use xlink:href=\"#DejaVuSans-6f\" x=\"125\"/>\n      <use xlink:href=\"#DejaVuSans-63\" x=\"186.181641\"/>\n      <use xlink:href=\"#DejaVuSans-68\" x=\"241.162109\"/>\n     </g>\n    </g>\n   </g>\n   <g id=\"matplotlib.axis_2\">\n    <g id=\"ytick_1\">\n     <g id=\"line2d_11\">\n      <path d=\"M 40.603125 305.111205 \nL 487.003125 305.111205 \n\" clip-path=\"url(#pe397eff8cc)\" style=\"fill: none; stroke: #b0b0b0; stroke-width: 0.8; stroke-linecap: square\"/>\n     </g>\n     <g id=\"line2d_12\">\n      <defs>\n       <path id=\"mf0e4fb3de6\" d=\"M 0 0 \nL -3.5 0 \n\" style=\"stroke: #000000; stroke-width: 0.8\"/>\n      </defs>\n      <g>\n       <use xlink:href=\"#mf0e4fb3de6\" x=\"40.603125\" y=\"305.111205\" style=\"stroke: #000000; stroke-width: 0.8\"/>\n      </g>\n     </g>\n     <g id=\"text_7\">\n      <!-- 2 -->\n      <g transform=\"translate(27.240625 308.910424)scale(0.1 -0.1)\">\n       <use xlink:href=\"#DejaVuSans-32\"/>\n      </g>\n     </g>\n    </g>\n    <g id=\"ytick_2\">\n     <g id=\"line2d_13\">\n      <path d=\"M 40.603125 256.092541 \nL 487.003125 256.092541 \n\" clip-path=\"url(#pe397eff8cc)\" style=\"fill: none; stroke: #b0b0b0; stroke-width: 0.8; stroke-linecap: square\"/>\n     </g>\n     <g id=\"line2d_14\">\n      <g>\n       <use xlink:href=\"#mf0e4fb3de6\" x=\"40.603125\" y=\"256.092541\" style=\"stroke: #000000; stroke-width: 0.8\"/>\n      </g>\n     </g>\n     <g id=\"text_8\">\n      <!-- 4 -->\n      <g transform=\"translate(27.240625 259.891759)scale(0.1 -0.1)\">\n       <use xlink:href=\"#DejaVuSans-34\"/>\n      </g>\n     </g>\n    </g>\n    <g id=\"ytick_3\">\n     <g id=\"line2d_15\">\n      <path d=\"M 40.603125 207.073876 \nL 487.003125 207.073876 \n\" clip-path=\"url(#pe397eff8cc)\" style=\"fill: none; stroke: #b0b0b0; stroke-width: 0.8; stroke-linecap: square\"/>\n     </g>\n     <g id=\"line2d_16\">\n      <g>\n       <use xlink:href=\"#mf0e4fb3de6\" x=\"40.603125\" y=\"207.073876\" style=\"stroke: #000000; stroke-width: 0.8\"/>\n      </g>\n     </g>\n     <g id=\"text_9\">\n      <!-- 6 -->\n      <g transform=\"translate(27.240625 210.873095)scale(0.1 -0.1)\">\n       <defs>\n        <path id=\"DejaVuSans-36\" d=\"M 2113 2584 \nQ 1688 2584 1439 2293 \nQ 1191 2003 1191 1497 \nQ 1191 994 1439 701 \nQ 1688 409 2113 409 \nQ 2538 409 2786 701 \nQ 3034 994 3034 1497 \nQ 3034 2003 2786 2293 \nQ 2538 2584 2113 2584 \nz\nM 3366 4563 \nL 3366 3988 \nQ 3128 4100 2886 4159 \nQ 2644 4219 2406 4219 \nQ 1781 4219 1451 3797 \nQ 1122 3375 1075 2522 \nQ 1259 2794 1537 2939 \nQ 1816 3084 2150 3084 \nQ 2853 3084 3261 2657 \nQ 3669 2231 3669 1497 \nQ 3669 778 3244 343 \nQ 2819 -91 2113 -91 \nQ 1303 -91 875 529 \nQ 447 1150 447 2328 \nQ 447 3434 972 4092 \nQ 1497 4750 2381 4750 \nQ 2619 4750 2861 4703 \nQ 3103 4656 3366 4563 \nz\n\" transform=\"scale(0.015625)\"/>\n       </defs>\n       <use xlink:href=\"#DejaVuSans-36\"/>\n      </g>\n     </g>\n    </g>\n    <g id=\"ytick_4\">\n     <g id=\"line2d_17\">\n      <path d=\"M 40.603125 158.055212 \nL 487.003125 158.055212 \n\" clip-path=\"url(#pe397eff8cc)\" style=\"fill: none; stroke: #b0b0b0; stroke-width: 0.8; stroke-linecap: square\"/>\n     </g>\n     <g id=\"line2d_18\">\n      <g>\n       <use xlink:href=\"#mf0e4fb3de6\" x=\"40.603125\" y=\"158.055212\" style=\"stroke: #000000; stroke-width: 0.8\"/>\n      </g>\n     </g>\n     <g id=\"text_10\">\n      <!-- 8 -->\n      <g transform=\"translate(27.240625 161.854431)scale(0.1 -0.1)\">\n       <defs>\n        <path id=\"DejaVuSans-38\" d=\"M 2034 2216 \nQ 1584 2216 1326 1975 \nQ 1069 1734 1069 1313 \nQ 1069 891 1326 650 \nQ 1584 409 2034 409 \nQ 2484 409 2743 651 \nQ 3003 894 3003 1313 \nQ 3003 1734 2745 1975 \nQ 2488 2216 2034 2216 \nz\nM 1403 2484 \nQ 997 2584 770 2862 \nQ 544 3141 544 3541 \nQ 544 4100 942 4425 \nQ 1341 4750 2034 4750 \nQ 2731 4750 3128 4425 \nQ 3525 4100 3525 3541 \nQ 3525 3141 3298 2862 \nQ 3072 2584 2669 2484 \nQ 3125 2378 3379 2068 \nQ 3634 1759 3634 1313 \nQ 3634 634 3220 271 \nQ 2806 -91 2034 -91 \nQ 1263 -91 848 271 \nQ 434 634 434 1313 \nQ 434 1759 690 2068 \nQ 947 2378 1403 2484 \nz\nM 1172 3481 \nQ 1172 3119 1398 2916 \nQ 1625 2713 2034 2713 \nQ 2441 2713 2670 2916 \nQ 2900 3119 2900 3481 \nQ 2900 3844 2670 4047 \nQ 2441 4250 2034 4250 \nQ 1625 4250 1398 4047 \nQ 1172 3844 1172 3481 \nz\n\" transform=\"scale(0.015625)\"/>\n       </defs>\n       <use xlink:href=\"#DejaVuSans-38\"/>\n      </g>\n     </g>\n    </g>\n    <g id=\"ytick_5\">\n     <g id=\"line2d_19\">\n      <path d=\"M 40.603125 109.036548 \nL 487.003125 109.036548 \n\" clip-path=\"url(#pe397eff8cc)\" style=\"fill: none; stroke: #b0b0b0; stroke-width: 0.8; stroke-linecap: square\"/>\n     </g>\n     <g id=\"line2d_20\">\n      <g>\n       <use xlink:href=\"#mf0e4fb3de6\" x=\"40.603125\" y=\"109.036548\" style=\"stroke: #000000; stroke-width: 0.8\"/>\n      </g>\n     </g>\n     <g id=\"text_11\">\n      <!-- 10 -->\n      <g transform=\"translate(20.878125 112.835766)scale(0.1 -0.1)\">\n       <use xlink:href=\"#DejaVuSans-31\"/>\n       <use xlink:href=\"#DejaVuSans-30\" x=\"63.623047\"/>\n      </g>\n     </g>\n    </g>\n    <g id=\"ytick_6\">\n     <g id=\"line2d_21\">\n      <path d=\"M 40.603125 60.017883 \nL 487.003125 60.017883 \n\" clip-path=\"url(#pe397eff8cc)\" style=\"fill: none; stroke: #b0b0b0; stroke-width: 0.8; stroke-linecap: square\"/>\n     </g>\n     <g id=\"line2d_22\">\n      <g>\n       <use xlink:href=\"#mf0e4fb3de6\" x=\"40.603125\" y=\"60.017883\" style=\"stroke: #000000; stroke-width: 0.8\"/>\n      </g>\n     </g>\n     <g id=\"text_12\">\n      <!-- 12 -->\n      <g transform=\"translate(20.878125 63.817102)scale(0.1 -0.1)\">\n       <use xlink:href=\"#DejaVuSans-31\"/>\n       <use xlink:href=\"#DejaVuSans-32\" x=\"63.623047\"/>\n      </g>\n     </g>\n    </g>\n    <g id=\"ytick_7\">\n     <g id=\"line2d_23\">\n      <path d=\"M 40.603125 10.999219 \nL 487.003125 10.999219 \n\" clip-path=\"url(#pe397eff8cc)\" style=\"fill: none; stroke: #b0b0b0; stroke-width: 0.8; stroke-linecap: square\"/>\n     </g>\n     <g id=\"line2d_24\">\n      <g>\n       <use xlink:href=\"#mf0e4fb3de6\" x=\"40.603125\" y=\"10.999219\" style=\"stroke: #000000; stroke-width: 0.8\"/>\n      </g>\n     </g>\n     <g id=\"text_13\">\n      <!-- 14 -->\n      <g transform=\"translate(20.878125 14.798437)scale(0.1 -0.1)\">\n       <use xlink:href=\"#DejaVuSans-31\"/>\n       <use xlink:href=\"#DejaVuSans-34\" x=\"63.623047\"/>\n      </g>\n     </g>\n    </g>\n    <g id=\"text_14\">\n     <!-- perplexity -->\n     <g transform=\"translate(14.798438 197.716144)rotate(-90)scale(0.1 -0.1)\">\n      <defs>\n       <path id=\"DejaVuSans-72\" d=\"M 2631 2963 \nQ 2534 3019 2420 3045 \nQ 2306 3072 2169 3072 \nQ 1681 3072 1420 2755 \nQ 1159 2438 1159 1844 \nL 1159 0 \nL 581 0 \nL 581 3500 \nL 1159 3500 \nL 1159 2956 \nQ 1341 3275 1631 3429 \nQ 1922 3584 2338 3584 \nQ 2397 3584 2469 3576 \nQ 2541 3569 2628 3553 \nL 2631 2963 \nz\n\" transform=\"scale(0.015625)\"/>\n       <path id=\"DejaVuSans-6c\" d=\"M 603 4863 \nL 1178 4863 \nL 1178 0 \nL 603 0 \nL 603 4863 \nz\n\" transform=\"scale(0.015625)\"/>\n       <path id=\"DejaVuSans-78\" d=\"M 3513 3500 \nL 2247 1797 \nL 3578 0 \nL 2900 0 \nL 1881 1375 \nL 863 0 \nL 184 0 \nL 1544 1831 \nL 300 3500 \nL 978 3500 \nL 1906 2253 \nL 2834 3500 \nL 3513 3500 \nz\n\" transform=\"scale(0.015625)\"/>\n       <path id=\"DejaVuSans-69\" d=\"M 603 3500 \nL 1178 3500 \nL 1178 0 \nL 603 0 \nL 603 3500 \nz\nM 603 4863 \nL 1178 4863 \nL 1178 4134 \nL 603 4134 \nL 603 4863 \nz\n\" transform=\"scale(0.015625)\"/>\n       <path id=\"DejaVuSans-74\" d=\"M 1172 4494 \nL 1172 3500 \nL 2356 3500 \nL 2356 3053 \nL 1172 3053 \nL 1172 1153 \nQ 1172 725 1289 603 \nQ 1406 481 1766 481 \nL 2356 481 \nL 2356 0 \nL 1766 0 \nQ 1100 0 847 248 \nQ 594 497 594 1153 \nL 594 3053 \nL 172 3053 \nL 172 3500 \nL 594 3500 \nL 594 4494 \nL 1172 4494 \nz\n\" transform=\"scale(0.015625)\"/>\n       <path id=\"DejaVuSans-79\" d=\"M 2059 -325 \nQ 1816 -950 1584 -1140 \nQ 1353 -1331 966 -1331 \nL 506 -1331 \nL 506 -850 \nL 844 -850 \nQ 1081 -850 1212 -737 \nQ 1344 -625 1503 -206 \nL 1606 56 \nL 191 3500 \nL 800 3500 \nL 1894 763 \nL 2988 3500 \nL 3597 3500 \nL 2059 -325 \nz\n\" transform=\"scale(0.015625)\"/>\n      </defs>\n      <use xlink:href=\"#DejaVuSans-70\"/>\n      <use xlink:href=\"#DejaVuSans-65\" x=\"63.476562\"/>\n      <use xlink:href=\"#DejaVuSans-72\" x=\"125\"/>\n      <use xlink:href=\"#DejaVuSans-70\" x=\"166.113281\"/>\n      <use xlink:href=\"#DejaVuSans-6c\" x=\"229.589844\"/>\n      <use xlink:href=\"#DejaVuSans-65\" x=\"257.373047\"/>\n      <use xlink:href=\"#DejaVuSans-78\" x=\"317.146484\"/>\n      <use xlink:href=\"#DejaVuSans-69\" x=\"376.326172\"/>\n      <use xlink:href=\"#DejaVuSans-74\" x=\"404.109375\"/>\n      <use xlink:href=\"#DejaVuSans-79\" x=\"443.318359\"/>\n     </g>\n    </g>\n   </g>\n   <g id=\"line2d_25\">\n    <path d=\"M 40.603125 24.335036 \nL 49.713329 95.142035 \nL 58.823533 116.56296 \nL 67.933737 131.020898 \nL 77.043941 140.408744 \nL 86.154145 148.573662 \nL 95.264349 156.71629 \nL 104.374554 159.591669 \nL 113.484758 163.142411 \nL 122.594962 168.223876 \nL 131.705166 173.058217 \nL 140.81537 181.345859 \nL 149.925574 185.391531 \nL 159.035778 192.442172 \nL 168.145982 203.60545 \nL 177.256186 208.39484 \nL 186.36639 218.758637 \nL 195.476594 226.338288 \nL 204.586798 236.173815 \nL 213.697003 251.328391 \nL 222.807207 260.442257 \nL 231.917411 272.50411 \nL 241.027615 282.650073 \nL 250.137819 286.445054 \nL 259.248023 292.703766 \nL 268.358227 296.431624 \nL 277.468431 297.952056 \nL 286.578635 306.515484 \nL 295.688839 309.443304 \nL 304.799043 303.32324 \nL 313.909247 311.403984 \nL 323.019452 310.762765 \nL 332.129656 314.12083 \nL 341.23986 311.254292 \nL 350.350064 315.587094 \nL 359.460268 316.077183 \nL 368.570472 317.858727 \nL 377.680676 314.195507 \nL 386.79088 315.231131 \nL 395.901084 318.960427 \nL 405.011288 315.914846 \nL 414.121492 315.792142 \nL 423.231696 320.720052 \nL 432.341901 314.445293 \nL 441.452105 316.562836 \nL 450.562309 318.30475 \nL 459.672513 320.844127 \nL 468.782717 317.621139 \nL 477.892921 318.769296 \nL 487.003125 317.569094 \n\" clip-path=\"url(#pe397eff8cc)\" style=\"fill: none; stroke: #1f77b4; stroke-width: 1.5; stroke-linecap: square\"/>\n   </g>\n   <g id=\"patch_3\">\n    <path d=\"M 40.603125 335.669582 \nL 40.603125 9.509582 \n\" style=\"fill: none; stroke: #000000; stroke-width: 0.8; stroke-linejoin: miter; stroke-linecap: square\"/>\n   </g>\n   <g id=\"patch_4\">\n    <path d=\"M 487.003125 335.669582 \nL 487.003125 9.509582 \n\" style=\"fill: none; stroke: #000000; stroke-width: 0.8; stroke-linejoin: miter; stroke-linecap: square\"/>\n   </g>\n   <g id=\"patch_5\">\n    <path d=\"M 40.603125 335.669582 \nL 487.003125 335.669582 \n\" style=\"fill: none; stroke: #000000; stroke-width: 0.8; stroke-linejoin: miter; stroke-linecap: square\"/>\n   </g>\n   <g id=\"patch_6\">\n    <path d=\"M 40.603125 9.509582 \nL 487.003125 9.509582 \n\" style=\"fill: none; stroke: #000000; stroke-width: 0.8; stroke-linejoin: miter; stroke-linecap: square\"/>\n   </g>\n   <g id=\"legend_1\">\n    <g id=\"patch_7\">\n     <path d=\"M 424.728125 32.187707 \nL 480.003125 32.187707 \nQ 482.003125 32.187707 482.003125 30.187707 \nL 482.003125 16.509582 \nQ 482.003125 14.509582 480.003125 14.509582 \nL 424.728125 14.509582 \nQ 422.728125 14.509582 422.728125 16.509582 \nL 422.728125 30.187707 \nQ 422.728125 32.187707 424.728125 32.187707 \nz\n\" style=\"fill: #ffffff; opacity: 0.8; stroke: #cccccc; stroke-linejoin: miter\"/>\n    </g>\n    <g id=\"line2d_26\">\n     <path d=\"M 426.728125 22.608019 \nL 436.728125 22.608019 \nL 446.728125 22.608019 \n\" style=\"fill: none; stroke: #1f77b4; stroke-width: 1.5; stroke-linecap: square\"/>\n    </g>\n    <g id=\"text_15\">\n     <!-- train -->\n     <g transform=\"translate(454.728125 26.108019)scale(0.1 -0.1)\">\n      <defs>\n       <path id=\"DejaVuSans-61\" d=\"M 2194 1759 \nQ 1497 1759 1228 1600 \nQ 959 1441 959 1056 \nQ 959 750 1161 570 \nQ 1363 391 1709 391 \nQ 2188 391 2477 730 \nQ 2766 1069 2766 1631 \nL 2766 1759 \nL 2194 1759 \nz\nM 3341 1997 \nL 3341 0 \nL 2766 0 \nL 2766 531 \nQ 2569 213 2275 61 \nQ 1981 -91 1556 -91 \nQ 1019 -91 701 211 \nQ 384 513 384 1019 \nQ 384 1609 779 1909 \nQ 1175 2209 1959 2209 \nL 2766 2209 \nL 2766 2266 \nQ 2766 2663 2505 2880 \nQ 2244 3097 1772 3097 \nQ 1472 3097 1187 3025 \nQ 903 2953 641 2809 \nL 641 3341 \nQ 956 3463 1253 3523 \nQ 1550 3584 1831 3584 \nQ 2591 3584 2966 3190 \nQ 3341 2797 3341 1997 \nz\n\" transform=\"scale(0.015625)\"/>\n       <path id=\"DejaVuSans-6e\" d=\"M 3513 2113 \nL 3513 0 \nL 2938 0 \nL 2938 2094 \nQ 2938 2591 2744 2837 \nQ 2550 3084 2163 3084 \nQ 1697 3084 1428 2787 \nQ 1159 2491 1159 1978 \nL 1159 0 \nL 581 0 \nL 581 3500 \nL 1159 3500 \nL 1159 2956 \nQ 1366 3272 1645 3428 \nQ 1925 3584 2291 3584 \nQ 2894 3584 3203 3211 \nQ 3513 2838 3513 2113 \nz\n\" transform=\"scale(0.015625)\"/>\n      </defs>\n      <use xlink:href=\"#DejaVuSans-74\"/>\n      <use xlink:href=\"#DejaVuSans-72\" x=\"39.208984\"/>\n      <use xlink:href=\"#DejaVuSans-61\" x=\"80.322266\"/>\n      <use xlink:href=\"#DejaVuSans-69\" x=\"141.601562\"/>\n      <use xlink:href=\"#DejaVuSans-6e\" x=\"169.384766\"/>\n     </g>\n    </g>\n   </g>\n  </g>\n </g>\n <defs>\n  <clipPath id=\"pe397eff8cc\">\n   <rect x=\"40.603125\" y=\"9.509582\" width=\"446.4\" height=\"326.16\"/>\n  </clipPath>\n </defs>\n</svg>\n",
      "text/plain": [
       "<Figure size 576x432 with 1 Axes>"
      ]
     },
     "metadata": {
      "needs_background": "light"
     },
     "output_type": "display_data"
    }
   ],
   "source": [
    "device = try_gpu()\n",
    "net1 = RNNModelScratch(n_tokens, num_hiddens, init_params, device=try_gpu())\n",
    "h_train, h_batch = train(net1, train_iter, vocab, lr, num_epochs, use_random_iter=True, device=try_gpu())\n"
   ]
  },
  {
   "cell_type": "code",
   "execution_count": 69,
   "metadata": {},
   "outputs": [],
   "source": [
    "df_train1 = pd.DataFrame.from_dict(h_train.data)"
   ]
  },
  {
   "cell_type": "code",
   "execution_count": 72,
   "metadata": {},
   "outputs": [
    {
     "data": {
      "text/plain": [
       "<AxesSubplot:>"
      ]
     },
     "execution_count": 72,
     "metadata": {},
     "output_type": "execute_result"
    },
    {
     "data": {
      "image/svg+xml": "<?xml version=\"1.0\" encoding=\"utf-8\" standalone=\"no\"?>\n<!DOCTYPE svg PUBLIC \"-//W3C//DTD SVG 1.1//EN\"\n  \"http://www.w3.org/Graphics/SVG/1.1/DTD/svg11.dtd\">\n<svg xmlns:xlink=\"http://www.w3.org/1999/xlink\" width=\"368.925pt\" height=\"248.518125pt\" viewBox=\"0 0 368.925 248.518125\" xmlns=\"http://www.w3.org/2000/svg\" version=\"1.1\">\n <metadata>\n  <rdf:RDF xmlns:dc=\"http://purl.org/dc/elements/1.1/\" xmlns:cc=\"http://creativecommons.org/ns#\" xmlns:rdf=\"http://www.w3.org/1999/02/22-rdf-syntax-ns#\">\n   <cc:Work>\n    <dc:type rdf:resource=\"http://purl.org/dc/dcmitype/StillImage\"/>\n    <dc:date>2022-06-23T17:00:06.708042</dc:date>\n    <dc:format>image/svg+xml</dc:format>\n    <dc:creator>\n     <cc:Agent>\n      <dc:title>Matplotlib v3.5.1, https://matplotlib.org/</dc:title>\n     </cc:Agent>\n    </dc:creator>\n   </cc:Work>\n  </rdf:RDF>\n </metadata>\n <defs>\n  <style type=\"text/css\">*{stroke-linejoin: round; stroke-linecap: butt}</style>\n </defs>\n <g id=\"figure_1\">\n  <g id=\"patch_1\">\n   <path d=\"M -0 248.518125 \nL 368.925 248.518125 \nL 368.925 0 \nL -0 0 \nL -0 248.518125 \nz\n\" style=\"fill: none\"/>\n  </g>\n  <g id=\"axes_1\">\n   <g id=\"patch_2\">\n    <path d=\"M 26.925 224.64 \nL 361.725 224.64 \nL 361.725 7.2 \nL 26.925 7.2 \nz\n\" style=\"fill: #ffffff\"/>\n   </g>\n   <g id=\"matplotlib.axis_1\">\n    <g id=\"xtick_1\">\n     <g id=\"line2d_1\">\n      <defs>\n       <path id=\"m539185783a\" d=\"M 0 0 \nL 0 3.5 \n\" style=\"stroke: #000000; stroke-width: 0.8\"/>\n      </defs>\n      <g>\n       <use xlink:href=\"#m539185783a\" x=\"42.143182\" y=\"224.64\" style=\"stroke: #000000; stroke-width: 0.8\"/>\n      </g>\n     </g>\n     <g id=\"text_1\">\n      <!-- 0 -->\n      <g transform=\"translate(38.961932 239.238438)scale(0.1 -0.1)\">\n       <defs>\n        <path id=\"DejaVuSans-30\" d=\"M 2034 4250 \nQ 1547 4250 1301 3770 \nQ 1056 3291 1056 2328 \nQ 1056 1369 1301 889 \nQ 1547 409 2034 409 \nQ 2525 409 2770 889 \nQ 3016 1369 3016 2328 \nQ 3016 3291 2770 3770 \nQ 2525 4250 2034 4250 \nz\nM 2034 4750 \nQ 2819 4750 3233 4129 \nQ 3647 3509 3647 2328 \nQ 3647 1150 3233 529 \nQ 2819 -91 2034 -91 \nQ 1250 -91 836 529 \nQ 422 1150 422 2328 \nQ 422 3509 836 4129 \nQ 1250 4750 2034 4750 \nz\n\" transform=\"scale(0.015625)\"/>\n       </defs>\n       <use xlink:href=\"#DejaVuSans-30\"/>\n      </g>\n     </g>\n    </g>\n    <g id=\"xtick_2\">\n     <g id=\"line2d_2\">\n      <g>\n       <use xlink:href=\"#m539185783a\" x=\"103.137899\" y=\"224.64\" style=\"stroke: #000000; stroke-width: 0.8\"/>\n      </g>\n     </g>\n     <g id=\"text_2\">\n      <!-- 100 -->\n      <g transform=\"translate(93.594149 239.238438)scale(0.1 -0.1)\">\n       <defs>\n        <path id=\"DejaVuSans-31\" d=\"M 794 531 \nL 1825 531 \nL 1825 4091 \nL 703 3866 \nL 703 4441 \nL 1819 4666 \nL 2450 4666 \nL 2450 531 \nL 3481 531 \nL 3481 0 \nL 794 0 \nL 794 531 \nz\n\" transform=\"scale(0.015625)\"/>\n       </defs>\n       <use xlink:href=\"#DejaVuSans-31\"/>\n       <use xlink:href=\"#DejaVuSans-30\" x=\"63.623047\"/>\n       <use xlink:href=\"#DejaVuSans-30\" x=\"127.246094\"/>\n      </g>\n     </g>\n    </g>\n    <g id=\"xtick_3\">\n     <g id=\"line2d_3\">\n      <g>\n       <use xlink:href=\"#m539185783a\" x=\"164.132615\" y=\"224.64\" style=\"stroke: #000000; stroke-width: 0.8\"/>\n      </g>\n     </g>\n     <g id=\"text_3\">\n      <!-- 200 -->\n      <g transform=\"translate(154.588865 239.238438)scale(0.1 -0.1)\">\n       <defs>\n        <path id=\"DejaVuSans-32\" d=\"M 1228 531 \nL 3431 531 \nL 3431 0 \nL 469 0 \nL 469 531 \nQ 828 903 1448 1529 \nQ 2069 2156 2228 2338 \nQ 2531 2678 2651 2914 \nQ 2772 3150 2772 3378 \nQ 2772 3750 2511 3984 \nQ 2250 4219 1831 4219 \nQ 1534 4219 1204 4116 \nQ 875 4013 500 3803 \nL 500 4441 \nQ 881 4594 1212 4672 \nQ 1544 4750 1819 4750 \nQ 2544 4750 2975 4387 \nQ 3406 4025 3406 3419 \nQ 3406 3131 3298 2873 \nQ 3191 2616 2906 2266 \nQ 2828 2175 2409 1742 \nQ 1991 1309 1228 531 \nz\n\" transform=\"scale(0.015625)\"/>\n       </defs>\n       <use xlink:href=\"#DejaVuSans-32\"/>\n       <use xlink:href=\"#DejaVuSans-30\" x=\"63.623047\"/>\n       <use xlink:href=\"#DejaVuSans-30\" x=\"127.246094\"/>\n      </g>\n     </g>\n    </g>\n    <g id=\"xtick_4\">\n     <g id=\"line2d_4\">\n      <g>\n       <use xlink:href=\"#m539185783a\" x=\"225.127332\" y=\"224.64\" style=\"stroke: #000000; stroke-width: 0.8\"/>\n      </g>\n     </g>\n     <g id=\"text_4\">\n      <!-- 300 -->\n      <g transform=\"translate(215.583582 239.238438)scale(0.1 -0.1)\">\n       <defs>\n        <path id=\"DejaVuSans-33\" d=\"M 2597 2516 \nQ 3050 2419 3304 2112 \nQ 3559 1806 3559 1356 \nQ 3559 666 3084 287 \nQ 2609 -91 1734 -91 \nQ 1441 -91 1130 -33 \nQ 819 25 488 141 \nL 488 750 \nQ 750 597 1062 519 \nQ 1375 441 1716 441 \nQ 2309 441 2620 675 \nQ 2931 909 2931 1356 \nQ 2931 1769 2642 2001 \nQ 2353 2234 1838 2234 \nL 1294 2234 \nL 1294 2753 \nL 1863 2753 \nQ 2328 2753 2575 2939 \nQ 2822 3125 2822 3475 \nQ 2822 3834 2567 4026 \nQ 2313 4219 1838 4219 \nQ 1578 4219 1281 4162 \nQ 984 4106 628 3988 \nL 628 4550 \nQ 988 4650 1302 4700 \nQ 1616 4750 1894 4750 \nQ 2613 4750 3031 4423 \nQ 3450 4097 3450 3541 \nQ 3450 3153 3228 2886 \nQ 3006 2619 2597 2516 \nz\n\" transform=\"scale(0.015625)\"/>\n       </defs>\n       <use xlink:href=\"#DejaVuSans-33\"/>\n       <use xlink:href=\"#DejaVuSans-30\" x=\"63.623047\"/>\n       <use xlink:href=\"#DejaVuSans-30\" x=\"127.246094\"/>\n      </g>\n     </g>\n    </g>\n    <g id=\"xtick_5\">\n     <g id=\"line2d_5\">\n      <g>\n       <use xlink:href=\"#m539185783a\" x=\"286.122049\" y=\"224.64\" style=\"stroke: #000000; stroke-width: 0.8\"/>\n      </g>\n     </g>\n     <g id=\"text_5\">\n      <!-- 400 -->\n      <g transform=\"translate(276.578299 239.238438)scale(0.1 -0.1)\">\n       <defs>\n        <path id=\"DejaVuSans-34\" d=\"M 2419 4116 \nL 825 1625 \nL 2419 1625 \nL 2419 4116 \nz\nM 2253 4666 \nL 3047 4666 \nL 3047 1625 \nL 3713 1625 \nL 3713 1100 \nL 3047 1100 \nL 3047 0 \nL 2419 0 \nL 2419 1100 \nL 313 1100 \nL 313 1709 \nL 2253 4666 \nz\n\" transform=\"scale(0.015625)\"/>\n       </defs>\n       <use xlink:href=\"#DejaVuSans-34\"/>\n       <use xlink:href=\"#DejaVuSans-30\" x=\"63.623047\"/>\n       <use xlink:href=\"#DejaVuSans-30\" x=\"127.246094\"/>\n      </g>\n     </g>\n    </g>\n    <g id=\"xtick_6\">\n     <g id=\"line2d_6\">\n      <g>\n       <use xlink:href=\"#m539185783a\" x=\"347.116765\" y=\"224.64\" style=\"stroke: #000000; stroke-width: 0.8\"/>\n      </g>\n     </g>\n     <g id=\"text_6\">\n      <!-- 500 -->\n      <g transform=\"translate(337.573015 239.238438)scale(0.1 -0.1)\">\n       <defs>\n        <path id=\"DejaVuSans-35\" d=\"M 691 4666 \nL 3169 4666 \nL 3169 4134 \nL 1269 4134 \nL 1269 2991 \nQ 1406 3038 1543 3061 \nQ 1681 3084 1819 3084 \nQ 2600 3084 3056 2656 \nQ 3513 2228 3513 1497 \nQ 3513 744 3044 326 \nQ 2575 -91 1722 -91 \nQ 1428 -91 1123 -41 \nQ 819 9 494 109 \nL 494 744 \nQ 775 591 1075 516 \nQ 1375 441 1709 441 \nQ 2250 441 2565 725 \nQ 2881 1009 2881 1497 \nQ 2881 1984 2565 2268 \nQ 2250 2553 1709 2553 \nQ 1456 2553 1204 2497 \nQ 953 2441 691 2322 \nL 691 4666 \nz\n\" transform=\"scale(0.015625)\"/>\n       </defs>\n       <use xlink:href=\"#DejaVuSans-35\"/>\n       <use xlink:href=\"#DejaVuSans-30\" x=\"63.623047\"/>\n       <use xlink:href=\"#DejaVuSans-30\" x=\"127.246094\"/>\n      </g>\n     </g>\n    </g>\n   </g>\n   <g id=\"matplotlib.axis_2\">\n    <g id=\"ytick_1\">\n     <g id=\"line2d_7\">\n      <defs>\n       <path id=\"m7a5a230d6c\" d=\"M 0 0 \nL -3.5 0 \n\" style=\"stroke: #000000; stroke-width: 0.8\"/>\n      </defs>\n      <g>\n       <use xlink:href=\"#m7a5a230d6c\" x=\"26.925\" y=\"223.21693\" style=\"stroke: #000000; stroke-width: 0.8\"/>\n      </g>\n     </g>\n     <g id=\"text_7\">\n      <!-- 0 -->\n      <g transform=\"translate(13.5625 227.016149)scale(0.1 -0.1)\">\n       <use xlink:href=\"#DejaVuSans-30\"/>\n      </g>\n     </g>\n    </g>\n    <g id=\"ytick_2\">\n     <g id=\"line2d_8\">\n      <g>\n       <use xlink:href=\"#m7a5a230d6c\" x=\"26.925\" y=\"181.613439\" style=\"stroke: #000000; stroke-width: 0.8\"/>\n      </g>\n     </g>\n     <g id=\"text_8\">\n      <!-- 5 -->\n      <g transform=\"translate(13.5625 185.412658)scale(0.1 -0.1)\">\n       <use xlink:href=\"#DejaVuSans-35\"/>\n      </g>\n     </g>\n    </g>\n    <g id=\"ytick_3\">\n     <g id=\"line2d_9\">\n      <g>\n       <use xlink:href=\"#m7a5a230d6c\" x=\"26.925\" y=\"140.009948\" style=\"stroke: #000000; stroke-width: 0.8\"/>\n      </g>\n     </g>\n     <g id=\"text_9\">\n      <!-- 10 -->\n      <g transform=\"translate(7.2 143.809167)scale(0.1 -0.1)\">\n       <use xlink:href=\"#DejaVuSans-31\"/>\n       <use xlink:href=\"#DejaVuSans-30\" x=\"63.623047\"/>\n      </g>\n     </g>\n    </g>\n    <g id=\"ytick_4\">\n     <g id=\"line2d_10\">\n      <g>\n       <use xlink:href=\"#m7a5a230d6c\" x=\"26.925\" y=\"98.406457\" style=\"stroke: #000000; stroke-width: 0.8\"/>\n      </g>\n     </g>\n     <g id=\"text_10\">\n      <!-- 15 -->\n      <g transform=\"translate(7.2 102.205676)scale(0.1 -0.1)\">\n       <use xlink:href=\"#DejaVuSans-31\"/>\n       <use xlink:href=\"#DejaVuSans-35\" x=\"63.623047\"/>\n      </g>\n     </g>\n    </g>\n    <g id=\"ytick_5\">\n     <g id=\"line2d_11\">\n      <g>\n       <use xlink:href=\"#m7a5a230d6c\" x=\"26.925\" y=\"56.802966\" style=\"stroke: #000000; stroke-width: 0.8\"/>\n      </g>\n     </g>\n     <g id=\"text_11\">\n      <!-- 20 -->\n      <g transform=\"translate(7.2 60.602185)scale(0.1 -0.1)\">\n       <use xlink:href=\"#DejaVuSans-32\"/>\n       <use xlink:href=\"#DejaVuSans-30\" x=\"63.623047\"/>\n      </g>\n     </g>\n    </g>\n    <g id=\"ytick_6\">\n     <g id=\"line2d_12\">\n      <g>\n       <use xlink:href=\"#m7a5a230d6c\" x=\"26.925\" y=\"15.199475\" style=\"stroke: #000000; stroke-width: 0.8\"/>\n      </g>\n     </g>\n     <g id=\"text_12\">\n      <!-- 25 -->\n      <g transform=\"translate(7.2 18.998694)scale(0.1 -0.1)\">\n       <use xlink:href=\"#DejaVuSans-32\"/>\n       <use xlink:href=\"#DejaVuSans-35\" x=\"63.623047\"/>\n      </g>\n     </g>\n    </g>\n   </g>\n   <g id=\"line2d_13\">\n    <path d=\"M 42.143182 17.083636 \nL 42.753129 59.026674 \nL 43.363076 75.05178 \nL 43.973023 77.136966 \nL 44.58297 80.334716 \nL 45.802865 89.026169 \nL 47.022759 102.953552 \nL 48.242653 115.292155 \nL 48.852601 119.92879 \nL 50.072495 126.344306 \nL 50.682442 127.257925 \nL 51.292389 129.738903 \nL 52.512284 131.821259 \nL 53.122231 134.65725 \nL 53.732178 134.392343 \nL 54.342125 136.506008 \nL 54.952072 136.100425 \nL 56.171967 138.502837 \nL 56.781914 139.654628 \nL 57.391861 139.509614 \nL 58.001808 140.725378 \nL 58.611755 142.275955 \nL 59.221702 141.518951 \nL 59.83165 143.755029 \nL 60.441597 143.873807 \nL 61.051544 144.777833 \nL 62.271438 145.903846 \nL 62.881385 146.715781 \nL 63.491333 146.396078 \nL 64.10128 147.477284 \nL 64.711227 147.429407 \nL 65.321174 148.392896 \nL 65.931121 147.929187 \nL 67.151016 149.830133 \nL 67.760963 149.267934 \nL 69.590804 150.553159 \nL 70.200752 150.85819 \nL 70.810699 150.696227 \nL 71.420646 151.342805 \nL 72.64054 151.75058 \nL 73.250487 152.670608 \nL 73.860435 153.316114 \nL 74.470382 152.839742 \nL 75.080329 153.949043 \nL 75.690276 152.449345 \nL 76.300223 154.396403 \nL 76.91017 153.85316 \nL 77.520118 153.958763 \nL 78.130065 154.63292 \nL 78.740012 154.145926 \nL 79.959906 155.251944 \nL 80.569853 154.878487 \nL 81.179801 155.881977 \nL 81.789748 154.872397 \nL 82.399695 156.008974 \nL 83.009642 156.112133 \nL 83.619589 155.818653 \nL 84.229536 157.091991 \nL 84.839484 156.206189 \nL 85.449431 156.628354 \nL 86.059378 156.707575 \nL 86.669325 157.311828 \nL 87.279272 157.196215 \nL 87.889219 157.307961 \nL 88.499167 156.915583 \nL 89.109114 157.887474 \nL 89.719061 157.940203 \nL 90.329008 157.864575 \nL 90.938955 158.175067 \nL 92.15885 158.310548 \nL 92.768797 159.036585 \nL 93.378744 158.146807 \nL 94.598638 159.704147 \nL 95.208585 158.647478 \nL 95.818533 159.916537 \nL 96.42848 159.859581 \nL 97.038427 159.922124 \nL 97.648374 159.092369 \nL 98.258321 160.060336 \nL 98.868268 160.18279 \nL 99.478216 160.788265 \nL 100.088163 160.059902 \nL 100.69811 159.856837 \nL 101.308057 161.192763 \nL 101.918004 161.136431 \nL 102.527951 161.379209 \nL 103.137899 161.191148 \nL 104.357793 162.0536 \nL 104.96774 162.088794 \nL 105.577687 161.127684 \nL 106.187634 161.73666 \nL 106.797582 161.56734 \nL 107.407529 161.942389 \nL 108.627423 163.528746 \nL 109.23737 163.181108 \nL 109.847317 163.80777 \nL 110.457265 163.854612 \nL 111.067212 164.78707 \nL 111.677159 162.7626 \nL 112.287106 163.460384 \nL 112.897053 165.113615 \nL 113.507 164.216364 \nL 114.116948 165.488629 \nL 114.726895 164.160066 \nL 115.336842 166.469441 \nL 115.946789 164.926429 \nL 116.556736 164.932663 \nL 117.166683 166.827926 \nL 117.776631 167.37333 \nL 118.386578 168.160088 \nL 118.996525 168.097146 \nL 119.606472 167.431583 \nL 120.216419 165.553426 \nL 120.826366 167.051305 \nL 121.436314 169.362382 \nL 122.046261 165.972528 \nL 122.656208 169.594124 \nL 123.266155 169.571358 \nL 123.876102 167.803195 \nL 124.486049 169.788041 \nL 125.095997 170.66288 \nL 125.705944 170.420179 \nL 126.315891 169.445886 \nL 126.925838 170.612814 \nL 127.535785 170.685199 \nL 128.145732 173.229691 \nL 128.75568 171.105547 \nL 129.365627 173.274471 \nL 129.975574 172.392607 \nL 130.585521 172.72308 \nL 131.195468 173.993233 \nL 131.805415 172.699034 \nL 132.415363 175.482368 \nL 133.02531 173.886924 \nL 133.635257 173.918614 \nL 134.245204 174.823764 \nL 134.855151 174.068028 \nL 135.465098 174.654477 \nL 136.075046 175.586934 \nL 136.684993 177.73606 \nL 137.29494 176.134756 \nL 137.904887 177.38138 \nL 138.514834 176.854492 \nL 139.124781 177.965975 \nL 139.734729 177.150323 \nL 140.344676 178.890467 \nL 140.954623 179.987458 \nL 141.56457 180.414195 \nL 142.174517 180.428126 \nL 142.784464 180.931345 \nL 143.394412 181.847905 \nL 144.004359 181.271617 \nL 144.614306 182.090759 \nL 145.8342 184.161592 \nL 147.054095 184.71226 \nL 147.664042 185.606418 \nL 148.273989 185.601319 \nL 149.493883 187.113539 \nL 150.10383 187.213396 \nL 150.713778 188.392392 \nL 151.323725 189.111975 \nL 151.933672 188.557305 \nL 152.543619 190.099171 \nL 153.153566 190.614726 \nL 153.763513 190.387785 \nL 154.373461 191.783372 \nL 154.983408 190.935538 \nL 156.203302 193.166862 \nL 156.813249 193.196753 \nL 157.423196 193.741596 \nL 158.033144 193.885829 \nL 158.643091 194.259831 \nL 159.253038 195.36714 \nL 159.862985 195.841834 \nL 160.472932 196.052523 \nL 161.082879 195.966055 \nL 161.692827 196.817458 \nL 162.302774 197.024771 \nL 162.912721 197.751048 \nL 163.522668 196.828494 \nL 164.132615 197.609768 \nL 164.742562 198.682703 \nL 165.35251 199.15791 \nL 165.962457 199.801916 \nL 166.572404 200.067984 \nL 167.182351 200.189485 \nL 167.792298 200.749357 \nL 168.402245 200.481556 \nL 169.012193 201.598187 \nL 169.62214 201.494916 \nL 170.842034 202.316329 \nL 171.451981 202.807858 \nL 172.061928 202.410305 \nL 172.671876 203.125725 \nL 173.281823 203.34377 \nL 173.89177 203.747341 \nL 174.501717 203.594082 \nL 175.721611 203.787468 \nL 176.941506 204.471362 \nL 177.551453 205.508125 \nL 178.1614 205.767364 \nL 178.771347 205.70448 \nL 179.381294 206.232696 \nL 179.991242 206.528497 \nL 180.601189 206.403719 \nL 181.211136 207.017245 \nL 181.821083 206.474505 \nL 182.43103 206.94806 \nL 183.040977 207.055841 \nL 183.650925 207.039436 \nL 184.260872 207.618488 \nL 184.870819 207.993345 \nL 185.480766 208.030902 \nL 186.090713 208.452079 \nL 187.310608 208.637304 \nL 187.920555 209.278253 \nL 188.530502 208.471404 \nL 189.140449 207.873986 \nL 190.360343 209.223253 \nL 190.970291 208.909124 \nL 192.190185 209.529392 \nL 193.410079 210.071975 \nL 194.020026 209.61256 \nL 194.629974 210.363431 \nL 196.459815 210.260927 \nL 197.069762 210.329375 \nL 197.679709 210.188543 \nL 198.289657 210.846677 \nL 199.509551 210.565007 \nL 200.119498 210.808023 \nL 200.729445 210.756763 \nL 201.339392 210.905218 \nL 201.94934 211.340848 \nL 202.559287 210.722344 \nL 203.169234 211.105987 \nL 203.779181 210.836903 \nL 204.389128 211.425386 \nL 204.999075 211.241009 \nL 206.21897 211.768388 \nL 206.828917 211.449012 \nL 207.438864 211.674185 \nL 208.048811 211.407857 \nL 210.4886 211.800921 \nL 211.098547 211.769104 \nL 211.708494 212.085942 \nL 212.318441 211.719348 \nL 212.928389 212.055153 \nL 213.538336 212.059995 \nL 214.75823 211.462823 \nL 215.368177 212.197741 \nL 215.978124 212.102069 \nL 216.588072 211.81169 \nL 217.198019 212.298578 \nL 217.807966 212.166004 \nL 218.417913 212.24513 \nL 220.247755 212.190157 \nL 220.857702 212.312557 \nL 221.467649 212.144769 \nL 222.077596 212.820053 \nL 222.687543 212.580806 \nL 223.29749 212.515367 \nL 223.907438 212.117536 \nL 224.517385 212.563206 \nL 225.127332 212.488001 \nL 225.737279 212.767683 \nL 226.347226 212.244448 \nL 226.957173 212.587444 \nL 227.567121 212.738671 \nL 228.177068 212.50902 \nL 228.787015 212.456075 \nL 229.396962 212.831303 \nL 230.616856 212.626182 \nL 232.446698 213.061803 \nL 233.056645 212.485248 \nL 233.666592 212.764691 \nL 234.276539 212.601752 \nL 234.886487 212.822838 \nL 235.496434 212.919489 \nL 236.106381 212.820783 \nL 236.716328 213.081698 \nL 237.936222 212.922143 \nL 238.54617 213.086431 \nL 239.156117 212.783352 \nL 239.766064 213.584973 \nL 240.376011 213.712801 \nL 240.985958 213.263285 \nL 242.205853 214.118469 \nL 242.8158 213.841725 \nL 243.425747 214.066041 \nL 244.645641 213.815402 \nL 247.08543 213.979865 \nL 247.695377 214.256246 \nL 248.915271 214.155375 \nL 249.525219 213.843546 \nL 250.135166 214.067504 \nL 250.745113 214.033468 \nL 251.35506 214.299446 \nL 251.965007 213.88531 \nL 252.574954 214.406884 \nL 253.794849 214.16085 \nL 254.404796 214.23483 \nL 255.014743 213.976955 \nL 255.62469 214.156128 \nL 256.234637 213.906065 \nL 256.844585 214.41405 \nL 257.454532 214.116924 \nL 258.064479 214.36891 \nL 258.674426 214.289842 \nL 259.89432 214.355344 \nL 260.504268 214.125825 \nL 261.114215 214.255113 \nL 262.334109 213.988134 \nL 263.554003 214.395534 \nL 265.993792 214.29675 \nL 266.603739 214.02187 \nL 267.213686 213.929353 \nL 267.823634 214.161868 \nL 269.043528 214.274477 \nL 270.873369 214.390591 \nL 272.703211 214.28444 \nL 273.313158 214.541418 \nL 273.923105 214.299069 \nL 275.143 214.545646 \nL 275.752947 214.334108 \nL 276.362894 214.520669 \nL 276.972841 214.525856 \nL 277.582788 214.091437 \nL 278.192735 214.50549 \nL 278.802683 214.601404 \nL 279.41263 214.429338 \nL 280.022577 214.488718 \nL 280.632524 214.419051 \nL 281.852418 214.461376 \nL 284.292207 214.552574 \nL 284.902154 214.405067 \nL 285.512101 214.37458 \nL 286.122049 214.616688 \nL 286.731996 214.389905 \nL 287.341943 214.591816 \nL 287.95189 214.436108 \nL 289.781732 214.607157 \nL 290.391679 214.378161 \nL 291.001626 214.685608 \nL 291.611573 214.433653 \nL 292.22152 214.550425 \nL 293.441415 214.475164 \nL 294.051362 214.523045 \nL 295.881203 214.364651 \nL 297.101098 214.526065 \nL 298.320992 214.408135 \nL 298.930939 214.634839 \nL 300.150833 214.586515 \nL 301.370728 214.57724 \nL 303.200569 214.691109 \nL 303.810516 214.493597 \nL 304.420464 214.648067 \nL 305.030411 214.480403 \nL 305.640358 214.580688 \nL 306.250305 214.55144 \nL 306.860252 214.335095 \nL 309.300041 214.63499 \nL 314.179618 214.538013 \nL 316.00946 214.649657 \nL 316.619407 214.539467 \nL 317.229354 214.688624 \nL 317.839301 214.477837 \nL 318.449248 214.650294 \nL 319.059196 214.512084 \nL 319.669143 214.620883 \nL 320.889037 214.592012 \nL 325.768615 214.6184 \nL 326.378562 214.665523 \nL 326.988509 214.418204 \nL 329.428298 214.527642 \nL 330.038245 214.654197 \nL 330.648192 214.420485 \nL 331.258139 214.628183 \nL 333.697928 214.527223 \nL 334.917822 214.524929 \nL 335.527769 214.442327 \nL 336.747664 214.609889 \nL 339.187452 214.606001 \nL 340.407347 214.621171 \nL 341.627241 214.756364 \nL 342.237188 214.576453 \nL 343.457082 214.626909 \nL 344.676977 214.609559 \nL 345.896871 214.651365 \nL 346.506818 214.606454 \nL 346.506818 214.606454 \n\" clip-path=\"url(#pc126e92200)\" style=\"fill: none; stroke: #1f77b4; stroke-width: 1.5; stroke-linecap: square\"/>\n   </g>\n   <g id=\"line2d_14\">\n    <path d=\"M 42.143182 17.152614 \nL 42.753129 58.407987 \nL 43.363076 74.673936 \nL 43.973023 77.986973 \nL 44.58297 80.01282 \nL 45.192918 84.417961 \nL 46.412812 95.88502 \nL 47.632706 111.254546 \nL 48.242653 114.574242 \nL 48.852601 120.964081 \nL 49.462548 123.00469 \nL 50.072495 126.804545 \nL 50.682442 126.625308 \nL 51.292389 130.202359 \nL 52.512284 131.696489 \nL 53.122231 133.904113 \nL 53.732178 135.292886 \nL 54.342125 135.384953 \nL 55.562019 138.183919 \nL 56.171967 138.284515 \nL 56.781914 138.646717 \nL 57.391861 140.355167 \nL 58.001808 140.926751 \nL 58.611755 140.383 \nL 59.221702 142.371767 \nL 59.83165 142.565098 \nL 60.441597 142.912716 \nL 61.051544 143.660702 \nL 61.661491 144.797126 \nL 62.271438 145.006239 \nL 62.881385 145.522588 \nL 63.491333 145.575178 \nL 64.10128 147.028741 \nL 64.711227 146.484447 \nL 65.321174 147.423006 \nL 65.931121 147.473438 \nL 67.151016 148.446286 \nL 67.760963 149.400003 \nL 68.37091 149.541408 \nL 68.980857 149.559731 \nL 69.590804 150.183052 \nL 70.200752 150.563537 \nL 70.810699 149.93213 \nL 71.420646 151.305636 \nL 72.030593 150.660527 \nL 73.250487 151.983885 \nL 73.860435 152.568925 \nL 74.470382 151.432942 \nL 75.080329 152.545547 \nL 75.690276 152.109485 \nL 76.300223 153.126128 \nL 76.91017 153.03333 \nL 77.520118 154.152385 \nL 78.130065 153.432443 \nL 78.740012 153.327875 \nL 79.959906 153.737594 \nL 80.569853 154.777325 \nL 81.179801 155.120219 \nL 81.789748 154.383718 \nL 82.399695 155.661127 \nL 83.009642 156.301017 \nL 83.619589 153.894659 \nL 84.229536 156.196792 \nL 84.839484 155.84277 \nL 85.449431 155.689791 \nL 86.059378 156.351228 \nL 87.279272 155.855973 \nL 88.499167 157.100841 \nL 89.109114 157.139162 \nL 89.719061 157.00902 \nL 90.329008 157.172958 \nL 90.938955 156.941994 \nL 91.548902 157.342243 \nL 92.15885 158.06304 \nL 92.768797 157.840067 \nL 93.378744 158.177816 \nL 93.988691 157.333536 \nL 95.208585 158.697263 \nL 95.818533 157.842528 \nL 96.42848 158.378403 \nL 97.038427 158.575337 \nL 97.648374 158.999343 \nL 98.258321 158.922858 \nL 98.868268 159.846058 \nL 99.478216 159.681967 \nL 100.088163 159.832663 \nL 100.69811 160.159923 \nL 101.308057 159.691422 \nL 101.918004 160.588724 \nL 102.527951 160.103515 \nL 103.137899 159.992136 \nL 103.747846 160.781798 \nL 104.357793 160.591377 \nL 104.96774 161.043425 \nL 105.577687 161.137711 \nL 106.187634 162.279374 \nL 106.797582 160.741723 \nL 107.407529 161.977076 \nL 108.017476 162.195031 \nL 109.23737 161.169917 \nL 109.847317 163.023684 \nL 110.457265 162.615931 \nL 111.067212 162.389735 \nL 112.287106 164.251074 \nL 112.897053 163.781617 \nL 113.507 164.041391 \nL 114.116948 163.925002 \nL 114.726895 164.55831 \nL 115.336842 164.741941 \nL 115.946789 164.600037 \nL 116.556736 165.24608 \nL 117.166683 165.616834 \nL 117.776631 164.385825 \nL 118.386578 165.707528 \nL 118.996525 165.669843 \nL 119.606472 165.949699 \nL 120.216419 166.867016 \nL 120.826366 165.931779 \nL 121.436314 165.288432 \nL 122.046261 167.24333 \nL 122.656208 167.776294 \nL 123.266155 166.990751 \nL 123.876102 167.373401 \nL 124.486049 168.578761 \nL 125.095997 168.410007 \nL 125.705944 168.987281 \nL 126.315891 168.386395 \nL 126.925838 168.325409 \nL 127.535785 169.703815 \nL 128.145732 168.075523 \nL 128.75568 170.31604 \nL 129.365627 168.863276 \nL 129.975574 169.414768 \nL 130.585521 169.734591 \nL 131.195468 171.443719 \nL 131.805415 171.458084 \nL 132.415363 169.797161 \nL 133.02531 172.115241 \nL 133.635257 171.064595 \nL 134.245204 171.211599 \nL 134.855151 172.636432 \nL 135.465098 171.786233 \nL 136.075046 172.245704 \nL 136.684993 173.447825 \nL 137.29494 173.290832 \nL 137.904887 173.963511 \nL 139.124781 173.741196 \nL 139.734729 173.343895 \nL 140.344676 175.663867 \nL 140.954623 174.114895 \nL 141.56457 173.899115 \nL 142.174517 175.596915 \nL 142.784464 176.244359 \nL 143.394412 175.61151 \nL 144.004359 175.433566 \nL 144.614306 175.910174 \nL 145.224253 177.259612 \nL 145.8342 174.522756 \nL 146.444147 177.007896 \nL 147.054095 178.792398 \nL 147.664042 178.985825 \nL 148.273989 177.366728 \nL 148.883936 179.528019 \nL 149.493883 180.085555 \nL 150.10383 179.250151 \nL 150.713778 181.511336 \nL 151.323725 179.832836 \nL 151.933672 179.495572 \nL 152.543619 180.436183 \nL 153.153566 182.25461 \nL 153.763513 181.949474 \nL 154.373461 179.959239 \nL 154.983408 182.522784 \nL 155.593355 184.059741 \nL 156.203302 182.953588 \nL 156.813249 184.821272 \nL 157.423196 183.171909 \nL 158.033144 184.802482 \nL 158.643091 184.878566 \nL 159.253038 185.50181 \nL 159.862985 187.112216 \nL 161.082879 186.978821 \nL 161.692827 186.616796 \nL 162.302774 188.03606 \nL 162.912721 185.748232 \nL 163.522668 188.316751 \nL 164.742562 188.124431 \nL 165.35251 188.476298 \nL 167.182351 191.254837 \nL 167.792298 189.564171 \nL 168.402245 188.972149 \nL 169.012193 191.358456 \nL 169.62214 191.410827 \nL 170.842034 193.830315 \nL 171.451981 193.262649 \nL 172.061928 191.346453 \nL 172.671876 194.591611 \nL 173.281823 195.200112 \nL 173.89177 194.29106 \nL 174.501717 194.514083 \nL 175.111664 195.566708 \nL 175.721611 195.505718 \nL 176.331559 196.613291 \nL 176.941506 198.150231 \nL 177.551453 195.323937 \nL 178.1614 197.51933 \nL 178.771347 196.142583 \nL 179.381294 198.204258 \nL 179.991242 196.528992 \nL 180.601189 197.59952 \nL 181.211136 198.926762 \nL 181.821083 198.950181 \nL 182.43103 198.290437 \nL 183.040977 200.214822 \nL 184.260872 197.897815 \nL 184.870819 199.770848 \nL 185.480766 200.321993 \nL 186.090713 199.995986 \nL 186.70066 197.668734 \nL 188.530502 201.453793 \nL 189.140449 200.011162 \nL 189.750396 199.732435 \nL 190.360343 200.988969 \nL 190.970291 201.675097 \nL 191.580238 202.67858 \nL 192.190185 200.766655 \nL 192.800132 201.882951 \nL 193.410079 202.034382 \nL 194.629974 202.687048 \nL 195.239921 201.911202 \nL 195.849868 202.954659 \nL 196.459815 203.675279 \nL 197.679709 203.547827 \nL 198.289657 204.355931 \nL 198.899604 203.398822 \nL 199.509551 204.466584 \nL 200.119498 203.628894 \nL 200.729445 204.773264 \nL 201.339392 204.93831 \nL 201.94934 204.220998 \nL 202.559287 205.81037 \nL 203.169234 204.592978 \nL 203.779181 204.713112 \nL 204.389128 205.817347 \nL 204.999075 205.465544 \nL 205.609023 205.495292 \nL 206.21897 204.145067 \nL 206.828917 206.416489 \nL 207.438864 205.530436 \nL 208.048811 207.393887 \nL 208.658758 205.009348 \nL 209.268706 204.959303 \nL 209.878653 206.587398 \nL 210.4886 206.176127 \nL 211.098547 204.914979 \nL 211.708494 206.90583 \nL 212.318441 207.052274 \nL 212.928389 206.771146 \nL 213.538336 207.10966 \nL 214.148283 205.700503 \nL 214.75823 207.609718 \nL 215.368177 206.70068 \nL 215.978124 207.242681 \nL 216.588072 208.155824 \nL 217.198019 206.752311 \nL 217.807966 206.917245 \nL 218.417913 208.046242 \nL 219.02786 207.507326 \nL 219.637807 208.936061 \nL 220.247755 205.012106 \nL 220.857702 209.126357 \nL 221.467649 206.582709 \nL 222.077596 207.767009 \nL 222.687543 207.286963 \nL 223.29749 208.705554 \nL 223.907438 207.502919 \nL 224.517385 205.968536 \nL 225.127332 207.064918 \nL 225.737279 207.239376 \nL 226.347226 208.774608 \nL 226.957173 208.101138 \nL 227.567121 208.992152 \nL 228.177068 207.415601 \nL 228.787015 207.756897 \nL 229.396962 208.469084 \nL 230.006909 207.884754 \nL 230.616856 208.711876 \nL 231.226804 208.183414 \nL 231.836751 208.823191 \nL 232.446698 207.559085 \nL 233.056645 206.561205 \nL 233.666592 209.249093 \nL 234.276539 208.559189 \nL 234.886487 208.041958 \nL 235.496434 208.026438 \nL 236.106381 207.605825 \nL 236.716328 208.494188 \nL 237.326275 208.977318 \nL 237.936222 208.384367 \nL 238.54617 208.766439 \nL 239.156117 208.739611 \nL 239.766064 208.272162 \nL 240.376011 208.498654 \nL 240.985958 207.838648 \nL 241.595905 208.909249 \nL 242.205853 208.379415 \nL 243.425747 211.037944 \nL 244.035694 209.227942 \nL 244.645641 209.20058 \nL 245.255588 208.776985 \nL 245.865536 208.899791 \nL 246.475483 208.512219 \nL 247.08543 209.69312 \nL 247.695377 208.771785 \nL 248.305324 209.59134 \nL 248.915271 208.661057 \nL 249.525219 208.615092 \nL 250.135166 210.282433 \nL 250.745113 209.580976 \nL 251.35506 209.511736 \nL 251.965007 210.917897 \nL 252.574954 208.241017 \nL 253.184902 209.969044 \nL 253.794849 208.910969 \nL 254.404796 208.754198 \nL 255.014743 210.132004 \nL 255.62469 208.38896 \nL 256.844585 209.339269 \nL 257.454532 209.548526 \nL 258.064479 209.408437 \nL 258.674426 209.145173 \nL 259.284373 209.553861 \nL 259.89432 210.368384 \nL 260.504268 209.439061 \nL 261.114215 210.298385 \nL 261.724162 210.26451 \nL 262.334109 209.035618 \nL 262.944056 209.823085 \nL 263.554003 209.108239 \nL 264.163951 209.860887 \nL 264.773898 209.171325 \nL 265.383845 209.870668 \nL 265.993792 209.63592 \nL 266.603739 208.254966 \nL 267.213686 210.903203 \nL 267.823634 210.725921 \nL 268.433581 209.239403 \nL 269.043528 208.556592 \nL 269.653475 209.813604 \nL 270.263422 208.910621 \nL 270.873369 209.865168 \nL 271.483317 209.877525 \nL 272.703211 209.476661 \nL 273.313158 209.659573 \nL 273.923105 210.55834 \nL 274.533052 209.958899 \nL 275.143 210.154217 \nL 275.752947 209.447914 \nL 276.362894 210.391072 \nL 276.972841 210.632415 \nL 277.582788 208.615225 \nL 278.192735 210.582062 \nL 279.41263 210.011158 \nL 280.022577 211.451169 \nL 280.632524 210.08506 \nL 281.242471 209.348391 \nL 281.852418 210.088682 \nL 282.462366 209.400168 \nL 283.072313 209.951531 \nL 283.68226 210.227571 \nL 284.292207 210.221624 \nL 284.902154 209.220135 \nL 285.512101 211.27722 \nL 286.122049 209.741516 \nL 286.731996 210.824503 \nL 287.95189 209.877705 \nL 288.561837 210.456548 \nL 289.171784 209.499575 \nL 289.781732 209.963942 \nL 290.391679 210.066794 \nL 291.001626 209.996522 \nL 291.611573 210.243273 \nL 292.22152 208.907902 \nL 292.831467 210.874854 \nL 293.441415 209.549955 \nL 294.051362 210.125117 \nL 294.661309 209.702927 \nL 295.271256 210.525888 \nL 296.49115 210.644813 \nL 297.101098 210.707745 \nL 298.320992 209.836617 \nL 298.930939 209.9009 \nL 299.540886 211.524037 \nL 300.150833 209.982252 \nL 300.760781 210.065169 \nL 301.370728 210.685916 \nL 301.980675 210.411142 \nL 302.590622 210.56618 \nL 303.200569 211.333922 \nL 303.810516 211.874597 \nL 304.420464 211.674599 \nL 305.030411 209.668009 \nL 305.640358 210.55809 \nL 306.250305 210.434199 \nL 307.470199 210.653523 \nL 308.080147 211.491261 \nL 308.690094 210.507581 \nL 309.300041 210.725097 \nL 309.909988 209.744373 \nL 310.519935 211.704503 \nL 311.129882 209.800507 \nL 311.73983 210.938321 \nL 312.349777 210.802842 \nL 312.959724 210.239487 \nL 313.569671 211.656377 \nL 314.179618 210.733851 \nL 314.789565 210.68863 \nL 315.399513 210.497473 \nL 316.00946 210.463259 \nL 316.619407 211.844225 \nL 317.229354 210.395861 \nL 317.839301 210.30941 \nL 318.449248 211.008796 \nL 319.059196 210.129416 \nL 319.669143 211.237526 \nL 320.27909 210.520048 \nL 320.889037 210.203372 \nL 321.498984 211.547482 \nL 322.108931 211.054624 \nL 322.718879 211.365929 \nL 323.328826 210.759013 \nL 323.938773 210.785627 \nL 324.54872 210.416962 \nL 325.768615 210.832091 \nL 326.378562 211.366302 \nL 326.988509 211.625001 \nL 327.598456 210.144778 \nL 328.208403 211.91672 \nL 328.81835 210.73876 \nL 329.428298 212.149444 \nL 330.648192 212.476698 \nL 331.258139 210.626129 \nL 332.478033 211.124898 \nL 333.087981 210.965757 \nL 333.697928 212.052779 \nL 334.307875 210.822544 \nL 334.917822 210.369105 \nL 335.527769 210.694222 \nL 336.137716 211.310215 \nL 336.747664 210.860088 \nL 337.357611 211.298127 \nL 337.967558 210.485245 \nL 338.577505 210.96781 \nL 339.187452 210.948777 \nL 340.407347 211.212333 \nL 341.017294 211.076315 \nL 342.237188 211.367881 \nL 342.847135 211.795281 \nL 343.457082 211.442731 \nL 344.06703 211.737746 \nL 344.676977 210.856804 \nL 345.286924 210.594492 \nL 345.896871 211.816422 \nL 346.506818 210.804875 \nL 346.506818 210.804875 \n\" clip-path=\"url(#pc126e92200)\" style=\"fill: none; stroke: #ff7f0e; stroke-width: 1.5; stroke-linecap: square\"/>\n   </g>\n   <g id=\"patch_3\">\n    <path d=\"M 26.925 224.64 \nL 26.925 7.2 \n\" style=\"fill: none; stroke: #000000; stroke-width: 0.8; stroke-linejoin: miter; stroke-linecap: square\"/>\n   </g>\n   <g id=\"patch_4\">\n    <path d=\"M 361.725 224.64 \nL 361.725 7.2 \n\" style=\"fill: none; stroke: #000000; stroke-width: 0.8; stroke-linejoin: miter; stroke-linecap: square\"/>\n   </g>\n   <g id=\"patch_5\">\n    <path d=\"M 26.925 224.64 \nL 361.725 224.64 \n\" style=\"fill: none; stroke: #000000; stroke-width: 0.8; stroke-linejoin: miter; stroke-linecap: square\"/>\n   </g>\n   <g id=\"patch_6\">\n    <path d=\"M 26.925 7.2 \nL 361.725 7.2 \n\" style=\"fill: none; stroke: #000000; stroke-width: 0.8; stroke-linejoin: miter; stroke-linecap: square\"/>\n   </g>\n  </g>\n </g>\n <defs>\n  <clipPath id=\"pc126e92200\">\n   <rect x=\"26.925\" y=\"7.2\" width=\"334.8\" height=\"217.44\"/>\n  </clipPath>\n </defs>\n</svg>\n",
      "text/plain": [
       "<Figure size 432x288 with 1 Axes>"
      ]
     },
     "metadata": {
      "needs_background": "light"
     },
     "output_type": "display_data"
    }
   ],
   "source": [
    "df_train.perplexity.plot()\n",
    "df_train1.perplexity.plot()"
   ]
  },
  {
   "cell_type": "code",
   "execution_count": 70,
   "metadata": {},
   "outputs": [
    {
     "data": {
      "text/plain": [
       "'killer lives inside me yes i can hear him mover deticus lownif lumoned letio i wavege tree is be and aly o murat and how heal haven thing the time travellerit s against reason said filbywa thatler'"
      ]
     },
     "execution_count": 70,
     "metadata": {},
     "output_type": "execute_result"
    }
   ],
   "source": [
    "predict_seq('killer lives inside me yes i can hear him move', 150, net1, vocab)"
   ]
  }
 ],
 "metadata": {
  "kernelspec": {
   "display_name": "Python 3.8.0 ('py38')",
   "language": "python",
   "name": "python3"
  },
  "language_info": {
   "codemirror_mode": {
    "name": "ipython",
    "version": 3
   },
   "file_extension": ".py",
   "mimetype": "text/x-python",
   "name": "python",
   "nbconvert_exporter": "python",
   "pygments_lexer": "ipython3",
   "version": "3.8.0"
  },
  "vscode": {
   "interpreter": {
    "hash": "ce48646bb6368aff8c12a2b8eeb9d1b908c9dd0a6e2925fc70e8d8f5f2053bd1"
   }
  }
 },
 "nbformat": 4,
 "nbformat_minor": 4
}
