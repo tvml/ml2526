{
 "cells": [
  {
   "cell_type": "markdown",
   "metadata": {},
   "source": [
    "### Kaggle Competition | Titanic Machine Learning from Disaster\n",
    "\n",
    ">The sinking of the RMS Titanic is one of the most infamous shipwrecks in history.  On April 15, 1912, during her maiden voyage, the Titanic sank after colliding with an iceberg, killing 1502 out of 2224 passengers and crew.  This sensational tragedy shocked the international community and led to better safety regulations for ships.\n",
    "\n",
    ">One of the reasons that the shipwreck led to such loss of life was that there were not enough lifeboats for the passengers and crew.  Although there was some element of luck involved in surviving the sinking, some groups of people were more likely to survive than others, such as women, children, and the upper-class.\n",
    "\n",
    ">In this contest, we ask you to complete the analysis of what sorts of people were likely to survive.  In particular, we ask you to apply the tools of machine learning to predict which passengers survived the tragedy.\n",
    "\n",
    ">This Kaggle Getting Started Competition provides an ideal starting place for people who may not have a lot of experience in data science and machine learning.\n",
    "\n",
    "From the competition [homepage](http://www.kaggle.com/c/titanic-gettingStarted).\n",
    "\n",
    "\n",
    "### Goal for this Notebook:\n",
    "Show a simple example of an analysis of the Titanic disaster in Python using a full complement of PyData utilities. This is aimed for those looking to get into the field or those who are already in the field and looking to see an example of an analysis done with Python.\n",
    "\n",
    "#### This Notebook will show basic examples of: \n",
    "#### Data Handling\n",
    "*   Importing Data with Pandas\n",
    "*   Cleaning Data\n",
    "*   Exploring Data through Visualizations with Matplotlib\n",
    "\n",
    "#### Data Analysis\n",
    "*    Supervised Machine learning Techniques:\n",
    "    +   Logit Regression Model \n",
    "    +   Plotting results\n",
    "    +   Support Vector Machine (SVM) using 3 kernels\n",
    "    +   Basic Random Forest\n",
    "    +   Plotting results\n",
    "\n",
    "#### Valuation of the Analysis\n",
    "*   Using different measures auch as precision, recall, accuracy, F1\n",
    "* Introducing ROC tables\n",
    "*   K-folds cross validation to evaluate results locally\n"
   ]
  },
  {
   "cell_type": "code",
   "execution_count": 1,
   "metadata": {},
   "outputs": [],
   "source": [
    "from IPython.display import Image\n",
    "import warnings\n",
    "warnings.filterwarnings('ignore')\n",
    "\n",
    "%matplotlib inline"
   ]
  },
  {
   "cell_type": "code",
   "execution_count": 2,
   "metadata": {},
   "outputs": [],
   "source": [
    "import numpy as np\n",
    "import pandas as pd\n",
    "import statsmodels.api as sm\n",
    "from statsmodels.nonparametric.kde import KDEUnivariate\n",
    "import sklearn.metrics as mt\n",
    "from sklearn.model_selection import cross_val_score\n",
    "from sklearn.feature_extraction import DictVectorizer as DV\n",
    "from sklearn import preprocessing, model_selection, linear_model, svm, ensemble\n",
    "from sklearn.metrics import roc_curve, auc\n",
    "#import seaborn as sns"
   ]
  },
  {
   "cell_type": "code",
   "execution_count": 3,
   "metadata": {},
   "outputs": [],
   "source": [
    "import matplotlib.pyplot as plt\n",
    "import matplotlib.colors as mcolors\n",
    "from matplotlib import cm\n",
    "\n",
    "plt.style.use('fivethirtyeight')\n",
    "\n",
    "plt.rcParams['font.family'] = 'sans-serif'\n",
    "plt.rcParams['font.serif'] = 'Ubuntu'\n",
    "plt.rcParams['font.monospace'] = 'Ubuntu Mono'\n",
    "plt.rcParams['font.size'] = 10\n",
    "plt.rcParams['axes.labelsize'] = 10\n",
    "plt.rcParams['axes.labelweight'] = 'bold'\n",
    "plt.rcParams['axes.titlesize'] = 10\n",
    "plt.rcParams['xtick.labelsize'] = 8\n",
    "plt.rcParams['ytick.labelsize'] = 8\n",
    "plt.rcParams['legend.fontsize'] = 10\n",
    "plt.rcParams['figure.titlesize'] = 12\n",
    "plt.rcParams['image.cmap'] = 'jet'\n",
    "plt.rcParams['image.interpolation'] = 'none'\n",
    "plt.rcParams['figure.figsize'] = (16, 8)\n",
    "plt.rcParams['lines.linewidth'] = 2\n",
    "plt.rcParams['lines.markersize'] = 8\n",
    "\n",
    "colors = ['xkcd:pale orange', 'xkcd:sea blue', 'xkcd:pale red', 'xkcd:sage green', 'xkcd:terra cotta', 'xkcd:dull purple', 'xkcd:teal', 'xkcd:goldenrod', 'xkcd:cadet blue', \n",
    "          'xkcd:scarlet']\n",
    "cmap_big = cm.get_cmap('Spectral', 512)\n",
    "cmap = mcolors.ListedColormap(cmap_big(np.linspace(0.7, 0.95, 256)))"
   ]
  },
  {
   "cell_type": "markdown",
   "metadata": {},
   "source": [
    "### Data Handling\n",
    "#### Let's read our data in using pandas:"
   ]
  },
  {
   "cell_type": "code",
   "execution_count": 4,
   "metadata": {},
   "outputs": [],
   "source": [
    "df = pd.read_csv(\"../dataset/titanic.csv\") "
   ]
  },
  {
   "cell_type": "markdown",
   "metadata": {},
   "source": [
    "Show an overview of our data: "
   ]
  },
  {
   "cell_type": "code",
   "execution_count": 5,
   "metadata": {},
   "outputs": [
    {
     "data": {
      "text/html": [
       "<div>\n",
       "<style scoped>\n",
       "    .dataframe tbody tr th:only-of-type {\n",
       "        vertical-align: middle;\n",
       "    }\n",
       "\n",
       "    .dataframe tbody tr th {\n",
       "        vertical-align: top;\n",
       "    }\n",
       "\n",
       "    .dataframe thead th {\n",
       "        text-align: right;\n",
       "    }\n",
       "</style>\n",
       "<table border=\"1\" class=\"dataframe\">\n",
       "  <thead>\n",
       "    <tr style=\"text-align: right;\">\n",
       "      <th></th>\n",
       "      <th>PassengerId</th>\n",
       "      <th>Survived</th>\n",
       "      <th>Pclass</th>\n",
       "      <th>Name</th>\n",
       "      <th>Sex</th>\n",
       "      <th>Age</th>\n",
       "      <th>SibSp</th>\n",
       "      <th>Parch</th>\n",
       "      <th>Ticket</th>\n",
       "      <th>Fare</th>\n",
       "      <th>Cabin</th>\n",
       "      <th>Embarked</th>\n",
       "    </tr>\n",
       "  </thead>\n",
       "  <tbody>\n",
       "    <tr>\n",
       "      <th>0</th>\n",
       "      <td>1</td>\n",
       "      <td>0</td>\n",
       "      <td>3</td>\n",
       "      <td>Braund, Mr. Owen Harris</td>\n",
       "      <td>male</td>\n",
       "      <td>22.0</td>\n",
       "      <td>1</td>\n",
       "      <td>0</td>\n",
       "      <td>A/5 21171</td>\n",
       "      <td>7.2500</td>\n",
       "      <td>NaN</td>\n",
       "      <td>S</td>\n",
       "    </tr>\n",
       "    <tr>\n",
       "      <th>1</th>\n",
       "      <td>2</td>\n",
       "      <td>1</td>\n",
       "      <td>1</td>\n",
       "      <td>Cumings, Mrs. John Bradley (Florence Briggs Th...</td>\n",
       "      <td>female</td>\n",
       "      <td>38.0</td>\n",
       "      <td>1</td>\n",
       "      <td>0</td>\n",
       "      <td>PC 17599</td>\n",
       "      <td>71.2833</td>\n",
       "      <td>C85</td>\n",
       "      <td>C</td>\n",
       "    </tr>\n",
       "    <tr>\n",
       "      <th>2</th>\n",
       "      <td>3</td>\n",
       "      <td>1</td>\n",
       "      <td>3</td>\n",
       "      <td>Heikkinen, Miss. Laina</td>\n",
       "      <td>female</td>\n",
       "      <td>26.0</td>\n",
       "      <td>0</td>\n",
       "      <td>0</td>\n",
       "      <td>STON/O2. 3101282</td>\n",
       "      <td>7.9250</td>\n",
       "      <td>NaN</td>\n",
       "      <td>S</td>\n",
       "    </tr>\n",
       "    <tr>\n",
       "      <th>3</th>\n",
       "      <td>4</td>\n",
       "      <td>1</td>\n",
       "      <td>1</td>\n",
       "      <td>Futrelle, Mrs. Jacques Heath (Lily May Peel)</td>\n",
       "      <td>female</td>\n",
       "      <td>35.0</td>\n",
       "      <td>1</td>\n",
       "      <td>0</td>\n",
       "      <td>113803</td>\n",
       "      <td>53.1000</td>\n",
       "      <td>C123</td>\n",
       "      <td>S</td>\n",
       "    </tr>\n",
       "    <tr>\n",
       "      <th>4</th>\n",
       "      <td>5</td>\n",
       "      <td>0</td>\n",
       "      <td>3</td>\n",
       "      <td>Allen, Mr. William Henry</td>\n",
       "      <td>male</td>\n",
       "      <td>35.0</td>\n",
       "      <td>0</td>\n",
       "      <td>0</td>\n",
       "      <td>373450</td>\n",
       "      <td>8.0500</td>\n",
       "      <td>NaN</td>\n",
       "      <td>S</td>\n",
       "    </tr>\n",
       "  </tbody>\n",
       "</table>\n",
       "</div>"
      ],
      "text/plain": [
       "   PassengerId  Survived  Pclass  \\\n",
       "0            1         0       3   \n",
       "1            2         1       1   \n",
       "2            3         1       3   \n",
       "3            4         1       1   \n",
       "4            5         0       3   \n",
       "\n",
       "                                                Name     Sex   Age  SibSp  \\\n",
       "0                            Braund, Mr. Owen Harris    male  22.0      1   \n",
       "1  Cumings, Mrs. John Bradley (Florence Briggs Th...  female  38.0      1   \n",
       "2                             Heikkinen, Miss. Laina  female  26.0      0   \n",
       "3       Futrelle, Mrs. Jacques Heath (Lily May Peel)  female  35.0      1   \n",
       "4                           Allen, Mr. William Henry    male  35.0      0   \n",
       "\n",
       "   Parch            Ticket     Fare Cabin Embarked  \n",
       "0      0         A/5 21171   7.2500   NaN        S  \n",
       "1      0          PC 17599  71.2833   C85        C  \n",
       "2      0  STON/O2. 3101282   7.9250   NaN        S  \n",
       "3      0            113803  53.1000  C123        S  \n",
       "4      0            373450   8.0500   NaN        S  "
      ]
     },
     "execution_count": 5,
     "metadata": {},
     "output_type": "execute_result"
    }
   ],
   "source": [
    "df.head()"
   ]
  },
  {
   "cell_type": "markdown",
   "metadata": {},
   "source": [
    "### Let's take a look:\n",
    "\n",
    "Above is a summary of our data contained in a `Pandas` `DataFrame`. Think of a `DataFrame` as a Python's super charged version of the workflow in an Excel table. As you can see the summary holds quite a bit of information. First, let us check the number of observations (passengers) and features."
   ]
  },
  {
   "cell_type": "code",
   "execution_count": 6,
   "metadata": {},
   "outputs": [
    {
     "data": {
      "text/plain": [
       "(891, 12)"
      ]
     },
     "execution_count": 6,
     "metadata": {},
     "output_type": "execute_result"
    }
   ],
   "source": [
    "df.shape"
   ]
  },
  {
   "cell_type": "markdown",
   "metadata": {},
   "source": [
    "The first number is the number of rows (observations), while the second one is the number of columns (features). \n",
    "\n",
    "Next, let us also list the set of features."
   ]
  },
  {
   "cell_type": "code",
   "execution_count": 7,
   "metadata": {},
   "outputs": [
    {
     "data": {
      "text/plain": [
       "Index(['PassengerId', 'Survived', 'Pclass', 'Name', 'Sex', 'Age', 'SibSp',\n",
       "       'Parch', 'Ticket', 'Fare', 'Cabin', 'Embarked'],\n",
       "      dtype='object')"
      ]
     },
     "execution_count": 7,
     "metadata": {},
     "output_type": "execute_result"
    }
   ],
   "source": [
    "df.columns"
   ]
  },
  {
   "cell_type": "markdown",
   "metadata": {},
   "source": [
    "These are the meanings of each feature:\n",
    "\n",
    "*Survival*: Survival(0 = No; 1 = Yes)  \n",
    "*Pclass*: Passenger Class (1 = 1st; 2 = 2nd; 3 = 3rd)  \n",
    "*Name*: Name  \n",
    "*Sex*: Sex (female, male)  \n",
    "*Age*: Age  \n",
    "*SibSp*: Number of Siblings/Spouses Aboard  \n",
    "*Parch*: Number of Parents/Children Aboard  \n",
    "*Ticket*: Ticket Number  \n",
    "*Fare*: Passenger Fare  \n",
    "*Cabin*: Cabin  \n",
    "*Embarked*: Port of Embarkation (C = Cherbourg; Q = Queenstown; S = Southampton)"
   ]
  },
  {
   "cell_type": "markdown",
   "metadata": {},
   "source": [
    "Let us also check how many values each column contains"
   ]
  },
  {
   "cell_type": "code",
   "execution_count": 8,
   "metadata": {},
   "outputs": [
    {
     "data": {
      "text/plain": [
       "PassengerId      0\n",
       "Survived         0\n",
       "Pclass           0\n",
       "Name             0\n",
       "Sex              0\n",
       "Age            177\n",
       "SibSp            0\n",
       "Parch            0\n",
       "Ticket           0\n",
       "Fare             0\n",
       "Cabin          687\n",
       "Embarked         2\n",
       "dtype: int64"
      ]
     },
     "execution_count": 8,
     "metadata": {},
     "output_type": "execute_result"
    }
   ],
   "source": [
    "df.isnull().sum()"
   ]
  },
  {
   "cell_type": "markdown",
   "metadata": {},
   "source": [
    "While most of our features have complete data on every observation, like the *Survived* feature, some are missing information, like the *Age*, *Cabin*, and *Embarked* ones.  These missing values are represented as `NaN`s.\n",
    "\n",
    "### Take care of missing values:\n",
    "The features *Age* and *Cabin* have many missing values, while *Embarked* just a few. Since *Cabin* do not seem to add much value to our analysis, we will drop it from the dataframe."
   ]
  },
  {
   "cell_type": "code",
   "execution_count": 9,
   "metadata": {},
   "outputs": [
    {
     "data": {
      "text/plain": [
       "(891, 11)"
      ]
     },
     "execution_count": 9,
     "metadata": {},
     "output_type": "execute_result"
    }
   ],
   "source": [
    "df = df.drop(['Cabin'], axis=1) \n",
    "df.shape"
   ]
  },
  {
   "cell_type": "markdown",
   "metadata": {},
   "source": [
    "Next, we also drop any observation (row in the dataframe) containing missing values in any column."
   ]
  },
  {
   "cell_type": "code",
   "execution_count": 10,
   "metadata": {},
   "outputs": [
    {
     "data": {
      "text/plain": [
       "(712, 11)"
      ]
     },
     "execution_count": 10,
     "metadata": {},
     "output_type": "execute_result"
    }
   ],
   "source": [
    "df = df.dropna() \n",
    "df.shape"
   ]
  },
  {
   "cell_type": "code",
   "execution_count": 11,
   "metadata": {},
   "outputs": [
    {
     "data": {
      "text/html": [
       "<div>\n",
       "<style scoped>\n",
       "    .dataframe tbody tr th:only-of-type {\n",
       "        vertical-align: middle;\n",
       "    }\n",
       "\n",
       "    .dataframe tbody tr th {\n",
       "        vertical-align: top;\n",
       "    }\n",
       "\n",
       "    .dataframe thead th {\n",
       "        text-align: right;\n",
       "    }\n",
       "</style>\n",
       "<table border=\"1\" class=\"dataframe\">\n",
       "  <thead>\n",
       "    <tr style=\"text-align: right;\">\n",
       "      <th></th>\n",
       "      <th>PassengerId</th>\n",
       "      <th>Survived</th>\n",
       "      <th>Pclass</th>\n",
       "      <th>Name</th>\n",
       "      <th>Sex</th>\n",
       "      <th>Age</th>\n",
       "      <th>SibSp</th>\n",
       "      <th>Parch</th>\n",
       "      <th>Ticket</th>\n",
       "      <th>Fare</th>\n",
       "      <th>Embarked</th>\n",
       "    </tr>\n",
       "  </thead>\n",
       "  <tbody>\n",
       "    <tr>\n",
       "      <th>0</th>\n",
       "      <td>1</td>\n",
       "      <td>0</td>\n",
       "      <td>3</td>\n",
       "      <td>Braund, Mr. Owen Harris</td>\n",
       "      <td>male</td>\n",
       "      <td>22.0</td>\n",
       "      <td>1</td>\n",
       "      <td>0</td>\n",
       "      <td>A/5 21171</td>\n",
       "      <td>7.2500</td>\n",
       "      <td>S</td>\n",
       "    </tr>\n",
       "    <tr>\n",
       "      <th>1</th>\n",
       "      <td>2</td>\n",
       "      <td>1</td>\n",
       "      <td>1</td>\n",
       "      <td>Cumings, Mrs. John Bradley (Florence Briggs Th...</td>\n",
       "      <td>female</td>\n",
       "      <td>38.0</td>\n",
       "      <td>1</td>\n",
       "      <td>0</td>\n",
       "      <td>PC 17599</td>\n",
       "      <td>71.2833</td>\n",
       "      <td>C</td>\n",
       "    </tr>\n",
       "    <tr>\n",
       "      <th>2</th>\n",
       "      <td>3</td>\n",
       "      <td>1</td>\n",
       "      <td>3</td>\n",
       "      <td>Heikkinen, Miss. Laina</td>\n",
       "      <td>female</td>\n",
       "      <td>26.0</td>\n",
       "      <td>0</td>\n",
       "      <td>0</td>\n",
       "      <td>STON/O2. 3101282</td>\n",
       "      <td>7.9250</td>\n",
       "      <td>S</td>\n",
       "    </tr>\n",
       "    <tr>\n",
       "      <th>3</th>\n",
       "      <td>4</td>\n",
       "      <td>1</td>\n",
       "      <td>1</td>\n",
       "      <td>Futrelle, Mrs. Jacques Heath (Lily May Peel)</td>\n",
       "      <td>female</td>\n",
       "      <td>35.0</td>\n",
       "      <td>1</td>\n",
       "      <td>0</td>\n",
       "      <td>113803</td>\n",
       "      <td>53.1000</td>\n",
       "      <td>S</td>\n",
       "    </tr>\n",
       "    <tr>\n",
       "      <th>4</th>\n",
       "      <td>5</td>\n",
       "      <td>0</td>\n",
       "      <td>3</td>\n",
       "      <td>Allen, Mr. William Henry</td>\n",
       "      <td>male</td>\n",
       "      <td>35.0</td>\n",
       "      <td>0</td>\n",
       "      <td>0</td>\n",
       "      <td>373450</td>\n",
       "      <td>8.0500</td>\n",
       "      <td>S</td>\n",
       "    </tr>\n",
       "  </tbody>\n",
       "</table>\n",
       "</div>"
      ],
      "text/plain": [
       "   PassengerId  Survived  Pclass  \\\n",
       "0            1         0       3   \n",
       "1            2         1       1   \n",
       "2            3         1       3   \n",
       "3            4         1       1   \n",
       "4            5         0       3   \n",
       "\n",
       "                                                Name     Sex   Age  SibSp  \\\n",
       "0                            Braund, Mr. Owen Harris    male  22.0      1   \n",
       "1  Cumings, Mrs. John Bradley (Florence Briggs Th...  female  38.0      1   \n",
       "2                             Heikkinen, Miss. Laina  female  26.0      0   \n",
       "3       Futrelle, Mrs. Jacques Heath (Lily May Peel)  female  35.0      1   \n",
       "4                           Allen, Mr. William Henry    male  35.0      0   \n",
       "\n",
       "   Parch            Ticket     Fare Embarked  \n",
       "0      0         A/5 21171   7.2500        S  \n",
       "1      0          PC 17599  71.2833        C  \n",
       "2      0  STON/O2. 3101282   7.9250        S  \n",
       "3      0            113803  53.1000        S  \n",
       "4      0            373450   8.0500        S  "
      ]
     },
     "execution_count": 11,
     "metadata": {},
     "output_type": "execute_result"
    }
   ],
   "source": [
    "df.head()"
   ]
  },
  {
   "cell_type": "markdown",
   "metadata": {},
   "source": [
    "### Let's take a look at our data graphically:"
   ]
  },
  {
   "cell_type": "code",
   "execution_count": 13,
   "metadata": {},
   "outputs": [
    {
     "data": {
      "image/png": "[encoded data removed]",
      "text/plain": [
       "<Figure size 1296x288 with 3 Axes>"
      ]
     },
     "metadata": {},
     "output_type": "display_data"
    }
   ],
   "source": [
    "fig = plt.figure(figsize=(18,4)) \n",
    "alpha=alpha_scatterplot = 0.2 \n",
    "alpha_bar_chart = 0.55\n",
    "\n",
    "ax1 = plt.subplot2grid((1,3),(0,0))               \n",
    "(df.Survived.value_counts()/df.shape[0]).plot(kind='bar', alpha=alpha_bar_chart, color=colors[1])\n",
    "ax1.set_xlim(-1, 2)\n",
    "plt.setp(plt.xticks()[1], rotation=0)\n",
    "plt.title(\"Distribution of Survival, (1 = Survived)\")    \n",
    "\n",
    "ax3 = plt.subplot2grid((1,3),(0,1))\n",
    "(df.Pclass.value_counts()/df.shape[0]).plot(kind=\"barh\", alpha=alpha_bar_chart, color=colors[1])\n",
    "ax3.set_ylim(-1, len(df.Pclass.value_counts()))\n",
    "plt.title(\"Class Distribution\")\n",
    "\n",
    "\n",
    "ax5 = plt.subplot2grid((1,3),(0,2))\n",
    "(df.Embarked.value_counts()/df.shape[0]).plot(kind='bar', alpha=alpha_bar_chart, color=colors[1])\n",
    "ax5.set_xlim(-1, len(df.Embarked.value_counts()))\n",
    "plt.setp(plt.xticks()[1], rotation=0)\n",
    "plt.title(\"Passengers per boarding location\")\n",
    "plt.show()"
   ]
  },
  {
   "cell_type": "code",
   "execution_count": 88,
   "metadata": {},
   "outputs": [
    {
     "data": {
      "image/png": "[encoded data removed]",
      "text/plain": [
       "<Figure size 1296x1008 with 3 Axes>"
      ]
     },
     "metadata": {},
     "output_type": "display_data"
    }
   ],
   "source": [
    "fig = plt.figure(figsize=(18,14)) \n",
    "alpha=alpha_scatterplot = 0.2 \n",
    "alpha_bar_chart = 0.55\n",
    "\n",
    "plt.subplot2grid((3,1),(0,0))\n",
    "df.Age[df.Pclass == 1].plot(kind='kde', color=colors[0])    \n",
    "df.Age[df.Pclass == 2].plot(kind='kde', color=colors[1])\n",
    "df.Age[df.Pclass == 3].plot(kind='kde', color=colors[2])\n",
    "plt.xlabel(\"Age\")    \n",
    "plt.title(\"Age Distribution within classes\")\n",
    "plt.legend(('1st Class', '2nd Class','3rd Class'),loc='best') \n",
    "\n",
    "\n",
    "plt.subplot2grid((3,1),(1,0))\n",
    "df.Age[df.Sex == 'male'].plot(kind='kde', color=colors[0])    \n",
    "df.Age[df.Sex == 'female'].plot(kind='kde', color=colors[1])\n",
    "plt.xlabel(\"Age\")    \n",
    "plt.title(\"Age Distribution within genders\")\n",
    "plt.legend(('Male', 'Female'),loc='best')\n",
    "\n",
    "plt.subplot2grid((3,1),(2,0))\n",
    "df.Age[df.Survived == 0].plot(kind='kde', color=colors[0])    \n",
    "df.Age[df.Survived == 1].plot(kind='kde', color=colors[1])\n",
    "plt.xlabel(\"Age\")    \n",
    "plt.title(\"Age Distribution within survivors and deceased\")\n",
    "l=plt.legend(('Died', 'Survived'),loc='best')\n"
   ]
  },
  {
   "cell_type": "markdown",
   "metadata": {},
   "source": [
    "### Exploratory Visualization:\n",
    "\n",
    "We wish to predict if an individual will survive based on the features in the data like:\n",
    " \n",
    " * Traveling Class (called pclass in the data)\n",
    " * Sex \n",
    " * Age\n",
    " * Fare Price\n",
    "\n",
    "Let’s see if we can gain a better understanding of who survived and died. \n",
    "\n",
    "\n",
    "First let’s plot a bar graph of those who Survived Vs. Those who did not.\n"
   ]
  },
  {
   "cell_type": "code",
   "execution_count": 85,
   "metadata": {},
   "outputs": [
    {
     "data": {
      "image/png": "[encoded data removed]",
      "text/plain": [
       "<Figure size 1008x288 with 1 Axes>"
      ]
     },
     "metadata": {},
     "output_type": "display_data"
    }
   ],
   "source": [
    "fig = plt.figure(figsize=(14,4))\n",
    "ax = fig.add_subplot(1, 1, 1)\n",
    "df.Survived.value_counts().plot(kind='barh', color=colors[1], alpha=alpha_bar_chart)\n",
    "ax.set_ylim(-1, len(df.Survived.value_counts())) \n",
    "t=plt.title(\"Survival Breakdown (1 = Survived, 0 = Died)\")"
   ]
  },
  {
   "cell_type": "markdown",
   "metadata": {},
   "source": [
    "### Now let’s tease more structure out of the data,\n",
    "### Let’s break the previous graph down by gender\n"
   ]
  },
  {
   "cell_type": "code",
   "execution_count": 93,
   "metadata": {},
   "outputs": [
    {
     "data": {
      "image/png": "[encoded data removed]",
      "text/plain": [
       "<Figure size 1296x432 with 2 Axes>"
      ]
     },
     "metadata": {},
     "output_type": "display_data"
    }
   ],
   "source": [
    "fig = plt.figure(figsize=(18,6))\n",
    "\n",
    "# create a plot of two subsets, male and female, of the survived variable.\n",
    "# After we do that we call value_counts() so it can be easily plotted as a bar graph. \n",
    "# 'barh' is just a horizontal bar graph\n",
    "ax1 = fig.add_subplot(121)\n",
    "df.Survived[df.Sex == 'male'].value_counts().plot(kind='barh',color=colors[1], alpha=alpha_bar_chart, label='Male')\n",
    "df.Survived[df.Sex == 'female'].value_counts().plot(kind='barh', color=colors[0], alpha=alpha_bar_chart,label='Female')\n",
    "ax1.set_ylim(-1, 2) \n",
    "plt.title(\"Who Survived? with respect to Gender, (raw value counts) \") \n",
    "l=plt.legend(loc='best')\n",
    "\n",
    "\n",
    "# adjust graph to display the proportions of survival by gender\n",
    "ax2 = fig.add_subplot(122)\n",
    "(df.Survived[df.Sex == 'male'].value_counts()/float(df.Sex[df.Sex == 'male'].size)).plot(kind='barh',color=colors[1], alpha=alpha_bar_chart,label='Male')  \n",
    "(df.Survived[df.Sex == 'female'].value_counts()/float(df.Sex[df.Sex == 'female'].size)).plot(kind='barh', color=colors[0], alpha=alpha_bar_chart,label='Female')\n",
    "ax2.set_ylim(-1, 2)\n",
    "plt.title(\"Who Survived proportionally? with respect to Gender\") \n",
    "l=plt.legend(loc='best')"
   ]
  },
  {
   "cell_type": "markdown",
   "metadata": {},
   "source": [
    "Here it’s clear that although more men died and survived in raw value counts, females had a greater survival rate proportionally(~25%), than men (~20%)\n",
    "\n",
    "#### Great! But let’s go down even further:\n",
    "Can we capture more of the structure by using Pclass? Here we will bucket classes as lowest class or any of the high classes (classes 1 - 2). 3 is lowest class. Let’s break it down by Gender and what Class they were traveling in.\n"
   ]
  },
  {
   "cell_type": "code",
   "execution_count": 39,
   "metadata": {},
   "outputs": [
    {
     "name": "stderr",
     "output_type": "stream",
     "text": [
      "/anaconda3/lib/python3.6/site-packages/ipykernel/__main__.py:5: UserWarning: Boolean Series key will be reindexed to match DataFrame index.\n",
      "/anaconda3/lib/python3.6/site-packages/ipykernel/__main__.py:12: UserWarning: Boolean Series key will be reindexed to match DataFrame index.\n",
      "/anaconda3/lib/python3.6/site-packages/ipykernel/__main__.py:19: UserWarning: Boolean Series key will be reindexed to match DataFrame index.\n",
      "/anaconda3/lib/python3.6/site-packages/ipykernel/__main__.py:26: UserWarning: Boolean Series key will be reindexed to match DataFrame index.\n"
     ]
    },
    {
     "data": {
      "text/plain": [
       "<matplotlib.legend.Legend at 0x1c1e120278>"
      ]
     },
     "execution_count": 39,
     "metadata": {},
     "output_type": "execute_result"
    },
    {
     "data": {
      "image/png": "[encoded data removed]",
      "text/plain": [
       "<Figure size 1296x288 with 4 Axes>"
      ]
     },
     "metadata": {},
     "output_type": "display_data"
    }
   ],
   "source": [
    "fig = plt.figure(figsize=(18,4))\n",
    "alpha_level = 0.85\n",
    "\n",
    "ax1=fig.add_subplot(141)\n",
    "female_highclass = df.Survived[df.Sex == 'female'][df.Pclass != 3].value_counts()/float(df[df.Sex=='female'][df.Pclass != 3].shape[0])\n",
    "female_highclass.plot(kind='bar', label='female highclass', color=colors[0], alpha=alpha_level)\n",
    "plt.setp(plt.xticks()[1], rotation=0)\n",
    "ax1.set_xlim(-1, len(female_highclass))\n",
    "plt.title(\"Who Survived? with respect to Gender and Class\"); plt.legend(loc='best')\n",
    "\n",
    "ax2=fig.add_subplot(142, sharey=ax1)\n",
    "female_lowclass = df.Survived[df.Sex == 'female'][df.Pclass == 3].value_counts()/float(df[df.Sex=='female'][df.Pclass == 3].shape[0])\n",
    "female_lowclass.plot(kind='bar', label='female, low class', color=colors[1], alpha=alpha_level)\n",
    "plt.setp(plt.xticks()[1], rotation=0)\n",
    "ax2.set_xlim(-1, len(female_lowclass))\n",
    "plt.legend(loc='best')\n",
    "\n",
    "ax3=fig.add_subplot(143, sharey=ax1)\n",
    "male_lowclass = df.Survived[df.Sex == 'male'][df.Pclass == 3].value_counts()/float(df[df.Sex=='male'][df.Pclass == 3].shape[0])\n",
    "male_lowclass.plot(kind='bar', label='male, low class', color=colors[2], alpha=alpha_level)\n",
    "plt.setp(plt.xticks()[1], rotation=0)\n",
    "ax3.set_xlim(-1, len(male_lowclass))\n",
    "plt.legend(loc='best')\n",
    "\n",
    "ax4=fig.add_subplot(144, sharey=ax1)\n",
    "male_highclass = df.Survived[df.Sex == 'male'][df.Pclass != 3].value_counts()/float(df[df.Sex=='male'][df.Pclass != 3].shape[0])\n",
    "male_highclass.plot(kind='bar', label='male highclass', alpha=alpha_level, color=colors[3])\n",
    "plt.setp(plt.xticks()[1], rotation=0)\n",
    "ax4.set_xlim(-1, len(male_highclass))\n",
    "l=plt.legend(loc='best')"
   ]
  },
  {
   "cell_type": "markdown",
   "metadata": {},
   "source": [
    "Awesome! Now we have a lot more information on who survived and died in the tragedy. With this deeper understanding, we are better equipped to create better more insightful models. This is a typical process in interactive data analysis. First you start small and understand the most basic relationships and slowly increment the complexity of your analysis as you discover more and more about the data you’re working with. Below is the progression of process laid out together:"
   ]
  },
  {
   "cell_type": "code",
   "execution_count": 40,
   "metadata": {},
   "outputs": [
    {
     "name": "stderr",
     "output_type": "stream",
     "text": [
      "/anaconda3/lib/python3.6/site-packages/ipykernel/__main__.py:26: UserWarning: Boolean Series key will be reindexed to match DataFrame index.\n",
      "/anaconda3/lib/python3.6/site-packages/ipykernel/__main__.py:33: UserWarning: Boolean Series key will be reindexed to match DataFrame index.\n",
      "/anaconda3/lib/python3.6/site-packages/ipykernel/__main__.py:40: UserWarning: Boolean Series key will be reindexed to match DataFrame index.\n",
      "/anaconda3/lib/python3.6/site-packages/ipykernel/__main__.py:47: UserWarning: Boolean Series key will be reindexed to match DataFrame index.\n"
     ]
    },
    {
     "data": {
      "text/plain": [
       "<matplotlib.legend.Legend at 0x1c1e519b38>"
      ]
     },
     "execution_count": 40,
     "metadata": {},
     "output_type": "execute_result"
    },
    {
     "data": {
      "image/png": "[encoded data removed]",
      "text/plain": [
       "<Figure size 1296x864 with 7 Axes>"
      ]
     },
     "metadata": {},
     "output_type": "display_data"
    }
   ],
   "source": [
    "fig = plt.figure(figsize=(18,12))\n",
    "a = 0.65\n",
    "# Step 1\n",
    "ax1 = fig.add_subplot(341)\n",
    "(df.Survived.value_counts()/df.shape[0]).plot(kind='bar', color=colors[0], alpha=alpha_bar_chart)\n",
    "plt.setp(plt.xticks()[1], rotation=0)\n",
    "ax1.set_xlim(-1, len(df.Survived.value_counts()))\n",
    "plt.title(\"Who survived?\")\n",
    "\n",
    "# Step 2\n",
    "ax2 = fig.add_subplot(345)\n",
    "(df.Survived[df.Sex == 'male'].value_counts()/float(df.Sex[df.Sex == 'male'].shape[0])).plot(kind='bar', color=colors[1],alpha=alpha_bar_chart,label='Male')\n",
    "ax2.set_xlim(-1, 2)\n",
    "plt.setp(plt.xticks()[1], rotation=0)\n",
    "plt.title(\"Who Survived? with respect to Gender\"); plt.legend(loc='best')\n",
    "\n",
    "ax3 = fig.add_subplot(346)\n",
    "(df.Survived[df.Sex == 'female'].value_counts()/float(df.Sex[df.Sex == 'female'].shape[0])).plot(kind='bar', alpha=alpha_bar_chart, color=colors[2],label='Female')\n",
    "ax3.set_xlim(-1,2)\n",
    "plt.setp(plt.xticks()[1], rotation=0)\n",
    "plt.legend(loc='best')\n",
    "\n",
    "\n",
    "# Step 3\n",
    "ax4 = fig.add_subplot(349)\n",
    "female_highclass = (df.Survived[df.Sex == 'female'][df.Pclass != 3].value_counts()/float(df[df.Sex == 'female'][df.Pclass != 3].shape[0]))\n",
    "female_highclass.plot(kind='bar', label='female highclass', color=colors[3], alpha=alpha_bar_chart)\n",
    "plt.setp(plt.xticks()[1], rotation=0)\n",
    "ax4.set_xlim(-1, len(female_highclass))\n",
    "plt.title(\"Who Survived? with respect to Gender and Class\"); plt.legend(loc='best')\n",
    "\n",
    "ax5 = fig.add_subplot(3,4,10, sharey=ax4)\n",
    "female_lowclass = (df.Survived[df.Sex == 'female'][df.Pclass == 3].value_counts()/float(df[df.Sex == 'female'][df.Pclass == 3].shape[0]))\n",
    "female_lowclass.plot(kind='bar', label='female, low class', color=colors[4], alpha=alpha_bar_chart)\n",
    "plt.setp(plt.xticks()[1], rotation=0)\n",
    "ax5.set_xlim(-1, len(female_lowclass))\n",
    "plt.legend(loc='best')\n",
    "\n",
    "ax6 = fig.add_subplot(3,4,11, sharey=ax4)\n",
    "male_lowclass = (df.Survived[df.Sex == 'male'][df.Pclass == 3].value_counts()/float(df[df.Sex == 'male'][df.Pclass == 3].shape[0]))\n",
    "male_lowclass.plot(kind='bar', label='male, low class',color=colors[5], alpha=a)\n",
    "plt.setp(plt.xticks()[1], rotation=0)\n",
    "ax6.set_xlim(-1, len(male_lowclass))\n",
    "plt.legend(loc='best')\n",
    "\n",
    "ax7 = fig.add_subplot(3,4,12, sharey=ax4)\n",
    "male_highclass = (df.Survived[df.Sex == 'male'][df.Pclass != 3].value_counts()/float(df[df.Sex == 'male'][df.Pclass != 3].shape[0]))\n",
    "male_highclass.plot(kind='bar', label='male highclass', alpha=a, color=colors[6])\n",
    "plt.setp(plt.xticks()[1], rotation=0)\n",
    "ax7.set_xlim(-1, len(male_highclass))\n",
    "plt.legend(loc='best')"
   ]
  },
  {
   "cell_type": "markdown",
   "metadata": {},
   "source": [
    "I've done my best to make the plotting code readable and intuitive, but if you’re looking for a more detailed look on how to start plotting in matplotlib, check out this beautiful notebook [here](http://nbviewer.ipython.org/urls/raw.github.com/jrjohansson/scientific-python-lectures/master/Lecture-4-Matplotlib.ipynb). \n",
    "\n",
    "Now that we have a basic understanding of what we are trying to predict, let’s predict it.\n",
    "## Supervised Machine Learning\n",
    "#### Logistic Regression:\n",
    "\n",
    "As explained by Wikipedia:\n",
    ">In statistics, logistic regression or logit regression is a type of regression analysis used for predicting the outcome of a categorical dependent variable (a dependent variable that can take on a limited number of values, whose magnitudes are not meaningful but whose ordering of magnitudes may or may not be meaningful) based on one or more predictor variables. That is, it is used in estimating empirical values of the parameters in a qualitative response model. The probabilities describing the possible outcomes of a single trial are modeled, as a function of the explanatory (predictor) variables, using a logistic function. Frequently (and subsequently in this article) \"logistic regression\" is used to refer specifically to the problem in which the dependent variable is binary—that is, the number of available categories is two—and problems with more than two categories are referred to as multinomial logistic regression or, if the multiple categories are ordered, as ordered logistic regression.\n",
    "Logistic regression measures the relationship between a categorical dependent variable and one or more independent variables, which are usually (but not necessarily) continuous, by using probability scores as the predicted values of the dependent variable.[1] As such it treats the same set of problems as does probit regression using similar techniques.\n"
   ]
  },
  {
   "cell_type": "markdown",
   "metadata": {},
   "source": [
    "Let us first restrict ourselves to the set of features we consider relevant to the classification."
   ]
  },
  {
   "cell_type": "code",
   "execution_count": 41,
   "metadata": {},
   "outputs": [],
   "source": [
    "cols_to_retain = ['Pclass', 'Sex', 'Embarked', 'Age', 'SibSp', 'Parch']\n",
    "cat_df = df[cols_to_retain]"
   ]
  },
  {
   "cell_type": "code",
   "execution_count": 42,
   "metadata": {},
   "outputs": [
    {
     "data": {
      "text/html": [
       "<div>\n",
       "<style scoped>\n",
       "    .dataframe tbody tr th:only-of-type {\n",
       "        vertical-align: middle;\n",
       "    }\n",
       "\n",
       "    .dataframe tbody tr th {\n",
       "        vertical-align: top;\n",
       "    }\n",
       "\n",
       "    .dataframe thead th {\n",
       "        text-align: right;\n",
       "    }\n",
       "</style>\n",
       "<table border=\"1\" class=\"dataframe\">\n",
       "  <thead>\n",
       "    <tr style=\"text-align: right;\">\n",
       "      <th></th>\n",
       "      <th>Pclass</th>\n",
       "      <th>Sex</th>\n",
       "      <th>Embarked</th>\n",
       "      <th>Age</th>\n",
       "      <th>SibSp</th>\n",
       "      <th>Parch</th>\n",
       "    </tr>\n",
       "  </thead>\n",
       "  <tbody>\n",
       "    <tr>\n",
       "      <th>0</th>\n",
       "      <td>3</td>\n",
       "      <td>male</td>\n",
       "      <td>S</td>\n",
       "      <td>22.0</td>\n",
       "      <td>1</td>\n",
       "      <td>0</td>\n",
       "    </tr>\n",
       "    <tr>\n",
       "      <th>1</th>\n",
       "      <td>1</td>\n",
       "      <td>female</td>\n",
       "      <td>C</td>\n",
       "      <td>38.0</td>\n",
       "      <td>1</td>\n",
       "      <td>0</td>\n",
       "    </tr>\n",
       "    <tr>\n",
       "      <th>2</th>\n",
       "      <td>3</td>\n",
       "      <td>female</td>\n",
       "      <td>S</td>\n",
       "      <td>26.0</td>\n",
       "      <td>0</td>\n",
       "      <td>0</td>\n",
       "    </tr>\n",
       "    <tr>\n",
       "      <th>3</th>\n",
       "      <td>1</td>\n",
       "      <td>female</td>\n",
       "      <td>S</td>\n",
       "      <td>35.0</td>\n",
       "      <td>1</td>\n",
       "      <td>0</td>\n",
       "    </tr>\n",
       "    <tr>\n",
       "      <th>4</th>\n",
       "      <td>3</td>\n",
       "      <td>male</td>\n",
       "      <td>S</td>\n",
       "      <td>35.0</td>\n",
       "      <td>0</td>\n",
       "      <td>0</td>\n",
       "    </tr>\n",
       "  </tbody>\n",
       "</table>\n",
       "</div>"
      ],
      "text/plain": [
       "   Pclass     Sex Embarked   Age  SibSp  Parch\n",
       "0       3    male        S  22.0      1      0\n",
       "1       1  female        C  38.0      1      0\n",
       "2       3  female        S  26.0      0      0\n",
       "3       1  female        S  35.0      1      0\n",
       "4       3    male        S  35.0      0      0"
      ]
     },
     "execution_count": 42,
     "metadata": {},
     "output_type": "execute_result"
    }
   ],
   "source": [
    "cat_df.head()"
   ]
  },
  {
   "cell_type": "markdown",
   "metadata": {},
   "source": [
    "Some features are categorical: their values are transformed according to a 1-to-K code scheme"
   ]
  },
  {
   "cell_type": "code",
   "execution_count": 43,
   "metadata": {},
   "outputs": [],
   "source": [
    "cat_dict = cat_df.T.to_dict().values()\n",
    "vectorizer = DV( sparse = False )\n",
    "X = vectorizer.fit_transform( cat_dict ) \n",
    "t = df.Survived"
   ]
  },
  {
   "cell_type": "code",
   "execution_count": 44,
   "metadata": {},
   "outputs": [
    {
     "data": {
      "text/plain": [
       "(712, 9)"
      ]
     },
     "execution_count": 44,
     "metadata": {},
     "output_type": "execute_result"
    }
   ],
   "source": [
    "X.shape"
   ]
  },
  {
   "cell_type": "code",
   "execution_count": 45,
   "metadata": {},
   "outputs": [
    {
     "data": {
      "text/plain": [
       "(712,)"
      ]
     },
     "execution_count": 45,
     "metadata": {},
     "output_type": "execute_result"
    }
   ],
   "source": [
    "t.shape"
   ]
  },
  {
   "cell_type": "markdown",
   "metadata": {},
   "source": [
    "Classification is performed by creating a logistic regression classifier. This is done here by using the Scikit-learn package."
   ]
  },
  {
   "cell_type": "code",
   "execution_count": 46,
   "metadata": {},
   "outputs": [],
   "source": [
    "clf = linear_model.LogisticRegression()"
   ]
  },
  {
   "cell_type": "markdown",
   "metadata": {},
   "source": [
    "The classifier is trained by submitting the traning set X,t to it"
   ]
  },
  {
   "cell_type": "code",
   "execution_count": 48,
   "metadata": {},
   "outputs": [
    {
     "name": "stderr",
     "output_type": "stream",
     "text": [
      "/anaconda3/lib/python3.6/site-packages/sklearn/linear_model/logistic.py:433: FutureWarning: Default solver will be changed to 'lbfgs' in 0.22. Specify a solver to silence this warning.\n",
      "  FutureWarning)\n"
     ]
    }
   ],
   "source": [
    "clf = clf.fit(X, t)"
   ]
  },
  {
   "cell_type": "markdown",
   "metadata": {},
   "source": [
    "The classifier coefficients are now instantiated according to the submitted training set.  \n",
    "The classifier can now be applied to prediction. Let us first apply it to the traning set itself (indeed, only to the feature matrix X)"
   ]
  },
  {
   "cell_type": "code",
   "execution_count": 49,
   "metadata": {},
   "outputs": [],
   "source": [
    "y = clf.predict(X)"
   ]
  },
  {
   "cell_type": "markdown",
   "metadata": {},
   "source": [
    "y is the set of predictions performed by the classifier on the training set elements. "
   ]
  },
  {
   "cell_type": "code",
   "execution_count": 50,
   "metadata": {},
   "outputs": [
    {
     "data": {
      "text/plain": [
       "array([0, 1, 1, 1, 0, 0, 0, 1, 1, 1, 1, 0, 0, 1, 1, 0, 0, 0, 0, 1, 1, 1,\n",
       "       0, 0, 1, 0, 1, 0, 0, 1, 1, 0, 1, 1, 1, 1, 0, 0, 1, 1, 0, 1, 0, 1,\n",
       "       0, 0, 0, 0, 1, 0, 0, 0, 0, 0, 0, 0, 0, 0, 0, 1, 0, 0, 1, 1, 0, 0,\n",
       "       1, 0, 0, 0, 0, 0, 0, 0, 1, 1, 0, 1, 1, 0, 0, 0, 1, 0, 0, 1, 0, 1,\n",
       "       1, 0, 0, 0, 1, 1, 0, 0, 1, 0, 0, 0, 0, 0, 0, 0, 1, 0, 0, 1, 0, 0,\n",
       "       1, 1, 1, 0, 0, 0, 0, 1, 0, 0, 0, 1, 0, 0, 0, 1, 0, 0, 1, 0, 0, 0,\n",
       "       0, 0, 0, 0, 0, 1, 0, 0, 0, 1, 0, 0, 0, 0, 1, 0, 0, 0, 1, 0, 1, 0,\n",
       "       1, 1, 0, 1, 0, 0, 0, 0, 1, 0, 0, 1, 1, 0, 1, 0, 0, 1, 1, 0, 1, 0,\n",
       "       0, 0, 0, 0, 0, 0, 0, 0, 1, 0, 0, 0, 0, 0, 1, 0, 0, 0, 0, 0, 0, 1,\n",
       "       1, 0, 0, 1, 0, 0, 0, 1, 1, 1, 1, 0, 0, 0, 0, 0, 0, 1, 1, 0, 1, 1,\n",
       "       1, 0, 0, 0, 0, 0, 0, 0, 0, 0, 0, 0, 1, 1, 1, 0, 1, 0, 0, 1, 1, 0,\n",
       "       1, 1, 0, 1, 1, 1, 1, 0, 0, 1, 1, 0, 1, 1, 0, 0, 1, 1, 1, 0, 1, 0,\n",
       "       1, 0, 0, 0, 0, 1, 0, 0, 0, 1, 0, 0, 0, 1, 1, 0, 0, 0, 0, 0, 0, 1,\n",
       "       1, 0, 0, 1, 0, 0, 1, 1, 1, 0, 0, 1, 1, 1, 1, 0, 0, 1, 1, 0, 1, 0,\n",
       "       0, 1, 1, 0, 0, 0, 1, 1, 0, 1, 0, 0, 1, 0, 0, 1, 0, 1, 0, 0, 0, 0,\n",
       "       1, 0, 1, 1, 0, 1, 0, 0, 1, 0, 1, 1, 0, 1, 1, 0, 0, 1, 0, 1, 0, 0,\n",
       "       1, 0, 0, 1, 1, 1, 0, 1, 0, 0, 1, 0, 0, 0, 1, 0, 0, 0, 0, 0, 0, 1,\n",
       "       0, 1, 1, 1, 0, 0, 0, 1, 0, 0, 0, 1, 1, 0, 0, 0, 0, 0, 0, 0, 1, 1,\n",
       "       0, 0, 1, 1, 1, 1, 1, 0, 0, 0, 0, 1, 0, 0, 1, 1, 0, 1, 0, 1, 0, 1,\n",
       "       0, 0, 1, 0, 1, 1, 0, 1, 1, 1, 0, 0, 0, 0, 0, 1, 0, 0, 1, 0, 0, 1,\n",
       "       0, 1, 1, 0, 0, 0, 0, 0, 1, 0, 0, 1, 0, 0, 0, 1, 1, 0, 1, 1, 0, 1,\n",
       "       1, 0, 0, 0, 0, 1, 0, 0, 0, 0, 0, 1, 0, 1, 0, 0, 1, 1, 1, 0, 0, 1,\n",
       "       0, 1, 1, 0, 0, 0, 0, 0, 0, 0, 0, 1, 0, 0, 0, 1, 1, 1, 0, 0, 0, 0,\n",
       "       1, 1, 1, 0, 0, 0, 1, 1, 0, 1, 0, 0, 0, 0, 0, 0, 0, 0, 0, 0, 0, 0,\n",
       "       1, 0, 0, 0, 0, 0, 1, 0, 1, 1, 0, 0, 0, 0, 0, 0, 0, 1, 0, 1, 0, 0,\n",
       "       0, 0, 0, 0, 1, 0, 1, 0, 0, 0, 1, 0, 1, 1, 0, 0, 0, 0, 1, 1, 0, 1,\n",
       "       0, 0, 0, 0, 0, 1, 0, 1, 1, 0, 0, 0, 0, 0, 1, 0, 1, 0, 0, 0, 0, 1,\n",
       "       1, 0, 1, 0, 0, 0, 1, 0, 0, 0, 0, 1, 0, 0, 1, 0, 1, 0, 0, 0, 0, 1,\n",
       "       1, 0, 1, 1, 1, 1, 1, 0, 0, 1, 0, 0, 0, 0, 0, 0, 1, 1, 0, 0, 0, 1,\n",
       "       1, 0, 0, 0, 0, 1, 0, 1, 0, 0, 0, 0, 0, 1, 0, 0, 0, 1, 0, 0, 1, 0,\n",
       "       1, 1, 0, 0, 0, 1, 0, 0, 0, 0, 1, 0, 0, 0, 0, 0, 0, 0, 1, 1, 1, 1,\n",
       "       1, 0, 1, 0, 0, 1, 0, 1, 1, 0, 0, 0, 1, 0, 0, 1, 1, 0, 0, 1, 1, 0,\n",
       "       1, 0, 0, 0, 0, 1, 1, 0])"
      ]
     },
     "execution_count": 50,
     "metadata": {},
     "output_type": "execute_result"
    }
   ],
   "source": [
    "y"
   ]
  },
  {
   "cell_type": "markdown",
   "metadata": {},
   "source": [
    "## How well did the classifier behave?"
   ]
  },
  {
   "cell_type": "markdown",
   "metadata": {},
   "source": [
    "We may use several measures here. The ones we consider refer to the following values:\n",
    "\n",
    "*True positive*: the number of survived passengers (i.e. belonging to class 1) correctly classified  \n",
    "*True negative*: the number of died passengers (i.e. belonging to class 0) correctly classified  \n",
    "*False positive*: the number of died passengers (i.e. belonging to class 0) classified as survived  \n",
    "*False negative*: the number of survived passengers (i.e. belonging to class 1) classified as died\n",
    "\n",
    "Such values can be reported in a *confusion matrix*"
   ]
  },
  {
   "cell_type": "code",
   "execution_count": 51,
   "metadata": {},
   "outputs": [
    {
     "name": "stdout",
     "output_type": "stream",
     "text": [
      "Confusion matrix\n",
      "[[365  59]\n",
      " [ 83 205]]\n"
     ]
    }
   ],
   "source": [
    "cf = mt.confusion_matrix(t, y)\n",
    "print('Confusion matrix')\n",
    "print(cf)"
   ]
  },
  {
   "cell_type": "code",
   "execution_count": 71,
   "metadata": {},
   "outputs": [
    {
     "data": {
      "image/png": "[encoded data removed]",
      "text/plain": [
       "<Figure size 1008x432 with 2 Axes>"
      ]
     },
     "metadata": {},
     "output_type": "display_data"
    }
   ],
   "source": [
    "plt.figure(figsize=(14,6))\n",
    "hm = sns.heatmap(cf,\n",
    "                 cbar=True,\n",
    "                 annot=True,\n",
    "                 square=True,\n",
    "                 fmt='d',\n",
    "                 annot_kws={'size': 16},\n",
    "                 cmap = cmap)\n",
    "plt.tight_layout()\n",
    "plt.show()"
   ]
  },
  {
   "cell_type": "markdown",
   "metadata": {},
   "source": [
    "By definition a confusion matrix C is such that C(i, j) is equal to the number of observations known to be in group i but predicted to be in group j. That is, rows correspond to classes, columns to predictions. So, we have here"
   ]
  },
  {
   "cell_type": "code",
   "execution_count": 52,
   "metadata": {},
   "outputs": [
    {
     "name": "stdout",
     "output_type": "stream",
     "text": [
      " 365 true positives\n",
      "  59 false negatives\n",
      "  83 false positives\n",
      " 205 true negatives\n"
     ]
    }
   ],
   "source": [
    "print('{0:4d} true positives'.format(cf[0,0]))\n",
    "print('{0:4d} false negatives'.format(cf[0,1]))\n",
    "print('{0:4d} false positives'.format(cf[1,0]))\n",
    "print('{0:4d} true negatives'.format(cf[1,1]))"
   ]
  },
  {
   "cell_type": "markdown",
   "metadata": {},
   "source": [
    "*Precision* is defined as the ratio of elements predicted as positive which are indeed positive: P=TP/(TP+FP). In this case, the ratio of survived passenger correctly classified wrt the total number of passengers classified as survived\n",
    "\n",
    "*Recall* is defined as the ratio of positive elements which are predicted as positive: P=TP/(TP+FN). In this case, the ratio of survived passenger correctly classified wrt the total number of survived passengers\n",
    "\n",
    "*Accuracy* is defined as the ratio of correctly classified elements wrt to the overal number of elements"
   ]
  },
  {
   "cell_type": "code",
   "execution_count": 53,
   "metadata": {},
   "outputs": [
    {
     "name": "stdout",
     "output_type": "stream",
     "text": [
      "Precision = 0.7765\n",
      "Recall = 0.7118\n",
      "Accuracy = 0.8006\n"
     ]
    }
   ],
   "source": [
    "print('Precision = {0:5.4f}'.format(mt.precision_score(t,y)))\n",
    "print('Recall = {0:5.4f}'.format(mt.recall_score(t,y)))\n",
    "print('Accuracy = {0:5.4f}'.format(mt.accuracy_score(t,y)))"
   ]
  },
  {
   "cell_type": "markdown",
   "metadata": {},
   "source": [
    "The model also returns measures of the confidence of passenger predictions. \n",
    "\n",
    "*class probabilities*: the estimated probability that a passenger is survived  \n",
    "*confidence score*: the (signed) distance of the point corresponding to the passenger from the separating hyperplane"
   ]
  },
  {
   "cell_type": "code",
   "execution_count": 54,
   "metadata": {},
   "outputs": [],
   "source": [
    "y_prob = clf.predict_proba(X)\n",
    "conf_score = clf.decision_function(X)"
   ]
  },
  {
   "cell_type": "code",
   "execution_count": 55,
   "metadata": {},
   "outputs": [
    {
     "data": {
      "image/png": "[encoded data removed]",
      "text/plain": [
       "<Figure size 1296x720 with 2 Axes>"
      ]
     },
     "metadata": {},
     "output_type": "display_data"
    }
   ],
   "source": [
    "# Plot Predictions Vs Actual\n",
    "y_prob = clf.predict_proba(X)\n",
    "plt.figure(figsize=(18,10));\n",
    "plt.subplot(211)\n",
    "# generate predictions from our fitted model\n",
    "plt.plot(range(y_prob.shape[0]), y_prob[:,1], color=colors[1], ms = 5, marker='o', linestyle=' ', alpha=.45);\n",
    "plt.plot(range(y_prob.shape[0]), t, color=colors[0], marker='o', linestyle=' ', alpha=.45);\n",
    "plt.grid(color='white', linestyle='dashed')\n",
    "plt.xlim(1,y_prob.shape[0])\n",
    "plt.title('Survived probability: Blue: \\nSurvived/died: Red');\n",
    "\n",
    "\n",
    "l = np.zeros(len(clf.decision_function(X)))\n",
    "ax3 = plt.subplot(212)\n",
    "plt.plot(conf_score, marker='o', linestyle=' ', ms = 5, color=colors[2])\n",
    "plt.plot(l, color='black', linestyle='dashed', linewidth=.8)\n",
    "plt.grid(color='white', linestyle='dashed')\n",
    "ax3.set_xlim(-1, len(conf_score))\n",
    "plt.title('Confidence scores');"
   ]
  },
  {
   "cell_type": "markdown",
   "metadata": {},
   "source": [
    "A ROC (Receiver Operating Characteristic) curve represents, for any value of the threshold applied to the probabilities for classification, the ratio of positive elements correctly classified (as positive) and the ratio of negative elements incorrectly classified (as positive).\n",
    "\n",
    "The ideal point is (0,1): no negative elements misclassified, all positive elements well classified."
   ]
  },
  {
   "cell_type": "code",
   "execution_count": 56,
   "metadata": {},
   "outputs": [],
   "source": [
    "fpr, tpr, thresholds = roc_curve(np.array(t), y_prob[:,1], pos_label=1)"
   ]
  },
  {
   "cell_type": "code",
   "execution_count": 58,
   "metadata": {},
   "outputs": [
    {
     "data": {
      "image/png": "[encoded data removed]",
      "text/plain": [
       "<Figure size 1152x576 with 1 Axes>"
      ]
     },
     "metadata": {},
     "output_type": "display_data"
    }
   ],
   "source": [
    "plt.figure(figsize=(16,8))\n",
    "plt.plot(fpr, tpr, color=colors[0],label='ROC curve (area = %0.2f)' %  auc(fpr, tpr))\n",
    "plt.plot([0, 1], [0, 1],color=colors[1], linewidth=.8)\n",
    "plt.xlim([0.0, 1.0])\n",
    "plt.ylim([0.0, 1.05])\n",
    "plt.ylabel(r'True Positive Rate $TPR=\\frac{TP}{P}=\\frac{TP}{TP+FN}$')\n",
    "plt.xlabel(r'False Positive Rate $FPR=\\frac{FP}{N}=\\frac{FP}{TP+FN}$')\n",
    "plt.title('Receiver operating characteristic example')\n",
    "plt.grid(color='white', linestyle='dashed')\n",
    "plt.legend(loc=\"lower right\")\n",
    "plt.show()"
   ]
  },
  {
   "cell_type": "markdown",
   "metadata": {},
   "source": [
    "The Area under curve (AUC) provides a measure of the quality of the classifier."
   ]
  },
  {
   "cell_type": "code",
   "execution_count": 59,
   "metadata": {},
   "outputs": [
    {
     "name": "stdout",
     "output_type": "stream",
     "text": [
      "AUC = 0.8603\n"
     ]
    }
   ],
   "source": [
    "print('AUC = {0:0.4f}'.format(auc(fpr, tpr)))"
   ]
  },
  {
   "cell_type": "markdown",
   "metadata": {},
   "source": [
    "###  Now Let us Use our Model to predict the test set values\n",
    "###  Split the dataset into training and test sets"
   ]
  },
  {
   "cell_type": "code",
   "execution_count": 60,
   "metadata": {},
   "outputs": [],
   "source": [
    "X_train, X_test, t_train, t_test = model_selection.train_test_split(X, t, test_size=0.4)"
   ]
  },
  {
   "cell_type": "markdown",
   "metadata": {},
   "source": [
    "Train the classifier on the training set"
   ]
  },
  {
   "cell_type": "code",
   "execution_count": 62,
   "metadata": {},
   "outputs": [
    {
     "name": "stderr",
     "output_type": "stream",
     "text": [
      "/anaconda3/lib/python3.6/site-packages/sklearn/linear_model/logistic.py:433: FutureWarning: Default solver will be changed to 'lbfgs' in 0.22. Specify a solver to silence this warning.\n",
      "  FutureWarning)\n"
     ]
    }
   ],
   "source": [
    "clf = clf.fit(X_train, t_train)"
   ]
  },
  {
   "cell_type": "markdown",
   "metadata": {},
   "source": [
    "Perform predictions on both train and test data"
   ]
  },
  {
   "cell_type": "code",
   "execution_count": 63,
   "metadata": {},
   "outputs": [],
   "source": [
    "y_train = clf.predict(X_train)\n",
    "y_test = clf.predict(X_test)"
   ]
  },
  {
   "cell_type": "markdown",
   "metadata": {},
   "source": [
    "Compute measures in both cases"
   ]
  },
  {
   "cell_type": "code",
   "execution_count": 64,
   "metadata": {},
   "outputs": [
    {
     "name": "stdout",
     "output_type": "stream",
     "text": [
      "Confusion matrix\n",
      "[[231  31]\n",
      " [ 56 109]]\n",
      "Precision = 0.7786\n",
      "Recall = 0.6606\n",
      "Accuracy = 0.7963\n"
     ]
    }
   ],
   "source": [
    "cf_train = mt.confusion_matrix(t_train, y_train)\n",
    "print('Confusion matrix')\n",
    "print(cf_train)\n",
    "\n",
    "print ('Precision = {0:5.4f}'.format(mt.precision_score(t_train,y_train)))\n",
    "print ('Recall = {0:5.4f}'.format(mt.recall_score(t_train,y_train)))\n",
    "print ('Accuracy = {0:5.4f}'.format(mt.accuracy_score(t_train,y_train)))"
   ]
  },
  {
   "cell_type": "code",
   "execution_count": 66,
   "metadata": {},
   "outputs": [
    {
     "ename": "NameError",
     "evalue": "name 'sns' is not defined",
     "output_type": "error",
     "traceback": [
      "\u001b[0;31m---------------------------------------------------------------------------\u001b[0m",
      "\u001b[0;31mNameError\u001b[0m                                 Traceback (most recent call last)",
      "\u001b[0;32m<ipython-input-66-8335b62036d2>\u001b[0m in \u001b[0;36m<module>\u001b[0;34m()\u001b[0m\n\u001b[1;32m      1\u001b[0m \u001b[0mplt\u001b[0m\u001b[0;34m.\u001b[0m\u001b[0mfigure\u001b[0m\u001b[0;34m(\u001b[0m\u001b[0mfigsize\u001b[0m\u001b[0;34m=\u001b[0m\u001b[0;34m(\u001b[0m\u001b[0;36m14\u001b[0m\u001b[0;34m,\u001b[0m\u001b[0;36m6\u001b[0m\u001b[0;34m)\u001b[0m\u001b[0;34m)\u001b[0m\u001b[0;34m\u001b[0m\u001b[0;34m\u001b[0m\u001b[0m\n\u001b[0;32m----> 2\u001b[0;31m hm = sns.heatmap(cf_train,\n\u001b[0m\u001b[1;32m      3\u001b[0m                  \u001b[0mcbar\u001b[0m\u001b[0;34m=\u001b[0m\u001b[0;32mTrue\u001b[0m\u001b[0;34m,\u001b[0m\u001b[0;34m\u001b[0m\u001b[0;34m\u001b[0m\u001b[0m\n\u001b[1;32m      4\u001b[0m                  \u001b[0mannot\u001b[0m\u001b[0;34m=\u001b[0m\u001b[0;32mTrue\u001b[0m\u001b[0;34m,\u001b[0m\u001b[0;34m\u001b[0m\u001b[0;34m\u001b[0m\u001b[0m\n\u001b[1;32m      5\u001b[0m                  \u001b[0msquare\u001b[0m\u001b[0;34m=\u001b[0m\u001b[0;32mTrue\u001b[0m\u001b[0;34m,\u001b[0m\u001b[0;34m\u001b[0m\u001b[0;34m\u001b[0m\u001b[0m\n",
      "\u001b[0;31mNameError\u001b[0m: name 'sns' is not defined"
     ]
    },
    {
     "data": {
      "text/plain": [
       "<Figure size 1008x432 with 0 Axes>"
      ]
     },
     "metadata": {},
     "output_type": "display_data"
    }
   ],
   "source": []
  },
  {
   "cell_type": "code",
   "execution_count": 65,
   "metadata": {},
   "outputs": [
    {
     "name": "stdout",
     "output_type": "stream",
     "text": [
      "Confusion matrix\n",
      "[[131  31]\n",
      " [ 34  89]]\n",
      "Precision = 0.7417\n",
      "Recall = 0.7236\n",
      "Accuracy = 0.7719\n"
     ]
    }
   ],
   "source": [
    "cf_test = mt.confusion_matrix(t_test, y_test)\n",
    "print('Confusion matrix')\n",
    "print(cf_test)\n",
    "\n",
    "print ('Precision = {0:5.4f}'.format(mt.precision_score(t_test, y_test)))\n",
    "print ('Recall = {0:5.4f}'.format(mt.recall_score(t_test, y_test)))\n",
    "print ('Accuracy = {0:5.4f}'.format(mt.accuracy_score(t_test, y_test)))"
   ]
  },
  {
   "cell_type": "markdown",
   "metadata": {},
   "source": [
    "### Check performance with different regularization parameters"
   ]
  },
  {
   "cell_type": "code",
   "execution_count": 40,
   "metadata": {},
   "outputs": [
    {
     "name": "stdout",
     "output_type": "stream",
     "text": [
      "C = 0.001; Accuracy = 0.6070\n",
      "C = 0.002; Accuracy = 0.6105\n",
      "C = 0.004; Accuracy = 0.6316\n",
      "C = 0.009; Accuracy = 0.7123\n",
      "C = 0.018; Accuracy = 0.7825\n",
      "C = 0.038; Accuracy = 0.7895\n",
      "C = 0.078; Accuracy = 0.7965\n",
      "C = 0.162; Accuracy = 0.8105\n",
      "C = 0.336; Accuracy = 0.8140\n",
      "C = 0.695; Accuracy = 0.8140\n",
      "C = 1.438; Accuracy = 0.8070\n",
      "C = 2.976; Accuracy = 0.8105\n",
      "C = 6.158; Accuracy = 0.8140\n",
      "C = 12.743; Accuracy = 0.8140\n",
      "C = 26.367; Accuracy = 0.8140\n",
      "C = 54.556; Accuracy = 0.8140\n",
      "C = 112.884; Accuracy = 0.8140\n",
      "C = 233.572; Accuracy = 0.8140\n",
      "C = 483.293; Accuracy = 0.8140\n",
      "C = 1000.000; Accuracy = 0.8140\n",
      "Best accuracy = 0.8140 for i = 0.814\n"
     ]
    }
   ],
   "source": [
    "best_coeff, best_meas = 0,0\n",
    "for i in np.logspace(-3,3,20):\n",
    "    clf.set_params(penalty='l2', C=i)\n",
    "    clf.fit(X_train, t_train)\n",
    "    y_test = clf.predict(X_test)\n",
    "    acc = mt.accuracy_score(t_test,y_test)\n",
    "    if acc > best_meas:\n",
    "        best_meas = acc\n",
    "        best_coeff = i\n",
    "    print ('C = {0:5.3f}; Accuracy = {1:0.4f}'.format(i, acc))\n",
    "print(\"Best accuracy = {0:0.4f} for i = {0:5.3f}\".format(best_meas, best_coeff))"
   ]
  },
  {
   "cell_type": "code",
   "execution_count": 41,
   "metadata": {},
   "outputs": [
    {
     "name": "stdout",
     "output_type": "stream",
     "text": [
      "C = 0.001; Accuracy = 0.6070\n",
      "C = 0.002; Accuracy = 0.6070\n",
      "C = 0.004; Accuracy = 0.6070\n",
      "C = 0.009; Accuracy = 0.6070\n",
      "C = 0.018; Accuracy = 0.6070\n",
      "C = 0.038; Accuracy = 0.8035\n",
      "C = 0.078; Accuracy = 0.7930\n",
      "C = 0.162; Accuracy = 0.8070\n",
      "C = 0.336; Accuracy = 0.8140\n",
      "C = 0.695; Accuracy = 0.8105\n",
      "C = 1.438; Accuracy = 0.8140\n",
      "C = 2.976; Accuracy = 0.8175\n",
      "C = 6.158; Accuracy = 0.8175\n",
      "C = 12.743; Accuracy = 0.8140\n",
      "C = 26.367; Accuracy = 0.8140\n",
      "C = 54.556; Accuracy = 0.8140\n",
      "C = 112.884; Accuracy = 0.8140\n",
      "C = 233.572; Accuracy = 0.8140\n",
      "C = 483.293; Accuracy = 0.8140\n",
      "C = 1000.000; Accuracy = 0.8140\n",
      "Best accuracy = 0.8175 for i = 0.818\n"
     ]
    }
   ],
   "source": [
    "best_coeff, best_meas = 0,0\n",
    "for i in np.logspace(-3,3,20):\n",
    "    clf.set_params(penalty='l1', C=i)\n",
    "    clf.fit(X_train, t_train)\n",
    "    y_test = clf.predict(X_test)\n",
    "    acc = mt.accuracy_score(t_test,y_test)\n",
    "    if acc > best_meas:\n",
    "        best_meas = acc\n",
    "        best_coeff = i\n",
    "    print ('C = {0:5.3f}; Accuracy = {1:0.4f}'.format(i, acc))\n",
    "print(\"Best accuracy = {0:0.4f} for i = {0:5.3f}\".format(best_meas, best_coeff))"
   ]
  },
  {
   "cell_type": "code",
   "execution_count": 42,
   "metadata": {},
   "outputs": [
    {
     "name": "stdout",
     "output_type": "stream",
     "text": [
      "C = 1.300; Accuracy = 0.8140\n",
      "C = 1.311; Accuracy = 0.8140\n",
      "C = 1.321; Accuracy = 0.8140\n",
      "C = 1.332; Accuracy = 0.8140\n",
      "C = 1.342; Accuracy = 0.8140\n",
      "C = 1.353; Accuracy = 0.8140\n",
      "C = 1.363; Accuracy = 0.8140\n",
      "C = 1.374; Accuracy = 0.8140\n",
      "C = 1.384; Accuracy = 0.8140\n",
      "C = 1.395; Accuracy = 0.8140\n",
      "C = 1.405; Accuracy = 0.8140\n",
      "C = 1.416; Accuracy = 0.8140\n",
      "C = 1.426; Accuracy = 0.8140\n",
      "C = 1.437; Accuracy = 0.8140\n",
      "C = 1.447; Accuracy = 0.8140\n",
      "C = 1.458; Accuracy = 0.8140\n",
      "C = 1.468; Accuracy = 0.8140\n",
      "C = 1.479; Accuracy = 0.8140\n",
      "C = 1.489; Accuracy = 0.8140\n",
      "C = 1.500; Accuracy = 0.8140\n",
      "Best accuracy = 0.8140 for i = 0.814\n"
     ]
    }
   ],
   "source": [
    "best_coeff, best_meas = 0,0\n",
    "for i in np.linspace(1.3,1.5,20):\n",
    "    clf.set_params(penalty='l1', C=i)\n",
    "    clf.fit(X_train, t_train)\n",
    "    y_test = clf.predict(X_test)\n",
    "    acc = mt.accuracy_score(t_test,y_test)\n",
    "    if acc > best_meas:\n",
    "        best_meas = acc\n",
    "        best_coeff = i\n",
    "    print ('C = {0:5.3f}; Accuracy = {1:0.4f}'.format(i, acc))\n",
    "print(\"Best accuracy = {0:0.4f} for i = {0:5.3f}\".format(best_meas, best_coeff))"
   ]
  },
  {
   "cell_type": "markdown",
   "metadata": {},
   "source": [
    "Check performances of the classifier with best accuracy"
   ]
  },
  {
   "cell_type": "code",
   "execution_count": 43,
   "metadata": {},
   "outputs": [
    {
     "name": "stdout",
     "output_type": "stream",
     "text": [
      "[[152  21]\n",
      " [ 32  80]]\n",
      "Precision = 0.7921\n",
      "Recall = 0.7143\n",
      "Accuracy = 0.8140\n"
     ]
    }
   ],
   "source": [
    "clf.set_params(penalty='l1', C=best_coeff)\n",
    "clf.fit(X_train, t_train)\n",
    "y_test = clf.predict(X_test)\n",
    "cf_test = mt.confusion_matrix(t_test, y_test)\n",
    "print cf_test\n",
    "print ('Precision = {0:0.4f}'.format(mt.precision_score(t_test, y_test)))\n",
    "print ('Recall = {0:0.4f}'.format(mt.recall_score(t_test, y_test)))\n",
    "print ('Accuracy = {0:0.4f}'.format(mt.accuracy_score(t_test, y_test)))"
   ]
  },
  {
   "cell_type": "markdown",
   "metadata": {},
   "source": [
    "Let's try with a different, more synthetic, measure. F1 measure is defined as $\\frac{2(precision\\times  recall)}{precision+recall}$"
   ]
  },
  {
   "cell_type": "code",
   "execution_count": 44,
   "metadata": {},
   "outputs": [
    {
     "name": "stdout",
     "output_type": "stream",
     "text": [
      "C = 0.001; F1 = 0.0000\n",
      "C = 0.002; F1 = 0.0000\n",
      "C = 0.004; F1 = 0.0000\n",
      "C = 0.009; F1 = 0.0000\n",
      "C = 0.018; F1 = 0.0000\n",
      "C = 0.038; F1 = 0.7255\n",
      "C = 0.078; F1 = 0.7177\n",
      "C = 0.162; F1 = 0.7343\n",
      "C = 0.336; F1 = 0.7464\n",
      "C = 0.695; F1 = 0.7429\n",
      "C = 1.438; F1 = 0.7512\n",
      "C = 2.976; F1 = 0.7570\n",
      "C = 6.158; F1 = 0.7512\n",
      "C = 12.743; F1 = 0.7512\n",
      "C = 26.367; F1 = 0.7512\n",
      "C = 54.556; F1 = 0.7512\n",
      "C = 112.884; F1 = 0.7512\n",
      "C = 233.572; F1 = 0.7512\n",
      "C = 483.293; F1 = 0.7512\n",
      "C = 1000.000; F1 = 0.7512\n",
      "Best F1 = 0.7570 for i = 2.976\n"
     ]
    }
   ],
   "source": [
    "best_coeff, best_meas = 0,0\n",
    "for i in np.logspace(-3,3,20):\n",
    "    clf.set_params(penalty='l1', C=i)\n",
    "    clf.fit(X_train, t_train)\n",
    "    y_test = clf.predict(X_test)\n",
    "    f1 = mt.f1_score(t_test,y_test)\n",
    "    if f1 > best_meas:\n",
    "        best_meas = f1\n",
    "        best_coeff = i\n",
    "    print ('C = {0:5.3f}; F1 = {1:0.4f}'.format(i, f1))\n",
    "print(\"Best F1 = {0:0.4f} for i = {1:5.3f}\".format(best_meas, best_coeff))"
   ]
  },
  {
   "cell_type": "code",
   "execution_count": 45,
   "metadata": {},
   "outputs": [
    {
     "name": "stdout",
     "output_type": "stream",
     "text": [
      "[[152  21]\n",
      " [ 31  81]]\n",
      "Precision = 0.7941\n",
      "Recall = 0.7232\n",
      "Accuracy = 0.8175\n"
     ]
    }
   ],
   "source": [
    "clf.set_params(penalty='l1', C=best_coeff)\n",
    "clf.fit(X_train, t_train)\n",
    "y_test = clf.predict(X_test)\n",
    "cf_test = mt.confusion_matrix(t_test, y_test)\n",
    "print cf_test\n",
    "print ('Precision = {0:0.4f}'.format(mt.precision_score(t_test, y_test)))\n",
    "print ('Recall = {0:0.4f}'.format(mt.recall_score(t_test, y_test)))\n",
    "print ('Accuracy = {0:0.4f}'.format(mt.accuracy_score(t_test, y_test)))"
   ]
  },
  {
   "cell_type": "code",
   "execution_count": 46,
   "metadata": {},
   "outputs": [
    {
     "name": "stdout",
     "output_type": "stream",
     "text": [
      "C = 0.001; F1 = 0.0000\n",
      "C = 0.002; F1 = 0.0177\n",
      "C = 0.004; F1 = 0.1322\n",
      "C = 0.009; F1 = 0.4744\n",
      "C = 0.018; F1 = 0.6702\n",
      "C = 0.038; F1 = 0.7000\n",
      "C = 0.078; F1 = 0.7157\n",
      "C = 0.162; F1 = 0.7379\n",
      "C = 0.336; F1 = 0.7440\n",
      "C = 0.695; F1 = 0.7464\n",
      "C = 1.438; F1 = 0.7368\n",
      "C = 2.976; F1 = 0.7453\n",
      "C = 6.158; F1 = 0.7512\n",
      "C = 12.743; F1 = 0.7512\n",
      "C = 26.367; F1 = 0.7512\n",
      "C = 54.556; F1 = 0.7512\n",
      "C = 112.884; F1 = 0.7512\n",
      "C = 233.572; F1 = 0.7512\n",
      "C = 483.293; F1 = 0.7512\n",
      "C = 1000.000; F1 = 0.7512\n",
      "Best F1 = 0.7512 for i = 6.158\n"
     ]
    }
   ],
   "source": [
    "best_coeff, best_meas = 0,0\n",
    "for i in np.logspace(-3,3,20):\n",
    "    clf.set_params(penalty='l2', C=i)\n",
    "    clf.fit(X_train, t_train)\n",
    "    y_test = clf.predict(X_test)\n",
    "    f1 = mt.f1_score(t_test,y_test)\n",
    "    if f1 > best_meas:\n",
    "        best_meas = f1\n",
    "        best_coeff = i\n",
    "    print ('C = {0:5.3f}; F1 = {1:0.4f}'.format(i, f1))\n",
    "print(\"Best F1 = {0:0.4f} for i = {1:5.3f}\".format(best_meas, best_coeff))"
   ]
  },
  {
   "cell_type": "code",
   "execution_count": 47,
   "metadata": {},
   "outputs": [
    {
     "name": "stdout",
     "output_type": "stream",
     "text": [
      "[[152  21]\n",
      " [ 32  80]]\n",
      "Precision = 0.7921\n",
      "Recall = 0.7143\n",
      "Accuracy = 0.8140\n"
     ]
    }
   ],
   "source": [
    "clf.set_params(penalty='l2', C=best_coeff)\n",
    "clf.fit(X_train, t_train)\n",
    "y_test = clf.predict(X_test)\n",
    "cf_test = mt.confusion_matrix(t_test, y_test)\n",
    "print cf_test\n",
    "\n",
    "print ('Precision = {0:0.4f}'.format(mt.precision_score(t_test, y_test)))\n",
    "print ('Recall = {0:0.4f}'.format(mt.recall_score(t_test, y_test)))\n",
    "print ('Accuracy = {0:0.4f}'.format(mt.accuracy_score(t_test, y_test)))"
   ]
  },
  {
   "cell_type": "markdown",
   "metadata": {},
   "source": [
    "## Try different classifiers\n",
    "\n",
    "### Support Vector Machine (SVM)"
   ]
  },
  {
   "cell_type": "code",
   "execution_count": 48,
   "metadata": {},
   "outputs": [
    {
     "data": {
      "text/plain": [
       "SVC(C=1.0, cache_size=200, class_weight=None, coef0=0.0,\n",
       "  decision_function_shape='ovr', degree=3, gamma='auto', kernel='rbf',\n",
       "  max_iter=-1, probability=False, random_state=None, shrinking=True,\n",
       "  tol=0.001, verbose=False)"
      ]
     },
     "execution_count": 48,
     "metadata": {},
     "output_type": "execute_result"
    }
   ],
   "source": [
    "clf = svm.SVC()\n",
    "clf.fit(X_train, t_train)"
   ]
  },
  {
   "cell_type": "code",
   "execution_count": 49,
   "metadata": {},
   "outputs": [],
   "source": [
    "y_test = clf.predict(X_test)"
   ]
  },
  {
   "cell_type": "code",
   "execution_count": 50,
   "metadata": {},
   "outputs": [
    {
     "name": "stdout",
     "output_type": "stream",
     "text": [
      "Confusion matrix\n",
      "[[160  13]\n",
      " [ 46  66]]\n",
      "Precision = 0.8354\n",
      "Recall = 0.5893\n",
      "Accuracy = 0.7930\n"
     ]
    }
   ],
   "source": [
    "cf_test = mt.confusion_matrix(t_test, y_test)\n",
    "print('Confusion matrix')\n",
    "print(cf_test)\n",
    "\n",
    "print ('Precision = {0:0.4f}'.format(mt.precision_score(t_test, y_test)))\n",
    "print ('Recall = {0:0.4f}'.format(mt.recall_score(t_test, y_test)))\n",
    "print ('Accuracy = {0:0.4f}'.format(mt.accuracy_score(t_test, y_test)))"
   ]
  },
  {
   "cell_type": "code",
   "execution_count": 51,
   "metadata": {},
   "outputs": [
    {
     "name": "stdout",
     "output_type": "stream",
     "text": [
      "[[151  22]\n",
      " [ 37  75]]\n",
      "Precision = 0.7732\n",
      "Recall = 0.6696\n",
      "Accuracy = 0.7930\n"
     ]
    }
   ],
   "source": [
    "clf.set_params(kernel='linear')\n",
    "clf.fit(X_train, t_train)\n",
    "y_test = clf.predict(X_test)\n",
    "cf_test = mt.confusion_matrix(t_test, y_test)\n",
    "print cf_test\n",
    "print ('Precision = {0:0.4f}'.format(mt.precision_score(t_test, y_test)))\n",
    "print ('Recall = {0:0.4f}'.format(mt.recall_score(t_test, y_test)))\n",
    "print ('Accuracy = {0:0.4f}'.format(mt.accuracy_score(t_test, y_test)))"
   ]
  },
  {
   "cell_type": "code",
   "execution_count": 52,
   "metadata": {},
   "outputs": [
    {
     "name": "stdout",
     "output_type": "stream",
     "text": [
      "[[156  17]\n",
      " [ 33  79]]\n",
      "Precision = 0.8229\n",
      "Recall = 0.7054\n",
      "Accuracy = 0.8246\n"
     ]
    }
   ],
   "source": [
    "clf.set_params(kernel='poly', degree=2)\n",
    "clf.fit(X_train, t_train)\n",
    "y_test = clf.predict(X_test)\n",
    "cf_test = mt.confusion_matrix(t_test, y_test)\n",
    "print cf_test\n",
    "print ('Precision = {0:0.4f}'.format(mt.precision_score(t_test, y_test)))\n",
    "print ('Recall = {0:0.4f}'.format(mt.recall_score(t_test, y_test)))\n",
    "print ('Accuracy = {0:0.4f}'.format(mt.accuracy_score(t_test, y_test)))"
   ]
  },
  {
   "cell_type": "markdown",
   "metadata": {},
   "source": [
    "## Random Forests"
   ]
  },
  {
   "cell_type": "code",
   "execution_count": 53,
   "metadata": {},
   "outputs": [
    {
     "name": "stdout",
     "output_type": "stream",
     "text": [
      "Confusion matrix\n",
      "[[149  24]\n",
      " [ 33  79]]\n",
      "Precision = 0.7670\n",
      "Recall = 0.7054\n",
      "Accuracy = 0.8000\n",
      "F1 = 0.7349\n"
     ]
    }
   ],
   "source": [
    "clf = ensemble.RandomForestClassifier()\n",
    "clf.fit(X_train, t_train)\n",
    "y_test = clf.predict(X_test)\n",
    "cf_test = mt.confusion_matrix(t_test, y_test)\n",
    "print('Confusion matrix')\n",
    "print(cf_test)\n",
    "print ('Precision = {0:0.4f}'.format(mt.precision_score(t_test, y_test)))\n",
    "print ('Recall = {0:0.4f}'.format(mt.recall_score(t_test, y_test)))\n",
    "print ('Accuracy = {0:0.4f}'.format(mt.accuracy_score(t_test, y_test)))\n",
    "print ('F1 = %0.4f' % mt.f1_score(t_test, y_test))"
   ]
  },
  {
   "cell_type": "code",
   "execution_count": 54,
   "metadata": {},
   "outputs": [
    {
     "name": "stdout",
     "output_type": "stream",
     "text": [
      "n =  10; F1 = 0.7547\n",
      "n =  12; F1 = 0.7170\n",
      "n =  14; F1 = 0.7240\n",
      "n =  16; F1 = 0.7512\n",
      "n =  18; F1 = 0.7136\n",
      "n =  20; F1 = 0.7215\n",
      "n =  22; F1 = 0.7368\n",
      "n =  24; F1 = 0.7170\n",
      "n =  26; F1 = 0.7149\n",
      "n =  28; F1 = 0.7383\n",
      "n =  30; F1 = 0.7512\n",
      "n =  32; F1 = 0.7453\n",
      "n =  34; F1 = 0.7678\n",
      "n =  36; F1 = 0.7189\n",
      "n =  38; F1 = 0.7256\n",
      "n =  40; F1 = 0.7465\n",
      "n =  42; F1 = 0.7196\n",
      "n =  44; F1 = 0.7383\n",
      "n =  46; F1 = 0.7256\n",
      "n =  48; F1 = 0.7281\n",
      "Best F1 = 0.7678 for n =  34\n"
     ]
    }
   ],
   "source": [
    "best_coeff, best_meas = 0,0\n",
    "n = []\n",
    "f = []\n",
    "for i in range(10,50,2):\n",
    "    clf = ensemble.RandomForestClassifier(n_estimators=i)\n",
    "    clf.fit(X_train, t_train)\n",
    "    y_test = clf.predict(X_test)\n",
    "    f1 = mt.f1_score(t_test,y_test)\n",
    "    n.append(i)\n",
    "    f.append(f1)\n",
    "    if f1 > best_meas:\n",
    "        best_meas = f1\n",
    "        best_coeff = i\n",
    "    print ('n = {0:3d}; F1 = {1:0.4f}'.format(i, f1))\n",
    "print(\"Best F1 = {0:0.4f} for n = {1:3d}\".format(best_meas, best_coeff))"
   ]
  },
  {
   "cell_type": "code",
   "execution_count": 55,
   "metadata": {},
   "outputs": [
    {
     "data": {
      "text/plain": [
       "[(10, 0.7547169811320756),\n",
       " (12, 0.7169811320754718),\n",
       " (14, 0.7239819004524886),\n",
       " (16, 0.7512195121951218),\n",
       " (18, 0.7136150234741784),\n",
       " (20, 0.7214611872146119),\n",
       " (22, 0.7368421052631579),\n",
       " (24, 0.7169811320754718),\n",
       " (26, 0.7149321266968326),\n",
       " (28, 0.7383177570093459),\n",
       " (30, 0.7511737089201879),\n",
       " (32, 0.7452830188679247),\n",
       " (34, 0.7677725118483413),\n",
       " (36, 0.7188940092165899),\n",
       " (38, 0.7255813953488373),\n",
       " (40, 0.7465437788018433),\n",
       " (42, 0.7196261682242991),\n",
       " (44, 0.7383177570093459),\n",
       " (46, 0.7255813953488373),\n",
       " (48, 0.7281105990783412)]"
      ]
     },
     "execution_count": 55,
     "metadata": {},
     "output_type": "execute_result"
    }
   ],
   "source": [
    "zip(n,f)"
   ]
  },
  {
   "cell_type": "code",
   "execution_count": 59,
   "metadata": {},
   "outputs": [
    {
     "data": {
      "image/png": "[encoded data removed]",
      "text/plain": [
       "<matplotlib.figure.Figure at 0x112e607d0>"
      ]
     },
     "metadata": {},
     "output_type": "display_data"
    }
   ],
   "source": [
    "plt.figure(figsize=(16,8))\n",
    "plt.plot(n, f, color=colors[0])\n",
    "plt.scatter(n,f, color=colors[0], s=60)\n",
    "plt.xlim([n[0], n[-1]])\n",
    "plt.ylim([0.0, 1])\n",
    "plt.show()"
   ]
  },
  {
   "cell_type": "code",
   "execution_count": 60,
   "metadata": {},
   "outputs": [
    {
     "name": "stdout",
     "output_type": "stream",
     "text": [
      "[[147  26]\n",
      " [ 33  79]]\n",
      "Precision = 0.7524\n",
      "Recall = 0.7054\n",
      "Accuracy = 0.7930\n"
     ]
    }
   ],
   "source": [
    "clf.set_params(n_estimators=best_coeff)\n",
    "clf.fit(X_train, t_train)\n",
    "y_test = clf.predict(X_test)\n",
    "cf_test = mt.confusion_matrix(t_test, y_test)\n",
    "print cf_test\n",
    "print ('Precision = {0:0.4f}'.format(mt.precision_score(t_test, y_test)))\n",
    "print ('Recall = {0:0.4f}'.format(mt.recall_score(t_test, y_test)))\n",
    "print ('Accuracy = {0:0.4f}'.format(mt.accuracy_score(t_test, y_test)))"
   ]
  },
  {
   "cell_type": "markdown",
   "metadata": {},
   "source": [
    "## Using cross validation\n",
    "\n",
    "k-fold cross validation: dataset partitioned into k subsets. \n",
    "k phases, at phase i use the i-th subset for testing, the rest of data for training. \n",
    "Average performances on all phases."
   ]
  },
  {
   "cell_type": "code",
   "execution_count": 61,
   "metadata": {},
   "outputs": [],
   "source": [
    "X = preprocessing.scale(X)"
   ]
  },
  {
   "cell_type": "code",
   "execution_count": 62,
   "metadata": {},
   "outputs": [],
   "source": [
    "scores = cross_val_score(clf, X, t, scoring='accuracy',cv=5)"
   ]
  },
  {
   "cell_type": "code",
   "execution_count": 63,
   "metadata": {},
   "outputs": [
    {
     "data": {
      "text/plain": [
       "0.7754820047597992"
      ]
     },
     "execution_count": 63,
     "metadata": {},
     "output_type": "execute_result"
    }
   ],
   "source": [
    "np.mean(scores)"
   ]
  },
  {
   "cell_type": "code",
   "execution_count": 64,
   "metadata": {},
   "outputs": [
    {
     "name": "stdout",
     "output_type": "stream",
     "text": [
      "C=   0 -  l1: 0.7795, l2: 0.7739\n",
      "C=   0 -  l1: 0.7739, l2: 0.7782\n",
      "C=   0 -  l1: 0.7782, l2: 0.7838\n",
      "C=   1 -  l1: 0.7838, l2: 0.7852\n",
      "C=   2 -  l1: 0.7866, l2: 0.7852\n",
      "C=   4 -  l1: 0.7866, l2: 0.7880\n",
      "C=   8 -  l1: 0.7880, l2: 0.7880\n",
      "C=  16 -  l1: 0.7880, l2: 0.7880\n",
      "C=  34 -  l1: 0.7880, l2: 0.7880\n",
      "C=  70 -  l1: 0.7880, l2: 0.7880\n",
      "C= 144 -  l1: 0.7880, l2: 0.7880\n",
      "C= 298 -  l1: 0.7880, l2: 0.7880\n",
      "C= 616 -  l1: 0.7880, l2: 0.7880\n",
      "C= 1274 -  l1: 0.7880, l2: 0.7880\n",
      "C= 2637 -  l1: 0.7880, l2: 0.7880\n",
      "C= 5456 -  l1: 0.7880, l2: 0.7880\n",
      "C= 11288 -  l1: 0.7880, l2: 0.7880\n",
      "C= 23357 -  l1: 0.7880, l2: 0.7880\n",
      "C= 48329 -  l1: 0.7880, l2: 0.7880\n",
      "C= 100000 -  l1: 0.7880, l2: 0.7880\n",
      "Best accuracy = 0.7880 for C =   4 and l2 regularization\n"
     ]
    }
   ],
   "source": [
    "best_coeff, best_meas, reg = 0,0, 'l1'\n",
    "clf_l1 = linear_model.LogisticRegression()\n",
    "clf_l2 = linear_model.LogisticRegression()\n",
    "for i in np.logspace(-1,5,20):\n",
    "    clf_l1.set_params(penalty='l1', C=i)\n",
    "    clf_l2.set_params(penalty='l2', C=i)\n",
    "    m1 = model_selection.cross_val_score(clf_l1, X, t, scoring='accuracy',cv=5).mean()\n",
    "    m2 = model_selection.cross_val_score(clf_l2, X, t, scoring='accuracy',cv=5).mean()\n",
    "    if m1 > best_meas:\n",
    "        best_meas = m1\n",
    "        best_coeff = i\n",
    "        reg = 'l1'\n",
    "    if m2 > best_meas:\n",
    "        best_meas = m2\n",
    "        best_coeff = i\n",
    "        reg = 'l2'\n",
    "    print(\"C= {0:3.0f} -  l1: {1:0.4f}, l2: {2:0.4f}\".format(i, m1, m2))\n",
    "print(\"Best accuracy = {0:0.4f} for C = {1:3.0f} and {2:s} regularization\".format(best_meas, best_coeff, reg))"
   ]
  },
  {
   "cell_type": "code",
   "execution_count": 65,
   "metadata": {},
   "outputs": [
    {
     "name": "stdout",
     "output_type": "stream",
     "text": [
      "Accuracy: 0.7880\n"
     ]
    }
   ],
   "source": [
    "clf = linear_model.LogisticRegression(penalty=reg, C=best_coeff)\n",
    "acc = model_selection.cross_val_score(clf, X, t, scoring='accuracy',cv=5).mean()\n",
    "print(\"Accuracy: {0:0.4f}\".format(acc))"
   ]
  },
  {
   "cell_type": "code",
   "execution_count": 66,
   "metadata": {},
   "outputs": [
    {
     "name": "stdout",
     "output_type": "stream",
     "text": [
      "Precision: 0.7638\n"
     ]
    }
   ],
   "source": [
    "prec = model_selection.cross_val_score(clf, X, t, scoring='precision',cv=5).mean()\n",
    "print(\"Precision: {0:0.4f}\".format(prec))"
   ]
  },
  {
   "cell_type": "code",
   "execution_count": 67,
   "metadata": {},
   "outputs": [
    {
     "name": "stdout",
     "output_type": "stream",
     "text": [
      "Recall: 0.6944\n"
     ]
    }
   ],
   "source": [
    "rec = model_selection.cross_val_score(clf, X, t, scoring='recall',cv=5).mean()\n",
    "print(\"Recall: {0:0.4f}\".format(rec))"
   ]
  },
  {
   "cell_type": "code",
   "execution_count": 68,
   "metadata": {},
   "outputs": [
    {
     "name": "stdout",
     "output_type": "stream",
     "text": [
      "gamma= 0.0150, C=0.5000: 0.7795\n",
      "gamma= 0.0161, C=0.5000: 0.7809\n",
      "gamma= 0.0172, C=0.5000: 0.7739\n",
      "gamma= 0.0183, C=0.5000: 0.7739\n",
      "gamma= 0.0194, C=0.5000: 0.7739\n",
      "gamma= 0.0206, C=0.5000: 0.7767\n",
      "gamma= 0.0217, C=0.5000: 0.7781\n",
      "gamma= 0.0228, C=0.5000: 0.7781\n",
      "gamma= 0.0239, C=0.5000: 0.7781\n",
      "gamma= 0.0250, C=0.5000: 0.7781\n",
      "gamma= 0.0150, C=0.6111: 0.7795\n",
      "gamma= 0.0161, C=0.6111: 0.7739\n",
      "gamma= 0.0172, C=0.6111: 0.7739\n",
      "gamma= 0.0183, C=0.6111: 0.7753\n",
      "gamma= 0.0194, C=0.6111: 0.7753\n",
      "gamma= 0.0206, C=0.6111: 0.7767\n",
      "gamma= 0.0217, C=0.6111: 0.7781\n",
      "gamma= 0.0228, C=0.6111: 0.7781\n",
      "gamma= 0.0239, C=0.6111: 0.7781\n",
      "gamma= 0.0250, C=0.6111: 0.7781\n",
      "gamma= 0.0150, C=0.7222: 0.7739\n",
      "gamma= 0.0161, C=0.7222: 0.7753\n",
      "gamma= 0.0172, C=0.7222: 0.7753\n",
      "gamma= 0.0183, C=0.7222: 0.7753\n",
      "gamma= 0.0194, C=0.7222: 0.7767\n",
      "gamma= 0.0206, C=0.7222: 0.7767\n",
      "gamma= 0.0217, C=0.7222: 0.7781\n",
      "gamma= 0.0228, C=0.7222: 0.7781\n",
      "gamma= 0.0239, C=0.7222: 0.7781\n",
      "gamma= 0.0250, C=0.7222: 0.7781\n",
      "gamma= 0.0150, C=0.8333: 0.7753\n",
      "gamma= 0.0161, C=0.8333: 0.7753\n",
      "gamma= 0.0172, C=0.8333: 0.7753\n",
      "gamma= 0.0183, C=0.8333: 0.7767\n",
      "gamma= 0.0194, C=0.8333: 0.7767\n",
      "gamma= 0.0206, C=0.8333: 0.7781\n",
      "gamma= 0.0217, C=0.8333: 0.7781\n",
      "gamma= 0.0228, C=0.8333: 0.7781\n",
      "gamma= 0.0239, C=0.8333: 0.7781\n",
      "gamma= 0.0250, C=0.8333: 0.7809\n",
      "gamma= 0.0150, C=0.9444: 0.7753\n",
      "gamma= 0.0161, C=0.9444: 0.7753\n",
      "gamma= 0.0172, C=0.9444: 0.7767\n",
      "gamma= 0.0183, C=0.9444: 0.7767\n",
      "gamma= 0.0194, C=0.9444: 0.7767\n",
      "gamma= 0.0206, C=0.9444: 0.7781\n",
      "gamma= 0.0217, C=0.9444: 0.7781\n",
      "gamma= 0.0228, C=0.9444: 0.7781\n",
      "gamma= 0.0239, C=0.9444: 0.7809\n",
      "gamma= 0.0250, C=0.9444: 0.7809\n",
      "gamma= 0.0150, C=1.0556: 0.7753\n",
      "gamma= 0.0161, C=1.0556: 0.7753\n",
      "gamma= 0.0172, C=1.0556: 0.7767\n",
      "gamma= 0.0183, C=1.0556: 0.7767\n",
      "gamma= 0.0194, C=1.0556: 0.7767\n",
      "gamma= 0.0206, C=1.0556: 0.7781\n",
      "gamma= 0.0217, C=1.0556: 0.7781\n",
      "gamma= 0.0228, C=1.0556: 0.7795\n",
      "gamma= 0.0239, C=1.0556: 0.7824\n",
      "gamma= 0.0250, C=1.0556: 0.7824\n",
      "gamma= 0.0150, C=1.1667: 0.7753\n",
      "gamma= 0.0161, C=1.1667: 0.7767\n",
      "gamma= 0.0172, C=1.1667: 0.7767\n",
      "gamma= 0.0183, C=1.1667: 0.7767\n",
      "gamma= 0.0194, C=1.1667: 0.7767\n",
      "gamma= 0.0206, C=1.1667: 0.7781\n",
      "gamma= 0.0217, C=1.1667: 0.7781\n",
      "gamma= 0.0228, C=1.1667: 0.7824\n",
      "gamma= 0.0239, C=1.1667: 0.7824\n",
      "gamma= 0.0250, C=1.1667: 0.7838\n",
      "gamma= 0.0150, C=1.2778: 0.7753\n",
      "gamma= 0.0161, C=1.2778: 0.7767\n",
      "gamma= 0.0172, C=1.2778: 0.7767\n",
      "gamma= 0.0183, C=1.2778: 0.7767\n",
      "gamma= 0.0194, C=1.2778: 0.7767\n",
      "gamma= 0.0206, C=1.2778: 0.7781\n",
      "gamma= 0.0217, C=1.2778: 0.7824\n",
      "gamma= 0.0228, C=1.2778: 0.7824\n",
      "gamma= 0.0239, C=1.2778: 0.7838\n",
      "gamma= 0.0250, C=1.2778: 0.7880\n",
      "gamma= 0.0150, C=1.3889: 0.7753\n",
      "gamma= 0.0161, C=1.3889: 0.7767\n",
      "gamma= 0.0172, C=1.3889: 0.7767\n",
      "gamma= 0.0183, C=1.3889: 0.7767\n",
      "gamma= 0.0194, C=1.3889: 0.7767\n",
      "gamma= 0.0206, C=1.3889: 0.7824\n",
      "gamma= 0.0217, C=1.3889: 0.7824\n",
      "gamma= 0.0228, C=1.3889: 0.7838\n",
      "gamma= 0.0239, C=1.3889: 0.7880\n",
      "gamma= 0.0250, C=1.3889: 0.7893\n",
      "gamma= 0.0150, C=1.5000: 0.7767\n",
      "gamma= 0.0161, C=1.5000: 0.7767\n",
      "gamma= 0.0172, C=1.5000: 0.7767\n",
      "gamma= 0.0183, C=1.5000: 0.7767\n",
      "gamma= 0.0194, C=1.5000: 0.7781\n",
      "gamma= 0.0206, C=1.5000: 0.7824\n",
      "gamma= 0.0217, C=1.5000: 0.7838\n",
      "gamma= 0.0228, C=1.5000: 0.7866\n",
      "gamma= 0.0239, C=1.5000: 0.7893\n",
      "gamma= 0.0250, C=1.5000: 0.7893\n",
      "Best accuracy = 0.7893 for C = 1.3889, gamma = 0.0250\n"
     ]
    }
   ],
   "source": [
    "best_coeff1, best_coeff2, best_meas = 0,0,0\n",
    "clf = svm.SVC(kernel='rbf')\n",
    "for c in np.linspace(0.5,1.5,10):\n",
    "    for gamma in np.linspace(0.015,0.025,10):\n",
    "        clf.set_params(gamma=gamma, C=c)\n",
    "        m = model_selection.cross_val_score(clf, X, t, scoring='accuracy',cv=5).mean()\n",
    "        if m > best_meas:\n",
    "            best_coeff1 = c\n",
    "            best_coeff2 = gamma\n",
    "            best_meas = m\n",
    "        print(\"gamma= {0:5.4f}, C={1:1.4f}: {2:0.4f}\".format(gamma, c, m))\n",
    "print(\"Best accuracy = {0:0.4f} for C = {1:1.4f}, gamma = {2:5.4f}\".format(best_meas, best_coeff1, best_coeff2))"
   ]
  },
  {
   "cell_type": "code",
   "execution_count": 69,
   "metadata": {},
   "outputs": [
    {
     "name": "stdout",
     "output_type": "stream",
     "text": [
      "Accuracy: 0.7893\n"
     ]
    }
   ],
   "source": [
    "clf = svm.SVC(kernel='rbf',gamma=best_coeff2, C=best_coeff1)\n",
    "m = model_selection.cross_val_score(clf, X, t, scoring='accuracy',cv=5).mean()\n",
    "print(\"Accuracy: {0:0.4f}\".format(m))"
   ]
  },
  {
   "cell_type": "code",
   "execution_count": 70,
   "metadata": {},
   "outputs": [
    {
     "name": "stdout",
     "output_type": "stream",
     "text": [
      "Precision: 0.7825\n"
     ]
    }
   ],
   "source": [
    "m = model_selection.cross_val_score(clf, X, t, scoring='precision',cv=5).mean()\n",
    "print(\"Precision: {0:0.4f}\".format(m))"
   ]
  },
  {
   "cell_type": "code",
   "execution_count": 71,
   "metadata": {},
   "outputs": [
    {
     "name": "stdout",
     "output_type": "stream",
     "text": [
      "Recall: 0.6629\n"
     ]
    }
   ],
   "source": [
    "m = model_selection.cross_val_score(clf, X, t, scoring='recall',cv=5).mean()\n",
    "print(\"Recall: {0:0.4f}\".format(m))"
   ]
  },
  {
   "cell_type": "code",
   "execution_count": 72,
   "metadata": {},
   "outputs": [
    {
     "name": "stdout",
     "output_type": "stream",
     "text": [
      "gamma= 0.0180, C=1.5000: 0.6615\n",
      "gamma= 0.1385, C=1.5000: 0.7908\n",
      "gamma= 0.2590, C=1.5000: 0.7894\n",
      "gamma= 0.3795, C=1.5000: 0.7908\n",
      "gamma= 0.5000, C=1.5000: 0.7894\n",
      "gamma= 0.0180, C=1.5075: 0.6615\n",
      "gamma= 0.1385, C=1.5075: 0.7908\n",
      "gamma= 0.2590, C=1.5075: 0.7894\n",
      "gamma= 0.3795, C=1.5075: 0.7908\n",
      "gamma= 0.5000, C=1.5075: 0.7894\n",
      "gamma= 0.0180, C=1.5150: 0.6615\n",
      "gamma= 0.1385, C=1.5150: 0.7908\n",
      "gamma= 0.2590, C=1.5150: 0.7894\n",
      "gamma= 0.3795, C=1.5150: 0.7908\n",
      "gamma= 0.5000, C=1.5150: 0.7894\n",
      "gamma= 0.0180, C=1.5225: 0.6615\n",
      "gamma= 0.1385, C=1.5225: 0.7908\n",
      "gamma= 0.2590, C=1.5225: 0.7894\n",
      "gamma= 0.3795, C=1.5225: 0.7908\n",
      "gamma= 0.5000, C=1.5225: 0.7894\n",
      "gamma= 0.0180, C=1.5300: 0.6615\n",
      "gamma= 0.1385, C=1.5300: 0.7908\n",
      "gamma= 0.2590, C=1.5300: 0.7894\n",
      "gamma= 0.3795, C=1.5300: 0.7908\n",
      "gamma= 0.5000, C=1.5300: 0.7894\n",
      "Best accuracy = 0.7908 for C = 1.5000, gamma = 0.3795\n"
     ]
    }
   ],
   "source": [
    "best_coeff1, best_coeff2, best_meas = 0,0,0\n",
    "clf = svm.SVC(kernel='poly', degree=2)\n",
    "for c in np.linspace(1.5,1.53,5):\n",
    "    for gamma in np.linspace(0.018,0.5,5):\n",
    "        clf.set_params(gamma=gamma, C=c)\n",
    "        m = model_selection.cross_val_score(clf, X, t, scoring='accuracy',cv=5).mean()\n",
    "        if m > best_meas:\n",
    "            best_coeff1 = c\n",
    "            best_coeff2 = gamma\n",
    "            best_meas = m\n",
    "        print(\"gamma= %5.4f, C=%1.4f: %0.4f\" % (gamma, c, m))\n",
    "print(\"Best accuracy = %0.4f for C = %1.4f, gamma = %5.4f\" % (best_meas, best_coeff1, best_coeff2))"
   ]
  },
  {
   "cell_type": "code",
   "execution_count": 73,
   "metadata": {},
   "outputs": [
    {
     "name": "stdout",
     "output_type": "stream",
     "text": [
      "Accuracy: 0.7908\n"
     ]
    }
   ],
   "source": [
    "clf = svm.SVC(kernel='poly', degree=2, gamma=best_coeff2, C=best_coeff1)\n",
    "m = model_selection.cross_val_score(clf, X, t, scoring='accuracy',cv=5).mean()\n",
    "print(\"Accuracy: %0.4f\" % m)"
   ]
  },
  {
   "cell_type": "code",
   "execution_count": 74,
   "metadata": {},
   "outputs": [
    {
     "name": "stdout",
     "output_type": "stream",
     "text": [
      "Precision: 0.7821\n"
     ]
    }
   ],
   "source": [
    "m = model_selection.cross_val_score(clf, X, t, scoring='precision',cv=5).mean()\n",
    "print(\"Precision: %0.4f\" % m)"
   ]
  },
  {
   "cell_type": "code",
   "execution_count": 75,
   "metadata": {},
   "outputs": [
    {
     "name": "stdout",
     "output_type": "stream",
     "text": [
      "Recall: 0.6699\n"
     ]
    }
   ],
   "source": [
    "m = model_selection.cross_val_score(clf, X, t, scoring='recall',cv=5).mean()\n",
    "print(\"Recall: %0.4f\" % m)"
   ]
  },
  {
   "cell_type": "code",
   "execution_count": 76,
   "metadata": {},
   "outputs": [
    {
     "name": "stdout",
     "output_type": "stream",
     "text": [
      "C=0.0070: 0.7795\n",
      "C=0.0071: 0.7795\n",
      "C=0.0071: 0.7795\n",
      "C=0.0072: 0.7795\n",
      "C=0.0072: 0.7795\n",
      "C=0.0073: 0.7795\n",
      "C=0.0073: 0.7795\n",
      "C=0.0074: 0.7795\n",
      "C=0.0074: 0.7795\n",
      "C=0.0075: 0.7795\n",
      "C=0.0075: 0.7795\n",
      "C=0.0076: 0.7795\n",
      "C=0.0076: 0.7795\n",
      "C=0.0077: 0.7795\n",
      "C=0.0077: 0.7795\n",
      "C=0.0078: 0.7795\n",
      "C=0.0078: 0.7795\n",
      "C=0.0079: 0.7795\n",
      "C=0.0079: 0.7795\n",
      "C=0.0080: 0.7795\n",
      "Best accuracy = 0.7795 for C = 0.0070\n"
     ]
    }
   ],
   "source": [
    "best_coeff, best_meas = 0,0\n",
    "clf = svm.SVC(kernel='linear')\n",
    "for c in np.linspace(0.007,0.008,20):\n",
    "    clf.set_params(C=c)\n",
    "    m = model_selection.cross_val_score(clf, X, t, scoring='accuracy',cv=5).mean()\n",
    "    if m > best_meas:\n",
    "            best_coeff = c\n",
    "            best_meas = m\n",
    "    print(\"C=%1.4f: %0.4f\" % (c,m))\n",
    "print(\"Best accuracy = %0.4f for C = %1.4f\" % (best_meas, best_coeff))"
   ]
  },
  {
   "cell_type": "code",
   "execution_count": 77,
   "metadata": {},
   "outputs": [
    {
     "name": "stdout",
     "output_type": "stream",
     "text": [
      "Accuracy: 0.7795\n",
      "Precision: 0.7518\n",
      "Recall: 0.6767\n"
     ]
    }
   ],
   "source": [
    "clf = svm.SVC(kernel='linear', C=best_coeff)\n",
    "m = model_selection.cross_val_score(clf, X, t, scoring='accuracy',cv=5).mean()\n",
    "print(\"Accuracy: %0.4f\" % m)\n",
    "m = model_selection.cross_val_score(clf, X, t, scoring='precision',cv=5).mean()\n",
    "print(\"Precision: %0.4f\" % m)\n",
    "m = model_selection.cross_val_score(clf, X, t, scoring='recall',cv=5).mean()\n",
    "print(\"Recall: %0.4f\" % m)"
   ]
  },
  {
   "cell_type": "code",
   "execution_count": 78,
   "metadata": {},
   "outputs": [
    {
     "name": "stdout",
     "output_type": "stream",
     "text": [
      "gamma= 1.2589, C=0.1000: 0.7641\n",
      "gamma= 1.5849, C=0.1000: 0.7613\n",
      "gamma= 1.2589, C=0.2000: 0.7613\n",
      "gamma= 1.5849, C=0.2000: 0.7656\n",
      "Best accuracy = 0.7656 for C = 0.2000, gamma = 1.5849\n"
     ]
    }
   ],
   "source": [
    "best_coeff1, best_coeff2, best_meas = 0,0,0\n",
    "clf = svm.SVC(kernel='poly', degree=3)\n",
    "for c in np.linspace(0.1,0.2,2):\n",
    "    for gamma in np.logspace(0.1,0.2,2):\n",
    "        clf.set_params(gamma=gamma, C=c)\n",
    "        m = model_selection.cross_val_score(clf, X, t, scoring='accuracy',cv=5).mean()\n",
    "        if m > best_meas:\n",
    "            best_coeff1 = c\n",
    "            best_coeff2 = gamma\n",
    "            best_meas = m\n",
    "        print(\"gamma= %5.4f, C=%1.4f: %0.4f\" % (gamma, c, m))\n",
    "print(\"Best accuracy = %0.4f for C = %1.4f, gamma = %5.4f\" % (best_meas, best_coeff1, best_coeff2))"
   ]
  },
  {
   "cell_type": "code",
   "execution_count": 79,
   "metadata": {},
   "outputs": [
    {
     "name": "stdout",
     "output_type": "stream",
     "text": [
      "n= 10: 0.7781\n",
      "n= 15: 0.7753\n",
      "n= 20: 0.7655\n",
      "n= 25: 0.7711\n",
      "n= 30: 0.7767\n",
      "n= 35: 0.7781\n",
      "n= 40: 0.7627\n",
      "n= 45: 0.7711\n",
      "n= 50: 0.7669\n",
      "n= 55: 0.7725\n",
      "n= 60: 0.7697\n",
      "n= 65: 0.7725\n",
      "n= 70: 0.7726\n",
      "n= 75: 0.7669\n",
      "Best accuracy = 0.7781 for n = 35\n"
     ]
    }
   ],
   "source": [
    "best_coeff, best_meas = 0,0\n",
    "clf = ensemble.BaggingClassifier(linear_model.LogisticRegression(),max_samples=0.5, max_features=0.5)\n",
    "for i in range(10,80,5):\n",
    "    clf.set_params(n_estimators=i)\n",
    "    m = model_selection.cross_val_score(clf, X, t, scoring='accuracy',cv=5).mean()\n",
    "    if m > best_meas:\n",
    "        best_coeff = i\n",
    "        best_meas = m\n",
    "    print(\"n= %i: %0.4f\" % (i, m))\n",
    "print(\"Best accuracy = %0.4f for n = %i\" % (best_meas, best_coeff))"
   ]
  },
  {
   "cell_type": "code",
   "execution_count": 80,
   "metadata": {},
   "outputs": [
    {
     "name": "stdout",
     "output_type": "stream",
     "text": [
      "Accuracy: 0.7739\n",
      "Precision: 0.7359\n",
      "Recall: 0.6802\n"
     ]
    }
   ],
   "source": [
    "clf = ensemble.BaggingClassifier(linear_model.LogisticRegression(),n_estimators=best_coeff, max_samples=0.5, max_features=0.5)\n",
    "m = model_selection.cross_val_score(clf, X, t, scoring='accuracy',cv=5).mean()\n",
    "print(\"Accuracy: %0.4f\" % m)\n",
    "m = model_selection.cross_val_score(clf, X, t, scoring='precision',cv=5).mean()\n",
    "print(\"Precision: %0.4f\" % m)\n",
    "m = model_selection.cross_val_score(clf, X, t, scoring='recall',cv=5).mean()\n",
    "print(\"Recall: %0.4f\" % m)"
   ]
  },
  {
   "cell_type": "code",
   "execution_count": 81,
   "metadata": {},
   "outputs": [
    {
     "name": "stdout",
     "output_type": "stream",
     "text": [
      "n= 75: 0.8091\n",
      "n= 76: 0.8049\n",
      "n= 77: 0.8105\n",
      "n= 78: 0.8120\n",
      "n= 79: 0.8007\n",
      "n= 80: 0.8035\n",
      "n= 81: 0.8049\n",
      "n= 82: 0.8119\n",
      "n= 83: 0.8063\n",
      "n= 84: 0.8050\n",
      "Best accuracy = 0.8120 for n = 78\n"
     ]
    }
   ],
   "source": [
    "best_coeff, best_meas = 0,0\n",
    "clf = ensemble.RandomForestClassifier(max_depth=5)\n",
    "for i in range(75,85,1):\n",
    "    clf.set_params(n_estimators=i)\n",
    "    m = model_selection.cross_val_score(clf, X, t, scoring='accuracy',cv=5).mean()\n",
    "    if m > best_meas:\n",
    "        best_coeff = i\n",
    "        best_meas = m\n",
    "    print(\"n= %i: %0.4f\" % (i, m))\n",
    "print(\"Best accuracy = %0.4f for n = %i\" % (best_meas, best_coeff))"
   ]
  },
  {
   "cell_type": "code",
   "execution_count": 82,
   "metadata": {},
   "outputs": [
    {
     "name": "stdout",
     "output_type": "stream",
     "text": [
      "Accuracy: 0.8134\n",
      "Precision: 0.8259\n",
      "Recall: 0.6701\n"
     ]
    }
   ],
   "source": [
    "clf = ensemble.RandomForestClassifier(n_estimators=best_coeff, max_depth=5)\n",
    "m = model_selection.cross_val_score(clf, X, t, scoring='accuracy',cv=5).mean()\n",
    "print(\"Accuracy: %0.4f\" % m)\n",
    "m = model_selection.cross_val_score(clf, X, t, scoring='precision',cv=5).mean()\n",
    "print(\"Precision: %0.4f\" % m)\n",
    "m = model_selection.cross_val_score(clf, X, t, scoring='recall',cv=5).mean()\n",
    "print(\"Recall: %0.4f\" % m)"
   ]
  },
  {
   "cell_type": "code",
   "execution_count": null,
   "metadata": {
    "collapsed": true
   },
   "outputs": [],
   "source": []
  }
 ],
 "metadata": {
  "anaconda-cloud": {},
  "kernelspec": {
   "display_name": "Python 3",
   "language": "python",
   "name": "python3"
  },
  "language_info": {
   "codemirror_mode": {
    "name": "ipython",
    "version": 3
   },
   "file_extension": ".py",
   "mimetype": "text/x-python",
   "name": "python",
   "nbconvert_exporter": "python",
   "pygments_lexer": "ipython3",
   "version": "3.6.8"
  }
 },
 "nbformat": 4,
 "nbformat_minor": 2
}
